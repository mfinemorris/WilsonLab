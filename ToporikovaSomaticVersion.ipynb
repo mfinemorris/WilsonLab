{
 "metadata": {
  "name": "",
  "signature": "sha256:9fe758af6bc7ed7fc6f5edc81fe21c14574c6a74d2c6605e6104eededecf30a8"
 },
 "nbformat": 3,
 "nbformat_minor": 0,
 "worksheets": [
  {
   "cells": [
    {
     "cell_type": "heading",
     "level": 1,
     "metadata": {},
     "source": [
      "Single Cell Persistent Sodium Current Bursting Model"
     ]
    },
    {
     "cell_type": "markdown",
     "metadata": {},
     "source": [
      "The following was modified from a somatic-dendritic burster to a somatic burster as described in the model I from Butera et al. , J. Neurophysiol, July 1999 Vol. 82 no. 1 382-397. Modifications made by Morgan Fine-Morris in October 2014.\n",
      "To recreate bursting plots from Butera et al., set eL to -60, -57.5, -54.0 (mV) in the Model Parameters cell.\n",
      "\n",
      "Notes from the original code (kept for completeness' sake, but no longer apply):\n",
      "\"\n",
      "Model of somato-dendritic burster\n",
      "From Toporikova and Butera, J. Comp neuroscience, DOI 10.1007/s10827-010-0274-z\n",
      "Model with following parameters reproduce Figure 1B of the paper above\n",
      "setting gcan=0, convert model to Pruvis and Butera 2007\n",
      "units: V = mV; Kca = uM; Cm = uF/cm^2; g = uS/cm^2; phi = 1/s;\n",
      "Parameter fi is normalized with respect to intracellular volume, so it's units fi=1/pL;\n",
      "\""
     ]
    },
    {
     "cell_type": "heading",
     "level": 2,
     "metadata": {},
     "source": [
      "Model Equations"
     ]
    },
    {
     "cell_type": "markdown",
     "metadata": {},
     "source": [
      "To see the equations used by the model in this notebook, run the cell directly below. (This step is OPTIONAL - the simulator will run without it.)"
     ]
    },
    {
     "cell_type": "code",
     "collapsed": false,
     "input": [
      "## Print Equations ##\n",
      "from IPython.display import display\n",
      "from IPython.display import Math\n",
      "\n",
      "def showF(string):\n",
      " display(Math(string))\n",
      " \n",
      "membrane_curr = r'C\\frac{dV}{dt} = -I_{NaP-h}-I_{Na}-I_{K}-I_{L}+I_{aps}'\n",
      "dx_dt = r'\\frac{dx}{dt} = \\frac{x_{\\infty}(V)-x}{\\tau_{x}(V)}'\n",
      "tau_x = r'\\tau_{x}(V) = \\frac{\\tau_{xmax}}{cosh[(V-\\theta_{x})/(2\\sigma_{x})]}'\n",
      "x_inf = r'x_{\\infty}(V) = (1+exp[(V-\\theta_{x})/\\sigma_x])^{-1}'\n",
      "I_Na = r'I_{Na} = g_{Na} m_{\\infty}^{3}(V)(1-n)(V-E_{Na})'\n",
      "I_NaPh = r'I_{NaP-h}=g_{NaP}m_{\\infty}(V)h(V-E_{Na})'\n",
      "I_L = r'I_{L}=g_{L}(V-E_{L})'\n",
      "I_K = r'I_{K} = g_{K}n^{4}(V-E_{K})'\n",
      "I_tonic = r'I_{tonic-e} = g_{tonic-e}(V-E_{syn-e})'\n",
      "\n",
      "print \"Membrane Equation and constituent currents:\"\n",
      "showF(membrane_curr)\n",
      "showF(I_K)\n",
      "showF(I_Na)\n",
      "showF(I_NaPh)\n",
      "showF(I_L)\n",
      "showF(I_tonic)\n",
      "print \n",
      "print \"Generalized gating variable equations (where x can be m, n, h, or mp):\"\n",
      "showF(dx_dt)\n",
      "showF(tau_x)\n",
      "showF(x_inf)\n",
      "\n",
      "print \n",
      "print \"In the Model Parameters cell below, INVERSE SLOPE MULTIPLIER variables (sm, sn, smp, sh) \\\n",
      "correspond to sigma parameters in the generalized gating variable equations while HALF (IN)ACTIVATION VOLTAGE variables \\\n",
      "(vm, vn, vmp, vh) correspond the to theta parameters in the generalized gating variable equations.\""
     ],
     "language": "python",
     "metadata": {},
     "outputs": [
      {
       "output_type": "stream",
       "stream": "stdout",
       "text": [
        "Membrane Equation and constituent currents:\n"
       ]
      },
      {
       "latex": [
        "$$C\\frac{dV}{dt} = -I_{NaP-h}-I_{Na}-I_{K}-I_{L}+I_{aps}$$"
       ],
       "metadata": {},
       "output_type": "display_data",
       "text": [
        "<IPython.core.display.Math at 0x102469350>"
       ]
      },
      {
       "latex": [
        "$$I_{K} = g_{K}n^{4}(V-E_{K})$$"
       ],
       "metadata": {},
       "output_type": "display_data",
       "text": [
        "<IPython.core.display.Math at 0x102469390>"
       ]
      },
      {
       "latex": [
        "$$I_{Na} = g_{Na} m_{\\infty}^{3}(V)(1-n)(V-E_{Na})$$"
       ],
       "metadata": {},
       "output_type": "display_data",
       "text": [
        "<IPython.core.display.Math at 0x102469210>"
       ]
      },
      {
       "latex": [
        "$$I_{NaP-h}=g_{NaP}m_{\\infty}(V)h(V-E_{Na})$$"
       ],
       "metadata": {},
       "output_type": "display_data",
       "text": [
        "<IPython.core.display.Math at 0x101d3fad0>"
       ]
      },
      {
       "latex": [
        "$$I_{L}=g_{L}(V-E_{L})$$"
       ],
       "metadata": {},
       "output_type": "display_data",
       "text": [
        "<IPython.core.display.Math at 0x102469550>"
       ]
      },
      {
       "latex": [
        "$$I_{tonic-e} = g_{tonic-e}(V-E_{syn-e})$$"
       ],
       "metadata": {},
       "output_type": "display_data",
       "text": [
        "<IPython.core.display.Math at 0x10246cc10>"
       ]
      },
      {
       "output_type": "stream",
       "stream": "stdout",
       "text": [
        "\n",
        "Generalized gating variable equations (where x can be m, n, h, or mp):\n"
       ]
      },
      {
       "latex": [
        "$$\\frac{dx}{dt} = \\frac{x_{\\infty}(V)-x}{\\tau_{x}(V)}$$"
       ],
       "metadata": {},
       "output_type": "display_data",
       "text": [
        "<IPython.core.display.Math at 0x102472590>"
       ]
      },
      {
       "latex": [
        "$$\\tau_{x}(V) = \\frac{\\tau_{xmax}}{cosh[(V-\\theta_{x})/(2\\sigma_{x})]}$$"
       ],
       "metadata": {},
       "output_type": "display_data",
       "text": [
        "<IPython.core.display.Math at 0x102472550>"
       ]
      },
      {
       "latex": [
        "$$x_{\\infty}(V) = (1+exp[(V-\\theta_{x})/\\sigma_x])^{-1}$$"
       ],
       "metadata": {},
       "output_type": "display_data",
       "text": [
        "<IPython.core.display.Math at 0x102472450>"
       ]
      },
      {
       "output_type": "stream",
       "stream": "stdout",
       "text": [
        "\n",
        "In the Model Parameters cell below, INVERSE SLOPE MULTIPLIER variables (sm, sn, smp, sh) correspond to sigma parameters in the generalized gating variable equations while HALF (IN)ACTIVATION VOLTAGE variables (vm, vn, vmp, vh) correspond the to theta parameters in the generalized gating variable equations.\n"
       ]
      }
     ],
     "prompt_number": 1
    },
    {
     "cell_type": "heading",
     "level": 2,
     "metadata": {},
     "source": [
      "Model Parameters"
     ]
    },
    {
     "cell_type": "markdown",
     "metadata": {},
     "source": [
      "If you are confused about the purpose of parameters below, try running the cell above - it will ."
     ]
    },
    {
     "cell_type": "code",
     "collapsed": false,
     "input": [
      "#### INITIAL CONDITIONS ####\n",
      "Vs0=-60.0 #initial cell memberane voltage\n",
      "ns0=0.004 #initial value of gating var n\n",
      "hs0=0.33 #initial value of gating var h\n",
      "\n",
      "#### TIME (ms) ####\n",
      "# Duration\n",
      "seconds = 10 #set to the number of seconds you want to see\n",
      "tEnd=seconds*1000.0\n",
      "# time step\n",
      "dt=0.3\n",
      "tLen=int(tEnd/dt)\n",
      "\n",
      "#### MEMBRANE CAPACITANCE (pF) ####\n",
      "Cms=21\n",
      "\n",
      "#### REVERSAL POTENTIALS (mV) ####\n",
      "# sodium potential (for normal sodium current and persistent sodium current)\n",
      "ena=50\n",
      "# potassium potential\n",
      "ek=-85\n",
      "# leak reversal potential\n",
      "eL=-54.0 # suggested value for vleak from Butera paper are -60,-57.5,-54\n",
      "# reversal potential of non-NMDA glutamatergic synaptic currents.\n",
      "eSyn=0.0\n",
      "\n",
      "#### CONDUCTANCE (nS) ####\n",
      "# potassium current conductance\n",
      "gk=11.2\n",
      "# sodium current conductance\n",
      "gna=28\n",
      "# persistent sodium current conductance\n",
      "gnaps=2.8\n",
      "# leak current conductance\n",
      "gL=2.8\n",
      "# tonic conductance\n",
      "gtonic=0.0\n",
      "\n",
      "#### APPLIED CURRENT ####\n",
      "Iaps=0\n",
      "\n",
      "#### HALF (IN)ACTIVATION VOLTAGE (mV) ####\n",
      "vm=-34\n",
      "vn=-29\n",
      "vmp=-40\n",
      "vh=-48\n",
      "\n",
      "#### INVERSE SLOPE MULTIPLIER (mV) ####\n",
      "sm=-5\n",
      "sn=-4\n",
      "smp=-6\n",
      "sh=6\n",
      "\n",
      "#### TIME CONSTANT MAX VALUES (ms) #####\n",
      "taunb=10 #tau max for n\n",
      "tauhb=10000 #tau max for h"
     ],
     "language": "python",
     "metadata": {},
     "outputs": [],
     "prompt_number": 2
    },
    {
     "cell_type": "heading",
     "level": 2,
     "metadata": {},
     "source": [
      "Saving Simulation Plots"
     ]
    },
    {
     "cell_type": "markdown",
     "metadata": {},
     "source": [
      "To save the graph produced by the simulator, set fileName to a string containing the path (absolute or relative) at which to save the plot. To prevent the plot from saving set fileName = \"\"."
     ]
    },
    {
     "cell_type": "code",
     "collapsed": false,
     "input": [
      "fileName = \"\""
     ],
     "language": "python",
     "metadata": {},
     "outputs": [],
     "prompt_number": 3
    },
    {
     "cell_type": "heading",
     "level": 2,
     "metadata": {},
     "source": [
      "Run Simulation"
     ]
    },
    {
     "cell_type": "markdown",
     "metadata": {},
     "source": [
      "Running the cell below to produce a plot of the cell membrane voltage vs. time."
     ]
    },
    {
     "cell_type": "code",
     "collapsed": false,
     "input": [
      "import numpy as np\n",
      "import matplotlib.pyplot as plt\n",
      "import math\n",
      "from scipy import linspace\n",
      "from scipy.integrate import odeint\n",
      "\n",
      "from matplotlib import cbook\n",
      "class DataCursor(object):\n",
      "    \"\"\"A simple data cursor widget that displays the x,y location of a\n",
      "    matplotlib artist when it is selected.\"\"\"\n",
      "    def __init__(self, artists, tolerance=5, offsets=(-20, 20), \n",
      "                 template='x: %0.2f\\ny: %0.2f', display_all=False):\n",
      "        \"\"\"Create the data cursor and connect it to the relevant figure.\n",
      "        \"artists\" is the matplotlib artist or sequence of artists that will be \n",
      "            selected. \n",
      "        \"tolerance\" is the radius (in points) that the mouse click must be\n",
      "            within to select the artist.\n",
      "        \"offsets\" is a tuple of (x,y) offsets in points from the selected\n",
      "            point to the displayed annotation box\n",
      "        \"template\" is the format string to be used. Note: For compatibility\n",
      "            with older versions of python, this uses the old-style (%) \n",
      "            formatting specification.\n",
      "        \"display_all\" controls whether more than one annotation box will\n",
      "            be shown if there are multiple axes.  Only one will be shown\n",
      "            per-axis, regardless. \n",
      "        \"\"\"\n",
      "        self.template = template\n",
      "        self.offsets = offsets\n",
      "        self.display_all = display_all\n",
      "        if not cbook.iterable(artists):\n",
      "            artists = [artists]\n",
      "        self.artists = artists\n",
      "        self.axes = tuple(set(art.axes for art in self.artists))\n",
      "        self.figures = tuple(set(ax.figure for ax in self.axes))\n",
      "\n",
      "        self.annotations = {}\n",
      "        for ax in self.axes:\n",
      "            self.annotations[ax] = self.annotate(ax)\n",
      "\n",
      "        for artist in self.artists:\n",
      "            artist.set_picker(tolerance)\n",
      "        for fig in self.figures:\n",
      "            fig.canvas.mpl_connect('pick_event', self)\n",
      "\n",
      "    def annotate(self, ax):\n",
      "        \"\"\"Draws and hides the annotation box for the given axis \"ax\".\"\"\"\n",
      "        annotation = ax.annotate(self.template, xy=(0, 0), ha='right',\n",
      "                xytext=self.offsets, textcoords='offset points', va='bottom',\n",
      "                bbox=dict(boxstyle='round,pad=0.5', fc='yellow', alpha=0.5),\n",
      "                arrowprops=dict(arrowstyle='->', connectionstyle='arc3,rad=0')\n",
      "                )\n",
      "        annotation.set_visible(False)\n",
      "        return annotation\n",
      "\n",
      "    def __call__(self, event):\n",
      "        \"\"\"Intended to be called through \"mpl_connect\".\"\"\"\n",
      "        # Rather than trying to interpolate, just display the clicked coords\n",
      "        # This will only be called if it's within \"tolerance\", anyway.\n",
      "        x, y = event.mouseevent.xdata, event.mouseevent.ydata\n",
      "        annotation = self.annotations[event.artist.axes]\n",
      "        if x is not None:\n",
      "            if not self.display_all:\n",
      "                # Hide any other annotation boxes...\n",
      "                for ann in self.annotations.values():\n",
      "                    ann.set_visible(False)\n",
      "            # Update the annotation in the current axis..\n",
      "            annotation.xy = x, y\n",
      "            annotation.set_text(self.template % (x, y))\n",
      "            annotation.set_visible(True)\n",
      "            event.canvas.draw()\n",
      "            \n",
      "\n",
      "def df(y,t):\n",
      "    '''\n",
      "    Defines the model equation.\n",
      "    '''\n",
      "    Vs = y[0]\n",
      "    ns = y[1]\n",
      "    hs = y[2]\n",
      "    \n",
      "    # SOMATIC FUNCTIONS\n",
      "    minfs = 1/(1+math.exp((Vs-vm) /sm))\n",
      "    ninfs = 1/(1+math.exp((Vs-vn) /sn))\n",
      "    minfps = 1/(1+math.exp((Vs-vmp)/smp))\n",
      "    hinfs = 1/(1+math.exp((Vs-vh) /sh))\n",
      "    \n",
      "    tauns = taunb/math.cosh((Vs-vn)/(2*sn))\n",
      "    tauhs = tauhb/math.cosh((Vs-vh)/(2*sh))\n",
      "    \n",
      "    I_nas = gna*math.pow(minfs,3)*(1-ns)*(Vs-ena) #sodium current\n",
      "    I_ks = gk*math.pow(ns,4)*(Vs-ek) #potassium current\n",
      "    I_naps = gnaps*minfps*hs*(Vs-ena) #persistent sodium current\n",
      "    I_tonic = gtonic*(Vs-eSyn) #current from external tonic drive\n",
      "    I_L = gL*(Vs-eL) #leak current\n",
      "\n",
      "    # SOMATIC EQUATIONS\n",
      "\n",
      "    dVs = (-I_ks-I_nas-I_naps-I_L-I_tonic-Iaps)/Cms\n",
      "    dns = (ninfs-ns)/tauns\n",
      "    dhs = (hinfs-hs)/tauhs\n",
      "    \n",
      "    return [dVs,dns,dhs]\n",
      "\n",
      "#solves the equations\n",
      "def solve(Vs0, ns0, hs0, tEnd, tLen):\n",
      "    '''\n",
      "    Solve the equation with intial values of Vs0, ns0, and hs0, from t=0 to t=tEnd for tLen time steps.\n",
      "    '''\n",
      "    y0 = [Vs0,ns0,hs0]\n",
      "    t = linspace(0,tEnd,tLen)\n",
      "    soln = odeint(df, y0, t)\n",
      "    Vs = soln[:, 0]\n",
      "    ns = soln[:, 0]\n",
      "    hs = soln[:, 0]\n",
      "    return t, Vs\n",
      "\n",
      "def plotActionPotential(t, Vs):\n",
      "    '''\n",
      "    plot voltage (Vs) against time (t) and save to file fileName if provided\n",
      "    '''\n",
      "    plt.figure()\n",
      "    fig = plt.plot(t/1000.,Vs,'k')\n",
      "    plt.ylabel('V (mV)', fontsize=16)\n",
      "    plt.xlabel('time (sec)', fontsize=16)\n",
      "    plt.ylim(-80,10)\n",
      "    DataCursor(fig)\n",
      "    plt.show()\n",
      "\n",
      "#solve eq\n",
      "t, Vs = solve(Vs0,ns0,hs0,tEnd,tLen)\n",
      "plotActionPotential(t,Vs)"
     ],
     "language": "python",
     "metadata": {},
     "outputs": [],
     "prompt_number": 12
    },
    {
     "cell_type": "code",
     "collapsed": false,
     "input": [],
     "language": "python",
     "metadata": {},
     "outputs": []
    }
   ],
   "metadata": {}
  }
 ]
}