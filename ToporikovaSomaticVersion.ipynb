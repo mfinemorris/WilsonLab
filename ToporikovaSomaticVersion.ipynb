{
 "metadata": {
  "name": "",
  "signature": "sha256:2777bb035bf1d96328bf4aca49be0444b2b643b368b7f58f1089537e6c0d4049"
 },
 "nbformat": 3,
 "nbformat_minor": 0,
 "worksheets": [
  {
   "cells": [
    {
     "cell_type": "code",
     "collapsed": false,
     "input": [
      "from IPython.html import widgets # Widget definitions\n",
      "from IPython.display import display # Used to display widgets in the notebook\n",
      "import inspect\n",
      "from IPython.display import Math\n",
      "\n",
      "slider = widgets.FloatSliderWidget()\n",
      "display(slider)\n",
      "slider2 = widgets.FloatSliderWidget()\n",
      "display(slider2)\n",
      "slider3 = widgets.FloatSliderWidget()\n",
      "display(slider3)\n",
      "\n",
      "def on_value_change(name, value):\n",
      "    print value\n",
      "\n",
      "slider.on_trait_change(on_value_change, 'value',)\n",
      "\n",
      "slider2.on_trait_change(on_value_change, 'value')\n"
     ],
     "language": "python",
     "metadata": {},
     "outputs": [
      {
       "output_type": "stream",
       "stream": "stdout",
       "text": [
        "0\n"
       ]
      },
      {
       "latex": [
        "$$uS/cm^{2}$$"
       ],
       "metadata": {},
       "output_type": "pyout",
       "prompt_number": 6,
       "text": [
        "<IPython.core.display.Math at 0x1024749d0>"
       ]
      }
     ],
     "prompt_number": 6
    },
    {
     "cell_type": "code",
     "collapsed": false,
     "input": [
      "# -*- coding: utf-8 -*-\n",
      "\"\"\"\n",
      "The following modified by Morgan Fine-Morris, October 2014. \n",
      "Dendritic component removed and variable values of somatic component adjusted to match model 1 of\n",
      "Butera et al. , J. Neurophysiol, July 1999 Vol. 82 no. 1 382-397\n",
      "\n",
      "Vleaks values from Butera paper are -60,-57.5,-54 (all mV)\n",
      "\n",
      "Model of somato-dendritic burster\n",
      "From Toporikova and Butera, J. Comp neuroscience, DOI 10.1007/s10827-010-0274-z\n",
      "Model with following parameters reproduce Figure 1B of the paper above\n",
      "setting gcan=0, convert model to Pruvis and Butera 2007\n",
      "units: V = mV; Kca = uM; Cm = uF/cm^2; g = uS/cm^2; phi = 1/s;\n",
      "Parameter fi is normalized with respect to intracellular volume, so it's units fi=1/pL; \n",
      "\"\"\"\n",
      "import numpy as np\n",
      "import matplotlib.pyplot as plt\n",
      "import math\n",
      "import scipy\n",
      "from scipy.integrate import odeint\n",
      "from time import clock\n",
      "from IPython.html import widgets # Widget definitions\n",
      "from IPython.display import display # Used to display widgets in the noteboo\n",
      "from IPython.display import Math\n",
      "#print the time it takes to solve?\n",
      "printtime=False\n",
      "\n",
      "#a dict for the default values, the units, and the symbol/name of the variable (using LaTeX)\n",
      "defaultVars = {\"gL\":2.8, \"vleaks\":-60.0, \"tDuration\":30*1000., \"dt\":0.1, \\\n",
      "               \"gnaps\":2.8, \"Cms\":21.0, \"vna\":50., \"vk\":-85., \"gk\":11.2, \\\n",
      "               \"gna\":28.0, \"vm\":-34.,\"vn\":-29.,\"vmp\":-40.,\"vh\":-48,\"sm\":-5,\\\n",
      "               \"sn\":-4,\"smp\":-6,\"sh\":6,\"taunb\":10,\"tauhb\":10000, \"Iaps\":0}\n",
      "varUnits = {\"gL\":'uS/cm^2', \"vleaks\":\"mv\", \"tDuration\":\"ms\", \"dt\":\"ms\", \\\n",
      "               \"gnaps\":'uS/cm^2', \"Cms\":'uF/cm^2', \"vna\":\"mv\", \"vk\":\"mv\", \"gk\":'uS/cm^2', \\\n",
      "               \"gna\":'uS/cm^2', \"vm\":\"mv\",\"vn\":\"mv\",\"vmp\":\"mv\",\"vh\":\"mv\",\"sm\":\"mv\",\\\n",
      "               \"sn\":\"mv\",\"smp\":\"mv\",\"sh\":\"mv\",\"taunb\":\"ms\",\"tauhb\":\"ms\",\"Iaps\":\"A\"}\n",
      "varName = {\"gL\":'leak conductance per area', \"vleaks\":\"leak potential\", \"tDuration\":\"simulation duration\", \"dt\":\"time step\", \\\n",
      "               \"gnaps\":'persistent sodium conductance per area', \"Cms\":'membrane capacitance per area', \\\n",
      "               \"vna\":\"mv\", \"vk\":\"mv\", \"gk\":'uS/cm^2', \"gna\":'uS/cm^2', \"vm\":\"mv\",\"vn\":\"mv\",\"vmp\":\"mv\",\"vh\":\"mv\",\"sm\":\"mv\",\\\n",
      "               \"sn\":\"mv\",\"smp\":\"mv\",\"sh\":\"mv\",\"taunb\":\"ms\",\"tauhb\":\"max h time const\", \"Iaps\":\"injected current\"}\n",
      "#will hold the values specified by the user-customized\n",
      "variables = dict()\n",
      "\n",
      "def setVariableVals():\n",
      "    variables = dict()\n",
      "    for key in defaultVars:\n",
      "        val = getVal(varName[key],varUnits[key],defaultVars[key])\n",
      "        variables[key] = defaultVars[key]\n",
      "    return variables\n",
      "'''\n",
      "def queryPersistentSodium():\n",
      "    print \"Specify conductance values or hit enter to use the default.\"\n",
      "    #persistent sodium\n",
      "    #potassium\n",
      "    #sodium\n",
      "\n",
      "def querySodium():\n",
      "    print \"Enter values for sodium current below. Hit enter at each prompt to use the default value.\"\n",
      "'''\n",
      "#give user info about variable and let them enter a custom value\n",
      "def getVal(varName, varUnits, oldVal):\n",
      "    print \"default {} = {} {} \".format(varName,oldVal, varUnits)\n",
      "    newVal = raw_input(\"new {} = \".format(varName))\n",
      "    if not newVal: \n",
      "        return oldVal\n",
      "    else: \n",
      "        try:\n",
      "            return float(newVal)\n",
      "        except:\n",
      "            print \"Invalid value for {}. Using default.\".format(varName)\n",
      "            return oldVal\n",
      "\n",
      "# INITIAL CONDITIONS\n",
      "Vs0=v\n",
      "ns0=0.004\n",
      "hs0=0.33\n",
      "\n",
      "# variables\n",
      "tLen=int(tEnd/dt)\n",
      "\n",
      "#defines the equation\n",
      "def df(y,t): \n",
      "    Vs=y[0]\n",
      "    ns=y[1]\n",
      "    hs=y[2]\n",
      "    \n",
      "    # SOMATIC FUNCTIONS\n",
      "    minfs=1/(1+math.exp((Vs-vm) /sm))\n",
      "    ninfs=1/(1+math.exp((Vs-vn) /sn))\n",
      "    minfps=1/(1+math.exp((Vs-vmp)/smp))\n",
      "    hinfs=1/(1+math.exp((Vs-vh) /sh))\n",
      "    \n",
      "    tauns=taunb/math.cosh((Vs-vn)/(2*sn))\n",
      "    tauhs=tauhb/math.cosh((Vs-vh)/(2*sh))\n",
      "    \n",
      "    I_nas=gna*math.pow(minfs,3)*(1-ns)*(Vs-vna)\n",
      "    I_ks=gk*math.pow(ns,4)*(Vs-vk)\n",
      "    I_naps=gnaps*minfps*hs*(Vs-vna)\n",
      "    \n",
      "    I_ls =gls*(Vs-vleaks)\n",
      "\n",
      "    # SOMATIC EQUATIONS\n",
      "\n",
      "    dVs= (-I_ks - I_nas-I_naps-I_ls-Iaps)/Cms\n",
      "    dns= (ninfs-ns)/tauns\n",
      "    dhs= (hinfs-hs)/tauhs\n",
      "    \n",
      "    return [dVs,dns,dhs]\n",
      "\n",
      "#solves the equations\n",
      "def solve(Vs0, ns0, hs0, tEnd, tLen):\n",
      "    y0 = [Vs0,ns0,hs0]\n",
      "    t = scipy.linspace(0,tEnd,tLen)\n",
      "    soln = odeint(df, y0, t)\n",
      "    Vs = soln[:, 0]\n",
      "    ns=soln[:, 0]\n",
      "    hs=soln[:, 0]\n",
      "    return t, Vs\n",
      "\n",
      "def plotActionPotential(t, Vs, fileName=\"\"):\n",
      "    #plot voltage vs time\n",
      "    plt.figure()\n",
      "    plt.plot(t/1000.,Vs,'k')\n",
      "    plt.ylabel('V (mV)', fontsize=16)\n",
      "    plt.xlabel('time (sec)', fontsize=16)\n",
      "    plt.ylim(-80,10)\n",
      "    if fileName:\n",
      "        plt.savefig(fileName)\n",
      "    plt.show()\n",
      "    \n",
      "    \n",
      "def textUserInterface():\n",
      "    print \"Provide values for variables when prompted or press enter at the prompt to use the default value.\"\n",
      "\n",
      "    #ask user if they want to use defaults or specify own values\n",
      "    #give user options to change only specific sets of \n",
      "    "
     ],
     "language": "python",
     "metadata": {},
     "outputs": [
      {
       "output_type": "stream",
       "stream": "stdout",
       "text": [
        "Provide values for variables when prompted or press enter at each prompt to use the default value.\n",
        "returning\n"
       ]
      },
      {
       "ename": "SyntaxError",
       "evalue": "'return' outside function (<ipython-input-3-32154b87f736>, line 70)",
       "output_type": "pyerr",
       "traceback": [
        "\u001b[0;36m  File \u001b[0;32m\"<ipython-input-3-32154b87f736>\"\u001b[0;36m, line \u001b[0;32m70\u001b[0m\n\u001b[0;31m    return\u001b[0m\n\u001b[0;31mSyntaxError\u001b[0m\u001b[0;31m:\u001b[0m 'return' outside function\n"
       ]
      }
     ],
     "prompt_number": 3
    },
    {
     "cell_type": "code",
     "collapsed": false,
     "input": [
      "#set values\n",
      "\n",
      "#start timer\n",
      "start = clock()\n",
      "#solve eq\n",
      "t, Vs = solve(Vs0,ns0,hs0,tEnd,tLen)\n",
      "#end timer\n",
      "end = clock()\n",
      "if printtime:\n",
      "    print \"Duration: \", end - start, \"seconds\"\n",
      " \n",
      "plotActionPotential(t,Vs)"
     ],
     "language": "python",
     "metadata": {},
     "outputs": [
      {
       "name": "stdout",
       "output_type": "stream",
       "stream": "stdout",
       "text": [
        "v = -60.0 mV > -45.0\n"
       ]
      },
      {
       "output_type": "stream",
       "stream": "stdout",
       "text": [
        "-45.0\n"
       ]
      }
     ],
     "prompt_number": 2
    },
    {
     "cell_type": "code",
     "collapsed": false,
     "input": [],
     "language": "python",
     "metadata": {},
     "outputs": []
    }
   ],
   "metadata": {}
  }
 ]
}