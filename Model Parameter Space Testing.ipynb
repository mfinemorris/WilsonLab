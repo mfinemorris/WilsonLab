{
 "metadata": {
  "name": "",
  "signature": "sha256:bc9a5b2f3df849f93abdeca274081bb3e953df735bb89343469cb62d1c1e00c3"
 },
 "nbformat": 3,
 "nbformat_minor": 0,
 "worksheets": [
  {
   "cells": [
    {
     "cell_type": "heading",
     "level": 1,
     "metadata": {
      "heading_collapsed": false
     },
     "source": [
      "Import Modules, Load Constants and Make Parameter Dictionary"
     ]
    },
    {
     "cell_type": "code",
     "collapsed": false,
     "input": [
      "#import modules and make param dict\n",
      "from numpy import *\n",
      "import matplotlib.pyplot as plt\n",
      "import matplotlib\n",
      "import pandas\n",
      "from scipy import integrate\n",
      "from time import clock\n",
      "import os\n",
      "debug = False\n",
      "set_printoptions(4)\n",
      "import NMResources\n",
      "import utility"
     ],
     "language": "python",
     "metadata": {},
     "outputs": [],
     "prompt_number": 1
    },
    {
     "cell_type": "code",
     "collapsed": false,
     "input": [
      "#------------------------------------------------------------------------------------------\n",
      "#### INITIAL CONDITIONS ####\n",
      "Vs0=-60.0 #initial cell memberane voltage\n",
      "ns0=0.004 #initial value of gating var n\n",
      "hs0=0.33 #initial value of gating var h\n",
      "Vd0=-50.0 #initial dendritic membrane voltage\n",
      "C0=0.03 #initial calcium 2+ balance\n",
      "l0=0.93 # initial value of IP3 channel gating variable\n",
      "\n",
      "'''\n",
      "Initial states of the ATP channels. Numerical values represent the fraction of the cell's P2X7 receptors in that state.\n",
      "They must sum to 1. If a state = 0, then none of the P2X7 receptors are in that state. \n",
      "If a state = 1.0, then all of the P2X7 receptors are in that state, and the remaining states must all = 0.\n",
      "\n",
      "state name : state attributes\n",
      "q1 : double-liganded, open, unsensitized\n",
      "q2 : triple-liganded, open, unsensitized\n",
      "q3 : triple-liganded, open, sensitized\n",
      "q4 : double-liganded, open, sensitized\n",
      "c1 : unliganded, closed, unsensitized\n",
      "c2 : mono-liganded, closed, unsensitized\n",
      "c3 : mono-liganded, closed, sensitized\n",
      "c4 : unliganded, closed, sensitized\n",
      "'''\n",
      "q1o = 0.\n",
      "q2o = 0.\n",
      "q3o = 0.\n",
      "q4o = 0.\n",
      "c1o = 1.0\n",
      "c2o = 0.\n",
      "c3o = 0.\n",
      "c4o = 0.\n",
      "\n",
      "\n",
      "#Initial atp concentration (units of Molars)\n",
      "atp0=3.2e-6 #Molars\n",
      "\n",
      "#### TIME (ms) ####\n",
      "tStart=0.\n",
      "tEnd=1000.*60#*3.\n",
      "dt=1.\n",
      "\n",
      "#### MEMBRANE CAPACITANCE (pF) ####\n",
      "Cms=21\n",
      "#dendrite membrane capacitance\n",
      "Cmd=5\n",
      "\n",
      "#### REVERSAL POTENTIALS (mV) ####\n",
      "# sodium potential (for normal sodium current and persistent sodium current)\n",
      "ena=50\n",
      "# potassium potential\n",
      "ek=-85\n",
      "# leak reversal potential\n",
      "eL=-54.0 # suggested value for vleak from Butera paper are -60,-57.5,-54\n",
      "# reversal potential of non-NMDA glutamatergic synaptic currents.\n",
      "eSyn=0.0\n",
      "\n",
      "#### CONDUCTANCE (nS) ####\n",
      "# potassium current conductance\n",
      "gk=11.2\n",
      "# sodium current conductance\n",
      "gna=28\n",
      "# persistent sodium current conductance\n",
      "gnaps=2.8\n",
      "# leak current conductance\n",
      "gL=5.6\n",
      "# tonic conductance\n",
      "gtonic=0.0\n",
      "# calcium channel conductance\n",
      "gcan = 1.5\n",
      "# conductance for link between soma and dendrite\n",
      "gc = 1.0\n",
      "\n",
      "#### APPLIED CURRENT ####\n",
      "Iaps=0\n",
      "\n",
      "#### HALF (IN)ACTIVATION VOLTAGE (mV) ####\n",
      "vm=-34\n",
      "vn=-29\n",
      "vmp=-40\n",
      "vh=-48\n",
      "\n",
      "#### INVERSE SLOPE MULTIPLIER (mV) ####\n",
      "sm=-5\n",
      "sn=-4\n",
      "smp=-6\n",
      "sh=6\n",
      "\n",
      "#### TIME CONSTANT MAX VALUES (ms) #####\n",
      "taunb=10 #tau max for n\n",
      "tauhb=10000 #tau max for h\n",
      "\n",
      "#### Constants for calculating Ca Flux: ER --> Cytosol ####\n",
      "IP=1 #IP3 concentration\n",
      "LL=0.37 #ER leak permeability\n",
      "P=31000 #maximum total permeability of IP3 channels\n",
      "Ki=1.0 #dissociation consts for IP3 receptor activity by IP3\n",
      "Ka=0.4 #dissociation consts for IP3 receptor activity by Ca\n",
      "\n",
      "#### Constants for calculating Ca Flux: Cytosol --> ER ####\n",
      "Ve=400 #Maximal SERCA pump rate\n",
      "Ke=0.2 #coefficient for SERCA pumps\n",
      "\n",
      "#### ER Ca CONCENTRATION ####\n",
      "Ct=1.25 #Total Ca\n",
      "sigma=0.185 #ratio of cytosolic to ER volume\n",
      "\n",
      "#The ER parameters\n",
      "fi=0.0001 #bound Ca concentration in cytosol\n",
      "Vi=4 #free Ca concentration in cytosol\n",
      "A=0.005 #scaling const.\n",
      "Kd=0.4 #dissociation constant for IP3 receptor inactivation by Ca\n",
      "\n",
      "#### Calcium current activation ####\n",
      "Kcan=0.74 # microM \n",
      "ncan=0.97\n",
      "\n",
      "#### Ratio of somatic to total area ####\n",
      "k=0.3\n",
      "\n",
      "#### P2X7 RECEPTOR ####\n",
      "# RATE CONSTANTS\n",
      "# Back rates (ms)**-1\n",
      "k1 = 0.3e-3 \n",
      "k3 = 2.4e-3\n",
      "k5 = 1.58e-3\n",
      "# Forward rates (ms*M)**-1\n",
      "k2 = 40000e-3\n",
      "k4 = 50000.0e-3\n",
      "k6 = 7000e-3\n",
      "# Sensitized/unsensitized rates\n",
      "L1 = 0.0001e-3\n",
      "L2 = 0.004e-3\n",
      "L3 = 0.5e-3\n",
      "\n",
      "# CONDUCTANCE (nS)\n",
      "#conductance of unsensitized channels\n",
      "g12 = 15 # nS\n",
      "#conductance of sensitized channels\n",
      "g34 = 45 # nS\n",
      "\n",
      "#P2X7 channel reversal potential\n",
      "eatp = 0.0 #mV\n",
      "\n",
      "beta_alpha_ratio = 1/4.\n",
      "\n",
      "param = {'Cms': Cms,  'Cmd': Cmd,  'ena': ena,  'ek': ek,  'eL': eL,  'eSyn': eSyn,  'gk': gk,\\\n",
      "        'gna': gna,  'gnaps': gnaps,  'gL': gL,  'gtonic': gtonic,  'gcan': gcan , 'gc': gc ,  'Iaps': Iaps,  'vm': vm, 'vn': vn,  'vmp': vmp,  'vh': vh,  'sm': sm,  'sn': sn,  'smp': smp,  'sh': sh,  'taunb': taunb,\\\n",
      "        'tauhb': tauhb,  'IP': IP,  'LL': LL,  'P': P,  'Ki': Ki,  'Ka': Ka,  'Ve': Ve,  'Ke': Ke,  'Ct': Ct,\\\n",
      "        'sigma': sigma,  'fi': fi,  'Vi': Vi,  'A': A,  'Kd': Kd,  'Kcan': Kcan,  'ncan': ncan,  'k': k, \\\n",
      "        'k1': k1, 'k2': k2, 'k3': k3, 'k4': k4, 'k5': k5, 'k6': k6, 'L1': L1, 'L2': L2, 'L3': L3, 'g12': g12,\\\n",
      "        'g34': g34, 'eatp': eatp, 'dt':dt, 'Vs0': Vs0 , 'ns0': ns0 , 'hs0': hs0 , 'Vd0': Vd0 , 'C0': C0 , 'l0': l0 , \\\n",
      "        'q1o': q1o , 'q2o': q2o , 'q3o': q3o , 'q4o': q4o , 'c1o': c1o , 'c2o': c2o , 'c3o': c3o , 'c4o': c4o , 'atp0': atp0, 'beta_alpha_ratio':beta_alpha_ratio}\n",
      "\n",
      "\n",
      "def plot_voltage(time_msec, voltage_mV, title_info = {}, labels = []):\n",
      "    #convert time from milliseconds to seconds\n",
      "    try:\n",
      "        time_sec = time_msec/1000.0\n",
      "    except TypeError as e:\n",
      "        time_sec = np.array(time_msec)/1000.\n",
      "        \n",
      "    #make figure, axis, set axis labels\n",
      "    lines = plt.plot(time_sec, voltage_mV)\n",
      "    plt.xlabel('Time (seconds)')\n",
      "    plt.ylabel('Membrane Potential (mV)')\n",
      "    if labels:\n",
      "        plt.legend(lines, labels)\n",
      "    #append together the items in title_info, then set as plot title\n",
      "    title = \", \".join([key+\": \"+str(val)for key,val in title_info.items()])\n",
      "    plt.suptitle(title)\n",
      "    \n",
      "'''    \n",
      "[-60, -65,-72,-75],[-60, -62,-64,-80]\n",
      "df = pd.DataFrame(data = [[-60,-60],[-65,-62],[-72,-64],[-75, -80]], index = [0,0.5,1.,1.5], columns=['2.3', '4.3'])\n",
      "plot_voltage(df.index, df.values, {'gL':4.5}, df.columns.values)\n",
      "plt.show()\n",
      "#'''\n",
      "None"
     ],
     "language": "python",
     "metadata": {},
     "outputs": [],
     "prompt_number": 2
    },
    {
     "cell_type": "heading",
     "level": 1,
     "metadata": {
      "heading_collapsed": false
     },
     "source": [
      "Models"
     ]
    },
    {
     "cell_type": "heading",
     "level": 2,
     "metadata": {},
     "source": [
      "TB and BRS Models"
     ]
    },
    {
     "cell_type": "code",
     "collapsed": false,
     "input": [
      "#Define BRS and TB Models\n",
      "class BRSModel(object):\n",
      "\n",
      "    #### MEMBRANE CAPACITANCE (pF) ####\n",
      "    Cms=21\n",
      "\n",
      "    #### REVERSAL POTENTIALS (mV) ####\n",
      "    # sodium potential (for normal sodium current and persistent sodium current)\n",
      "    ena=50\n",
      "    # potassium potential\n",
      "    ek=-85\n",
      "    # leak reversal potential\n",
      "    eL=-60.0 # suggested value for vleak from Butera paper are -60,-57.5,-54\n",
      "    # reversal potential of non-NMDA glutamatergic synaptic currents.\n",
      "    eSyn=0.0\n",
      "\n",
      "    #### CONDUCTANCE (nS) ####\n",
      "    # potassium current conductance\n",
      "    gk=11.2\n",
      "    # sodium current conductance\n",
      "    gna=28\n",
      "    # persistent sodium current conductance\n",
      "    gnaps=2.8 #should this be 1.5 or 2.0 as in Toparikova and Butera 2011?\n",
      "    # leak current conductance\n",
      "    gL=2.8\n",
      "    # tonic conductance\n",
      "    gtonic=0.0\n",
      "\n",
      "    #### APPLIED CURRENT (pA) ####\n",
      "    Iaps=0\n",
      "\n",
      "    #### HALF (IN)ACTIVATION VOLTAGE (mV) ####\n",
      "    vm=-34\n",
      "    vn=-29\n",
      "    vmp=-40\n",
      "    vh=-48\n",
      "\n",
      "    #### INVERSE SLOPE MULTIPLIER (mV) ####\n",
      "    sm=-5\n",
      "    sn=-4\n",
      "    smp=-6\n",
      "    sh=5\n",
      "\n",
      "    #### TIME CONSTANT MAX VALUES (ms) #####\n",
      "    taunb=10 #tau max for n\n",
      "    tauhb=10000 #tau max for h\n",
      "    \n",
      "    # In milliseconds\n",
      "    dt = .1\n",
      "    \n",
      "    Vs0=-60.0 #initial somatic memberane voltage\n",
      "    ns0=0.004 #initial value of gating var n\n",
      "    hs0=0.33 #initial value of gating var h\n",
      "    \n",
      "    #set here so that only the variables are in param_names\n",
      "    _param_names = [i for i in dir() if \"__\" not in i]\n",
      "    \n",
      "    #let user know if parameter dictionary passed in to setVars is incomplete\n",
      "    warn_for_missing_vars = False\n",
      "        \n",
      "    def __init__(self, param_dict={}):          \n",
      "        self.setVars(param_dict)\n",
      "    \n",
      "    def setVars(self,var, warn = warn_for_missing_vars):\n",
      "        for i in self._param_names:\n",
      "            try:\n",
      "                self.__dict__[i] = float(var[i])\n",
      "            except Exception as e:\n",
      "                #if is missing from var dictionary, let user know or not, depending on boolean val\n",
      "                self.__dict__[i] = self.__class__.__dict__[i]\n",
      "                if  warn:\n",
      "                    print ('Param '+i+\" is either missing or invalid. Using default.\")\n",
      "                    \n",
      "    def printVars(self,cols = 3):\n",
      "        \n",
      "        line = \"-----------------------\"\n",
      "        print line + \"\\n\"+\"Model Parameters: \"+\"\\n\"+line+\"\\n\"\n",
      "        print \"Initial state: Vs = {}, ns = {}, hs = {} \".format(self.Vs0, self.ns0, self.hs0,)\n",
      "        print\n",
      "        i = 1\n",
      "        for key in self._param_names:\n",
      "            if key in ['Vs0', 'ns0', 'hs0']:\n",
      "                continue\n",
      "            try:\n",
      "                item = vars(self)[key]\n",
      "            except:\n",
      "                item = self.__class__.__dict__[key]\n",
      "\n",
      "            print \"{:<9s}: {:<10} \\t \".format(key, item),\n",
      "            if i%cols == 0:\n",
      "                print\n",
      "            i +=1\n",
      "        print \"\\n\"+line + \"\\n\"+\"End Parameters \"+\"\\n\"+line+'\\n'\n",
      "    \n",
      "\n",
      "    def model(self, y, t):\n",
      "        \n",
      "        Vs = y[0]\n",
      "        ns = y[1]\n",
      "        hs = y[2]\n",
      "        \n",
      "        # SOMATIC FUNCTIONS\n",
      "        minfs = 1/(1+exp((Vs-self.vm) /self.sm))\n",
      "        ninfs = 1/(1+exp((Vs-self.vn) /self.sn))\n",
      "        minfps = 1/(1+exp((Vs-self.vmp)/self.smp))\n",
      "        hinfs = 1/(1+exp((Vs-self.vh) /self.sh))\n",
      "\n",
      "        tauns = self.taunb/cosh((Vs-self.vn)/(2*self.sn))\n",
      "        tauhs = self.tauhb/cosh((Vs-self.vh)/(2*self.sh))\n",
      "\n",
      "        # CURRENT EXPRESSIONS\n",
      "        # currents in Soma\n",
      "        I_nas = self.gna*(minfs**3)*(1-ns)*(Vs-self.ena) #sodium current\n",
      "        I_ks = self.gk*(ns**4)*(Vs-self.ek) #potassium current\n",
      "        I_naps = self.gnaps*minfps*hs*(Vs-self.ena) #persistent sodium current\n",
      "        I_L = self.gL*(Vs-self.eL) #pA\n",
      "       \n",
      "        #### DIFFERENTIAL EQUATIONS\n",
      "        # SOMATIC EQUATIONS\n",
      "        dVs = (-I_ks-I_nas-I_naps-I_L+self.Iaps)/self.Cms\n",
      "        dns = (ninfs-ns)/tauns\n",
      "        dhs = (hinfs-hs)/tauhs        \n",
      "        \n",
      "        return [dVs, dns, dhs]\n",
      "\n",
      "    def jacobian(self,y,t):\n",
      "        Vs = y[0]\n",
      "        n = y[1]\n",
      "        h = y[2]\n",
      "        \n",
      "        j11 = (-h*self.gnaps/(exp((Vs - self.vmp)/self.smp) + 1) + h*self.gnaps*(Vs - self.ena)*exp((Vs - self.vmp)/self.smp)/(self.smp*(exp((Vs - self.vmp)/self.smp) + 1)**2) - n**4*self.gk - self.gL - self.gna*(-n + 1)/(exp((Vs - self.vm)/self.sm) + 1)**3 + 3*self.gna*(Vs - self.ena)*(-n + 1)*exp((Vs - self.vm)/self.sm)/(self.sm*(exp((Vs - self.vm)/self.sm) + 1)**4))/self.Cms \n",
      "        j12 =  (-4*n**3*self.gk*(Vs - self.ek) + self.gna*(Vs - self.ena)/(exp((Vs - self.vm)/self.sm) + 1)**3)/self.Cms \n",
      "        j13 = -self.gnaps*(Vs - self.ena)/(self.Cms*(exp((Vs - self.vmp)/self.smp) + 1))\n",
      "        j21 = (-n + 1/(exp((Vs - self.vn)/self.sn) + 1))*sinh((Vs - self.vn)/(2*self.sn))/(2*self.sn*self.taunb) - exp((Vs - self.vn)/self.sn)*cosh((Vs - self.vn)/(2*self.sn))/(self.sn*self.taunb*(exp((Vs - self.vn)/self.sn) + 1)**2)\n",
      "        j22 = -cosh((Vs - self.vn)/(2*self.sn))/self.taunb\n",
      "        j23 = 0\n",
      "        j31 = (-h + 1/(exp((Vs - self.vh)/self.sh) + 1))*sinh((Vs - self.vh)/(2*self.sh))/(2*self.sh*self.tauhb) - exp((Vs - self.vh)/self.sh)*cosh((Vs - self.vh)/(2*self.sh))/(self.sh*self.tauhb*(exp((Vs - self.vh)/self.sh) + 1)**2)\n",
      "        j32 = 0\n",
      "        j33 = -cosh((Vs - self.vh)/(2*self.sh))/self.tauhb\n",
      "        \n",
      "        return [[j11, j12, j13], [j21, j22, j23], [j31,j32,j33]] \n",
      "        \n",
      "    def simulate(self, simulationTime):\n",
      "        t = linspace(0,simulationTime, simulationTime/self.dt)\n",
      "        initial_state = [self.Vs0, self.ns0, self.hs0]\n",
      "        y = integrate.odeint(self.model, initial_state, t, Dfun=self.jacobian)\n",
      "        return y.T[0], t\n",
      "    \n",
      "def test(Model=BRSModel):\n",
      "    \n",
      "    neuron = Model()\n",
      "    neuron.setVars({'gL':2.8,'eL':-60})    \n",
      "    res = neuron.simulate(1000.*60)\n",
      "    data = pandas.Series(data=res[0], index = res[1])\n",
      "    plt.plot(data.index/1000., data.values)\n",
      "    \n",
      "    neuron = Model()\n",
      "    neuron.setVars({'gL':2.3,'eL':-60})    \n",
      "    res = neuron.simulate(1000.*60)\n",
      "    data = pandas.Series(data=res[0], index = res[1])\n",
      "    plt.plot(data.index/1000., data.values)\n",
      "    \n",
      "    neuron = Model()\n",
      "    neuron.setVars({'gL':3.0,'eL':-60})    \n",
      "    res = neuron.simulate(1000.*60)\n",
      "    data = pandas.Series(data=res[0], index = res[1])\n",
      "    plt.plot(data.index/1000., data.values)\n",
      "    \n",
      "    #working combos (i.e. produce spiking):\n",
      "    #gL = 3.1, eL = -50\n",
      "    #gL >= 3.0, eL <= -60\n",
      "    \n",
      "    plt.show()\n",
      "    \n",
      "#test(BRSModel)"
     ],
     "language": "python",
     "metadata": {},
     "outputs": [],
     "prompt_number": 3
    },
    {
     "cell_type": "code",
     "collapsed": false,
     "input": [
      "class TBModel(object):\n",
      "        \n",
      "    #### MEMBRANE CAPACITANCE (pF) ####\n",
      "    Cms=21.\n",
      "    #dendrite membrane capacitance\n",
      "    Cmd=5.\n",
      "\n",
      "    #### REVERSAL POTENTIALS (mV) ####\n",
      "    # sodium potential (for normal sodium current and persistent sodium current)\n",
      "    ena=50.\n",
      "    # potassium potential\n",
      "    ek=-85.\n",
      "    # leak reversal potential\n",
      "    eL=-60.0 # suggested value for vleak from Butera paper are -60,-57.5,-54\n",
      "    # reversal potential of non-NMDA glutamatergic synaptic currents.\n",
      "    eSyn=0.0\n",
      "    \n",
      "    #### CONDUCTANCE (nS) ####\n",
      "    # potassium current conductance\n",
      "    gk=11.2\n",
      "    # sodium current conductance\n",
      "    gna=28.\n",
      "    # persistent sodium current conductance\n",
      "    gnaps=1.5#2.8 #should this be 1.5 or 2.0 as in Toparikova and Butera 2011?\n",
      "    # leak current conductance\n",
      "    gL=2.3 #in Toporikova_Butera_2010_code.py\n",
      "    # tonic conductance\n",
      "    gtonic=0.0\n",
      "    # calcium channel conductance\n",
      "    gcan = 1.5\n",
      "    # gc (the conductance for the link terms)\n",
      "    gc = 1.0\n",
      "\n",
      "    #### APPLIED CURRENT (pA) ####\n",
      "    Iaps=0\n",
      "\n",
      "    #### HALF (IN)ACTIVATION VOLTAGE (mV) ####\n",
      "    vm=-34.\n",
      "    vn=-29.\n",
      "    vmp=-40.\n",
      "    vh=-48.\n",
      "\n",
      "    #### INVERSE SLOPE MULTIPLIER (mV) ####\n",
      "    sm=-5.\n",
      "    sn=-4.\n",
      "    smp=-6.\n",
      "    sh=5.\n",
      "\n",
      "    #### TIME CONSTANT MAX VALUES (ms) #####\n",
      "    taunb=10. #tau max for n\n",
      "    tauhb=10000. #tau max for h\n",
      "\n",
      "    #### Constants for calculating Ca Flux: ER --> Cytosol ####\n",
      "    IP=1. #IP3 concentration\n",
      "    LL=0.37 #ER leak permeability\n",
      "    P=31000. #maximum total permeability of IP3 channels\n",
      "    Ki=1.0 #dissociation consts for IP3 receptor activity by IP3\n",
      "    Ka=0.4 #dissociation consts for IP3 receptor activity by Ca\n",
      "\n",
      "    #### Constants for calculating Ca Flux: Cytosol --> ER ####\n",
      "    Ve=400. #Maximal SERCA pump rate\n",
      "    Ke=0.2 #coefficient for SERCA pumps\n",
      "\n",
      "    #### ER Ca CONCENTRATION ####\n",
      "    Ct=1.25 #Total Ca\n",
      "    sigma=0.185 #ratio of cytosolic to ER volume\n",
      "\n",
      "    #The ER parameters\n",
      "    fi=0.0001 #bound Ca concentration in cytosol\n",
      "    Vi=4. #free Ca concentration in cytosol\n",
      "    A=0.005 #scaling const.\n",
      "    Kd=0.4 #dissociation constant for IP3 receptor inactivation by Ca\n",
      "\n",
      "    #### Calcium current activation ####\n",
      "    Kcan=0.74 # microM \n",
      "    ncan=0.97\n",
      "\n",
      "    #### Ratio of somatic to total area ####\n",
      "    k=0.3\n",
      "    \n",
      "    # In milliseconds\n",
      "    dt = 0.1\n",
      "    \n",
      "    Vs0=-60.0 #initial somatic memberane voltage\n",
      "    ns0=0.004 #initial value of gating var n\n",
      "    hs0=0.33 #initial value of gating var h\n",
      "    Vd0=-50. #initial dendritic membrane voltage\n",
      "    C0=0.03 #initial calcium 2+ balance\n",
      "    l0=0.93 # initial value of IP3 channel gating variable\n",
      "    \n",
      "    #set here so that only the variables are in param_names\n",
      "    _param_names = sorted([i for i in dir() if \"__\" not in i])\n",
      "    \n",
      "    #let user know if parameter dictionary passed in to setVars is incomplete\n",
      "    warn_for_missing_vars = False\n",
      "    \n",
      "    def __init__(self, param_dict={}):\n",
      "        self.setVars(param_dict)\n",
      "    \n",
      "    def setVars(self,var, warn = warn_for_missing_vars):\n",
      "        \n",
      "        for i in self._param_names:\n",
      "            try:\n",
      "                self.__dict__[i] = float(var[i])\n",
      "            except Exception as e:\n",
      "                self.__dict__[i] = self.__class__.__dict__[i]\n",
      "\n",
      "                #if is missing from var dictionary, let user know or not, depending on boolean val\n",
      "                if  warn:\n",
      "                    print ('Param '+i+\" is either missing or invalid. Using .\")\n",
      "                 \n",
      "\n",
      "    def printVars(self,cols = 3):\n",
      "        \n",
      "        line = \"-----------------------\"\n",
      "        print line + \"\\n\"+\"Model Parameters: \"+\"\\n\"+line+\"\\n\"\n",
      "        print \"initial state: Vs = {}, ns = {}, hs = {}, Vd = {}, C = {}, l = {} \".format(self.Vs0, self.ns0, self.hs0, self.Vd0, self.C0, self.l0)\n",
      "        print\n",
      "        i = 1\n",
      "        s = sorted(self._param_names)\n",
      "        for key in s:\n",
      "            if key in ['Vs0', 'ns0', 'hs0', 'Vd0', 'C0', 'l0']:\n",
      "                continue\n",
      "            try:\n",
      "                item = vars(self)[key]\n",
      "            except:\n",
      "                item = self.__class__.__dict__[key]\n",
      "\n",
      "            print \"{:<9s}: {:<10} \\t \".format(key, item),\n",
      "            if i%cols == 0:\n",
      "                print\n",
      "            i +=1\n",
      "        print \"\\n\"+line + \"\\n\"+\"End Parameters \"+\"\\n\"+line+'\\n'\n",
      "            \n",
      "\n",
      "    def model(self, y, t):\n",
      "\n",
      "        #Vs,ns,hs,Vd,C,l = y\n",
      "        Vs=y[0] #initial somatic memberane voltage\n",
      "        ns=y[1] #initial value of gating var n\n",
      "        hs=y[2] #initial value of gating var h\n",
      "        Vd=y[3] #initial dendritic membrane voltage\n",
      "        C=y[4] #initial calcium 2+ balance\n",
      "        l=y[5] # initial value of IP3 channel gating variable\n",
      "\n",
      "        # SOMATIC FUNCTIONS\n",
      "        minfs = 1/(1+exp((Vs-self.vm) /self.sm))\n",
      "        ninfs = 1/(1+exp((Vs-self.vn) /self.sn))\n",
      "        minfps = 1/(1+exp((Vs-self.vmp)/self.smp))\n",
      "        hinfs = 1/(1+exp((Vs-self.vh) /self.sh))\n",
      "\n",
      "        tauns = self.taunb/cosh((Vs-self.vn)/(2*self.sn))\n",
      "        tauhs = self.tauhb/cosh((Vs-self.vh)/(2*self.sh))\n",
      "\n",
      "        # DENDRITIC FUNCTIONS\n",
      "        #Calculate ER Ca\n",
      "        Ce = (self.Ct - C)/self.sigma\n",
      "        # Flux of Ca from ER to cytosol(regulated by IP3 receptors)\n",
      "        J_ER_in=(self.LL + self.P*((self.IP*C*l/((self.IP+self.Ki)*(C+self.Ka)))**3))*(Ce - C) \n",
      "        # Flux from cytosol back to ER (controlled by SERCA pumps)\n",
      "        J_ER_out=self.Ve*(C**2)/((self.Ke**2)+(C**2))\n",
      "        # Activation of calcium current (I_can)\n",
      "        caninf = 1/(1+((self.Kcan/C)**self.ncan))\n",
      "\n",
      "        # CURRENT EXPRESSIONS\n",
      "        # currents in Soma\n",
      "        I_nas = self.gna*(minfs**3)*(1-ns)*(Vs-self.ena) #sodium current\n",
      "        I_ks = self.gk*(ns**4)*(Vs-self.ek) #potassium current\n",
      "        I_naps = self.gnaps*minfps*hs*(Vs-self.ena) #persistent sodium current\n",
      "        I_L = self.gL*(Vs-self.eL) #pA\n",
      "        I_sd = self.gc*(Vs-Vd)/(1-self.k) # modification of dendritic current due to somatic current\n",
      "\n",
      "        # currents in Dendrite\n",
      "        I_can = self.gcan*caninf*(Vd-self.ena) # calcium current\n",
      "        I_ds = self.gc*(Vd-Vs)/self.k # modification of somatic current due to dendritic current\n",
      "\n",
      "        #### DIFFERENTIAL EQUATIONS\n",
      "        # SOMATIC EQUATIONS\n",
      "        dVs = (-I_ks-I_nas-I_naps-I_L-I_sd+self.Iaps)/self.Cms\n",
      "        \n",
      "        #dVs = (-I_ks-I_nas-I_naps-I_L+self.Iaps)/self.Cms\n",
      "\n",
      "        dns = (ninfs-ns)/tauns\n",
      "        dhs = (hinfs-hs)/tauhs\n",
      "        # DENDRITIC EQUATIONS\n",
      "        dVd = (-I_can-I_ds)/self.Cmd\n",
      "        dC = (self.fi/self.Vi)*( J_ER_in - J_ER_out)\n",
      "        dl = self.A*( self.Kd - (C + self.Kd)*l )\n",
      "\n",
      "        dy = [dVs, dns, dhs, dVd, dC, dl]\n",
      "        #print dy\n",
      "        return dy\n",
      "\n",
      "    def jacobian(self, y, t):\n",
      "        #Vs,n,h,Vd,C,l = y\n",
      "        Vs=y[0] #initial somatic memberane voltage\n",
      "        n=y[1] #initial value of gating var n\n",
      "        h=y[2] #initial value of gating var h\n",
      "        Vd=y[3] #initial dendritic membrane voltage\n",
      "        C=y[4] #initial calcium 2+ balance\n",
      "        l=y[5] # initial value of IP3 channel gating variable\n",
      "\n",
      "        return [[(-h*self.gnaps/(exp((Vs - self.vmp)/self.smp) + 1) + h*self.gnaps*(Vs - self.ena)*exp((Vs - self.vmp)/self.smp)/(self.smp*(exp((Vs - self.vmp)/self.smp) + 1)**2) - n**4*self.gk - self.gL - self.gc/(-self.k + 1) - self.gna*(-n + 1)/(exp((Vs - self.vm)/self.sm) + 1)**3 + 3*self.gna*(Vs - self.ena)*(-n + 1)*exp((Vs - self.vm)/self.sm)/(self.sm*(exp((Vs - self.vm)/self.sm) + 1)**4))/self.Cms, (-4*n**3*self.gk*(Vs - self.ek) + self.gna*(Vs - self.ena)/(exp((Vs - self.vm)/self.sm) + 1)**3)/self.Cms, -self.gnaps*(Vs - self.ena)/(self.Cms*(exp((Vs - self.vmp)/self.smp) + 1)), self.gc/(self.Cms*(-self.k + 1)), 0, 0], [(-n + 1/(exp((Vs - self.vn)/self.sn) + 1))*sinh((Vs - self.vn)/(2*self.sn))/(2*self.sn*self.taunb) - exp((Vs - self.vn)/self.sn)*cosh((Vs - self.vn)/(2*self.sn))/(self.sn*self.taunb*(exp((Vs - self.vn)/self.sn) + 1)**2), -cosh((Vs - self.vn)/(2*self.sn))/self.taunb, 0, 0, 0, 0], [(-h + 1/(exp((Vs - self.vh)/self.sh) + 1))*sinh((Vs - self.vh)/(2*self.sh))/(2*self.sh*self.tauhb) - exp((Vs - self.vh)/self.sh)*cosh((Vs - self.vh)/(2*self.sh))/(self.sh*self.tauhb*(exp((Vs - self.vh)/self.sh) + 1)**2), 0, -cosh((Vs - self.vh)/(2*self.sh))/self.tauhb, 0, 0, 0], [self.gc/(self.Cmd*self.k), 0, 0, (-self.gc/self.k - self.gcan/((self.Kcan/C)**self.ncan + 1))/self.Cmd, -self.gcan*self.ncan*(self.Kcan/C)**self.ncan*(Vd - self.ena)/(C*self.Cmd*((self.Kcan/C)**self.ncan + 1)**2), 0], [0, 0, 0, 0, self.fi*(2*C**3*self.Ve/(C**2 + self.Ke**2)**2 - 2*C*self.Ve/(C**2 + self.Ke**2) + (-1 - 1/self.sigma)*(C**3*l**3*self.IP**3*self.P/((C + self.Ka)**3*(self.IP + self.Ki)**3) + self.LL) + (-C + (-C + self.Ct)/self.sigma)*(-3*C**3*l**3*self.IP**3*self.P/((C + self.Ka)**4*(self.IP + self.Ki)**3) + 3*C**2*l**3*self.IP**3*self.P/((C + self.Ka)**3*(self.IP + self.Ki)**3)))/self.Vi, 3*C**3*l**2*self.IP**3*self.P*self.fi*(-C + (-C + self.Ct)/self.sigma)/(self.Vi*(C + self.Ka)**3*(self.IP + self.Ki)**3)], [0, 0, 0, 0, -l*self.A, self.A*(-C - self.Kd)]]\n",
      "    \n",
      "    def simulate(self, simulationTime, use_jacobian=True):\n",
      "        #make time array and initial state array for odeint function\n",
      "        t = linspace(0,simulationTime, simulationTime/self.dt)\n",
      "        initial_state = [self.Vs0, self.ns0, self.hs0, self.Vd0, self.C0, self.l0]\n",
      "        try:\n",
      "            if use_jacobian:\n",
      "                y = integrate.odeint(self.model, initial_state, t, Dfun=self.jacobian)\n",
      "            else:\n",
      "                raise Exception() #to be caught be except, so that integration is tried w/out jacobian\n",
      "        except Exception as e:\n",
      "            print \"Running simulation without jacobian.\", e\n",
      "            try:\n",
      "                y = integrate.odeint(self.model, initial_state, t)\n",
      "                print \"nj\"\n",
      "            except Exception as a:\n",
      "                print \"Could not run simulation. \", a\n",
      "\n",
      "        return y.T[0],t"
     ],
     "language": "python",
     "metadata": {
      "code_folding": [],
      "run_control": {
       "breakpoint": false,
       "read_only": false
      }
     },
     "outputs": [],
     "prompt_number": 4
    },
    {
     "cell_type": "code",
     "collapsed": false,
     "input": [
      "#Test BRS Model\n",
      "runtime = 1000.*20\n",
      "i = -10\n",
      "\n",
      "f, ax = plt.subplots(3, sharex=True)\n",
      "\n",
      "neuron = BRSModel()\n",
      "neuron.setVars({'gL':1.3,'eL':-65, 'gnaps':2.4,'Iaps':0})    \n",
      "res = neuron.simulate(runtime)\n",
      "data = pandas.Series(data=res[0], index = res[1])\n",
      "ax[0].plot(data.index/1000., data.values)\n",
      "ax[0].set_title('eL = -65 mV')\n",
      "plt.show()\n",
      "neuron = BRSModel()\n",
      "neuron.setVars({'gL':1.3,'eL':-55, 'gnaps':2.4,'Iaps':-10})    \n",
      "res = neuron.simulate(runtime)\n",
      "data = pandas.Series(data=res[0], index = res[1])\n",
      "ax[1].plot(data.index/1000., data.values)\n",
      "ax[1].set_title('eL = -60 mV')\n",
      "\n",
      "neuron = BRSModel()\n",
      "neuron.setVars({'gL':1.3,'eL':-40, 'gnaps':2.4,'Iaps':-10})    \n",
      "res = neuron.simulate(runtime)\n",
      "data = pandas.Series(data=res[0], index = res[1])\n",
      "ax[2].plot(data.index/1000., data.values)\n",
      "ax[2].set_title('eL = -55 mV')\n",
      "\n",
      "plt.show()"
     ],
     "language": "python",
     "metadata": {},
     "outputs": [
      {
       "output_type": "stream",
       "stream": "stdout",
       "text": [
        "[-60.0, 0.004, 0.33]\n",
        "[-60.0, 0.004, 0.33]"
       ]
      },
      {
       "output_type": "stream",
       "stream": "stdout",
       "text": [
        "\n",
        "[-60.0, 0.004, 0.33]"
       ]
      },
      {
       "output_type": "stream",
       "stream": "stdout",
       "text": [
        "\n"
       ]
      }
     ],
     "prompt_number": 26
    },
    {
     "cell_type": "code",
     "collapsed": false,
     "input": [
      "#Test TB Model\n",
      "runtime = 1000.*20\n",
      "# Two subplots, the axes array is 1-d\n",
      "f, axarr = plt.subplots(3, sharex=True)\n",
      "\n",
      "neuron = TBModel()\n",
      "neuron.setVars({'eL':-55,'gnaps':2.8, 'gL':3.0}) \n",
      "neuron.printVars()\n",
      "res = neuron.simulate(runtime,False)\n",
      "data = pandas.Series(data=res[0], index = res[1])\n",
      "axarr[0].plot(data.index/1000., data.values, label=\"eL = -40 mV\")\n",
      "axarr[0].set_title(\"eL = -55 mV\")\n",
      "\n",
      "neuron = TBModel()\n",
      "neuron.setVars({'eL':-60,'gnaps':2.4, 'gL':1.3}) \n",
      "neuron.printVars()\n",
      "res = neuron.simulate(runtime,False)\n",
      "data = pandas.Series(data=res[0], index = res[1])\n",
      "axarr[1].plot(data.index/1000., data.values, label=\"eL = -55 mV\")\n",
      "axarr[1].set_title(\"eL = -60 mV\")\n",
      "\n",
      "neuron = TBModel()\n",
      "neuron.setVars({'eL':-65,'gnaps':2.4, 'gL':1.3})  \n",
      "neuron.printVars()\n",
      "res = neuron.simulate(runtime,False)\n",
      "data = pandas.Series(data=res[0], index = res[1])\n",
      "axarr[2].plot(data.index/1000., data.values, label=\"eL = -65 mV\")\n",
      "axarr[2].set_title(\"eL = -65 mV\")\n",
      "\n",
      "#plt.legend(loc='best', ncol=2)\n",
      "plt.show()"
     ],
     "language": "python",
     "metadata": {
      "code_folding": [
       0
      ],
      "run_control": {
       "read_only": false
      }
     },
     "outputs": []
    },
    {
     "cell_type": "heading",
     "level": 2,
     "metadata": {
      "heading_collapsed": true
     },
     "source": [
      "P2X Models"
     ]
    },
    {
     "cell_type": "code",
     "collapsed": false,
     "input": [
      "#p2x models\n",
      "class YanModel(TBModel):\n",
      "    \n",
      "    #### P2X7 RECEPTOR ####\n",
      "    # RATE CONSTANTS\n",
      "    # Back rates (ms)**-1\n",
      "    k1 = 0.3e-3 \n",
      "    k3 = 2.4e-3\n",
      "    k5 = 1.58e-3\n",
      "    # Forward rates (ms*M)**-1\n",
      "    k2 = 40000e-3\n",
      "    k4 = 50000.0e-3\n",
      "    k6 = 7000e-3\n",
      "    # Sensitized/unsensitized rates\n",
      "    L1 = 0.0001e-3\n",
      "    L2 = 0.004e-3\n",
      "    L3 = 0.5e-3\n",
      "\n",
      "    # CONDUCTANCE (nS)\n",
      "    #conductance of unsensitized channels\n",
      "    g12 = 15 # nS\n",
      "    #conductance of sensitized channels\n",
      "    g34 = 45 # nS\n",
      "\n",
      "    #P2X7 channel reversal potential\n",
      "    eatp = 0.0 #mV\n",
      "    _initial_state = [-60.0, 0.004, 0.33, -50.0, 0.03, 0.09, 0., 0., 0., 0., 1., 0., 0., 0.,3.2*10**-6]\n",
      "    \n",
      "    def __init__(self, param_dict={}, initial_state = []):\n",
      "        #super(YanModel, self).__init__(param_dict, initial_state)\n",
      "        if len(initial_state) == len(self._initial_state):\n",
      "            self.__dict__['initial_state'] = initial_state\n",
      "        self.setVars(param_dict)\n",
      "    \n",
      "    \n",
      "    def markov_model(self, y, t):\n",
      "        Vs = y[0]\n",
      "        q1 = y[6]\n",
      "        q2 = y[7]\n",
      "        q3 = y[8]\n",
      "        q4 = y[9]\n",
      "        c1 = y[10]\n",
      "        c2 = y[11]\n",
      "        c3 = y[12]\n",
      "        c4 = y[13]\n",
      "        atp = y[14]\n",
      "        \n",
      "        #find dy from Toparikova model\n",
      "        dy = super(YanModel, self).model(y[0:6],t)\n",
      "        \n",
      "        I_atp = (self.g12*(q1+q2)*(Vs-self.eatp) + self.g34*(q3+q4)*(Vs-self.eatp))\n",
      "        #recalculate dVs to include P2X7 current component \n",
      "        dy[0] = ((dy[0] * self.Cms) - I_atp)/self.Cms\n",
      "\n",
      "        #P2X7R EQUATIONS\n",
      "        # states\n",
      "        dq1 = 2.*self.k4*atp*c2 + 3.*self.k5*q2 - (2.*self.k3 + self.k6*atp)*q1\n",
      "        dq2 = self.k6*atp*q1 + self.L2*q3 - (3.*self.k5 + self.L3)*q2\n",
      "        dq3 = self.k2*atp*q4 + self.L3*q2 -(3.*self.k1 + self.L2)*q3\n",
      "        dq4 = 2.*self.k2*atp*c3 + 3.*self.k1*q3 - (2.*self.k1 + self.k2*atp)*q4\n",
      "        dc1 = self.k1*c2 + self.L1*c4 - 3.*self.k2*atp*c1\n",
      "        dc2 = 3.*self.k2*atp*c1 + 2.*self.k3*q1 - (self.k1+2.*self.k4*atp)*c2\n",
      "        dc3 = 3*self.k2*atp*c4 + 2.*self.k1*q4 - (self.k1 + 2.*self.k2*atp)*c3\n",
      "        dc4 = self.k1*c3 - (self.L1 + 3.*self.k2*atp)*c4\n",
      "        \n",
      "        # atp concentration\n",
      "        datp = self._atp_function(atp=atp, t=t)\n",
      "        \n",
      "        dy = dy+[dq1,dq2,dq3,dq4,dc1,dc2,dc3,dc4,datp] \n",
      "        return dy\n",
      "    \n",
      "ks_currents = []\n",
      "nap_curr = []\n",
      "na_curr = []\n",
      "l_curr =[]\n",
      "atp_currents = []\n",
      "dend_curr =[]\n",
      "\n",
      "class BeanModel(TBModel):\n",
      "    \n",
      "    beta_alpha_ratio = 1/4.\n",
      "    _initial_state = [-60.0, 0.004, 0.33, -50.0, 0.03, 0.09, 3.2*10**-6]\n",
      "\n",
      "    '''    \n",
      "    def model(self, y, t):\n",
      "        Vs = y[0]\n",
      "        atp = y[6]\n",
      "        \n",
      "        #find dy from Toparikova model\n",
      "        #dy = super(BeanModel, self).model(y[0:6],t)\n",
      "        #print \"dy_0 = \",dy\n",
      "        \"\"\"\n",
      "        From current-atp relationship directly found in comments of Figure 5\n",
      "        (God only knows the voltage - if I can figure it out, I can divide I_atp by the voltage (or voltage-eatp) \n",
      "        and then multiply by the voltage variable (or Vs-eatp).\n",
      "        \"\"\"\n",
      "        if atp > 1.0:\n",
      "            I_atp = 1./(1.+(2.1/atp))\n",
      "        else:\n",
      "            #k_diss = 0.47\n",
      "            #see comments below for info about k_off and k_on\n",
      "            k_off = 1/(0.11 + .055*exp((-32-Vs)/45))\n",
      "            k_on = 10**7\n",
      "            k_diss = k_off/k_on\n",
      "            G = atp/k_diss\n",
      "            I_atp = G**3*(1+self.beta_alpha_ratio)/(1+3*G+3*G**2+G**3*(1+self.beta_alpha_ratio))\n",
      "            \n",
      "            \"\"\"\n",
      "            From comments of Figure 10 of Bean paper. \n",
      "            k_off equation comes from k_off = 1/(3*tau_off*(alpha/(alpha+beta))), which becomes\n",
      "            k_off = 10**3/(0.11 + .055*exp((-32-Vs)/45)) after substituting the equation for tau_off (units of ms): \n",
      "                    tau_off = 46+23*exp((-32-Vs)/45).\n",
      "            n gives the fraction of open receptors.\n",
      "                    \n",
      "            Note: the units of k_on and k_off are 1/M*s, but since they are divided by each other, I didn't adjust them\n",
      "            to be in milliseconds.\n",
      "            \n",
      "            Note: using other bean equation, since it gives I_atp directly. I could use this one if I knew g_atp, \n",
      "            but I don't and it might be difficult to determine, because Bean is non-specific about which P2X receptor \n",
      "            he is measuring (maybe I could look up all that appear in Sensory Neurons and average them together?).\n",
      "            \"\"\"\n",
      "            #k_on = 10**7\n",
      "            #k_off = 1/(0.11 + .055*exp((-32-Vs)/45))\n",
      "            #G = atp*(k_on/k_off)\n",
      "            #n = (G**3 * (1+beta_alpha_ratio))/(1 + 3*G + G**2 + G**3*(1+beta_alpha_ratio))\n",
      "\n",
      "        I_atp = I_atp*758. #b/c Bean normalized to 758 pA\n",
      "        #recalculate dVs to include P2X current component\n",
      "        \n",
      "        dy = super(BeanModel, self).model(y[0:6],t)\n",
      "        #print 'dy[0] =',dy[0]\n",
      "        dy[0] = dy[0] - (I_atp/self.Cms)\n",
      "        #print dy[0]\n",
      "        # atp concentration\n",
      "        datp = self._atp_function(atp=atp, t=t)\n",
      "        #print datp\n",
      "        dy.append(datp)\n",
      "\n",
      "        return dy\n",
      "    '''\n",
      "    def model(self, y, t):\n",
      "\n",
      "        # Vd = Dendritic membrane voltage, C = Intracellular Ca2+ balance, l = IP3 channel gating variable\n",
      "        Vs,ns,hs,Vd,C,l,atp = y\n",
      "\n",
      "        # SOMATIC FUNCTIONS\n",
      "        minfs = 1/(1+exp((Vs-vm) /sm))\n",
      "        ninfs = 1/(1+exp((Vs-vn) /sn))\n",
      "        minfps = 1/(1+exp((Vs-vmp)/smp))\n",
      "        hinfs = 1/(1+exp((Vs-vh) /sh))\n",
      "\n",
      "        tauns = taunb/cosh((Vs-vn)/(2*sn))\n",
      "        tauhs = tauhb/cosh((Vs-vh)/(2*sh))\n",
      "\n",
      "        # DENDRITIC FUNCTIONS\n",
      "        #Calculate ER Ca\n",
      "        Ce = (Ct - C)/sigma\n",
      "        # Flux of Ca from ER to cytosol(regulated by IP3 receptors)\n",
      "        J_ER_in=(LL + P*(((IP*C*l)/((IP+Ki)*(C+Ka)))**3))*(Ce - C) \n",
      "        # Flux from cytosol back to ER (controlled by SERCA pumps)\n",
      "        J_ER_out=Ve*(C**2)/((Ke**2)+(C**2))\n",
      "        # Activation of calcium current (I_can)\n",
      "        caninf = 1/(1+((Kcan/C)**ncan))\n",
      "\n",
      "        # CURRENT EXPRESSIONS\n",
      "        # currents in Soma\n",
      "        I_nas = gna*(minfs**3)*(1-ns)*(Vs-ena) #sodium current\n",
      "        I_ks = gk*(ns**4)*(Vs-ek) #potassium current\n",
      "        I_naps = gnaps*minfps*hs*(Vs-ena) #persistent sodium current\n",
      "        I_L = gL*(Vs-eL) #pA\n",
      "        I_ds = gc*(Vd-Vs)/k # modification of somatic current due to dendritic current\n",
      "        # currents in Dendrite\n",
      "        I_can = gcan*caninf*(Vd-ena) # calcium current\n",
      "        I_sd = gc*(Vs-Vd)/(1-k) # modification of dendritic current due to somatic current\n",
      "        '''\n",
      "        if atp > 1.0:\n",
      "            I_atp = 1./(1.+(2.1/atp))\n",
      "        else:\n",
      "        '''\n",
      "        #see comments below for info about k_off and k_on\n",
      "        k_off = 1/(0.11 + .055*exp((-32-Vs)/45))\n",
      "        k_on = 10**7\n",
      "        k_diss = k_off/k_on\n",
      "        G = atp/k_diss\n",
      "        I_atp = G**3*(1+beta_alpha_ratio)/(1+3*G+3*G**2+G**3*(1+beta_alpha_ratio))\n",
      "\n",
      "        atp_currents.append(I_atp)\n",
      "        ks_currents.append(I_ks)\n",
      "        nap_curr.append(I_naps)\n",
      "        na_curr.append(I_nas)\n",
      "        l_curr.append(I_L)\n",
      "        dend_curr.append(I_sd)\n",
      "        I_atp = I_atp*758. #b/c Bean normalized to 758 pA\n",
      "    \n",
      "        #### DIFFERENTIAL EQUATIONS\n",
      "        # SOMATIC EQUATIONS\n",
      "        dVs = (-I_ks-I_nas-I_naps-I_L-I_sd-I_atp)/Cms\n",
      "        dns = (ninfs-ns)/tauns\n",
      "        dhs = (hinfs-hs)/tauhs\n",
      "        # DENDRITIC EQUATIONS\n",
      "        dVd = (-I_can-I_ds)/Cmd\n",
      "        dC = (fi/Vi)*( J_ER_in - J_ER_out)\n",
      "        dl = A*( Kd - (C + Kd)*l )\n",
      "        # atp concentration\n",
      "        datp = 0.0\n",
      "\n",
      "        return [dVs, dns, dhs, dVd, dC, dl, datp]\n",
      " \n",
      "    \n",
      "    def jacobian(self,y,t):\n",
      "        Vs,ns,hs,Vd,C,l,atp = y\n",
      "        print \"bean\"\n",
      "\n",
      "        if atp > 1.0:\n",
      "            return [[(-h*self.gnaps/(exp((Vs - self.vmp)/self.smp) + 1) + h*self.gnaps*(Vs - self.ena)*exp((Vs - self.vmp)/self.smp)/(self.smp*(exp((Vs - self.vmp)/self.smp) + 1)**2) - n**4*self.gk - self.gL - self.gc/(-self.k + 1) - self.gna*(-n + 1)/(exp((Vs - self.vm)/self.sm) + 1)**3 + 3*self.gna*(Vs - self.ena)*(-n + 1)*exp((Vs - self.vm)/self.sm)/(self.sm*(exp((Vs - self.vm)/self.sm) + 1)**4))/self.Cms, (-4*n**3*self.gk*(Vs - self.ek) + self.gna*(Vs - self.ena)/(exp((Vs - self.vm)/self.sm) + 1)**3)/self.Cms, -self.gnaps*(Vs - self.ena)/(self.Cms*(exp((Vs - self.vmp)/self.smp) + 1)), self.gc/(self.Cms*(-self.k + 1)), 0, 0, -1591.8/(atp**2*self.Cms*(1.0 + 2.1/atp)**2)], \\\n",
      "                    [(-n + 1/(exp((Vs - self.vn)/self.sn) + 1))*sinh((Vs - self.vn)/(2*self.sn))/(2*self.sn*self.taunb) - exp((Vs - self.vn)/self.sn)*cosh((Vs - self.vn)/(2*self.sn))/(self.sn*self.taunb*(exp((Vs - self.vn)/self.sn) + 1)**2), -cosh((Vs - self.vn)/(2*self.sn))/self.taunb, 0, 0, 0, 0, 0], [(-h + 1/(exp((Vs - self.vh)/self.sh) + 1))*sinh((Vs - self.vh)/(2*self.sh))/(2*self.sh*self.tauhb) - exp((Vs - self.vh)/self.sh)*cosh((Vs - self.vh)/(2*self.sh))/(self.sh*self.tauhb*(exp((Vs - self.vh)/self.sh) + 1)**2), 0, -cosh((Vs - self.vh)/(2*self.sh))/self.tauhb, 0, 0, 0, 0], [self.gc/(self.Cmd*self.k), 0, 0, (-self.gc/self.k - self.gcan/((self.Kcan/C)**self.ncan + 1))/self.Cmd, -self.gcan*self.ncan*(self.Kcan/C)**self.ncan*(Vd - self.ena)/(C*self.Cmd*((self.Kcan/C)**self.ncan + 1)**2), 0, 0], [0, 0, 0, 0, self.fi*(2*C**3*self.Ve/(C**2 + self.Ke**2)**2 - 2*C*self.Ve/(C**2 + self.Ke**2) + (-1 - 1/self.sigma)*(C**3*l**3*self.IP**3*self.P/((C + self.Ka)**3*(self.IP + self.Ki)**3) + self.LL) + (-C + (-C + self.Ct)/self.sigma)*(-3*C**3*l**3*self.IP**3*self.P/((C + self.Ka)**4*(self.IP + self.Ki)**3) + 3*C**2*l**3*self.IP**3*self.P/((C + self.Ka)**3*(self.IP + self.Ki)**3)))/self.Vi, 3*C**3*l**2*self.IP**3*self.P*self.fi*(-C + (-C + self.Ct)/self.sigma)/(self.Vi*(C + self.Ka)**3*(self.IP + self.Ki)**3), 0], [0, 0, 0, 0, -l*self.A, self.A*(-C - self.Kd), 0], [0, 0, 0, 0, 0, 0, 0]]\n",
      "        else:\n",
      "            return [[(-758.0*atp**3*(self.beta_alpha_ratio + 1)*(-3.66666666666667e-10*atp**3*(self.beta_alpha_ratio + 1)*exp(-Vs/45 - 32/45)/(5.5e-9*exp(-Vs/45 - 32/45) + 1.1e-8)**4 - 7.33333333333333e-10*atp**2*exp(-Vs/45 - 32/45)/(5.5e-9*exp(-Vs/45 - 32/45) + 1.1e-8)**3 - 3.66666666666667e-10*atp*exp(-Vs/45 - 32/45)/(5.5e-9*exp(-Vs/45 - 32/45) + 1.1e-8)**2)/((5.5e-9*exp(-Vs/45 - 32/45) + 1.1e-8)**3*(atp**3*(self.beta_alpha_ratio + 1)/(5.5e-9*exp(-Vs/45 - 32/45) + 1.1e-8)**3 + 3*atp**2/(5.5e-9*exp(-Vs/45 - 32/45) + 1.1e-8)**2 + 3*atp/(5.5e-9*exp(-Vs/45 - 32/45) + 1.1e-8) + 1)**2) - 2.77933333333333e-7*atp**3*(self.beta_alpha_ratio + 1)*exp(-Vs/45 - 32/45)/((5.5e-9*exp(-Vs/45 - 32/45) + 1.1e-8)**4*(atp**3*(self.beta_alpha_ratio + 1)/(5.5e-9*exp(-Vs/45 - 32/45) + 1.1e-8)**3 + 3*atp**2/(5.5e-9*exp(-Vs/45 - 32/45) + 1.1e-8)**2 + 3*atp/(5.5e-9*exp(-Vs/45 - 32/45) + 1.1e-8) + 1)) - h*self.gnaps/(exp((Vs - self.vmp)/self.smp) + 1) + h*self.gnaps*(Vs - self.ena)*exp((Vs - self.vmp)/self.smp)/(self.smp*(exp((Vs - self.vmp)/self.smp) + 1)**2) - n**4*self.gk - self.gL - self.gc/(-self.k + 1) - self.gna*(-n + 1)/(exp((Vs - self.vm)/self.sm) + 1)**3 + 3*self.gna*(Vs - self.ena)*(-n + 1)*exp((Vs - self.vm)/self.sm)/(self.sm*(exp((Vs - self.vm)/self.sm) + 1)**4))/self.Cms, (-4*n**3*self.gk*(Vs - self.ek) + self.gna*(Vs - self.ena)/(exp((Vs - self.vm)/self.sm) + 1)**3)/self.Cms, -self.gnaps*(Vs - self.ena)/(self.Cms*(exp((Vs - self.vmp)/self.smp) + 1)), self.gc/(self.Cms*(-self.k + 1)), 0, 0, (-758.0*atp**3*(self.beta_alpha_ratio + 1)*(-3*atp**2*(self.beta_alpha_ratio + 1)/(5.5e-9*exp(-Vs/45 - 32/45) + 1.1e-8)**3 - 6*atp/(5.5e-9*exp(-Vs/45 - 32/45) + 1.1e-8)**2 - 3/(5.5e-9*exp(-Vs/45 - 32/45) + 1.1e-8))/((5.5e-9*exp(-Vs/45 - 32/45) + 1.1e-8)**3*(atp**3*(self.beta_alpha_ratio + 1)/(5.5e-9*exp(-Vs/45 - 32/45) + 1.1e-8)**3 + 3*atp**2/(5.5e-9*exp(-Vs/45 - 32/45) + 1.1e-8)**2 + 3*atp/(5.5e-9*exp(-Vs/45 - 32/45) + 1.1e-8) + 1)**2) - 2274.0*atp**2*(self.beta_alpha_ratio + 1)/((5.5e-9*exp(-Vs/45 - 32/45) + 1.1e-8)**3*(atp**3*(self.beta_alpha_ratio + 1)/(5.5e-9*exp(-Vs/45 - 32/45) + 1.1e-8)**3 + 3*atp**2/(5.5e-9*exp(-Vs/45 - 32/45) + 1.1e-8)**2 + 3*atp/(5.5e-9*exp(-Vs/45 - 32/45) + 1.1e-8) + 1)))/self.Cms], [(-n + 1/(exp((Vs - self.vn)/self.sn) + 1))*sinh((Vs - self.vn)/(2*self.sn))/(2*self.sn*self.taunb) - exp((Vs - self.vn)/self.sn)*cosh((Vs - self.vn)/(2*self.sn))/(self.sn*self.taunb*(exp((Vs - self.vn)/self.sn) + 1)**2), -cosh((Vs - self.vn)/(2*self.sn))/self.taunb, 0, 0, 0, 0, 0], [(-h + 1/(exp((Vs - self.vh)/self.sh) + 1))*sinh((Vs - self.vh)/(2*self.sh))/(2*self.sh*self.tauhb) - exp((Vs - self.vh)/self.sh)*cosh((Vs - self.vh)/(2*self.sh))/(self.sh*self.tauhb*(exp((Vs - self.vh)/self.sh) + 1)**2), 0, -cosh((Vs - self.vh)/(2*self.sh))/self.tauhb, 0, 0, 0, 0], [self.gc/(self.Cmd*self.k), 0, 0, (-self.gc/self.k - self.gcan/((self.Kcan/C)**self.ncan + 1))/self.Cmd, -self.gcan*self.ncan*(self.Kcan/C)**self.ncan*(Vd - self.ena)/(C*self.Cmd*((self.Kcan/C)**self.ncan + 1)**2), 0, 0], [0, 0, 0, 0, self.fi*(2*C**3*self.Ve/(C**2 + self.Ke**2)**2 - 2*C*self.Ve/(C**2 + self.Ke**2) + (-1 - 1/self.sigma)*(C**3*l**3*self.IP**3*self.P/((C + self.Ka)**3*(self.IP + self.Ki)**3) + self.LL) + (-C + (-C + self.Ct)/self.sigma)*(-3*C**3*l**3*self.IP**3*self.P/((C + self.Ka)**4*(self.IP + self.Ki)**3) + 3*C**2*l**3*self.IP**3*self.P/((C + self.Ka)**3*(self.IP + self.Ki)**3)))/self.Vi, 3*C**3*l**2*self.IP**3*self.P*self.fi*(-C + (-C + self.Ct)/self.sigma)/(self.Vi*(C + self.Ka)**3*(self.IP + self.Ki)**3), 0], [0, 0, 0, 0, -l*self.A, self.A*(-C - self.Kd), 0], [0, 0, 0, 0, 0, 0, 0]]\n",
      "    #'''\n",
      "    def simulate(self, simulationTime, *args, **kwargs): \n",
      "        return super(BeanModel, self).simulate(simulationTime, use_jacobian=False, *args, **kwargs)"
     ],
     "language": "python",
     "metadata": {
      "code_folding": [
       0
      ],
      "run_control": {
       "read_only": false
      }
     },
     "outputs": [],
     "prompt_number": 39
    },
    {
     "cell_type": "code",
     "collapsed": false,
     "input": [
      "#change the variable value, solve, and store in a Series that is named\n",
      "#according to the value of the variable that was changed.\n",
      "t_end = 1000*60.\n",
      "\n",
      "sbn_bean = BeanModel(initial_state=[-60.0, 0.004, 0.33, -50.0, 0.03, 0.09, 3.2e-6])\n",
      "sbn_bean.setVars(param)\n",
      "simulation_res = sbn_bean.simulate(t_end)\n",
      "s = pandas.Series(data = simulation_res[0][0], index = simulation_res[1])\n",
      "#atp=pandas.Series(data=y[-1],index=t)\n",
      "\n",
      "#compare ATP current with other currents\n",
      "summation = []\n",
      "for i in zip(ks_currents,nap_curr,na_curr,l_curr,dend_curr):\n",
      "    summation.append(i[0]+i[1]+i[2]+i[3]+i[4])\n",
      "plt.plot(summation)\n",
      "plt.plot(atp_currents)\n",
      "plt.show()"
     ],
     "language": "python",
     "metadata": {
      "code_folding": [
       0
      ],
      "run_control": {
       "read_only": false
      }
     },
     "outputs": []
    },
    {
     "cell_type": "heading",
     "level": 1,
     "metadata": {
      "heading_collapsed": false
     },
     "source": [
      "Printing Functions"
     ]
    },
    {
     "cell_type": "code",
     "collapsed": false,
     "input": [
      "def print_timing(dataframe, real_time, path, val_name, model, params):\n",
      "\n",
      "    time_millisecs = dataframe.index[-1]\n",
      "    time_seconds = str(int(round(time_millisecs/1000.)))\n",
      "    '''\n",
      "    file_name_parts = [\"timing\", val_name, model, \"sec\"+ time_seconds]\n",
      "    file_name = \"-\".join((file_name_parts+[params] if params else file_name_parts)) + \".txt\"\n",
      "    file_path = os.path.join(path, file_name)\n",
      "    print file_path\n",
      "    '''\n",
      "    file_path = NMResources.make_filepaths('timing', model, time_millisecs, params, \"txt\", path)\n",
      "    #get values for parameter from dataframe\n",
      "    labels = [str(col).strip(\"u\") for col in dataframe.columns]\n",
      "    #print times and parameter vals formatted in two cols\n",
      "    try:\n",
      "        with open(file_path,\"w\") as f:\n",
      "            \n",
      "            format_str = \"{:<9s}: {:^20}\\n\"\n",
      "            f.write(format_str.format(val_name,\"duration (s)\"))\n",
      "            f.write(\"------------------------------------\\n\")\n",
      "            #print labels, real_time\n",
      "            for info in zip(labels,real_time):\n",
      "                f.write(format_str.format(str(round(float(info[0]),3)), info[1]))\n",
      "            print \"Printing \", file_path\n",
      "    except Exception as e:\n",
      "        print \"Could not save timings at \", file_path, \" because: \",e\n",
      "        \n",
      "def print_voltages(data, path, val_name, model, params):\n",
      "    \n",
      "    time_millisecs = data.index[-1]\n",
      "    '''\n",
      "    time_seconds = str(int(round(time_millisecs/1000.)))\n",
      "    file_name_parts = [\"voltage\", val_name, model, \"sec\"+ time_seconds]\n",
      "    \n",
      "    file_name = \"-\".join((file_name_parts+[params] if params else file_name_parts)) + \".txt\"\n",
      "    file_path = os.path.join(path, file_name)\n",
      "    print file_path\n",
      "    '''\n",
      "    file_path = NMResources.make_filepaths('voltage', model, time_millisecs, params, \"txt\", path)\n",
      "    try:\n",
      "        data.to_csv(file_path)\n",
      "        print \"Printing \", file_path\n",
      "    except Exception as e:\n",
      "        print \"Could not print voltages at \", file_path, \"because \", e\n",
      "        \n",
      "#Unittest print_voltages and print_timing\n",
      "res_folder = 'NMResults'\n",
      "path = os.path.join(os.getcwd(), res_folder)\n",
      "dataframe = pandas.DataFrame(random.rand(3,4), range(0,3), range(0,4))\n",
      "\n",
      "p = \"-\".join([key+str(val)for key,val in {'gL':2.3, 'gnap':5.6}.items()]).replace('.','_')\n",
      "print_timing(dataframe, random.rand(4), path, 'gL', BRSModel.__name__,{'gL':2.3, 'gnap':5.6})\n",
      "print_voltages(dataframe, path, 'gL', BRSModel.__name__,{'gL':2.3, 'gnap':5.6})"
     ],
     "language": "python",
     "metadata": {
      "run_control": {
       "read_only": false
      }
     },
     "outputs": [
      {
       "output_type": "stream",
       "stream": "stdout",
       "text": [
        "Printing  C:\\Users\\mfinemorris\\repos\\WilsonLab\\NMResults\\timing-BRSModel-sec0-gL2_3-gnap5_6.txt\n",
        "Printing  C:\\Users\\mfinemorris\\repos\\WilsonLab\\NMResults\\voltage-BRSModel-sec0-gL2_3-gnap5_6.txt\n"
       ]
      }
     ],
     "prompt_number": 5
    },
    {
     "cell_type": "heading",
     "level": 1,
     "metadata": {
      "heading_collapsed": false,
      "input_collapsed": false
     },
     "source": [
      "Functions for running simulations"
     ]
    },
    {
     "cell_type": "code",
     "collapsed": false,
     "input": [
      "#generic function to time the passed-in function\n",
      "def time_it(function,*args, **kwargs):\n",
      "    from time import clock\n",
      "    start = clock()\n",
      "    results = function(*args, **kwargs)\n",
      "    stop = clock()\n",
      "    return results, stop-start\n",
      "\n",
      "\n",
      "def run_simulation(Model, param_name, param_val, custom_params, t_end, *args, **kwargs):\n",
      "    \"\"\"\n",
      "    param_changes is a dict with param_name: param_value, \n",
      "    exper_param is the parameter that is being tested. \n",
      "    If you test two at once, you can only specify one as the exper_param.\n",
      "    The other must go in param_changes.\n",
      "    \"\"\"\n",
      "    custom_params[param_name] = param_val\n",
      "    cell = Model()\n",
      "    cell.setVars(custom_params)\n",
      "    res = cell.simulate(t_end, *args, **kwargs)\n",
      "    #remove param_name, param_val from dict\n",
      "    del custom_params[param_name]\n",
      "    return pandas.Series(data = res[0], index = res[1], name = param_val)\n",
      "        \n",
      "    \n",
      "def run_and_time_simulation(param_name, param_array, t_end, Model = BRSModel, custom_params={}):\n",
      "        timing_ar = []\n",
      "        sim_data_ar = []\n",
      "        \n",
      "        for val in param_array:\n",
      "            #print param_name\n",
      "            title = param_name + \" = \" + str(val) + \"_\"\n",
      "            results, timing_data = time_it(run_simulation, param_name = param_name, param_val = val, custom_params = custom_params,  Model = Model, t_end = t_end)\n",
      "            timing_ar.append(timing_data)\n",
      "            sim_data_ar.append(results)\n",
      "            print \",\",val,\n",
      "        print\n",
      "        sim_dataframe = pandas.concat(sim_data_ar, axis=1)\n",
      "        custom_params[param_name]=None\n",
      "        print_timing(sim_dataframe, timing_ar, folderPath, param_name, (Model.__name__), custom_params)\n",
      "        print_voltages(sim_dataframe, folderPath, param_name, (Model.__name__), custom_params)\n",
      "        return sim_dataframe\n",
      "        \n",
      "res_folder = 'NMResults'\n",
      "folderPath = os.path.join(os.getcwd(), res_folder)\n",
      "tEnd = 1000.*60.*22. #22 minutes\n",
      "gnap = map(lambda x: round(x,1), linspace(2.8,4.2,(4.2-2.8)/.2))\n",
      "gl = map(lambda x: round(x,1), linspace(2.5,4.5,(4.5-2.5)/.2))\n",
      "ip3 = [.9,.95,1.0,1.2]\n",
      "#df = run_and_time_simulation('gc',[.1,.2], 1000*60., Model=TBModel, custom_params={'IP':.9})"
     ],
     "language": "python",
     "metadata": {},
     "outputs": [],
     "prompt_number": 6
    },
    {
     "cell_type": "code",
     "collapsed": false,
     "input": [
      "#plot results\n",
      "def make_subplots(df, num=0, key=''):\n",
      "    #key is the constant value\n",
      "    font = {'size'   : 8}\n",
      "    matplotlib.rc('font', **font)\n",
      "    \n",
      "    df = df.sort_index(axis = 1)\n",
      "    #make plot title and file name\n",
      "    if key:\n",
      "        plot_title = \", \"+val_name+\"=\"+str(key)\n",
      "        print plot_title\n",
      "        \n",
      "    else:\n",
      "        plot_title = ''\n",
      "    plot_file = NMResources.make_filepaths(\"plot\", (Model.__name__), tEnd, {primary_val:'',val_name:key},extension=\"png\",path=folderPath)\n",
      "    print plot_file\n",
      "\n",
      "    fig = plt.figure(num)\n",
      "    fig.subplots_adjust(hspace=0.1)\n",
      "    num_subplots = len(df.columns)\n",
      "    ax = None\n",
      "    for num, key in enumerate(df,1):\n",
      "        if ax:\n",
      "            ax = plt.subplot(num_subplots,1,num,sharex=ax, sharey=ax)\n",
      "        else:\n",
      "            ax = plt.subplot(num_subplots,1,num)\n",
      "            \n",
      "        plt.plot(df.index, df[key])\n",
      "        plt.title(primary_val+\"=\"+str(key)+plot_title)\n",
      "        plt.ylabel('Vmembrane (mV)')\n",
      "        plt.tight_layout()\n",
      "        print \"\\t\", key\n",
      "    print key\n",
      "    plt.xlabel('Time (ms)')\n",
      "    #plt.savefig(plot_file)"
     ],
     "language": "python",
     "metadata": {},
     "outputs": [],
     "prompt_number": 7
    },
    {
     "cell_type": "heading",
     "level": 1,
     "metadata": {},
     "source": [
      "Runs"
     ]
    },
    {
     "cell_type": "markdown",
     "metadata": {},
     "source": [
      "Make the directory to store simulation traces. Operation will fail if the directory already exists. "
     ]
    },
    {
     "cell_type": "code",
     "collapsed": false,
     "input": [
      "parent_dir = os.getcwd()\n",
      "res_folder = 'NMResults'\n",
      "folderPath = os.path.join(parent_dir, res_folder)\n",
      "utility.mkdir_p(folderPath) #try to make the directory. Will Fail if folder already exists."
     ],
     "language": "python",
     "metadata": {},
     "outputs": [],
     "prompt_number": 8
    },
    {
     "cell_type": "markdown",
     "metadata": {},
     "source": [
      "How many milliseconds should be simulated?"
     ]
    },
    {
     "cell_type": "code",
     "collapsed": false,
     "input": [
      "tEnd = 1000.*60.*22. #time in milliseconds"
     ],
     "language": "python",
     "metadata": {},
     "outputs": [],
     "prompt_number": 16
    },
    {
     "cell_type": "code",
     "collapsed": false,
     "input": [
      "gnap = map(lambda x: round(x,1), linspace(2.8,4.2,(4.2-2.8)/.2))\n",
      "gl = map(lambda x: round(x,1), linspace(2.5,4.5,(4.5-2.5)/.2))\n",
      "ip3 = [.9,.95,.955,1.0,1.2]\n",
      "print \"gnaps:{}, gL:{}, IP:{}\".format(gnap, gl, ip3)"
     ],
     "language": "python",
     "metadata": {},
     "outputs": [
      {
       "output_type": "stream",
       "stream": "stdout",
       "text": [
        "gnaps:[2.8, 3.0, 3.3, 3.5, 3.7, 4.0, 4.2], gL:[2.5, 2.7, 2.9, 3.2, 3.4, 3.6, 3.8, 4.1, 4.3, 4.5], IP:[0.9, 0.95, 0.955, 1.0, 1.2]\n"
       ]
      }
     ],
     "prompt_number": 7
    },
    {
     "cell_type": "heading",
     "level": 2,
     "metadata": {},
     "source": [
      "General Runs"
     ]
    },
    {
     "cell_type": "markdown",
     "metadata": {},
     "source": [
      "Model should be one of the following : BRSModel, TBModel, BeanModel, or YanModel\n",
      "    param_changes should be a dictionary of 'model variable names' : desired_val, i.e. `{'gnaps':3.4}`. You can change multiple variables at a time here, but should only provide one value per variable. So `{'gnaps':3.4, 'gL':4.0}` is fine, but `{'gnaps':3.4, 'gnaps':4.0}` or `{'gnaps':3.4,4.0}` may not work the way you expect.\n",
      "\n",
      "This is code that was originally in the cell below:\n",
      "```python\n",
      "Model = BRSModel\n",
      "param_changes = {}\n",
      "key = ''\n",
      "values = []\n",
      "run_and_time_simulation(key, values, tEnd, Model, param_changes)\n",
      "```"
     ]
    },
    {
     "cell_type": "code",
     "collapsed": false,
     "input": [
      "Model = BRSModel\n",
      "param_changes = {}\n",
      "key = ''\n",
      "values = []"
     ],
     "language": "python",
     "metadata": {},
     "outputs": [],
     "prompt_number": 11
    },
    {
     "cell_type": "markdown",
     "metadata": {},
     "source": [
      "Run the simulation"
     ]
    },
    {
     "cell_type": "code",
     "collapsed": false,
     "input": [
      "run_and_time_simulation(key, values, tEnd, Model, param_changes)"
     ],
     "language": "python",
     "metadata": {},
     "outputs": []
    },
    {
     "cell_type": "heading",
     "level": 2,
     "metadata": {},
     "source": [
      "Vary gc (the conductance variable for the link between soma and dendrite.)"
     ]
    },
    {
     "cell_type": "code",
     "collapsed": false,
     "input": [
      "primary_val,primary_vals = 'eL', [-55,-60,-65]\n",
      "Model = BRSModel#TBModel #any of the availiable models, except for BRS\n",
      "val_name, vals = '',[]\n",
      "#val_name, vals = 'gc',[.2,.5,1.0,1.5,1.8] #any other variable you want to vary. Only one additional variable at a time please!\n",
      "#val_name, vals = 'IP',[.9,.95,1.0,1.2]"
     ],
     "language": "python",
     "metadata": {},
     "outputs": [],
     "prompt_number": 17
    },
    {
     "cell_type": "code",
     "collapsed": false,
     "input": [
      "#change nothing below this line\n",
      "#this will return membrance potentials for each element of primary_vals\n",
      "Vmembrane = {}\n",
      "if len(vals) == 0:\n",
      "    temp = run_and_time_simulation(primary_val, primary_vals, tEnd, Model)\n",
      "else:\n",
      "    for val in vals:\n",
      "        temp = run_and_time_simulation(primary_val, primary_vals, tEnd, Model, {val_name:val})\n",
      "        Vmembrane[val] = temp"
     ],
     "language": "python",
     "metadata": {},
     "outputs": [
      {
       "output_type": "stream",
       "stream": "stdout",
       "text": [
        ", -55 "
       ]
      },
      {
       "output_type": "stream",
       "stream": "stdout",
       "text": [
        ", -60 "
       ]
      },
      {
       "output_type": "stream",
       "stream": "stdout",
       "text": [
        ", -65\n",
        "Printing "
       ]
      },
      {
       "output_type": "stream",
       "stream": "stdout",
       "text": [
        " C:\\Users\\mfinemorris\\repos\\WilsonLab\\NMResults\\timing-BRSModel-sec1320-eL.txt\n",
        "Printing "
       ]
      },
      {
       "output_type": "stream",
       "stream": "stdout",
       "text": [
        " C:\\Users\\mfinemorris\\repos\\WilsonLab\\NMResults\\voltage-BRSModel-sec1320-eL.txt\n"
       ]
      }
     ],
     "prompt_number": 18
    },
    {
     "cell_type": "code",
     "collapsed": false,
     "input": [
      "save = False\n",
      "\n",
      "if len(Vmembrane) == 0:\n",
      "    make_subplots(temp,0,'')\n",
      "    plt.show()\n",
      "else:\n",
      "    for num, key in enumerate(Vmembrane):\n",
      "        df = Vmembrane[key]#.iloc[0:50000]\n",
      "        #print df\n",
      "        make_subplots(df,num,key)\n",
      "        print key\n",
      "\n",
      "plt.show()"
     ],
     "language": "python",
     "metadata": {},
     "outputs": [
      {
       "output_type": "stream",
       "stream": "stdout",
       "text": [
        "C:\\Users\\mfinemorris\\repos\\WilsonLab\\NMResults\\plot-BRSModel-sec1320--eL.png\n",
        "\t"
       ]
      },
      {
       "output_type": "stream",
       "stream": "stdout",
       "text": [
        "-65\n",
        "\t"
       ]
      },
      {
       "output_type": "stream",
       "stream": "stdout",
       "text": [
        "-60\n",
        "\t"
       ]
      },
      {
       "output_type": "stream",
       "stream": "stdout",
       "text": [
        "-55\n",
        "-55\n"
       ]
      }
     ],
     "prompt_number": 20
    },
    {
     "cell_type": "heading",
     "level": 2,
     "metadata": {},
     "source": [
      "Vary gnaps"
     ]
    },
    {
     "cell_type": "code",
     "collapsed": false,
     "input": [
      "Model = BRSModel\n",
      "param_changes = {}\n",
      "\n",
      "run_and_time_simulation('gnaps', gnap, tEnd, Model, param_changes)"
     ],
     "language": "python",
     "metadata": {},
     "outputs": []
    },
    {
     "cell_type": "heading",
     "level": 2,
     "metadata": {},
     "source": [
      "Vary gL"
     ]
    },
    {
     "cell_type": "code",
     "collapsed": false,
     "input": [
      "Model = BRSModel\n",
      "param_changes = {}\n",
      "\n",
      "run_and_time_simulation('gL', gl, tEnd, Model, param_changes)"
     ],
     "language": "python",
     "metadata": {},
     "outputs": []
    },
    {
     "cell_type": "code",
     "collapsed": false,
     "input": [
      "#vary [IP3] and gL in Toporikova model\n",
      "start = clock()\n",
      "for val in gl:\n",
      "    run_and_time_simulation('IP', [.9,.95,1.0,1.2], tEnd, Model=TBModel, custom_params={'gL':val})\n",
      "print \"\"\n",
      "print \"\\nTotal Time:\", clock()-start"
     ],
     "language": "python",
     "metadata": {},
     "outputs": []
    },
    {
     "cell_type": "heading",
     "level": 2,
     "metadata": {},
     "source": [
      "Vary [IP3] and gnaps"
     ]
    },
    {
     "cell_type": "code",
     "collapsed": false,
     "input": [
      "#vary [IP3] and gnaps in Toporikova model\n",
      "start = clock()\n",
      "for val in gnap:\n",
      "    run_and_time_simulation('IP', [.9,.95,1.0,1.2], tEnd, Model=TBModel, custom_params={'gnaps':val})\n",
      "print \"\"\n",
      "print \"\\nTotal Time:\", clock()-start"
     ],
     "language": "python",
     "metadata": {},
     "outputs": []
    },
    {
     "cell_type": "heading",
     "level": 1,
     "metadata": {},
     "source": [
      "STOP! Here there be monsters: I can vouch for the functionality of nothing below this point!"
     ]
    },
    {
     "cell_type": "heading",
     "level": 1,
     "metadata": {},
     "source": [
      "Misc"
     ]
    },
    {
     "cell_type": "code",
     "collapsed": false,
     "input": [
      "#Download from file\n",
      "folder = '\\Users\\mfinemorris\\Desktop\\Parallel Model Code\\Results'\n",
      "file_name = 'voltages-IP-TBModel-sec60-gL4-5_gNaP4-2.csv'\n",
      "file_name = 'voltages-gNaP-BRSModel-sec60-gL4-5.csv'\n",
      "file_name = 'timing-IP-TBModel-sec60-gL4_5.txt'\n",
      "\n",
      "df1 = pd.DataFrame.from_csv(os.path.join(folder,'voltage-IP-TBModel-sec60-gL2_5.txt'))\n",
      "df2 = pd.DataFrame.from_csv(os.path.join(folder,'voltage-IP-TBModel-sec60-gL4_5.txt'))\n",
      "df1.columns"
     ],
     "language": "python",
     "metadata": {},
     "outputs": []
    },
    {
     "cell_type": "code",
     "collapsed": false,
     "input": [
      "df1.columns.values.tolist()"
     ],
     "language": "python",
     "metadata": {},
     "outputs": []
    },
    {
     "cell_type": "code",
     "collapsed": false,
     "input": [
      "#plot_voltage(df.index, df.values.T[1])\n",
      "plot_voltage(df1.index, df1.values, {'gL':4.5},df1.columns.values.tolist())\n",
      "plt.show()\n",
      "plot_voltage(df2.index, df2.values, {'gL':4.1}, df2.columns.values.tolist())\n",
      "plt.show()"
     ],
     "language": "python",
     "metadata": {},
     "outputs": []
    },
    {
     "cell_type": "heading",
     "level": 1,
     "metadata": {},
     "source": [
      "Summary Table of Runs"
     ]
    },
    {
     "cell_type": "code",
     "collapsed": false,
     "input": [
      "debug = False\n",
      "import re\n",
      "import itertools\n",
      "import pandas as pd\n",
      "import numpy as np\n",
      "#### read in several files and organize them in a dataframe\n",
      "results_folder = os.path.join(os.getcwd(), 'Results')\n",
      "data_file_base = 'voltage-IP-TBModel-sec60-gL'\n",
      "\n",
      "#get all files with data_file_base\n",
      "results_dir_contents = os.listdir(results_folder)\n",
      "matching_files =  [data_file for data_file in results_dir_contents if re.search(data_file_base, data_file)]\n",
      "print len(matching_files), matching_files\n",
      "\n",
      "#analyze matching files for parameter info\n",
      "param2 = {}\n",
      "data = {}\n",
      "\n",
      "    #extract var names\n",
      "file_info = matching_files[0].partition('.')[0].split(\"-\") #remove extension from filename and split filename into parts\n",
      "for i in file_info[4:]:\n",
      "    param2[re.sub(\"[^A-z]\", \"\", i).replace(\"_\",\"\")] = None #extract secondary parameter names from file name\n",
      "\n",
      "for data_file in matching_files:\n",
      "    try:\n",
      "        #df = pd.DataFrame.from_csv(os.path.join(results_folder, data_file))\n",
      "        print \"success\"\n",
      "    except Exception as e:\n",
      "        print e\n",
      "        continue\n",
      "        \n",
      "    #data_file = 'voltage-TBModel-sec300-gL-IP-gnaps3_4-taunb200_3'\n",
      "    #file_info = data_file.partition('.')[0].split(\"-\") #remove extension from filename and split filename into parts\n",
      "    #data_file.find()\n",
      "    for key in param2:\n",
      "        try:\n",
      "            ii = data_file.index(key)\n",
      "        except ValueError as e:\n",
      "            continue\n",
      "        data_file.sub()\n",
      "        param_val = re.sub(\"[^0-9.]\", \"\", i.replace(\"_\",\".\")) #extract secondary parameter from file name\n",
      "    print param_val\n",
      "    #get all the parameters\n",
      "    #for i in file_info[4:]:\n",
      "    '''\n",
      "        param_name = re.sub(\"[^A-z]\", \"\", i).replace(\"_\",\"\") #extract secondary parameter from file name\n",
      "        param_val = re.sub(\"[^0-9.]\", \"\", i.replace(\"_\",\".\")) #extract secondary parameter from file name\n",
      "        try:\n",
      "            param2[param_name].append(param_val)\n",
      "        except:\n",
      "            param2[param_name] = [param_val]\n",
      "        print param2[param_name]\n",
      "        data[param_val] = (df)\n",
      "    '''\n",
      "    \n",
      "param2"
     ],
     "language": "python",
     "metadata": {},
     "outputs": []
    },
    {
     "cell_type": "code",
     "collapsed": false,
     "input": [
      " import inspect\n",
      "inspect.getsourcefile(__import__)"
     ],
     "language": "python",
     "metadata": {},
     "outputs": []
    },
    {
     "cell_type": "code",
     "collapsed": false,
     "input": [
      "import itertools\n",
      "#indicies of loaded dataframes   \n",
      "param1 =  dataframes[0].columns.values\n",
      "param2_v = param2.values()[0]\n",
      "p = itertools.product(param2_v,param1)\n",
      "print p\n",
      "cols = pd.MultiIndex.from_tuples([i for i in p], names=param2.keys()+['IP'])\n",
      "print cols\n",
      "print dataframes[0]\n",
      "df = pd.DataFrame(index=dataframes[0].index, columns = cols)\n",
      "i=0\n",
      "for key in param2:\n",
      "    df[key] = dataframes[i].values()\n",
      "    i+=1\n",
      "print df\n",
      "#pd.DataFrame(data=dataframes.values, index = dataframes)\n",
      "#print index\n",
      "#print pd.concat(dataframes)\n",
      "#load in all \n"
     ],
     "language": "python",
     "metadata": {},
     "outputs": []
    },
    {
     "cell_type": "heading",
     "level": 1,
     "metadata": {
      "heading_collapsed": false
     },
     "source": [
      "Setup Parallel System"
     ]
    },
    {
     "cell_type": "heading",
     "level": 2,
     "metadata": {
      "heading_collapsed": false
     },
     "source": [
      "Start Engines and Controller"
     ]
    },
    {
     "cell_type": "code",
     "collapsed": false,
     "input": [
      "#parallelized version\n",
      "from IPython.parallel import Client\n",
      "\n",
      "#set up client and view\n",
      "c = Client(profile='default')\n",
      "print c.ids\n",
      "all_engines = c[:]\n",
      "\n",
      "#import necessary libraries to each engine\n",
      "with all_engines.sync_imports():\n",
      "    from scipy import integrate\n",
      "    from pandas import Series\n",
      "    import pandas as pd\n",
      "    from time import clock\n",
      "    from numpy import exp, cosh, sinh, linspace\n",
      "    import sympy as spy\n",
      "    from sympy import ImmutableMatrix\n",
      "    import os\n",
      "\n",
      "# Create view. Load balanced view will allocate tasks automatically.\n",
      "lbv = c.load_balanced_view()\n",
      "lbv.block = True   "
     ],
     "language": "python",
     "metadata": {
      "code_folding": [],
      "run_control": {
       "breakpoint": false,
       "read_only": false
      }
     },
     "outputs": []
    },
    {
     "cell_type": "heading",
     "level": 2,
     "metadata": {
      "heading_collapsed": false
     },
     "source": [
      "Optional: Test that parallelization is working"
     ]
    },
    {
     "cell_type": "code",
     "collapsed": false,
     "input": [
      "# testing parallelization\n",
      "def test_parallelization(all_engines):\n",
      "    \n",
      "    test_multiplier=3\n",
      "    test_func = lambda x, test_multiplier=test_multiplier: exp(x*test_multiplier)\n",
      "    \n",
      "    all_engines.push(dict(\n",
      "        test_multiplier = test_multiplier,\n",
      "    ))\n",
      "    try:\n",
      "        p_ans = lbv.map(test_func, [1,2,3])\n",
      "        s_ans = map(test_func, [1,2,3])\n",
      "        if p_ans == s_ans:\n",
      "            return True\n",
      "    except Exception as e:\n",
      "        print e\n",
      "        raise Exception(\"Parallelization failed.\")\n",
      "\n",
      "test_parallelization(all_engines)"
     ],
     "language": "python",
     "metadata": {
      "code_folding": [
       0
      ],
      "run_control": {
       "read_only": false
      }
     },
     "outputs": []
    },
    {
     "cell_type": "heading",
     "level": 1,
     "metadata": {
      "heading_collapsed": false
     },
     "source": [
      "Parallel Functions"
     ]
    },
    {
     "cell_type": "code",
     "collapsed": false,
     "input": [
      "try:    \n",
      "    all_engines.push(dict(\n",
      "        param = param,\n",
      "        BRSModel = BRSModel,\n",
      "        TBModel = TBModel,\n",
      "        P2XModel = P2XModel,\n",
      "        YanModel = YanModel,\n",
      "        BeanModel = BeanModel,\n",
      "        I_can_model = I_can_model,\n",
      "        P2X7_model = P2X7_model,\n",
      "        BRS_model = BRS_model,\n",
      "    ))\n",
      "except Exception as e:\n",
      "    print e\n",
      "    \n",
      "    \n",
      "#push all important data to each engine\n",
      "#run the simulations for gL and atp\n",
      "def change_constant_parallel(var_name, var_vals, t, model):\n",
      "    \n",
      "    #if param doesn't exist, or it does, and var_name is present in it\n",
      "    if not param or (var_name in param) :\n",
      "        \n",
      "        #push constant variables for this run to the engines\n",
      "        all_engines.push(dict(\n",
      "            var_name = var_name,\n",
      "            t=t,\n",
      "            model = model,\n",
      "        ))\n",
      "        \n",
      "        #run simulation using async b/c otherwise the integrator will fail\n",
      "        #and return V = -60 mV for EACH time step.\n",
      "        try:\n",
      "            ar = lbv.map_async(lambda x, var_name=var_name, t_end=t, model = model: model(x, var_name, t_end), var_vals)\n",
      "        except Exception as e:\n",
      "            print e\n",
      "    else:\n",
      "        raise KeyError(\"There is no parameter with the symbol {}.\".format(var_name))\n",
      "        \n",
      "    #this will return only when all engines have returned results\n",
      "    info = ar.get() \n",
      "    \n",
      "    #separate timing info from voltage info\n",
      "    v_array = []\n",
      "    timings = []\n",
      "    for elem in info:\n",
      "        v_array.append(elem[0])\n",
      "        timings.append(round(elem[1],4))\n",
      "        \n",
      "    #combine the series for each value of var_vals into a single dataframe\n",
      "    d_atp = pd.concat(v_array, axis=1)\n",
      "    return d_atp, timings"
     ],
     "language": "python",
     "metadata": {
      "run_control": {
       "read_only": true
      }
     },
     "outputs": []
    },
    {
     "cell_type": "code",
     "collapsed": false,
     "input": [
      "def bean_model(val, var_name, t_end, *args, **kwargs):\n",
      "    '''\n",
      "    Solve for a single value of the parameter and \n",
      "    return the data in a pandas series\n",
      "    '''\n",
      "    #change the variable value, solve, and store in a Series that is named\n",
      "    #according to the value of the variable that was changed.\n",
      "    t1 = clock()\n",
      "    sbn_bean = BeanModel(initial_state=[-60.0, 0.004, 0.33, -50.0, 0.03, 0.09, 3.2e-6])\n",
      "    print sbn_bean.initial_state\n",
      "    t2 = clock()\n",
      "    sbn_bean.setVars({var_name:val})\n",
      "    simulation_res = sbn_bean.simulate(t_end, *args, **kwargs)\n",
      "    y = simulation_res[0]\n",
      "    t = simulation_res[1]\n",
      "    s = pandas.Series(data = y[0], name = str(val), index = t)\n",
      "    try:\n",
      "        return s, (clock()-t2), simulation_res[2:]\n",
      "    except:\n",
      "        return s, (clock()-t2)\n",
      "\n",
      "def yan_model(val, var_name, t_end):\n",
      "    '''\n",
      "    Solve for a single value of the parameter and \n",
      "    return the data in a pandas series\n",
      "    '''\n",
      "    #change the variable value, solve, and store in a Series that is named\n",
      "    #according to the value of the variable that was changed.\n",
      "    t1 = clock()\n",
      "    sbn_p2x7 = YanModel()\n",
      "    t2 = clock()\n",
      "    sbn_p2x7.setVars({var_name:val})\n",
      "    simulation_res = sbn_p2x7.simulate(t_end)\n",
      "    y = simulation_res[0]\n",
      "    t = simulation_res[1]\n",
      "    s = Series(data = y[0], name = str(val), index = t)\n",
      "    try:\n",
      "        return s, (clock()-t2), simulation_res[2:]\n",
      "    except:\n",
      "        return s, (clock()-t2)\n",
      "\n",
      "#can I use the parallel function decorator here?\n",
      "#@lbv.parallel()\n",
      "def I_can_model(val, var_name, t_end,*args, **kwargs):\n",
      "    '''\n",
      "    Solve for a single value of the parameter and \n",
      "    return the data in a pandas series\n",
      "    '''\n",
      "    #change the variable value, solve, and store in a Series that is named\n",
      "    #according to the value of the variable that was changed.\n",
      "    t1 = clock()\n",
      "    sbn = TBModel()\n",
      "    t2 = clock()\n",
      "    sbn.setVars({var_name:val})\n",
      "    simulation_res = sbn.simulate(t_end)\n",
      "    y = simulation_res[0]\n",
      "    t = simulation_res[1]\n",
      "    s = pandas.Series(data = y[0], name = str(val), index = t)\n",
      "    try:\n",
      "        return s, (clock()-t2), simulation_res[2:]\n",
      "    except:\n",
      "        return s, (clock()-t2)\n",
      "\n",
      "def BRS_model(val, var_name, t_end):\n",
      "    '''\n",
      "    Solve for a single value of the parameter and \n",
      "    return the data in a pandas series\n",
      "    '''\n",
      "    #change the variable value, solve, and store in a Series that is named\n",
      "    #according to the value of the variable that was changed.\n",
      "    t1 = clock()\n",
      "    sbn = BRSModel()\n",
      "    t2 = clock()\n",
      "    sbn.setVars({var_name:val})\n",
      "    simulation_res = sbn.simulate(t_end)\n",
      "    y = simulation_res[0]\n",
      "    t = simulation_res[1]\n",
      "    s = Series(data = y[0], name = str(val), index = t)\n",
      "    try:\n",
      "        return s, (clock()-t2), simulation_res[2:]\n",
      "    except:\n",
      "        return s, (clock()-t2)\n",
      "\n",
      " \n",
      "    \n",
      "def change_constant(var_name, var_vals, t, model):\n",
      "    \n",
      "    #if param doesn't exist, or it does, and var_name is present in it\n",
      "    if not param or (var_name in param) :\n",
      "\n",
      "        try:\n",
      "            info = map(lambda x, var_name=var_name, t_end=t: model(x, var_name, t_end), var_vals)\n",
      "        except Exception as e:\n",
      "            print \"Could not run simulation b/c: \",e\n",
      "            \n",
      "    else:\n",
      "        raise KeyError(\"There is no parameter with the symbol {}.\".format(var_name))\n",
      "    \n",
      "    #separate timing info from voltage info\n",
      "    v_array = []\n",
      "    timings = []\n",
      "    for elem in info:\n",
      "        v_array.append(elem[0])\n",
      "        timings.append(round(elem[1],4))\n",
      "        \n",
      "    #combine the series for each value of var_vals into a single dataframe\n",
      "    d_atp = pd.concat(v_array, axis=1)\n",
      "    return d_atp, timings"
     ],
     "language": "python",
     "metadata": {
      "code_folding": [
       0
      ],
      "run_control": {
       "breakpoint": false,
       "read_only": false
      }
     },
     "outputs": []
    },
    {
     "cell_type": "code",
     "collapsed": false,
     "input": [
      "try:    \n",
      "    all_engines.push(dict(\n",
      "        param = param,\n",
      "        BRSModel = BRSModel,\n",
      "        TBModel = TBModel,\n",
      "        P2XModel = P2XModel,\n",
      "        YanModel = YanModel,\n",
      "        BeanModel = BeanModel,\n",
      "        I_can_model = I_can_model,\n",
      "        P2X7_model = P2X7_model,\n",
      "        BRS_model = BRS_model,\n",
      "    ))\n",
      "except Exception as e:\n",
      "    print e\n",
      "    \n",
      "    \n",
      "#push all important data to each engine\n",
      "#run the simulations for gL and atp\n",
      "def change_constant_parallel(var_name, var_vals, t, model):\n",
      "    \n",
      "    #if param doesn't exist, or it does, and var_name is present in it\n",
      "    if not param or (var_name in param) :\n",
      "        \n",
      "        #push constant variables for this run to the engines\n",
      "        all_engines.push(dict(\n",
      "            var_name = var_name,\n",
      "            t=t,\n",
      "            model = model,\n",
      "        ))\n",
      "        \n",
      "        #run simulation using async b/c otherwise the integrator will fail\n",
      "        #and return V = -60 mV for EACH time step.\n",
      "        try:\n",
      "            ar = lbv.map_async(lambda x, var_name=var_name, t_end=t, model = model: model(x, var_name, t_end), var_vals)\n",
      "        except Exception as e:\n",
      "            print e\n",
      "    else:\n",
      "        raise KeyError(\"There is no parameter with the symbol {}.\".format(var_name))\n",
      "        \n",
      "    #this will return only when all engines have returned results\n",
      "    info = ar.get() \n",
      "    \n",
      "    #separate timing info from voltage info\n",
      "    v_array = []\n",
      "    timings = []\n",
      "    for elem in info:\n",
      "        v_array.append(elem[0])\n",
      "        timings.append(round(elem[1],4))\n",
      "        \n",
      "    #combine the series for each value of var_vals into a single dataframe\n",
      "    d_atp = pd.concat(v_array, axis=1)\n",
      "    return d_atp, timings"
     ],
     "language": "python",
     "metadata": {
      "run_control": {
       "breakpoint": false,
       "read_only": false
      }
     },
     "outputs": []
    },
    {
     "cell_type": "heading",
     "level": 2,
     "metadata": {
      "heading_collapsed": false
     },
     "source": [
      "Parallel Runs"
     ]
    },
    {
     "cell_type": "code",
     "collapsed": false,
     "input": [
      "folderPath = 'Results/'\n",
      "tEnd = 1000.*60.#*22. #22 minutes\n",
      "gNaP = map(lambda x: round(x,1), linspace(2.8,4.2,(4.2-2.8)/.2))\n",
      "gL = map(lambda x: round(x,1), linspace(2.5,4.5,(4.5-2.5)/.2))\n"
     ],
     "language": "python",
     "metadata": {
      "run_control": {
       "breakpoint": false,
       "read_only": false
      }
     },
     "outputs": []
    },
    {
     "cell_type": "heading",
     "level": 3,
     "metadata": {
      "heading_collapsed": false
     },
     "source": [
      "BRS Model"
     ]
    },
    {
     "cell_type": "code",
     "collapsed": false,
     "input": [
      "model = BRS_model\n",
      "var = 'gL'\n",
      "BRS_gL,t = change_constant_parallel(var, gL, tEnd, model)\n",
      "print_timing(BRS_gL, t, folderPath, var, \"BRS\")\n",
      "printOutput(BRS_gL, folderPath, var, \"BRS\")\n"
     ],
     "language": "python",
     "metadata": {
      "run_control": {
       "breakpoint": false,
       "read_only": false
      }
     },
     "outputs": []
    },
    {
     "cell_type": "code",
     "collapsed": false,
     "input": [
      "BRS_gL.plot()\n",
      "plt.show()"
     ],
     "language": "python",
     "metadata": {
      "run_control": {
       "breakpoint": false,
       "read_only": false
      }
     },
     "outputs": []
    },
    {
     "cell_type": "code",
     "collapsed": false,
     "input": [
      "model = BRS_model\n",
      "var = \"gnaps\"\n",
      "BRS_gNaP,t = change_constant_parallel(var, gNaP, tEnd, model)\n",
      "print_timing(BRS_gNaP, t, folderPath, var, \"BRS\")\n",
      "printOutput(BRS_gNaP, folderPath, var, \"BRS\")"
     ],
     "language": "python",
     "metadata": {
      "run_control": {
       "breakpoint": false,
       "read_only": false
      }
     },
     "outputs": []
    },
    {
     "cell_type": "code",
     "collapsed": false,
     "input": [
      "BRS_gNaP.plot()\n",
      "plt.show()"
     ],
     "language": "python",
     "metadata": {
      "run_control": {
       "breakpoint": false,
       "read_only": false
      }
     },
     "outputs": []
    },
    {
     "cell_type": "code",
     "collapsed": false,
     "input": [
      "fig = plt.Figure()\n",
      "ax = plt.subplot(2,1,1)\n",
      "ax.plot(BRS_gL.index,BRS_gL['2.9'])\n",
      "ax = plt.subplot(2,1,2)\n",
      "ax.plot(BRS_gL.index,BRS_gL['2.7'])\n",
      "plt.show()"
     ],
     "language": "python",
     "metadata": {
      "run_control": {
       "breakpoint": false,
       "read_only": false
      }
     },
     "outputs": []
    },
    {
     "cell_type": "heading",
     "level": 3,
     "metadata": {
      "heading_collapsed": false
     },
     "source": [
      "Toparikova Model"
     ]
    },
    {
     "cell_type": "code",
     "collapsed": false,
     "input": [
      "model = I_can_model\n",
      "Ican_gL,t = change_constant_parallel('gL', gL, tEnd, model)\n",
      "print_timing(Ican_gL, t, folderPath, 'gL', \"T\")\n",
      "printOutput(Ican_gL, folderPath, 'gL', \"T\")"
     ],
     "language": "python",
     "metadata": {
      "run_control": {
       "breakpoint": false,
       "read_only": false
      }
     },
     "outputs": []
    },
    {
     "cell_type": "code",
     "collapsed": false,
     "input": [
      "model = I_can_model\n",
      "Ican_gNaP,t = change_constant_parallel('gnaps', gNaP, tEnd, model)\n",
      "print_timing(Ican_gNaP, t, folderPath, 'gnaps', 'T')\n",
      "printOutput(Ican_gNaP, folderPath, 'gnaps', 'T')"
     ],
     "language": "python",
     "metadata": {
      "run_control": {
       "breakpoint": false,
       "read_only": false
      }
     },
     "outputs": []
    },
    {
     "cell_type": "heading",
     "level": 3,
     "metadata": {
      "heading_collapsed": false
     },
     "source": [
      "P2X Model"
     ]
    },
    {
     "cell_type": "code",
     "collapsed": false,
     "input": [
      "################## gNaP ################\n",
      "var = \"gnaps\"\n",
      "#gNaP = map(lambda x: round(x,1), linspace(2.8,4.2,(4.2-2.8)/.2))\n",
      "model = P2X7_model\n",
      "Iatp_gNaP,t = change_constant_parallel(var, gNaP, tEnd, model)\n",
      "print_timing(Iatp_gNaP, t, folderPath, var, \"p2x7\")\n",
      "printOutput(Iatp_gNaP,folderPath, var, \"p2x7\")"
     ],
     "language": "python",
     "metadata": {
      "run_control": {
       "breakpoint": false,
       "read_only": false
      }
     },
     "outputs": []
    },
    {
     "cell_type": "code",
     "collapsed": false,
     "input": [
      "#calc results\n",
      "################## gL ##################\n",
      "var = 'gL'\n",
      "#gL = map(lambda x: round(x,1), linspace(2.5,4.5,(4.5-2.5)/.2))\n",
      "model = P2X7_model\n",
      "Iatp_gL,t = change_constant_parallel(var, gL, tEnd, model)\n",
      "print_timing(Iatp_gL, t, folderPath, var, \"p2x7\")\n",
      "printOutput(Iatp_gL, folderPath, var, \"p2x7\")"
     ],
     "language": "python",
     "metadata": {
      "run_control": {
       "breakpoint": false,
       "read_only": false
      }
     },
     "outputs": []
    },
    {
     "cell_type": "code",
     "collapsed": false,
     "input": [
      "Iatp_gL['4.5'].plot()\n",
      "Iatp_gL['4.3'].plot()\n",
      "Iatp_gL['4.1'].plot()\n",
      "\n",
      "plt.show()\n",
      "Iatp_gL.head()"
     ],
     "language": "python",
     "metadata": {
      "run_control": {
       "breakpoint": false,
       "read_only": false
      }
     },
     "outputs": []
    },
    {
     "cell_type": "code",
     "collapsed": false,
     "input": [
      "Ican_gL.head()"
     ],
     "language": "python",
     "metadata": {
      "run_control": {
       "breakpoint": false,
       "read_only": false
      }
     },
     "outputs": []
    },
    {
     "cell_type": "code",
     "collapsed": false,
     "input": [
      "Ican_gL.plot()\n",
      "plt.show()"
     ],
     "language": "python",
     "metadata": {
      "run_control": {
       "breakpoint": false,
       "read_only": false
      }
     },
     "outputs": []
    },
    {
     "cell_type": "code",
     "collapsed": false,
     "input": [
      "Iatp_gNaP.plot()\n",
      "plt.show()"
     ],
     "language": "python",
     "metadata": {
      "run_control": {
       "breakpoint": false,
       "read_only": false
      }
     },
     "outputs": []
    },
    {
     "cell_type": "code",
     "collapsed": false,
     "input": [
      "Iatp_gNaP.head()"
     ],
     "language": "python",
     "metadata": {
      "run_control": {
       "breakpoint": false,
       "read_only": false
      }
     },
     "outputs": []
    },
    {
     "cell_type": "code",
     "collapsed": false,
     "input": [
      "Ican_gNaP.plot()\n",
      "plt.show()"
     ],
     "language": "python",
     "metadata": {
      "run_control": {
       "breakpoint": false,
       "read_only": false
      }
     },
     "outputs": []
    },
    {
     "cell_type": "heading",
     "level": 1,
     "metadata": {
      "heading_collapsed": true
     },
     "source": [
      "Serial Runs"
     ]
    },
    {
     "cell_type": "code",
     "collapsed": false,
     "input": [
      "gL = map(lambda x: round(x,1), linspace(2.5,4.5,(4.5-2.5)/.2))\n",
      "gNaP = map(lambda x: round(x,1), linspace(2.8,4.2,(4.2-2.8)/.2))\n",
      "folderPath = 'Results/Serial_'\n",
      "tEnd = 1000.#*60.#*22. #22 minutes\n",
      "\n",
      "#calc results\n",
      "################## gL ##################\n",
      "var = 'gL'\n",
      "model = \"p2x7\"\n",
      "Iatp_gL,t = change_constant(var, gL, tEnd, model)\n",
      "print_timing(Iatp_gL, t, folderPath, var, model)\n",
      "printOutput(Iatp_gL, folderPath, var, model)\n",
      "\n",
      "model = \"Toparkikova\"\n",
      "Ican_gL,t = change_constant(var, gL, tEnd, model)\n",
      "print_timing(Ican_gL, t, folderPath, var, model)\n",
      "printOutput(Ican_gL, folderPath, var, model)\n",
      "\n",
      "\n",
      "################## gNaP ################\n",
      "var = \"gnaps\"\n",
      "model = \"p2x7\"\n",
      "Iatp_gNaP,t = change_constant(var, gNaP, tEnd, model)\n",
      "print_timing(Iatp_gNaP, t, folderPath, var, model)\n",
      "printOutput(Iatp_gNaP,folderPath, var, model)\n",
      "\n",
      "model = \"Toparkikova\"\n",
      "Ican_gNaP,t = change_constant('gnaps', gNaP, tEnd, \"Toparkikova\")\n",
      "print_timing(Ican_gNaP, t, folderPath, var, model)\n",
      "printOutput(Ican_gNaP, folderPath, var, model)"
     ],
     "language": "python",
     "metadata": {
      "run_control": {
       "breakpoint": false,
       "read_only": false
      }
     },
     "outputs": []
    },
    {
     "cell_type": "markdown",
     "metadata": {},
     "source": [
      "#atp -- will do this later\n",
      "val_name = 'atp0'\n",
      "path = folderPath+val_name+\"_\"+str(round(tEnd/1000.))+\"sec\"\n",
      "var_vals = np.array([1.0,2.4,3.2,4.5,5.5,6.5])*(10**-6)\n",
      "\n",
      "P2X7_Vm,t = change_constant_parallel(val_name, var_vals, tEnd, P2X7_model)\n",
      "printOutput(P2X7_Vm, folderPath+'_P2X7', \"atp\", tEnd)\n",
      "print t\n",
      "P2X7_Vm.tail()"
     ]
    },
    {
     "cell_type": "code",
     "collapsed": false,
     "input": [],
     "language": "python",
     "metadata": {
      "run_control": {
       "breakpoint": false,
       "read_only": false
      }
     },
     "outputs": []
    },
    {
     "cell_type": "heading",
     "level": 1,
     "metadata": {
      "heading_collapsed": true
     },
     "source": [
      "Other Stuff"
     ]
    },
    {
     "cell_type": "markdown",
     "metadata": {},
     "source": [
      "Compare simulator performance with and without Jacobian Matrix"
     ]
    },
    {
     "cell_type": "code",
     "collapsed": false,
     "input": [
      "#compare performace with and without jacobian\n",
      "import sys\n",
      "\n",
      "ttot=1000.*60 #how long to run simulation? (in milliseconds)\n",
      "\n",
      "sbn = TBModel()\n",
      "start = clock()\n",
      "y,t = sbn.simulate(ttot)\n",
      "no_dfun = clock() - start\n",
      "ax1 = plt.subplot(211)\n",
      "ax1.plot(t,y[0])\n",
      "\n",
      "sbn = TBModel()\n",
      "start = clock()\n",
      "y,t = sbn.simulate(ttot,j_t_function)\n",
      "yes_dfun = clock() - start\n",
      "ax2 = plt.subplot(212, sharex=ax1)\n",
      "ax2.plot(t,y[0])\n",
      "\n",
      "print yes_dfun, no_dfun\n",
      "print \"difference:\", yes_dfun - no_dfun\n",
      "sys.stdout.flush()\n",
      "\n",
      "plt.show()"
     ],
     "language": "python",
     "metadata": {
      "run_control": {
       "breakpoint": false,
       "read_only": false
      }
     },
     "outputs": []
    }
   ],
   "metadata": {}
  }
 ]
}