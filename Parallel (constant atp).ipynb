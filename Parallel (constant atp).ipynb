{
 "metadata": {
  "name": "",
  "signature": "sha256:0fcd9522ad803e54ce0cadba21096c3a8b8f5a83f5be9a14a9da4c91d12bd9c6"
 },
 "nbformat": 3,
 "nbformat_minor": 0,
 "worksheets": [
  {
   "cells": [
    {
     "cell_type": "code",
     "collapsed": false,
     "input": [
      "%%javascript\n",
      "IPython.load_extensions('usability/help_panel/help_panel');\n",
      "IPython.load_extensions('usability/codefolding/codefolding');\n",
      "IPython.load_extensions('usability/hide_input/main');\n",
      "IPython.load_extensions('testing/hierarchical_collapse/main');\n",
      "IPython.load_extensions('usability/read-only')\n",
      "IPython.load_extensions('usability/noscroll')\n",
      "IPython.load_extensions('usability/runtools/runtools')"
     ],
     "language": "python",
     "metadata": {
      "run_control": {
       "read_only": false
      }
     },
     "outputs": []
    },
    {
     "cell_type": "code",
     "collapsed": false,
     "input": [
      "# Optional: Print information for connecting other clients to this kernel.\n",
      "# It will print the contents of this session's connection file, as well as shortcuts for local clients.\n",
      "# In the simplest case, when called from the most recently launched kernel, secondary clients can be connected, simply with:\n",
      "# $> ipython <app> --existing\n",
      "\n",
      "%connect_info"
     ],
     "language": "python",
     "metadata": {
      "code_folding": [
       0
      ],
      "run_control": {
       "breakpoint": false,
       "read_only": false
      }
     },
     "outputs": []
    },
    {
     "cell_type": "code",
     "collapsed": false,
     "input": [
      "#from parameters import param\n",
      "from numpy import *\n",
      "import matplotlib.pyplot as plt\n",
      "import pandas\n",
      "from scipy import integrate\n",
      "from time import clock\n",
      "import sympy as spy\n",
      "from sympy import ImmutableMatrix\n",
      "debug = False\n",
      "set_printoptions(4)\n",
      "\n",
      "#------------------------------------------------------------------------------------------\n",
      "#### INITIAL CONDITIONS ####\n",
      "Vs0=-60.0 #initial cell memberane voltage\n",
      "ns0=0.004 #initial value of gating var n\n",
      "hs0=0.33 #initial value of gating var h\n",
      "Vd0=-50.0 #initial dendritic membrane voltage\n",
      "C0=0.03 #initial calcium 2+ balance\n",
      "l0=0.93 # initial value of IP3 channel gating variable\n",
      "\n",
      "'''\n",
      "Initial states of the ATP channels. Numerical values represent the fraction of the cell's P2X7 receptors in that state.\n",
      "They must sum to 1. If a state = 0, then none of the P2X7 receptors are in that state. \n",
      "If a state = 1.0, then all of the P2X7 receptors are in that state, and the remaining states must all = 0.\n",
      "\n",
      "state name : state attributes\n",
      "q1 : double-liganded, open, unsensitized\n",
      "q2 : triple-liganded, open, unsensitized\n",
      "q3 : triple-liganded, open, sensitized\n",
      "q4 : double-liganded, open, sensitized\n",
      "c1 : unliganded, closed, unsensitized\n",
      "c2 : mono-liganded, closed, unsensitized\n",
      "c3 : mono-liganded, closed, sensitized\n",
      "c4 : unliganded, closed, sensitized\n",
      "'''\n",
      "q1o = 0.\n",
      "q2o = 0.\n",
      "q3o = 0.\n",
      "q4o = 0.\n",
      "c1o = 1.0\n",
      "c2o = 0.\n",
      "c3o = 0.\n",
      "c4o = 0.\n",
      "\n",
      "\n",
      "#Initial atp concentration (units of Molars)\n",
      "atp0=3.2e-6 #Molars\n",
      "\n",
      "#### TIME (ms) ####\n",
      "tStart=0.\n",
      "tEnd=1000.*60#*3.\n",
      "dt=1.\n",
      "\n",
      "#### MEMBRANE CAPACITANCE (pF) ####\n",
      "Cms=21\n",
      "#dendrite membrane capacitance\n",
      "Cmd=5\n",
      "\n",
      "#### REVERSAL POTENTIALS (mV) ####\n",
      "# sodium potential (for normal sodium current and persistent sodium current)\n",
      "ena=50\n",
      "# potassium potential\n",
      "ek=-85\n",
      "# leak reversal potential\n",
      "eL=-54.0 # suggested value for vleak from Butera paper are -60,-57.5,-54\n",
      "# reversal potential of non-NMDA glutamatergic synaptic currents.\n",
      "eSyn=0.0\n",
      "\n",
      "#### CONDUCTANCE (nS) ####\n",
      "# potassium current conductance\n",
      "gk=11.2\n",
      "# sodium current conductance\n",
      "gna=28\n",
      "# persistent sodium current conductance\n",
      "gnaps=2.8\n",
      "# leak current conductance\n",
      "gL=5.6\n",
      "# tonic conductance\n",
      "gtonic=0.0\n",
      "# calcium channel conductance\n",
      "gcan = 1.5\n",
      "# conductance for link between soma and dendrite\n",
      "gc = 1.0\n",
      "\n",
      "#### APPLIED CURRENT ####\n",
      "Iaps=0\n",
      "\n",
      "#### HALF (IN)ACTIVATION VOLTAGE (mV) ####\n",
      "vm=-34\n",
      "vn=-29\n",
      "vmp=-40\n",
      "vh=-48\n",
      "\n",
      "#### INVERSE SLOPE MULTIPLIER (mV) ####\n",
      "sm=-5\n",
      "sn=-4\n",
      "smp=-6\n",
      "sh=6\n",
      "\n",
      "#### TIME CONSTANT MAX VALUES (ms) #####\n",
      "taunb=10 #tau max for n\n",
      "tauhb=10000 #tau max for h\n",
      "\n",
      "#### Constants for calculating Ca Flux: ER --> Cytosol ####\n",
      "IP=1 #IP3 concentration\n",
      "LL=0.37 #ER leak permeability\n",
      "P=31000 #maximum total permeability of IP3 channels\n",
      "Ki=1.0 #dissociation consts for IP3 receptor activity by IP3\n",
      "Ka=0.4 #dissociation consts for IP3 receptor activity by Ca\n",
      "\n",
      "#### Constants for calculating Ca Flux: Cytosol --> ER ####\n",
      "Ve=400 #Maximal SERCA pump rate\n",
      "Ke=0.2 #coefficient for SERCA pumps\n",
      "\n",
      "#### ER Ca CONCENTRATION ####\n",
      "Ct=1.25 #Total Ca\n",
      "sigma=0.185 #ratio of cytosolic to ER volume\n",
      "\n",
      "#The ER parameters\n",
      "fi=0.0001 #bound Ca concentration in cytosol\n",
      "Vi=4 #free Ca concentration in cytosol\n",
      "A=0.005 #scaling const.\n",
      "Kd=0.4 #dissociation constant for IP3 receptor inactivation by Ca\n",
      "\n",
      "#### Calcium current activation ####\n",
      "Kcan=0.74 # microM \n",
      "ncan=0.97\n",
      "\n",
      "#### Ratio of somatic to total area ####\n",
      "k=0.3\n",
      "\n",
      "#### P2X7 RECEPTOR ####\n",
      "# RATE CONSTANTS\n",
      "# Back rates (ms)**-1\n",
      "k1 = 0.3e-3 \n",
      "k3 = 2.4e-3\n",
      "k5 = 1.58e-3\n",
      "# Forward rates (ms*M)**-1\n",
      "k2 = 40000e-3\n",
      "k4 = 50000.0e-3\n",
      "k6 = 7000e-3\n",
      "# Sensitized/unsensitized rates\n",
      "L1 = 0.0001e-3\n",
      "L2 = 0.004e-3\n",
      "L3 = 0.5e-3\n",
      "\n",
      "# CONDUCTANCE (nS)\n",
      "#conductance of unsensitized channels\n",
      "g12 = 15 # nS\n",
      "#conductance of sensitized channels\n",
      "g34 = 45 # nS\n",
      "\n",
      "#P2X7 channel reversal potential\n",
      "eatp = 0.0 #mV\n",
      "\n",
      "\n",
      "beta_alpha_ratio = 1/4.\n",
      "\n",
      "param = {'Cms': Cms,  'Cmd': Cmd,  'ena': ena,  'ek': ek,  'eL': eL,  'eSyn': eSyn,  'gk': gk,\\\n",
      "        'gna': gna,  'gnaps': gnaps,  'gL': gL,  'gtonic': gtonic,  'gcan': gcan , 'gc': gc ,  'Iaps': Iaps,  'vm': vm, 'vn': vn,  'vmp': vmp,  'vh': vh,  'sm': sm,  'sn': sn,  'smp': smp,  'sh': sh,  'taunb': taunb,\\\n",
      "        'tauhb': tauhb,  'IP': IP,  'LL': LL,  'P': P,  'Ki': Ki,  'Ka': Ka,  'Ve': Ve,  'Ke': Ke,  'Ct': Ct,\\\n",
      "        'sigma': sigma,  'fi': fi,  'Vi': Vi,  'A': A,  'Kd': Kd,  'Kcan': Kcan,  'ncan': ncan,  'k': k, \\\n",
      "        'k1': k1, 'k2': k2, 'k3': k3, 'k4': k4, 'k5': k5, 'k6': k6, 'L1': L1, 'L2': L2, 'L3': L3, 'g12': g12,\\\n",
      "        'g34': g34, 'eatp': eatp, 'dt':dt, 'Vs0': Vs0 , 'ns0': ns0 , 'hs0': hs0 , 'Vd0': Vd0 , 'C0': C0 , 'l0': l0 , \\\n",
      "        'q1o': q1o , 'q2o': q2o , 'q3o': q3o , 'q4o': q4o , 'c1o': c1o , 'c2o': c2o , 'c3o': c3o , 'c4o': c4o , 'atp0': atp0, 'beta_alpha_ratio':beta_alpha_ratio}"
     ],
     "language": "python",
     "metadata": {
      "code_folding": [],
      "run_control": {
       "breakpoint": false,
       "read_only": false
      }
     },
     "outputs": [
      {
       "output_type": "stream",
       "stream": "stderr",
       "text": [
        "/Users/morganfine-morris/Library/Enthought/Canopy_64bit/User/lib/python2.7/site-packages/pandas/io/excel.py:626: UserWarning: Installed openpyxl is not supported at this time. Use >=1.6.1 and <2.0.0.\n",
        "  .format(openpyxl_compat.start_ver, openpyxl_compat.stop_ver))\n"
       ]
      }
     ],
     "prompt_number": 1
    },
    {
     "cell_type": "heading",
     "level": 1,
     "metadata": {
      "heading_collapsed": false
     },
     "source": [
      "Start Engines and Controller"
     ]
    },
    {
     "cell_type": "code",
     "collapsed": false,
     "input": [
      "#parallelized version\n",
      "from IPython.parallel import Client\n",
      "\n",
      "#set up client and view\n",
      "c = Client(profile='parallel')\n",
      "print c.ids\n",
      "all_engines = c[:]\n",
      "\n",
      "#import necessary libraries to each engine\n",
      "with all_engines.sync_imports():\n",
      "    from scipy import integrate\n",
      "    from pandas import Series\n",
      "    import pandas as pd\n",
      "    from time import clock\n",
      "    from numpy import exp, cosh, sinh, linspace\n",
      "    import sympy as spy\n",
      "    from sympy import ImmutableMatrix\n",
      "\n",
      "# Create view. Load balanced view will allocate tasks automatically.\n",
      "lbv = c.load_balanced_view()\n",
      "lbv.block = True   "
     ],
     "language": "python",
     "metadata": {
      "code_folding": [
       0
      ],
      "run_control": {
       "breakpoint": false,
       "read_only": false
      }
     },
     "outputs": []
    },
    {
     "cell_type": "heading",
     "level": 1,
     "metadata": {
      "heading_collapsed": false
     },
     "source": [
      "Optional: Test that parallelization is working"
     ]
    },
    {
     "cell_type": "code",
     "collapsed": false,
     "input": [
      "# testing parallelization\n",
      "def test_parallelization(all_engines):\n",
      "    \n",
      "    test_multiplier=3\n",
      "    test_func = lambda x, test_multiplier=test_multiplier: exp(x*test_multiplier)\n",
      "    \n",
      "    all_engines.push(dict(\n",
      "        test_multiplier = test_multiplier,\n",
      "    ))\n",
      "    try:\n",
      "        p_ans = lbv.map(test_func, [1,2,3])\n",
      "        s_ans = map(test_func, [1,2,3])\n",
      "        if p_ans == s_ans:\n",
      "            return True\n",
      "    except Exception as e:\n",
      "        print e\n",
      "        raise Exception(\"Parallelization failed.\")\n",
      "\n",
      "test_parallelization(all_engines)"
     ],
     "language": "python",
     "metadata": {
      "code_folding": [
       0
      ],
      "run_control": {
       "breakpoint": false,
       "read_only": false
      }
     },
     "outputs": []
    },
    {
     "cell_type": "heading",
     "level": 1,
     "metadata": {
      "heading_collapsed": false
     },
     "source": [
      "Models"
     ]
    },
    {
     "cell_type": "code",
     "collapsed": false,
     "input": [
      "class BRSModel(object):\n",
      "\n",
      "    #### MEMBRANE CAPACITANCE (pF) ####\n",
      "    Cms=21\n",
      "\n",
      "    #### REVERSAL POTENTIALS (mV) ####\n",
      "    # sodium potential (for normal sodium current and persistent sodium current)\n",
      "    ena=50\n",
      "    # potassium potential\n",
      "    ek=-85\n",
      "    # leak reversal potential\n",
      "    eL=-60.0 # suggested value for vleak from Butera paper are -60,-57.5,-54\n",
      "    # reversal potential of non-NMDA glutamatergic synaptic currents.\n",
      "    eSyn=0.0\n",
      "\n",
      "    #### CONDUCTANCE (nS) ####\n",
      "    # potassium current conductance\n",
      "    gk=11.2\n",
      "    # sodium current conductance\n",
      "    gna=28\n",
      "    # persistent sodium current conductance\n",
      "    gnaps=2.8 #should this be 1.5 or 2.0 as in Toparikova and Butera 2011?\n",
      "    # leak current conductance\n",
      "    gL=2.8\n",
      "    # tonic conductance\n",
      "    gtonic=0.0\n",
      "\n",
      "    #### APPLIED CURRENT (pA) ####\n",
      "    Iaps=0\n",
      "\n",
      "    #### HALF (IN)ACTIVATION VOLTAGE (mV) ####\n",
      "    vm=-34\n",
      "    vn=-29\n",
      "    vmp=-40\n",
      "    vh=-48\n",
      "\n",
      "    #### INVERSE SLOPE MULTIPLIER (mV) ####\n",
      "    sm=-5\n",
      "    sn=-4\n",
      "    smp=-6\n",
      "    sh=5\n",
      "\n",
      "    #### TIME CONSTANT MAX VALUES (ms) #####\n",
      "    taunb=10 #tau max for n\n",
      "    tauhb=10000 #tau max for h\n",
      "    \n",
      "    # In milliseconds\n",
      "    dt = 1.0\n",
      "    \n",
      "    #set here so that only the variables are in param_names\n",
      "    _param_names = [i for i in dir() if \"__\" not in i]\n",
      "    \n",
      "    #let user know if parameter dictionary passed in to setVars is incomplete\n",
      "    warn_for_missing_vars = False\n",
      "    \n",
      "    _initial_state = [-60.0, 0.004, 0.33]\n",
      "        \n",
      "    def __init__(self, param_dict={}, initial_state=[]):\n",
      "        if initial_state:\n",
      "            self.initial_state = initial_state\n",
      "        else:\n",
      "            self.initial_state = self._initial_state\n",
      "            \n",
      "        self.setVars(param_dict)\n",
      "\n",
      "    def reset_to_default_params(self):\n",
      "        print \"reset params\"\n",
      "        self.setVars(__class__.__dict__, False)\n",
      "    \n",
      "    \n",
      "    def setVars(self,var, warn = warn_for_missing_vars):\n",
      "        print \"set vars\"\n",
      "        for i in self._param_names:\n",
      "            try:\n",
      "                self.__dict__[i] = float(var[i])\n",
      "            except Exception as e:\n",
      "                #if is missing from var dictionary, let user know or not, depending on boolean val\n",
      "                self.__dict__[i] = self.__class__.__dict__[i]\n",
      "                if  warn:\n",
      "                    print ('Param '+i+\" is either missing or invalid. Using default.\")\n",
      "        \n",
      "                    \n",
      "    def printVars(self,cols = 3):\n",
      "        \n",
      "        line = \"-----------------------\"\n",
      "        print line + \"\\n\"+\"Model Parameters: \"+\"\\n\"+line+\"\\n\"\n",
      "        print \"Initial state: Vs = {}, ns = {}, hs = {}, Vd = {}, C = {}, l = {} \".format(*self.initial_state)\n",
      "        print\n",
      "        i = 1\n",
      "        for key in self._param_names:\n",
      "            try:\n",
      "                item = vars(self)[key]\n",
      "            except:\n",
      "                item = self.__class__.__dict__[key]\n",
      "\n",
      "            print \"{:<9s}: {:<10} \\t \".format(key, item),\n",
      "            if i%cols == 0:\n",
      "                print\n",
      "            i +=1\n",
      "        print \"\\n\"+line + \"\\n\"+\"End Parameters \"+\"\\n\"+line+'\\n'\n",
      "    \n",
      "\n",
      "    def model(self, y, t):\n",
      "        \n",
      "        Vs = y[0]\n",
      "        ns = y[1]\n",
      "        hs = y[2]\n",
      "        \n",
      "        # SOMATIC FUNCTIONS\n",
      "        minfs = 1/(1+exp((Vs-self.vm) /self.sm))\n",
      "        ninfs = 1/(1+exp((Vs-self.vn) /self.sn))\n",
      "        minfps = 1/(1+exp((Vs-self.vmp)/self.smp))\n",
      "        hinfs = 1/(1+exp((Vs-self.vh) /self.sh))\n",
      "\n",
      "        tauns = self.taunb/cosh((Vs-self.vn)/(2*self.sn))\n",
      "        tauhs = self.tauhb/cosh((Vs-self.vh)/(2*self.sh))\n",
      "\n",
      "        # CURRENT EXPRESSIONS\n",
      "        # currents in Soma\n",
      "        I_nas = self.gna*(minfs**3)*(1-ns)*(Vs-self.ena) #sodium current\n",
      "        I_ks = self.gk*(ns**4)*(Vs-self.ek) #potassium current\n",
      "        I_naps = self.gnaps*minfps*hs*(Vs-self.ena) #persistent sodium current\n",
      "        I_L = self.gL*(Vs-self.eL) #pA\n",
      "       \n",
      "        #### DIFFERENTIAL EQUATIONS\n",
      "        # SOMATIC EQUATIONS\n",
      "        dVs = (-I_ks-I_nas-I_naps-I_L)/self.Cms\n",
      "        dns = (ninfs-ns)/tauns\n",
      "        dhs = (hinfs-hs)/tauhs        \n",
      "        \n",
      "        return [dVs, dns, dhs]\n",
      "\n",
      "    def jacobian(self,y,t):\n",
      "        Vs = y[0]\n",
      "        n = y[1]\n",
      "        h = y[2]\n",
      "        \n",
      "        j11 = (-h*self.gnaps/(exp((Vs - self.vmp)/self.smp) + 1) + h*self.gnaps*(Vs - self.ena)*exp((Vs - self.vmp)/self.smp)/(self.smp*(exp((Vs - self.vmp)/self.smp) + 1)**2) - n**4*self.gk - self.gL - self.gna*(-n + 1)/(exp((Vs - self.vm)/self.sm) + 1)**3 + 3*self.gna*(Vs - self.ena)*(-n + 1)*exp((Vs - self.vm)/self.sm)/(self.sm*(exp((Vs - self.vm)/self.sm) + 1)**4))/self.Cms \n",
      "        j12 =  (-4*n**3*self.gk*(Vs - self.ek) + self.gna*(Vs - self.ena)/(exp((Vs - self.vm)/self.sm) + 1)**3)/self.Cms \n",
      "        j13 = -self.gnaps*(Vs - self.ena)/(self.Cms*(exp((Vs - self.vmp)/self.smp) + 1))\n",
      "        j21 = (-n + 1/(exp((Vs - self.vn)/self.sn) + 1))*sinh((Vs - self.vn)/(2*self.sn))/(2*self.sn*self.taunb) - exp((Vs - self.vn)/self.sn)*cosh((Vs - self.vn)/(2*self.sn))/(self.sn*self.taunb*(exp((Vs - self.vn)/self.sn) + 1)**2)\n",
      "        j22 = -cosh((Vs - self.vn)/(2*self.sn))/self.taunb\n",
      "        j23 = 0\n",
      "        j31 = (-h + 1/(exp((Vs - self.vh)/self.sh) + 1))*sinh((Vs - self.vh)/(2*self.sh))/(2*self.sh*self.tauhb) - exp((Vs - self.vh)/self.sh)*cosh((Vs - self.vh)/(2*self.sh))/(self.sh*self.tauhb*(exp((Vs - self.vh)/self.sh) + 1)**2)\n",
      "        j32 = 0\n",
      "        j33 = -cosh((Vs - self.vh)/(2*self.sh))/self.tauhb\n",
      "        \n",
      "        return [[j11, j12, j13], [j21, j22, j23], [j31,j32,j33]] \n",
      "        \n",
      "    def simulate(self, simulationTime):\n",
      "        print \"t\"\n",
      "        t = linspace(0,simulationTime, simulationTime/self.dt)\n",
      "        print \"integrate\"\n",
      "        y = integrate.odeint(self.model, self.initial_state, t, Dfun=self.jacobian).T\n",
      "        print \"Done\"\n",
      "        return y, t"
     ],
     "language": "python",
     "metadata": {
      "code_folding": [
       0
      ],
      "run_control": {
       "breakpoint": false,
       "read_only": false
      }
     },
     "outputs": []
    },
    {
     "cell_type": "code",
     "collapsed": false,
     "input": [
      "class TBModel(object):\n",
      "    \n",
      "    #### MEMBRANE CAPACITANCE (pF) ####\n",
      "    Cms=21\n",
      "    #dendrite membrane capacitance\n",
      "    Cmd=5\n",
      "\n",
      "    #### REVERSAL POTENTIALS (mV) ####\n",
      "    # sodium potential (for normal sodium current and persistent sodium current)\n",
      "    ena=50\n",
      "    # potassium potential\n",
      "    ek=-85\n",
      "    # leak reversal potential\n",
      "    eL=-60.0 # suggested value for vleak from Butera paper are -60,-57.5,-54\n",
      "    # reversal potential of non-NMDA glutamatergic synaptic currents.\n",
      "    eSyn=0.0\n",
      "    \n",
      "    #### CONDUCTANCE (nS) ####\n",
      "    # potassium current conductance\n",
      "    gk=11.2\n",
      "    # sodium current conductance\n",
      "    gna=28\n",
      "    # persistent sodium current conductance\n",
      "    gnaps=1.5#2.8 #should this be 1.5 or 2.0 as in Toparikova and Butera 2011?\n",
      "    # leak current conductance\n",
      "    gL=5.6 #2.3 in Toporikova_Butera_2010_code.py\n",
      "    # tonic conductance\n",
      "    gtonic=0.0\n",
      "    # calcium channel conductance\n",
      "    gcan = 1#.5\n",
      "    # gc (the conductance for the link terms)\n",
      "    gc = 1\n",
      "\n",
      "    #### APPLIED CURRENT (pA) ####\n",
      "    Iaps=0\n",
      "\n",
      "    #### HALF (IN)ACTIVATION VOLTAGE (mV) ####\n",
      "    vm=-34\n",
      "    vn=-29\n",
      "    vmp=-40\n",
      "    vh=-48\n",
      "\n",
      "    #### INVERSE SLOPE MULTIPLIER (mV) ####\n",
      "    sm=-5\n",
      "    sn=-4\n",
      "    smp=-6\n",
      "    sh=5\n",
      "\n",
      "    #### TIME CONSTANT MAX VALUES (ms) #####\n",
      "    taunb=10 #tau max for n\n",
      "    tauhb=10000 #tau max for h\n",
      "\n",
      "    #### Constants for calculating Ca Flux: ER --> Cytosol ####\n",
      "    IP=1 #IP3 concentration\n",
      "    LL=0.37 #ER leak permeability\n",
      "    P=31000 #maximum total permeability of IP3 channels\n",
      "    Ki=1.0 #dissociation consts for IP3 receptor activity by IP3\n",
      "    Ka=0.4 #dissociation consts for IP3 receptor activity by Ca\n",
      "\n",
      "    #### Constants for calculating Ca Flux: Cytosol --> ER ####\n",
      "    Ve=400 #Maximal SERCA pump rate\n",
      "    Ke=0.2 #coefficient for SERCA pumps\n",
      "\n",
      "    #### ER Ca CONCENTRATION ####\n",
      "    Ct=1.25 #Total Ca\n",
      "    sigma=0.185 #ratio of cytosolic to ER volume\n",
      "\n",
      "    #The ER parameters\n",
      "    fi=0.0001 #bound Ca concentration in cytosol\n",
      "    Vi=4 #free Ca concentration in cytosol\n",
      "    A=0.005 #scaling const.\n",
      "    Kd=0.4 #dissociation constant for IP3 receptor inactivation by Ca\n",
      "\n",
      "    #### Calcium current activation ####\n",
      "    Kcan=0.74 # microM \n",
      "    ncan=0.97\n",
      "\n",
      "    #### Ratio of somatic to total area ####\n",
      "    k=0.3\n",
      "    \n",
      "    # In milliseconds\n",
      "    dt = 0.1\n",
      "    \n",
      "    #set here so that only the variables are in param_names\n",
      "    _param_names = sorted([i for i in dir() if \"__\" not in i])\n",
      "    \n",
      "    #let user know if parameter dictionary passed in to setVars is incomplete\n",
      "    warn_for_missing_vars = False\n",
      "    \n",
      "    _initial_state = [-60.0, 0.004, 0.33, -50.0, 0.03, .93]#0.09] #it occurs to me, at the end of every run of simulate, I could set initial_state equal to the end state, so that you can run simulate sequentially and change the value of some constants in the middle.\n",
      "    \n",
      "    def __init__(self, param_dict={}, initial_state=[]):\n",
      "        \n",
      "        if len(initial_state) == len(self._initial_state):\n",
      "            self.__dict__['initial_state'] = initial_state\n",
      "        else:\n",
      "            self.__dict__['initial_state'] = self._initial_state\n",
      "        self.setVars(param_dict)\n",
      "        \n",
      "\n",
      "    def reset_to_default_params(self):\n",
      "        self.setVars(__class__.__dict__, False)\n",
      "    \n",
      "    def setVars(self,var, warn = warn_for_missing_vars):\n",
      "        \n",
      "        for i in self._param_names:\n",
      "            try:\n",
      "                self.__dict__[i] = float(var[i])\n",
      "            except Exception as e:\n",
      "                #if is missing from var dictionary, let user know or not, depending on boolean val\n",
      "                if  warn:\n",
      "                    print ('Param '+i+\" is either missing or invalid. Using default.\")\n",
      "                 \n",
      "                    \n",
      "    \n",
      "    def printVars(self,cols = 3):\n",
      "        \n",
      "        line = \"-----------------------\"\n",
      "        print line + \"\\n\"+\"Model Parameters: \"+\"\\n\"+line+\"\\n\"\n",
      "        print \"initial state: Vs = {}, ns = {}, hs = {}, Vd = {}, C = {}, l = {} \".format(*self.initial_state)\n",
      "        print\n",
      "        i = 1\n",
      "        for key in self._param_names:\n",
      "            try:\n",
      "                item = vars(self)[key]\n",
      "            except:\n",
      "                item = self.__class__.__dict__[key]\n",
      "\n",
      "            print \"{:<9s}: {:<10} \\t \".format(key, item),\n",
      "            if i%cols == 0:\n",
      "                print\n",
      "            i +=1\n",
      "        print \"\\n\"+line + \"\\n\"+\"End Parameters \"+\"\\n\"+line+'\\n'\n",
      "            \n",
      "    \n",
      "    def model(self, y, t):\n",
      "        '''\n",
      "        Vs,ns,hs,Vd,C,l = y\n",
      "        '''\n",
      "        Vs = y[0]\n",
      "        ns = y[1]\n",
      "        hs = y[2]\n",
      "        Vd = y[3] #Dendritic membrane voltage\n",
      "        C = y[4] #Intracellular Ca2+ balance\n",
      "        l = y[5] #IP3 channel gating variable\n",
      "        #'''\n",
      "        # SOMATIC FUNCTIONS\n",
      "        minfs = 1/(1+exp((Vs-self.vm) /self.sm))\n",
      "        ninfs = 1/(1+exp((Vs-self.vn) /self.sn))\n",
      "        minfps = 1/(1+exp((Vs-self.vmp)/self.smp))\n",
      "        hinfs = 1/(1+exp((Vs-self.vh) /self.sh))\n",
      "\n",
      "        tauns = self.taunb/cosh((Vs-self.vn)/(2*self.sn))\n",
      "        tauhs = self.tauhb/cosh((Vs-self.vh)/(2*self.sh))\n",
      "\n",
      "        # DENDRITIC FUNCTIONS\n",
      "        #Calculate ER Ca\n",
      "        Ce = (self.Ct - C)/self.sigma\n",
      "        # Flux of Ca from ER to cytosol(regulated by IP3 receptors)\n",
      "        J_ER_in=(self.LL + self.P*((self.IP*C*l/((self.IP+self.Ki)*(C+self.Ka)))**3))*(Ce - C) \n",
      "        # Flux from cytosol back to ER (controlled by SERCA pumps)\n",
      "        J_ER_out=self.Ve*(C**2)/((self.Ke**2)+(C**2))\n",
      "        # Activation of calcium current (I_can)\n",
      "        caninf = 1/(1+((self.Kcan/C)**self.ncan))\n",
      "\n",
      "        # CURRENT EXPRESSIONS\n",
      "        # currents in Soma\n",
      "        I_nas = self.gna*(minfs**3)*(1-ns)*(Vs-self.ena) #sodium current\n",
      "        I_ks = self.gk*(ns**4)*(Vs-self.ek) #potassium current\n",
      "        I_naps = self.gnaps*minfps*hs*(Vs-self.ena) #persistent sodium current\n",
      "        I_L = self.gL*(Vs-self.eL) #pA\n",
      "        I_d = self.gc*(Vd-Vs)/self.k # modification of somatic current due to dendritic current\n",
      "        # currents in Dendrite\n",
      "        I_can = self.gcan*caninf*(Vd-self.ena) # calcium current\n",
      "        I_s = self.gc*(Vs-Vd)/(1-self.k) # modification of dendritic current due to somatic current\n",
      "\n",
      "        #### DIFFERENTIAL EQUATIONS\n",
      "        # SOMATIC EQUATIONS\n",
      "        dVs = (-I_ks-I_nas-I_naps-I_L-I_s)/self.Cms\n",
      "        dns = (ninfs-ns)/tauns\n",
      "        dhs = (hinfs-hs)/tauhs\n",
      "        # DENDRITIC EQUATIONS\n",
      "        dVd = (-I_can-I_d)/self.Cmd\n",
      "        dC = (self.fi/self.Vi)*( J_ER_in - J_ER_out)\n",
      "        dl = self.A*( self.Kd - (C + self.Kd)*l )\n",
      "        \n",
      "        return [dVs, dns, dhs, dVd, dC, dl]\n",
      "\n",
      "    def jacobian(self, y, t):\n",
      "        print \"tb\",\n",
      "        Vs,n,h,Vd,C,l = y\n",
      "        '''\n",
      "        n = y[1]\n",
      "        h = y[2]\n",
      "        Vd = y[3]\n",
      "        C = y[4]\n",
      "        l = y[5]\n",
      "        '''\n",
      "        return [[(-h*self.gnaps/(exp((Vs - self.vmp)/self.smp) + 1) + h*self.gnaps*(Vs - self.ena)*exp((Vs - self.vmp)/self.smp)/(self.smp*(exp((Vs - self.vmp)/self.smp) + 1)**2) - n**4*self.gk - self.gL - self.gc/(-self.k + 1) - self.gna*(-n + 1)/(exp((Vs - self.vm)/self.sm) + 1)**3 + 3*self.gna*(Vs - self.ena)*(-n + 1)*exp((Vs - self.vm)/self.sm)/(self.sm*(exp((Vs - self.vm)/self.sm) + 1)**4))/self.Cms, (-4*n**3*self.gk*(Vs - self.ek) + self.gna*(Vs - self.ena)/(exp((Vs - self.vm)/self.sm) + 1)**3)/self.Cms, -self.gnaps*(Vs - self.ena)/(self.Cms*(exp((Vs - self.vmp)/self.smp) + 1)), self.gc/(self.Cms*(-self.k + 1)), 0, 0], [(-n + 1/(exp((Vs - self.vn)/self.sn) + 1))*sinh((Vs - self.vn)/(2*self.sn))/(2*self.sn*self.taunb) - exp((Vs - self.vn)/self.sn)*cosh((Vs - self.vn)/(2*self.sn))/(self.sn*self.taunb*(exp((Vs - self.vn)/self.sn) + 1)**2), -cosh((Vs - self.vn)/(2*self.sn))/self.taunb, 0, 0, 0, 0], [(-h + 1/(exp((Vs - self.vh)/self.sh) + 1))*sinh((Vs - self.vh)/(2*self.sh))/(2*self.sh*self.tauhb) - exp((Vs - self.vh)/self.sh)*cosh((Vs - self.vh)/(2*self.sh))/(self.sh*self.tauhb*(exp((Vs - self.vh)/self.sh) + 1)**2), 0, -cosh((Vs - self.vh)/(2*self.sh))/self.tauhb, 0, 0, 0], [self.gc/(self.Cmd*self.k), 0, 0, (-self.gc/self.k - self.gcan/((self.Kcan/C)**self.ncan + 1))/self.Cmd, -self.gcan*self.ncan*(self.Kcan/C)**self.ncan*(Vd - self.ena)/(C*self.Cmd*((self.Kcan/C)**self.ncan + 1)**2), 0], [0, 0, 0, 0, self.fi*(2*C**3*self.Ve/(C**2 + self.Ke**2)**2 - 2*C*self.Ve/(C**2 + self.Ke**2) + (-1 - 1/self.sigma)*(C**3*l**3*self.IP**3*self.P/((C + self.Ka)**3*(self.IP + self.Ki)**3) + self.LL) + (-C + (-C + self.Ct)/self.sigma)*(-3*C**3*l**3*self.IP**3*self.P/((C + self.Ka)**4*(self.IP + self.Ki)**3) + 3*C**2*l**3*self.IP**3*self.P/((C + self.Ka)**3*(self.IP + self.Ki)**3)))/self.Vi, 3*C**3*l**2*self.IP**3*self.P*self.fi*(-C + (-C + self.Ct)/self.sigma)/(self.Vi*(C + self.Ka)**3*(self.IP + self.Ki)**3)], [0, 0, 0, 0, -l*self.A, self.A*(-C - self.Kd)]]\n",
      "    #__jacobian = jacobian\n",
      "\n",
      "    def simulate(self, simulationTime, use_jacobian=True, *args, **kwargs):        \n",
      "        t = linspace(0,simulationTime, simulationTime/self.dt)\n",
      "        print simulationTime/self.dt, simulationTime, self.dt\n",
      "        try:\n",
      "            if use_jacobian:\n",
      "                y = integrate.odeint(self.model, self.initial_state, t, Dfun=self.jacobian, *args, **kwargs)\n",
      "            else:\n",
      "                \n",
      "                raise Exception() #to be caught be except, so that integration is tried w/out jacobian\n",
      "        except Exception as e:\n",
      "            print \"Running simulation without jacobian.\", e\n",
      "            try:\n",
      "                y = integrate.odeint(self.model, self.initial_state, t, *args, **kwargs)\n",
      "            except Exception as a:\n",
      "                print \"Could not run simulation. \", a\n",
      "\n",
      "        try:\n",
      "            y = y.T\n",
      "            return y,t\n",
      "        except:\n",
      "            info_dict = y[1]\n",
      "            y = y[0].T\n",
      "            return y, t, info_dict\n",
      "\n",
      "\n",
      "sbn_tb = TBModel()\n",
      "sbn_tb.setVars({'gL':2.6,'eL':-60})\n",
      "sbn_tb.printVars()\n",
      "res_tb = sbn_tb.simulate(1000.*10,use_jacobian=True)\n",
      "stb = pandas.Series(data=res_tb[0][0], index = res_tb[1])\n",
      "\n",
      "plt.plot(stb.index/1000., stb.values)\n",
      "#plt.plot(stb.index/1000.,res_tb[0][1])\n",
      "plt.show()"
     ],
     "language": "python",
     "metadata": {
      "code_folding": [
       91
      ],
      "run_control": {
       "breakpoint": false,
       "read_only": false
      }
     },
     "outputs": [
      {
       "output_type": "stream",
       "stream": "stdout",
       "text": [
        "-----------------------\n",
        "Model Parameters: \n",
        "-----------------------\n",
        "\n",
        "initial state: Vs = -60.0, ns = 0.004, hs = 0.33, Vd = -50.0, C = 0.03, l = 0.93 \n",
        "\n",
        "A        : 0.005      \t  Cmd      : 5          \t  Cms      : 21         \t \n",
        "Ct       : 1.25       \t  IP       : 1          \t  Iaps     : 0          \t \n",
        "Ka       : 0.4        \t  Kcan     : 0.74       \t  Kd       : 0.4        \t \n",
        "Ke       : 0.2        \t  Ki       : 1.0        \t  LL       : 0.37       \t \n",
        "P        : 31000      \t  Ve       : 400        \t  Vi       : 4          \t \n",
        "dt       : 0.1        \t  eL       : -60.0      \t  eSyn     : 0.0        \t \n",
        "ek       : -85        \t  ena      : 50         \t  fi       : 0.0001     \t \n",
        "gL       : 2.6        \t  gc       : 1          \t  gcan     : 1          \t \n",
        "gk       : 11.2       \t  gna      : 28         \t  gnaps    : 1.5        \t \n",
        "gtonic   : 0.0        \t  k        : 0.3        \t  ncan     : 0.97       \t \n",
        "sh       : 5          \t  sigma    : 0.185      \t  sm       : -5         \t \n",
        "smp      : -6         \t  sn       : -4         \t  tauhb    : 10000      \t \n",
        "taunb    : 10         \t  vh       : -48        \t  vm       : -34        \t \n",
        "vmp      : -40        \t  vn       : -29        \t  \n",
        "-----------------------\n",
        "End Parameters \n",
        "-----------------------\n",
        "\n",
        "100000.0 10000.0 0.1\n",
        "tb"
       ]
      },
      {
       "output_type": "stream",
       "stream": "stdout",
       "text": [
        " tb tb tb tb tb tb tb tb tb tb tb tb tb tb tb tb tb "
       ]
      },
      {
       "output_type": "stream",
       "stream": "stdout",
       "text": [
        "tb tb tb tb tb tb tb tb tb tb tb tb tb tb tb tb tb tb tb "
       ]
      },
      {
       "output_type": "stream",
       "stream": "stdout",
       "text": [
        "tb tb tb tb tb tb tb tb tb tb tb tb tb tb tb tb tb "
       ]
      },
      {
       "output_type": "stream",
       "stream": "stdout",
       "text": [
        "tb tb tb tb tb tb tb tb tb tb tb tb "
       ]
      },
      {
       "output_type": "stream",
       "stream": "stdout",
       "text": [
        "tb tb tb tb tb tb tb tb tb tb tb tb tb tb tb tb tb tb tb tb tb tb tb "
       ]
      },
      {
       "output_type": "stream",
       "stream": "stdout",
       "text": [
        "tb tb tb tb tb tb tb tb tb tb tb tb "
       ]
      },
      {
       "output_type": "stream",
       "stream": "stdout",
       "text": [
        "tb tb tb tb tb tb tb tb tb tb tb tb tb "
       ]
      },
      {
       "output_type": "stream",
       "stream": "stdout",
       "text": [
        "tb tb tb tb tb tb tb tb tb tb tb tb tb tb "
       ]
      },
      {
       "output_type": "stream",
       "stream": "stdout",
       "text": [
        "tb tb tb tb tb "
       ]
      },
      {
       "output_type": "stream",
       "stream": "stdout",
       "text": [
        "tb tb\n"
       ]
      }
     ],
     "prompt_number": 7
    },
    {
     "cell_type": "code",
     "collapsed": false,
     "input": [
      "#test this model\n",
      "tb_mod = TBModel()\n",
      "tb_mod.simulate(1000.)#, use_jacobian=True)\n",
      "print\n",
      "\n",
      "class testMod(TBModel):\n",
      "    def __init__(self, param_dict={}, initial_state=[]):\n",
      "        super(testMod, self).__init__(param_dict, initial_state)\n",
      "\n",
      "    '''\n",
      "    def jacobian(self):\n",
      "        print \"test\"\n",
      "        pass\n",
      "    '''  \n",
      "    def test(self):\n",
      "        print self.jacobian\n",
      "        print self.__class__.jacobian\n",
      "        print self.jacobian()\n",
      "\n",
      "      \n",
      "tm = testMod()  \n",
      "tm.simulate(1000.)"
     ],
     "language": "python",
     "metadata": {
      "code_folding": [
       0
      ],
      "run_control": {
       "read_only": false
      }
     },
     "outputs": []
    },
    {
     "cell_type": "code",
     "collapsed": false,
     "input": [
      "#name mangling\n",
      "class Mapping:\n",
      "    def __init__(self, iterable):\n",
      "        self.items_list = []\n",
      "        self.__update(iterable)\n",
      "        #self.update(iterable)\n",
      "    def update(self, iterable):\n",
      "        for item in iterable:\n",
      "            self.items_list.append(item)\n",
      "    __update = update   # private copy of original update() method#\n",
      "\n",
      "class MappingSubclass(Mapping):\n",
      "    def update(self, keys, values):\n",
      "        # provides new signature for update()\n",
      "        # but does not break __init__()\n",
      "        for item in zip(keys, values):\n",
      "            self.items_list.append(item)\n",
      "\n",
      "m = Mapping([1,2,3])\n",
      "ms = MappingSubclass([1,2,3])"
     ],
     "language": "python",
     "metadata": {
      "code_folding": [
       0
      ],
      "run_control": {
       "read_only": false
      }
     },
     "outputs": []
    },
    {
     "cell_type": "code",
     "collapsed": false,
     "input": [
      "class P2XModel(TBModel):\n",
      "    \n",
      "    #### P2X7 RECEPTOR ####\n",
      "    # RATE CONSTANTS\n",
      "    # Back rates (ms)**-1\n",
      "    k1 = 0.3e-3 \n",
      "    k3 = 2.4e-3\n",
      "    k5 = 1.58e-3\n",
      "    # Forward rates (ms*M)**-1\n",
      "    k2 = 40000e-3\n",
      "    k4 = 50000.0e-3\n",
      "    k6 = 7000e-3\n",
      "    # Sensitized/unsensitized rates\n",
      "    L1 = 0.0001e-3\n",
      "    L2 = 0.004e-3\n",
      "    L3 = 0.5e-3\n",
      "\n",
      "    # CONDUCTANCE (nS)\n",
      "    #conductance of unsensitized channels\n",
      "    g12 = 15 # nS\n",
      "    #conductance of sensitized channels\n",
      "    g34 = 45 # nS\n",
      "\n",
      "    #P2X7 channel reversal potential\n",
      "    eatp = 0.0 #mV\n",
      "    \n",
      "    _param_names = TBModel._param_names + [i for i in dir() if \"__\" not in i]\n",
      "\n",
      "    warn_for_missing_vars = False\n",
      "    \n",
      "    _atp_function = lambda self,atp,t: 0.0\n",
      "    \n",
      "    def __init__(self, param_dict={}, initial_state = []):\n",
      "        super(P2XModel, self).__init__(param_dict, initial_state)\n",
      "        \n",
      "    def model(self,y,t):\n",
      "        return super(P2XModel, self).model(y[0:6],t)\n",
      "    \n",
      "    def jacobian(self,y,t):\n",
      "        return super(p2XModel, self).jacobian(y[0:6],t)\n",
      "    __jacobian = jacobian"
     ],
     "language": "python",
     "metadata": {
      "code_folding": [
       0
      ],
      "run_control": {
       "read_only": false
      }
     },
     "outputs": []
    },
    {
     "cell_type": "code",
     "collapsed": false,
     "input": [
      "class YanModel(TBModel):\n",
      "    \n",
      "    #### P2X7 RECEPTOR ####\n",
      "    # RATE CONSTANTS\n",
      "    # Back rates (ms)**-1\n",
      "    k1 = 0.3e-3 \n",
      "    k3 = 2.4e-3\n",
      "    k5 = 1.58e-3\n",
      "    # Forward rates (ms*M)**-1\n",
      "    k2 = 40000e-3\n",
      "    k4 = 50000.0e-3\n",
      "    k6 = 7000e-3\n",
      "    # Sensitized/unsensitized rates\n",
      "    L1 = 0.0001e-3\n",
      "    L2 = 0.004e-3\n",
      "    L3 = 0.5e-3\n",
      "\n",
      "    # CONDUCTANCE (nS)\n",
      "    #conductance of unsensitized channels\n",
      "    g12 = 15 # nS\n",
      "    #conductance of sensitized channels\n",
      "    g34 = 45 # nS\n",
      "\n",
      "    #P2X7 channel reversal potential\n",
      "    eatp = 0.0 #mV\n",
      "    _initial_state = [-60.0, 0.004, 0.33, -50.0, 0.03, 0.09, 0., 0., 0., 0., 1., 0., 0., 0.,3.2*10**-6]\n",
      "    \n",
      "    def __init__(self, param_dict={}, initial_state = []):\n",
      "        #super(YanModel, self).__init__(param_dict, initial_state)\n",
      "        if len(initial_state) == len(self._initial_state):\n",
      "            self.__dict__['initial_state'] = initial_state\n",
      "        self.setVars(param_dict)\n",
      "    \n",
      "    \n",
      "    def markov_model(self, y, t):\n",
      "        Vs = y[0]\n",
      "        q1 = y[6]\n",
      "        q2 = y[7]\n",
      "        q3 = y[8]\n",
      "        q4 = y[9]\n",
      "        c1 = y[10]\n",
      "        c2 = y[11]\n",
      "        c3 = y[12]\n",
      "        c4 = y[13]\n",
      "        atp = y[14]\n",
      "        \n",
      "        #find dy from Toparikova model\n",
      "        dy = super(YanModel, self).model(y[0:6],t)\n",
      "        \n",
      "        I_atp = (self.g12*(q1+q2)*(Vs-self.eatp) + self.g34*(q3+q4)*(Vs-self.eatp))\n",
      "        #recalculate dVs to include P2X7 current component \n",
      "        dy[0] = ((dy[0] * self.Cms) - I_atp)/self.Cms\n",
      "\n",
      "        #P2X7R EQUATIONS\n",
      "        # states\n",
      "        dq1 = 2.*self.k4*atp*c2 + 3.*self.k5*q2 - (2.*self.k3 + self.k6*atp)*q1\n",
      "        dq2 = self.k6*atp*q1 + self.L2*q3 - (3.*self.k5 + self.L3)*q2\n",
      "        dq3 = self.k2*atp*q4 + self.L3*q2 -(3.*self.k1 + self.L2)*q3\n",
      "        dq4 = 2.*self.k2*atp*c3 + 3.*self.k1*q3 - (2.*self.k1 + self.k2*atp)*q4\n",
      "        dc1 = self.k1*c2 + self.L1*c4 - 3.*self.k2*atp*c1\n",
      "        dc2 = 3.*self.k2*atp*c1 + 2.*self.k3*q1 - (self.k1+2.*self.k4*atp)*c2\n",
      "        dc3 = 3*self.k2*atp*c4 + 2.*self.k1*q4 - (self.k1 + 2.*self.k2*atp)*c3\n",
      "        dc4 = self.k1*c3 - (self.L1 + 3.*self.k2*atp)*c4\n",
      "        \n",
      "        # atp concentration\n",
      "        datp = self._atp_function(atp=atp, t=t)\n",
      "        \n",
      "        dy = dy+[dq1,dq2,dq3,dq4,dc1,dc2,dc3,dc4,datp] \n",
      "        return dy\n",
      "    "
     ],
     "language": "python",
     "metadata": {
      "code_folding": [
       0
      ],
      "run_control": {
       "read_only": false
      }
     },
     "outputs": []
    },
    {
     "cell_type": "code",
     "collapsed": false,
     "input": [
      "ks_currents = []\n",
      "nap_curr = []\n",
      "na_curr = []\n",
      "l_curr =[]\n",
      "atp_currents = []\n",
      "dend_curr =[]\n",
      "\n",
      "class BeanModel(TBModel):\n",
      "    \n",
      "    beta_alpha_ratio = 1/4.\n",
      "    _initial_state = [-60.0, 0.004, 0.33, -50.0, 0.03, 0.09, 3.2*10**-6]\n",
      "\n",
      "    '''    \n",
      "    def model(self, y, t):\n",
      "        Vs = y[0]\n",
      "        atp = y[6]\n",
      "        \n",
      "        #find dy from Toparikova model\n",
      "        #dy = super(BeanModel, self).model(y[0:6],t)\n",
      "        #print \"dy_0 = \",dy\n",
      "        \"\"\"\n",
      "        From current-atp relationship directly found in comments of Figure 5\n",
      "        (God only knows the voltage - if I can figure it out, I can divide I_atp by the voltage (or voltage-eatp) \n",
      "        and then multiply by the voltage variable (or Vs-eatp).\n",
      "        \"\"\"\n",
      "        if atp > 1.0:\n",
      "            I_atp = 1./(1.+(2.1/atp))\n",
      "        else:\n",
      "            #k_diss = 0.47\n",
      "            #see comments below for info about k_off and k_on\n",
      "            k_off = 1/(0.11 + .055*exp((-32-Vs)/45))\n",
      "            k_on = 10**7\n",
      "            k_diss = k_off/k_on\n",
      "            G = atp/k_diss\n",
      "            I_atp = G**3*(1+self.beta_alpha_ratio)/(1+3*G+3*G**2+G**3*(1+self.beta_alpha_ratio))\n",
      "            \n",
      "            \"\"\"\n",
      "            From comments of Figure 10 of Bean paper. \n",
      "            k_off equation comes from k_off = 1/(3*tau_off*(alpha/(alpha+beta))), which becomes\n",
      "            k_off = 10**3/(0.11 + .055*exp((-32-Vs)/45)) after substituting the equation for tau_off (units of ms): \n",
      "                    tau_off = 46+23*exp((-32-Vs)/45).\n",
      "            n gives the fraction of open receptors.\n",
      "                    \n",
      "            Note: the units of k_on and k_off are 1/M*s, but since they are divided by each other, I didn't adjust them\n",
      "            to be in milliseconds.\n",
      "            \n",
      "            Note: using other bean equation, since it gives I_atp directly. I could use this one if I knew g_atp, \n",
      "            but I don't and it might be difficult to determine, because Bean is non-specific about which P2X receptor \n",
      "            he is measuring (maybe I could look up all that appear in Sensory Neurons and average them together?).\n",
      "            \"\"\"\n",
      "            #k_on = 10**7\n",
      "            #k_off = 1/(0.11 + .055*exp((-32-Vs)/45))\n",
      "            #G = atp*(k_on/k_off)\n",
      "            #n = (G**3 * (1+beta_alpha_ratio))/(1 + 3*G + G**2 + G**3*(1+beta_alpha_ratio))\n",
      "\n",
      "        I_atp = I_atp*758. #b/c Bean normalized to 758 pA\n",
      "        #recalculate dVs to include P2X current component\n",
      "        \n",
      "        dy = super(BeanModel, self).model(y[0:6],t)\n",
      "        #print 'dy[0] =',dy[0]\n",
      "        dy[0] = dy[0] - (I_atp/self.Cms)\n",
      "        #print dy[0]\n",
      "        # atp concentration\n",
      "        datp = self._atp_function(atp=atp, t=t)\n",
      "        #print datp\n",
      "        dy.append(datp)\n",
      "\n",
      "        return dy\n",
      "    '''\n",
      "    def model(self, y, t):\n",
      "\n",
      "        # Vd = Dendritic membrane voltage, C = Intracellular Ca2+ balance, l = IP3 channel gating variable\n",
      "        Vs,ns,hs,Vd,C,l,atp = y\n",
      "\n",
      "        # SOMATIC FUNCTIONS\n",
      "        minfs = 1/(1+exp((Vs-vm) /sm))\n",
      "        ninfs = 1/(1+exp((Vs-vn) /sn))\n",
      "        minfps = 1/(1+exp((Vs-vmp)/smp))\n",
      "        hinfs = 1/(1+exp((Vs-vh) /sh))\n",
      "\n",
      "        tauns = taunb/cosh((Vs-vn)/(2*sn))\n",
      "        tauhs = tauhb/cosh((Vs-vh)/(2*sh))\n",
      "\n",
      "        # DENDRITIC FUNCTIONS\n",
      "        #Calculate ER Ca\n",
      "        Ce = (Ct - C)/sigma\n",
      "        # Flux of Ca from ER to cytosol(regulated by IP3 receptors)\n",
      "        J_ER_in=(LL + P*(((IP*C*l)/((IP+Ki)*(C+Ka)))**3))*(Ce - C) \n",
      "        # Flux from cytosol back to ER (controlled by SERCA pumps)\n",
      "        J_ER_out=Ve*(C**2)/((Ke**2)+(C**2))\n",
      "        # Activation of calcium current (I_can)\n",
      "        caninf = 1/(1+((Kcan/C)**ncan))\n",
      "\n",
      "        # CURRENT EXPRESSIONS\n",
      "        # currents in Soma\n",
      "        I_nas = gna*(minfs**3)*(1-ns)*(Vs-ena) #sodium current\n",
      "        I_ks = gk*(ns**4)*(Vs-ek) #potassium current\n",
      "        I_naps = gnaps*minfps*hs*(Vs-ena) #persistent sodium current\n",
      "        I_L = gL*(Vs-eL) #pA\n",
      "        I_ds = gc*(Vd-Vs)/k # modification of somatic current due to dendritic current\n",
      "        # currents in Dendrite\n",
      "        I_can = gcan*caninf*(Vd-ena) # calcium current\n",
      "        I_sd = gc*(Vs-Vd)/(1-k) # modification of dendritic current due to somatic current\n",
      "        '''\n",
      "        if atp > 1.0:\n",
      "            I_atp = 1./(1.+(2.1/atp))\n",
      "        else:\n",
      "        '''\n",
      "        #see comments below for info about k_off and k_on\n",
      "        k_off = 1/(0.11 + .055*exp((-32-Vs)/45))\n",
      "        k_on = 10**7\n",
      "        k_diss = k_off/k_on\n",
      "        G = atp/k_diss\n",
      "        I_atp = G**3*(1+beta_alpha_ratio)/(1+3*G+3*G**2+G**3*(1+beta_alpha_ratio))\n",
      "\n",
      "        atp_currents.append(I_atp)\n",
      "        ks_currents.append(I_ks)\n",
      "        nap_curr.append(I_naps)\n",
      "        na_curr.append(I_nas)\n",
      "        l_curr.append(I_L)\n",
      "        dend_curr.append(I_sd)\n",
      "        I_atp = I_atp*758. #b/c Bean normalized to 758 pA\n",
      "    \n",
      "        #### DIFFERENTIAL EQUATIONS\n",
      "        # SOMATIC EQUATIONS\n",
      "        dVs = (-I_ks-I_nas-I_naps-I_L-I_sd-I_atp)/Cms\n",
      "        dns = (ninfs-ns)/tauns\n",
      "        dhs = (hinfs-hs)/tauhs\n",
      "        # DENDRITIC EQUATIONS\n",
      "        dVd = (-I_can-I_ds)/Cmd\n",
      "        dC = (fi/Vi)*( J_ER_in - J_ER_out)\n",
      "        dl = A*( Kd - (C + Kd)*l )\n",
      "        # atp concentration\n",
      "        datp = 0.0\n",
      "\n",
      "        return [dVs, dns, dhs, dVd, dC, dl, datp]\n",
      "    '''\n",
      "    def jacobian(self,y,t):\n",
      "        \n",
      "        jacobian_matrix = super(BeanModel, self).jacobian(y,t)\n",
      "        print bean,\n",
      "        Vs,ns,hs,Vd,C,l,atp = y\n",
      "        #update the first row\n",
      "        if atp > 0:\n",
      "            j11  =  (-h*self.gnaps/(exp((Vs - self.vmp)/self.smp) + 1) + h*self.gnaps*(Vs - self.ena)*exp((Vs - self.vmp)/self.smp)/(self.smp*(exp((Vs - self.vmp)/self.smp) + 1)**2) - n**4*self.gk - self.gL - self.gc/(-self.k + 1) - self.gna*(-n + 1)/(exp((Vs - self.vm)/self.sm) + 1)**3 + 3*self.gna*(Vs - self.ena)*(-n + 1)*exp((Vs - self.vm)/self.sm)/(self.sm*(exp((Vs - self.vm)/self.sm) + 1)**4))/self.Cms\n",
      "            j12  =  (-4*n**3*self.gk*(Vs - self.ek) + self.gna*(Vs - self.ena)/(exp((Vs - self.vm)/self.sm) + 1)**3)/self.Cms\n",
      "            j13  =  -self.gnaps*(Vs - self.ena)/(self.Cms*(exp((Vs - self.vmp)/self.smp) + 1))\n",
      "            j14  =  self.gc/(self.Cms*(-self.k + 1))\n",
      "            j15  =  0\n",
      "            j16  =  0\n",
      "            j17  =  -1591.8/(atp**2*self.Cms*(1.0 + 2.1/atp)**2)\n",
      "            \n",
      "        else:\n",
      "            j11  =  (-h*self.gnaps/(exp((Vs - self.vmp)/self.smp) + 1) + h*self.gnaps*(Vs - self.ena)*exp((Vs - self.vmp)/self.smp)/(self.smp*(exp((Vs - self.vmp)/self.smp) + 1)**2) - n**4*self.gk - self.gL - self.gc/(-self.k + 1) - self.gna*(-n + 1)/(exp((Vs - self.vm)/self.sm) + 1)**3 + 3*self.gna*(Vs - self.ena)*(-n + 1)*exp((Vs - self.vm)/self.sm)/(self.sm*(exp((Vs - self.vm)/self.sm) + 1)**4))/self.Cms\n",
      "            j12  =  (-4*n**3*self.gk*(Vs - self.ek) + self.gna*(Vs - self.ena)/(exp((Vs - self.vm)/self.sm) + 1)**3)/self.Cms\n",
      "            j13  =  -self.gnaps*(Vs - self.ena)/(self.Cms*(exp((Vs - self.vmp)/self.smp) + 1))\n",
      "            j14  =  self.gc/(self.Cms*(-self.k + 1))\n",
      "            j15  =  0\n",
      "            j16  =  0\n",
      "            j17  =  -1591.8/(atp**2*self.Cms*(1.0 + 2.1/atp)**2)\n",
      "        jacobian_matrix[0] = [j11,j12,j13,j14,j15,j16,j17]\n",
      "\n",
      "        #append the [0,0,0,0,0,0,0]\n",
      "        jacobian_matrix.append([0,0,0,0,0,0,0])\n",
      "        return jacobian_matrix\n",
      "        \n",
      "    '''\n",
      "    \n",
      "    def jacobian(self,y,t):\n",
      "        Vs,ns,hs,Vd,C,l,atp = y\n",
      "        print \"bean\"\n",
      "\n",
      "        if atp > 1.0:\n",
      "            return [[(-h*self.gnaps/(exp((Vs - self.vmp)/self.smp) + 1) + h*self.gnaps*(Vs - self.ena)*exp((Vs - self.vmp)/self.smp)/(self.smp*(exp((Vs - self.vmp)/self.smp) + 1)**2) - n**4*self.gk - self.gL - self.gc/(-self.k + 1) - self.gna*(-n + 1)/(exp((Vs - self.vm)/self.sm) + 1)**3 + 3*self.gna*(Vs - self.ena)*(-n + 1)*exp((Vs - self.vm)/self.sm)/(self.sm*(exp((Vs - self.vm)/self.sm) + 1)**4))/self.Cms, (-4*n**3*self.gk*(Vs - self.ek) + self.gna*(Vs - self.ena)/(exp((Vs - self.vm)/self.sm) + 1)**3)/self.Cms, -self.gnaps*(Vs - self.ena)/(self.Cms*(exp((Vs - self.vmp)/self.smp) + 1)), self.gc/(self.Cms*(-self.k + 1)), 0, 0, -1591.8/(atp**2*self.Cms*(1.0 + 2.1/atp)**2)], \\\n",
      "                    [(-n + 1/(exp((Vs - self.vn)/self.sn) + 1))*sinh((Vs - self.vn)/(2*self.sn))/(2*self.sn*self.taunb) - exp((Vs - self.vn)/self.sn)*cosh((Vs - self.vn)/(2*self.sn))/(self.sn*self.taunb*(exp((Vs - self.vn)/self.sn) + 1)**2), -cosh((Vs - self.vn)/(2*self.sn))/self.taunb, 0, 0, 0, 0, 0], [(-h + 1/(exp((Vs - self.vh)/self.sh) + 1))*sinh((Vs - self.vh)/(2*self.sh))/(2*self.sh*self.tauhb) - exp((Vs - self.vh)/self.sh)*cosh((Vs - self.vh)/(2*self.sh))/(self.sh*self.tauhb*(exp((Vs - self.vh)/self.sh) + 1)**2), 0, -cosh((Vs - self.vh)/(2*self.sh))/self.tauhb, 0, 0, 0, 0], [self.gc/(self.Cmd*self.k), 0, 0, (-self.gc/self.k - self.gcan/((self.Kcan/C)**self.ncan + 1))/self.Cmd, -self.gcan*self.ncan*(self.Kcan/C)**self.ncan*(Vd - self.ena)/(C*self.Cmd*((self.Kcan/C)**self.ncan + 1)**2), 0, 0], [0, 0, 0, 0, self.fi*(2*C**3*self.Ve/(C**2 + self.Ke**2)**2 - 2*C*self.Ve/(C**2 + self.Ke**2) + (-1 - 1/self.sigma)*(C**3*l**3*self.IP**3*self.P/((C + self.Ka)**3*(self.IP + self.Ki)**3) + self.LL) + (-C + (-C + self.Ct)/self.sigma)*(-3*C**3*l**3*self.IP**3*self.P/((C + self.Ka)**4*(self.IP + self.Ki)**3) + 3*C**2*l**3*self.IP**3*self.P/((C + self.Ka)**3*(self.IP + self.Ki)**3)))/self.Vi, 3*C**3*l**2*self.IP**3*self.P*self.fi*(-C + (-C + self.Ct)/self.sigma)/(self.Vi*(C + self.Ka)**3*(self.IP + self.Ki)**3), 0], [0, 0, 0, 0, -l*self.A, self.A*(-C - self.Kd), 0], [0, 0, 0, 0, 0, 0, 0]]\n",
      "        else:\n",
      "            return [[(-758.0*atp**3*(self.beta_alpha_ratio + 1)*(-3.66666666666667e-10*atp**3*(self.beta_alpha_ratio + 1)*exp(-Vs/45 - 32/45)/(5.5e-9*exp(-Vs/45 - 32/45) + 1.1e-8)**4 - 7.33333333333333e-10*atp**2*exp(-Vs/45 - 32/45)/(5.5e-9*exp(-Vs/45 - 32/45) + 1.1e-8)**3 - 3.66666666666667e-10*atp*exp(-Vs/45 - 32/45)/(5.5e-9*exp(-Vs/45 - 32/45) + 1.1e-8)**2)/((5.5e-9*exp(-Vs/45 - 32/45) + 1.1e-8)**3*(atp**3*(self.beta_alpha_ratio + 1)/(5.5e-9*exp(-Vs/45 - 32/45) + 1.1e-8)**3 + 3*atp**2/(5.5e-9*exp(-Vs/45 - 32/45) + 1.1e-8)**2 + 3*atp/(5.5e-9*exp(-Vs/45 - 32/45) + 1.1e-8) + 1)**2) - 2.77933333333333e-7*atp**3*(self.beta_alpha_ratio + 1)*exp(-Vs/45 - 32/45)/((5.5e-9*exp(-Vs/45 - 32/45) + 1.1e-8)**4*(atp**3*(self.beta_alpha_ratio + 1)/(5.5e-9*exp(-Vs/45 - 32/45) + 1.1e-8)**3 + 3*atp**2/(5.5e-9*exp(-Vs/45 - 32/45) + 1.1e-8)**2 + 3*atp/(5.5e-9*exp(-Vs/45 - 32/45) + 1.1e-8) + 1)) - h*self.gnaps/(exp((Vs - self.vmp)/self.smp) + 1) + h*self.gnaps*(Vs - self.ena)*exp((Vs - self.vmp)/self.smp)/(self.smp*(exp((Vs - self.vmp)/self.smp) + 1)**2) - n**4*self.gk - self.gL - self.gc/(-self.k + 1) - self.gna*(-n + 1)/(exp((Vs - self.vm)/self.sm) + 1)**3 + 3*self.gna*(Vs - self.ena)*(-n + 1)*exp((Vs - self.vm)/self.sm)/(self.sm*(exp((Vs - self.vm)/self.sm) + 1)**4))/self.Cms, (-4*n**3*self.gk*(Vs - self.ek) + self.gna*(Vs - self.ena)/(exp((Vs - self.vm)/self.sm) + 1)**3)/self.Cms, -self.gnaps*(Vs - self.ena)/(self.Cms*(exp((Vs - self.vmp)/self.smp) + 1)), self.gc/(self.Cms*(-self.k + 1)), 0, 0, (-758.0*atp**3*(self.beta_alpha_ratio + 1)*(-3*atp**2*(self.beta_alpha_ratio + 1)/(5.5e-9*exp(-Vs/45 - 32/45) + 1.1e-8)**3 - 6*atp/(5.5e-9*exp(-Vs/45 - 32/45) + 1.1e-8)**2 - 3/(5.5e-9*exp(-Vs/45 - 32/45) + 1.1e-8))/((5.5e-9*exp(-Vs/45 - 32/45) + 1.1e-8)**3*(atp**3*(self.beta_alpha_ratio + 1)/(5.5e-9*exp(-Vs/45 - 32/45) + 1.1e-8)**3 + 3*atp**2/(5.5e-9*exp(-Vs/45 - 32/45) + 1.1e-8)**2 + 3*atp/(5.5e-9*exp(-Vs/45 - 32/45) + 1.1e-8) + 1)**2) - 2274.0*atp**2*(self.beta_alpha_ratio + 1)/((5.5e-9*exp(-Vs/45 - 32/45) + 1.1e-8)**3*(atp**3*(self.beta_alpha_ratio + 1)/(5.5e-9*exp(-Vs/45 - 32/45) + 1.1e-8)**3 + 3*atp**2/(5.5e-9*exp(-Vs/45 - 32/45) + 1.1e-8)**2 + 3*atp/(5.5e-9*exp(-Vs/45 - 32/45) + 1.1e-8) + 1)))/self.Cms], [(-n + 1/(exp((Vs - self.vn)/self.sn) + 1))*sinh((Vs - self.vn)/(2*self.sn))/(2*self.sn*self.taunb) - exp((Vs - self.vn)/self.sn)*cosh((Vs - self.vn)/(2*self.sn))/(self.sn*self.taunb*(exp((Vs - self.vn)/self.sn) + 1)**2), -cosh((Vs - self.vn)/(2*self.sn))/self.taunb, 0, 0, 0, 0, 0], [(-h + 1/(exp((Vs - self.vh)/self.sh) + 1))*sinh((Vs - self.vh)/(2*self.sh))/(2*self.sh*self.tauhb) - exp((Vs - self.vh)/self.sh)*cosh((Vs - self.vh)/(2*self.sh))/(self.sh*self.tauhb*(exp((Vs - self.vh)/self.sh) + 1)**2), 0, -cosh((Vs - self.vh)/(2*self.sh))/self.tauhb, 0, 0, 0, 0], [self.gc/(self.Cmd*self.k), 0, 0, (-self.gc/self.k - self.gcan/((self.Kcan/C)**self.ncan + 1))/self.Cmd, -self.gcan*self.ncan*(self.Kcan/C)**self.ncan*(Vd - self.ena)/(C*self.Cmd*((self.Kcan/C)**self.ncan + 1)**2), 0, 0], [0, 0, 0, 0, self.fi*(2*C**3*self.Ve/(C**2 + self.Ke**2)**2 - 2*C*self.Ve/(C**2 + self.Ke**2) + (-1 - 1/self.sigma)*(C**3*l**3*self.IP**3*self.P/((C + self.Ka)**3*(self.IP + self.Ki)**3) + self.LL) + (-C + (-C + self.Ct)/self.sigma)*(-3*C**3*l**3*self.IP**3*self.P/((C + self.Ka)**4*(self.IP + self.Ki)**3) + 3*C**2*l**3*self.IP**3*self.P/((C + self.Ka)**3*(self.IP + self.Ki)**3)))/self.Vi, 3*C**3*l**2*self.IP**3*self.P*self.fi*(-C + (-C + self.Ct)/self.sigma)/(self.Vi*(C + self.Ka)**3*(self.IP + self.Ki)**3), 0], [0, 0, 0, 0, -l*self.A, self.A*(-C - self.Kd), 0], [0, 0, 0, 0, 0, 0, 0]]\n",
      "    #'''\n",
      "    def simulate(self, simulationTime, *args, **kwargs): \n",
      "        return super(BeanModel, self).simulate(simulationTime, use_jacobian=False, *args, **kwargs)"
     ],
     "language": "python",
     "metadata": {
      "code_folding": [
       7
      ],
      "run_control": {
       "read_only": false
      }
     },
     "outputs": []
    },
    {
     "cell_type": "code",
     "collapsed": false,
     "input": [
      "#change the variable value, solve, and store in a Series that is named\n",
      "#according to the value of the variable that was changed.\n",
      "t_end = 1000*60.\n",
      "\n",
      "sbn_bean = BeanModel(initial_state=[-60.0, 0.004, 0.33, -50.0, 0.03, 0.09, 3.2e-6])\n",
      "sbn_bean.setVars(param)\n",
      "simulation_res = sbn_bean.simulate(t_end)\n",
      "s = pandas.Series(data = simulation_res[0][0], index = simulation_res[1])\n",
      "#atp=pandas.Series(data=y[-1],index=t)\n"
     ],
     "language": "python",
     "metadata": {
      "code_folding": [
       0
      ],
      "run_control": {
       "breakpoint": false,
       "read_only": false
      }
     },
     "outputs": []
    },
    {
     "cell_type": "code",
     "collapsed": false,
     "input": [
      "#compare ATP current with other currents\n",
      "summation = []\n",
      "for i in zip(ks_currents,nap_curr,na_curr,l_curr,dend_curr):\n",
      "    summation.append(i[0]+i[1]+i[2]+i[3]+i[4])\n",
      "plt.plot(summation)\n",
      "plt.plot(atp_currents)\n",
      "plt.show()"
     ],
     "language": "python",
     "metadata": {
      "code_folding": [
       0
      ],
      "run_control": {
       "read_only": false
      }
     },
     "outputs": []
    },
    {
     "cell_type": "code",
     "collapsed": false,
     "input": [
      "\n",
      "sbn_tb = TBModel()\n",
      "sbn_tb.setVars({'gL':5.6})\n",
      "res_tb = sbn_tb.simulate(1000.*10,use_jacobian=False)\n",
      "stb = pandas.Series(data=res_tb[0][0], index = res_tb[1])\n"
     ],
     "language": "python",
     "metadata": {
      "run_control": {
       "read_only": false
      }
     },
     "outputs": [
      {
       "output_type": "stream",
       "stream": "stdout",
       "text": [
        "100000.0 10000.0 0.1\n",
        "Running simulation without jacobian. \n"
       ]
      }
     ],
     "prompt_number": 35
    },
    {
     "cell_type": "code",
     "collapsed": false,
     "input": [
      "#s.plot()\n",
      "plt.plot(stb.index/1000., stb.values)\n",
      "plt.show()"
     ],
     "language": "python",
     "metadata": {
      "run_control": {
       "read_only": false
      }
     },
     "outputs": []
    },
    {
     "cell_type": "heading",
     "level": 3,
     "metadata": {
      "heading_collapsed": false
     },
     "source": [
      "Testing Bean Model"
     ]
    },
    {
     "cell_type": "code",
     "collapsed": false,
     "input": [
      "def d_state(y, t):\n",
      "    Vs = y[0]\n",
      "    ns = y[1]\n",
      "    hs = y[2]\n",
      "    Vd = y[3] #Dendritic membrane voltage\n",
      "    C = y[4] #Intracellular Ca2+ balance\n",
      "    l = y[5] #IP3 channel gating variable\n",
      "    atp = y[6]\n",
      "\n",
      "    # SOMATIC FUNCTIONS\n",
      "    minfs = 1/(1+exp((Vs-vm) /sm))\n",
      "    ninfs = 1/(1+exp((Vs-vn) /sn))\n",
      "    minfps = 1/(1+exp((Vs-vmp)/smp))\n",
      "    hinfs = 1/(1+exp((Vs-vh) /sh))\n",
      "\n",
      "    tauns = taunb/cosh((Vs-vn)/(2*sn))\n",
      "    tauhs = tauhb/cosh((Vs-vh)/(2*sh))\n",
      "\n",
      "    # DENDRITIC FUNCTIONS\n",
      "    #Calculate ER Ca\n",
      "    Ce = (Ct - C)/sigma\n",
      "    # Flux of Ca from ER to cytosol(regulated by IP3 receptors)\n",
      "    J_ER_in=(LL + P*(((IP*C*l)/((IP+Ki)*(C+Ka)))**3))*(Ce - C) \n",
      "    # Flux from cytosol back to ER (controlled by SERCA pumps)\n",
      "    J_ER_out=Ve*(C**2)/((Ke**2)+(C**2))\n",
      "    # Activation of calcium current (I_can)\n",
      "    caninf = 1/(1+((Kcan/C)**ncan))\n",
      "\n",
      "    # CURRENT EXPRESSIONS\n",
      "    # currents in Soma\n",
      "    I_nas = gna*(minfs**3)*(1-ns)*(Vs-ena) #sodium current\n",
      "    I_ks = gk*(ns**4)*(Vs-ek) #potassium current\n",
      "    I_naps = gnaps*minfps*hs*(Vs-ena) #persistent sodium current\n",
      "    I_L = gL*(Vs-eL) #pA\n",
      "    I_ds = gc*(Vd-Vs)/k # modification of somatic current due to dendritic current\n",
      "    # currents in Dendrite\n",
      "    I_can = gcan*caninf*(Vd-ena) # calcium current\n",
      "    I_sd = gc*(Vs-Vd)/(1-k) # modification of dendritic current due to somatic current\n",
      "\n",
      "    if atp > 1.0:\n",
      "        I_atp = 1./(1.+(2.1/atp))\n",
      "    else:\n",
      "        #k_diss = 0.47\n",
      "        #see comments below for info about k_off and k_on\n",
      "        k_off = 1/(0.11 + .055*exp((-32-Vs)/45))\n",
      "        k_on = 10**7\n",
      "        k_diss = k_off/k_on\n",
      "        G = atp/k_diss\n",
      "        I_atp = G**3*(1+beta_alpha_ratio)/(1+3*G+3*G**2+G**3*(1+beta_alpha_ratio))\n",
      "\n",
      "    I_atp = I_atp*758. #b/c Bean normalized to 758 pA\n",
      "    #print I_atp\n",
      "    #### DIFFERENTIAL EQUATIONS\n",
      "    # SOMATIC EQUATIONS\n",
      "    dVs = (-I_ks-I_nas-I_naps-I_L-I_sd-I_atp)/Cms\n",
      "    dns = (ninfs-ns)/tauns\n",
      "    dhs = (hinfs-hs)/tauhs\n",
      "    # DENDRITIC EQUATIONS\n",
      "    dVd = (-I_can-I_ds)/Cmd\n",
      "    dC = (fi/Vi)*( J_ER_in - J_ER_out)\n",
      "    dl = A*( Kd - (C + Kd)*l )\n",
      "    # atp concentration\n",
      "    datp = 0.0\n",
      "    #print [dVs, dns, dhs, dVd, dC, dl, datp]\n",
      "\n",
      "    return [dVs, dns, dhs, dVd, dC, dl, datp]\n",
      "def jacobian(y,t):\n",
      "    Vs = y[0]\n",
      "    n = y[1]\n",
      "    h = y[2]\n",
      "    Vd = y[3] #Dendritic membrane voltage\n",
      "    C = y[4] #Intracellular Ca2+ balance\n",
      "    l = y[5] #IP3 channel gating variable\n",
      "    atp = y[6]\n",
      "    if atp > 1.0:\n",
      "        return [[(-h*gnaps/(exp((Vs - vmp)/smp) + 1) + h*gnaps*(Vs - ena)*exp((Vs - vmp)/smp)/(smp*(exp((Vs - vmp)/smp) + 1)**2) - n**4*gk - gL - gc/(-k + 1) - gna*(-n + 1)/(exp((Vs - vm)/sm) + 1)**3 + 3*gna*(Vs - ena)*(-n + 1)*exp((Vs - vm)/sm)/(sm*(exp((Vs - vm)/sm) + 1)**4))/Cms, (-4*n**3*gk*(Vs - ek) + gna*(Vs - ena)/(exp((Vs - vm)/sm) + 1)**3)/Cms, -gnaps*(Vs - ena)/(Cms*(exp((Vs - vmp)/smp) + 1)), gc/(Cms*(-k + 1)), 0, 0, -1591.8/(atp**2*Cms*(1.0 + 2.1/atp)**2)], [(-n + 1/(exp((Vs - vn)/sn) + 1))*sinh((Vs - vn)/(2*sn))/(2*sn*taunb) - exp((Vs - vn)/sn)*cosh((Vs - vn)/(2*sn))/(sn*taunb*(exp((Vs - vn)/sn) + 1)**2), -cosh((Vs - vn)/(2*sn))/taunb, 0, 0, 0, 0, 0], [(-h + 1/(exp((Vs - vh)/sh) + 1))*sinh((Vs - vh)/(2*sh))/(2*sh*tauhb) - exp((Vs - vh)/sh)*cosh((Vs - vh)/(2*sh))/(sh*tauhb*(exp((Vs - vh)/sh) + 1)**2), 0, -cosh((Vs - vh)/(2*sh))/tauhb, 0, 0, 0, 0], [gc/(Cmd*k), 0, 0, (-gc/k - gcan/((Kcan/C)**ncan + 1))/Cmd, -gcan*ncan*(Kcan/C)**ncan*(Vd - ena)/(C*Cmd*((Kcan/C)**ncan + 1)**2), 0, 0], [0, 0, 0, 0, fi*(2*C**3*Ve/(C**2 + Ke**2)**2 - 2*C*Ve/(C**2 + Ke**2) + (-1 - 1/sigma)*(C**3*l**3*IP**3*P/((C + Ka)**3*(IP + Ki)**3) + LL) + (-C + (-C + Ct)/sigma)*(-3*C**3*l**3*IP**3*P/((C + Ka)**4*(IP + Ki)**3) + 3*C**2*l**3*IP**3*P/((C + Ka)**3*(IP + Ki)**3)))/Vi, 3*C**3*l**2*IP**3*P*fi*(-C + (-C + Ct)/sigma)/(Vi*(C + Ka)**3*(IP + Ki)**3), 0], [0, 0, 0, 0, -l*A, A*(-C - Kd), 0], [0, 0, 0, 0, 0, 0, 0]]\n",
      "    else:\n",
      "        return [[(-758.0*atp**3*(beta_alpha_ratio + 1)*(-3.66666666666667e-10*atp**3*(beta_alpha_ratio + 1)*exp(-Vs/45 - 32/45)/(5.5e-9*exp(-Vs/45 - 32/45) + 1.1e-8)**4 - 7.33333333333333e-10*atp**2*exp(-Vs/45 - 32/45)/(5.5e-9*exp(-Vs/45 - 32/45) + 1.1e-8)**3 - 3.66666666666667e-10*atp*exp(-Vs/45 - 32/45)/(5.5e-9*exp(-Vs/45 - 32/45) + 1.1e-8)**2)/((5.5e-9*exp(-Vs/45 - 32/45) + 1.1e-8)**3*(atp**3*(beta_alpha_ratio + 1)/(5.5e-9*exp(-Vs/45 - 32/45) + 1.1e-8)**3 + 3*atp**2/(5.5e-9*exp(-Vs/45 - 32/45) + 1.1e-8)**2 + 3*atp/(5.5e-9*exp(-Vs/45 - 32/45) + 1.1e-8) + 1)**2) - 2.77933333333333e-7*atp**3*(beta_alpha_ratio + 1)*exp(-Vs/45 - 32/45)/((5.5e-9*exp(-Vs/45 - 32/45) + 1.1e-8)**4*(atp**3*(beta_alpha_ratio + 1)/(5.5e-9*exp(-Vs/45 - 32/45) + 1.1e-8)**3 + 3*atp**2/(5.5e-9*exp(-Vs/45 - 32/45) + 1.1e-8)**2 + 3*atp/(5.5e-9*exp(-Vs/45 - 32/45) + 1.1e-8) + 1)) - h*gnaps/(exp((Vs - vmp)/smp) + 1) + h*gnaps*(Vs - ena)*exp((Vs - vmp)/smp)/(smp*(exp((Vs - vmp)/smp) + 1)**2) - n**4*gk - gL - gc/(-k + 1) - gna*(-n + 1)/(exp((Vs - vm)/sm) + 1)**3 + 3*gna*(Vs - ena)*(-n + 1)*exp((Vs - vm)/sm)/(sm*(exp((Vs - vm)/sm) + 1)**4))/Cms, (-4*n**3*gk*(Vs - ek) + gna*(Vs - ena)/(exp((Vs - vm)/sm) + 1)**3)/Cms, -gnaps*(Vs - ena)/(Cms*(exp((Vs - vmp)/smp) + 1)), gc/(Cms*(-k + 1)), 0, 0, (-758.0*atp**3*(beta_alpha_ratio + 1)*(-3*atp**2*(beta_alpha_ratio + 1)/(5.5e-9*exp(-Vs/45 - 32/45) + 1.1e-8)**3 - 6*atp/(5.5e-9*exp(-Vs/45 - 32/45) + 1.1e-8)**2 - 3/(5.5e-9*exp(-Vs/45 - 32/45) + 1.1e-8))/((5.5e-9*exp(-Vs/45 - 32/45) + 1.1e-8)**3*(atp**3*(beta_alpha_ratio + 1)/(5.5e-9*exp(-Vs/45 - 32/45) + 1.1e-8)**3 + 3*atp**2/(5.5e-9*exp(-Vs/45 - 32/45) + 1.1e-8)**2 + 3*atp/(5.5e-9*exp(-Vs/45 - 32/45) + 1.1e-8) + 1)**2) - 2274.0*atp**2*(beta_alpha_ratio + 1)/((5.5e-9*exp(-Vs/45 - 32/45) + 1.1e-8)**3*(atp**3*(beta_alpha_ratio + 1)/(5.5e-9*exp(-Vs/45 - 32/45) + 1.1e-8)**3 + 3*atp**2/(5.5e-9*exp(-Vs/45 - 32/45) + 1.1e-8)**2 + 3*atp/(5.5e-9*exp(-Vs/45 - 32/45) + 1.1e-8) + 1)))/Cms], [(-n + 1/(exp((Vs - vn)/sn) + 1))*sinh((Vs - vn)/(2*sn))/(2*sn*taunb) - exp((Vs - vn)/sn)*cosh((Vs - vn)/(2*sn))/(sn*taunb*(exp((Vs - vn)/sn) + 1)**2), -cosh((Vs - vn)/(2*sn))/taunb, 0, 0, 0, 0, 0], [(-h + 1/(exp((Vs - vh)/sh) + 1))*sinh((Vs - vh)/(2*sh))/(2*sh*tauhb) - exp((Vs - vh)/sh)*cosh((Vs - vh)/(2*sh))/(sh*tauhb*(exp((Vs - vh)/sh) + 1)**2), 0, -cosh((Vs - vh)/(2*sh))/tauhb, 0, 0, 0, 0], [gc/(Cmd*k), 0, 0, (-gc/k - gcan/((Kcan/C)**ncan + 1))/Cmd, -gcan*ncan*(Kcan/C)**ncan*(Vd - ena)/(C*Cmd*((Kcan/C)**ncan + 1)**2), 0, 0], [0, 0, 0, 0, fi*(2*C**3*Ve/(C**2 + Ke**2)**2 - 2*C*Ve/(C**2 + Ke**2) + (-1 - 1/sigma)*(C**3*l**3*IP**3*P/((C + Ka)**3*(IP + Ki)**3) + LL) + (-C + (-C + Ct)/sigma)*(-3*C**3*l**3*IP**3*P/((C + Ka)**4*(IP + Ki)**3) + 3*C**2*l**3*IP**3*P/((C + Ka)**3*(IP + Ki)**3)))/Vi, 3*C**3*l**2*IP**3*P*fi*(-C + (-C + Ct)/sigma)/(Vi*(C + Ka)**3*(IP + Ki)**3), 0], [0, 0, 0, 0, -l*A, A*(-C - Kd), 0], [0, 0, 0, 0, 0, 0, 0]]\n",
      "    \n",
      "t = linspace(0,10.*1000., 60.*1000./.1)\n",
      "y = integrate.odeint(d_state,[-60.0, 0.004, 0.33, -50.0, 0.03, 0.09, 3.2e-6], t, Dfun=jacobian).T\n",
      "s = pandas.Series(data = y[0], index = t)\n",
      "d = pandas.DataFrame(y.T,columns=['Vs','n','h','Vd','C','l','atp'], index=t)\n",
      "d"
     ],
     "language": "python",
     "metadata": {
      "run_control": {
       "read_only": false
      }
     },
     "outputs": []
    },
    {
     "cell_type": "code",
     "collapsed": false,
     "input": [
      "d['Vs'].plot()\n",
      "plt.show()"
     ],
     "language": "python",
     "metadata": {
      "run_control": {
       "read_only": false
      }
     },
     "outputs": []
    },
    {
     "cell_type": "heading",
     "level": 1,
     "metadata": {
      "heading_collapsed": false,
      "input_collapsed": false
     },
     "source": [
      "Stuff"
     ]
    },
    {
     "cell_type": "code",
     "collapsed": false,
     "input": [
      "def bean_model(val, var_name, t_end, *args, **kwargs):\n",
      "    '''\n",
      "    Solve for a single value of the parameter and \n",
      "    return the data in a pandas series\n",
      "    '''\n",
      "    #change the variable value, solve, and store in a Series that is named\n",
      "    #according to the value of the variable that was changed.\n",
      "    t1 = clock()\n",
      "    sbn_bean = BeanModel(initial_state=[-60.0, 0.004, 0.33, -50.0, 0.03, 0.09, 3.2e-6])\n",
      "    print sbn_bean.initial_state\n",
      "    t2 = clock()\n",
      "    sbn_bean.setVars({var_name:val})\n",
      "    simulation_res = sbn_bean.simulate(t_end, *args, **kwargs)\n",
      "    y = simulation_res[0]\n",
      "    t = simulation_res[1]\n",
      "    s = pandas.Series(data = y[0], name = str(val), index = t)\n",
      "    try:\n",
      "        return s, (clock()-t2), simulation_res[2:]\n",
      "    except:\n",
      "        return s, (clock()-t2)\n",
      "\n",
      "def yan_model(val, var_name, t_end):\n",
      "    '''\n",
      "    Solve for a single value of the parameter and \n",
      "    return the data in a pandas series\n",
      "    '''\n",
      "    #change the variable value, solve, and store in a Series that is named\n",
      "    #according to the value of the variable that was changed.\n",
      "    t1 = clock()\n",
      "    sbn_p2x7 = YanModel()\n",
      "    t2 = clock()\n",
      "    sbn_p2x7.setVars({var_name:val})\n",
      "    simulation_res = sbn_p2x7.simulate(t_end)\n",
      "    y = simulation_res[0]\n",
      "    t = simulation_res[1]\n",
      "    s = Series(data = y[0], name = str(val), index = t)\n",
      "    try:\n",
      "        return s, (clock()-t2), simulation_res[2:]\n",
      "    except:\n",
      "        return s, (clock()-t2)\n",
      "\n",
      "#can I use the parallel function decorator here?\n",
      "#@lbv.parallel()\n",
      "def I_can_model(val, var_name, t_end,*args, **kwargs):\n",
      "    '''\n",
      "    Solve for a single value of the parameter and \n",
      "    return the data in a pandas series\n",
      "    '''\n",
      "    #change the variable value, solve, and store in a Series that is named\n",
      "    #according to the value of the variable that was changed.\n",
      "    t1 = clock()\n",
      "    sbn = TBModel()\n",
      "    t2 = clock()\n",
      "    sbn.setVars({var_name:val})\n",
      "    simulation_res = sbn.simulate(t_end)\n",
      "    y = simulation_res[0]\n",
      "    t = simulation_res[1]\n",
      "    s = pandas.Series(data = y[0], name = str(val), index = t)\n",
      "    try:\n",
      "        return s, (clock()-t2), simulation_res[2:]\n",
      "    except:\n",
      "        return s, (clock()-t2)\n",
      "\n",
      "\n",
      "def BRS_model(val, var_name, t_end):\n",
      "    '''\n",
      "    Solve for a single value of the parameter and \n",
      "    return the data in a pandas series\n",
      "    '''\n",
      "    #change the variable value, solve, and store in a Series that is named\n",
      "    #according to the value of the variable that was changed.\n",
      "    t1 = clock()\n",
      "    sbn = BRSModel()\n",
      "    t2 = clock()\n",
      "    sbn.setVars({var_name:val})\n",
      "    simulation_res = sbn.simulate(t_end)\n",
      "    y = simulation_res[0]\n",
      "    t = simulation_res[1]\n",
      "    s = Series(data = y[0], name = str(val), index = t)\n",
      "    try:\n",
      "        return s, (clock()-t2), simulation_res[2:]\n",
      "    except:\n",
      "        return s, (clock()-t2)\n",
      "\n",
      "def printOutput(data, path, val_name, model):\n",
      "    time = data.index[-1]\n",
      "    path = path+\"voltages_\"+val_name+\"_\"+model+\"_\"+str(int(round(time/1000.)))+\"sec\"+\".csv\"\n",
      "    print path\n",
      "    try:\n",
      "        data.to_csv(path)\n",
      "        print \"Printing \", path\n",
      "    except Exception as e:\n",
      "        print e\n",
      "        print \"Could not print voltages at \", path, \"because \", e\n",
      "        \n",
      "        \n",
      "        \n",
      "def print_timing(dataframe, real_time, path, val_name, model):\n",
      "    \n",
      "    #get max simulation time\n",
      "    sim_time = dataframe.index[-1]\n",
      "    path = path+\"timing_\"+val_name+\"_\"+model+\"_\"+str(int(round(sim_time/1000.)))+\"sec\"+\".txt\"\n",
      "    \n",
      "    #get values for parameter from dataframe\n",
      "    labels = [str(col.strip(\"u\")) for col in dataframe.columns]\n",
      "    \n",
      "    #print times and parameter vals formatted in two cols\n",
      "    try:\n",
      "        with open(path,\"w\") as f:\n",
      "            format_str = \"{:<9s}: {:^20}\\n\"\n",
      "            f.write(format_str.format(val_name,\"duration (s)\"))\n",
      "            f.write(\"------------------------------------\\n\")\n",
      "            for info in zip(labels,real_time):\n",
      "                f.write(format_str.format(str(round(float(info[0]),3)), info[1]))\n",
      "                \n",
      "    except Exception as e:\n",
      "        print e\n",
      "        print \"Could not save timings at \", path, \" because: \",e\n",
      "        \n",
      "    \n",
      "    \n",
      "def change_constant(var_name, var_vals, t, model):\n",
      "    \n",
      "    #if param doesn't exist, or it does, and var_name is present in it\n",
      "    if not param or (var_name in param) :\n",
      "\n",
      "        try:\n",
      "            info = map(lambda x, var_name=var_name, t_end=t: model(x, var_name, t_end), var_vals)\n",
      "        except Exception as e:\n",
      "            print \"Could not run simulation b/c: \",e\n",
      "            \n",
      "    else:\n",
      "        raise KeyError(\"There is no parameter with the symbol {}.\".format(var_name))\n",
      "    \n",
      "    #separate timing info from voltage info\n",
      "    v_array = []\n",
      "    timings = []\n",
      "    for elem in info:\n",
      "        v_array.append(elem[0])\n",
      "        timings.append(round(elem[1],4))\n",
      "        \n",
      "    #combine the series for each value of var_vals into a single dataframe\n",
      "    d_atp = pd.concat(v_array, axis=1)\n",
      "    return d_atp, timings\n",
      "\n",
      "\n",
      "#Test that everything works unparallel-ized\n",
      "val = 4.5\n",
      "var_name = 'gL'\n",
      "t_end = 1000.*60.\n",
      "def_mod = I_can_model(val, var_name, t_end,full_output=1)\n",
      "#print def_mod\n",
      "print \n",
      "p2x_mod = bean_model(val, var_name, t_end,full_output=1)\n",
      "print p2x_mod"
     ],
     "language": "python",
     "metadata": {
      "code_folding": [
       0
      ],
      "run_control": {
       "breakpoint": false,
       "read_only": false
      }
     },
     "outputs": []
    },
    {
     "cell_type": "code",
     "collapsed": false,
     "input": [],
     "language": "python",
     "metadata": {
      "run_control": {
       "read_only": false
      }
     },
     "outputs": []
    },
    {
     "cell_type": "code",
     "collapsed": false,
     "input": [
      "#def_mod[0].plot()\n",
      "#plt.show()\n",
      "for k,i in (p2x_mod[2][0]).iteritems():\n",
      "    print k,\": \",i\n",
      "    \n",
      "p2x_mod[0].plot()\n",
      "#plt.show()"
     ],
     "language": "python",
     "metadata": {
      "run_control": {
       "breakpoint": false,
       "read_only": false
      }
     },
     "outputs": []
    },
    {
     "cell_type": "code",
     "collapsed": false,
     "input": [
      "#gL = map(lambda x: round(x,1), linspace(2.5,4.5,(4.5-2.5)/.2))\n",
      "gL = [2.5, 4.5]\n",
      "tEnd = 1000.*60.#*22. #22 minutes\n",
      "model = P2XModel\n",
      "Ican_gL, t = change_constant('gL', gL, tEnd, model)\n",
      "Ican_gL.plot()\n",
      "plt.show()"
     ],
     "language": "python",
     "metadata": {
      "run_control": {
       "breakpoint": false,
       "read_only": false
      }
     },
     "outputs": []
    },
    {
     "cell_type": "code",
     "collapsed": false,
     "input": [
      "try:    \n",
      "    all_engines.push(dict(\n",
      "        param = param,\n",
      "        BRSModel = BRSModel,\n",
      "        TBModel = TBModel,\n",
      "        P2XModel = P2XModel,\n",
      "        YanModel = YanModel,\n",
      "        BeanModel = BeanModel,\n",
      "        I_can_model = I_can_model,\n",
      "        P2X7_model = P2X7_model,\n",
      "        BRS_model = BRS_model,\n",
      "    ))\n",
      "except Exception as e:\n",
      "    print e\n",
      "    \n",
      "    \n",
      "#push all important data to each engine\n",
      "#run the simulations for gL and atp\n",
      "def change_constant_parallel(var_name, var_vals, t, model):\n",
      "    \n",
      "    #if param doesn't exist, or it does, and var_name is present in it\n",
      "    if not param or (var_name in param) :\n",
      "        \n",
      "        #push constant variables for this run to the engines\n",
      "        all_engines.push(dict(\n",
      "            var_name = var_name,\n",
      "            t=t,\n",
      "            model = model,\n",
      "        ))\n",
      "        \n",
      "        #run simulation using async b/c otherwise the integrator will fail\n",
      "        #and return V = -60 mV for EACH time step.\n",
      "        try:\n",
      "            ar = lbv.map_async(lambda x, var_name=var_name, t_end=t, model = model: model(x, var_name, t_end), var_vals)\n",
      "        except Exception as e:\n",
      "            print e\n",
      "    else:\n",
      "        raise KeyError(\"There is no parameter with the symbol {}.\".format(var_name))\n",
      "        \n",
      "    #this will return only when all engines have returned results\n",
      "    info = ar.get() \n",
      "    \n",
      "    #separate timing info from voltage info\n",
      "    v_array = []\n",
      "    timings = []\n",
      "    for elem in info:\n",
      "        v_array.append(elem[0])\n",
      "        timings.append(round(elem[1],4))\n",
      "        \n",
      "    #combine the series for each value of var_vals into a single dataframe\n",
      "    d_atp = pd.concat(v_array, axis=1)\n",
      "    return d_atp, timings"
     ],
     "language": "python",
     "metadata": {
      "run_control": {
       "breakpoint": false,
       "read_only": false
      }
     },
     "outputs": []
    },
    {
     "cell_type": "heading",
     "level": 2,
     "metadata": {
      "heading_collapsed": false
     },
     "source": [
      "Parallel Runs"
     ]
    },
    {
     "cell_type": "code",
     "collapsed": false,
     "input": [
      "folderPath = 'Results/'\n",
      "tEnd = 1000.*60.#*22. #22 minutes\n",
      "gNaP = map(lambda x: round(x,1), linspace(2.8,4.2,(4.2-2.8)/.2))\n",
      "gL = map(lambda x: round(x,1), linspace(2.5,4.5,(4.5-2.5)/.2))\n"
     ],
     "language": "python",
     "metadata": {
      "run_control": {
       "breakpoint": false,
       "read_only": false
      }
     },
     "outputs": []
    },
    {
     "cell_type": "heading",
     "level": 3,
     "metadata": {
      "heading_collapsed": false
     },
     "source": [
      "BRS Model"
     ]
    },
    {
     "cell_type": "code",
     "collapsed": false,
     "input": [
      "model = BRS_model\n",
      "var = 'gL'\n",
      "BRS_gL,t = change_constant_parallel(var, gL, tEnd, model)\n",
      "print_timing(BRS_gL, t, folderPath, var, \"BRS\")\n",
      "printOutput(BRS_gL, folderPath, var, \"BRS\")\n"
     ],
     "language": "python",
     "metadata": {
      "run_control": {
       "breakpoint": false,
       "read_only": false
      }
     },
     "outputs": []
    },
    {
     "cell_type": "code",
     "collapsed": false,
     "input": [
      "BRS_gL.plot()\n",
      "plt.show()"
     ],
     "language": "python",
     "metadata": {
      "run_control": {
       "breakpoint": false,
       "read_only": false
      }
     },
     "outputs": []
    },
    {
     "cell_type": "code",
     "collapsed": false,
     "input": [
      "model = BRS_model\n",
      "var = \"gnaps\"\n",
      "BRS_gNaP,t = change_constant_parallel(var, gNaP, tEnd, model)\n",
      "print_timing(BRS_gNaP, t, folderPath, var, \"BRS\")\n",
      "printOutput(BRS_gNaP, folderPath, var, \"BRS\")"
     ],
     "language": "python",
     "metadata": {
      "run_control": {
       "breakpoint": false,
       "read_only": false
      }
     },
     "outputs": []
    },
    {
     "cell_type": "code",
     "collapsed": false,
     "input": [
      "BRS_gNaP.plot()\n",
      "plt.show()"
     ],
     "language": "python",
     "metadata": {
      "run_control": {
       "breakpoint": false,
       "read_only": false
      }
     },
     "outputs": []
    },
    {
     "cell_type": "code",
     "collapsed": false,
     "input": [
      "fig = plt.Figure()\n",
      "ax = plt.subplot(2,1,1)\n",
      "ax.plot(BRS_gL.index,BRS_gL['2.9'])\n",
      "ax = plt.subplot(2,1,2)\n",
      "ax.plot(BRS_gL.index,BRS_gL['2.7'])\n",
      "plt.show()"
     ],
     "language": "python",
     "metadata": {
      "run_control": {
       "breakpoint": false,
       "read_only": false
      }
     },
     "outputs": []
    },
    {
     "cell_type": "heading",
     "level": 3,
     "metadata": {
      "heading_collapsed": false
     },
     "source": [
      "Toparikova Model"
     ]
    },
    {
     "cell_type": "code",
     "collapsed": false,
     "input": [
      "model = I_can_model\n",
      "Ican_gL,t = change_constant_parallel('gL', gL, tEnd, model)\n",
      "print_timing(Ican_gL, t, folderPath, 'gL', \"T\")\n",
      "printOutput(Ican_gL, folderPath, 'gL', \"T\")"
     ],
     "language": "python",
     "metadata": {
      "run_control": {
       "breakpoint": false,
       "read_only": false
      }
     },
     "outputs": []
    },
    {
     "cell_type": "code",
     "collapsed": false,
     "input": [
      "model = I_can_model\n",
      "Ican_gNaP,t = change_constant_parallel('gnaps', gNaP, tEnd, model)\n",
      "print_timing(Ican_gNaP, t, folderPath, 'gnaps', 'T')\n",
      "printOutput(Ican_gNaP, folderPath, 'gnaps', 'T')"
     ],
     "language": "python",
     "metadata": {
      "run_control": {
       "breakpoint": false,
       "read_only": false
      }
     },
     "outputs": []
    },
    {
     "cell_type": "heading",
     "level": 3,
     "metadata": {
      "heading_collapsed": false
     },
     "source": [
      "P2X Model"
     ]
    },
    {
     "cell_type": "code",
     "collapsed": false,
     "input": [
      "################## gNaP ################\n",
      "var = \"gnaps\"\n",
      "#gNaP = map(lambda x: round(x,1), linspace(2.8,4.2,(4.2-2.8)/.2))\n",
      "model = P2X7_model\n",
      "Iatp_gNaP,t = change_constant_parallel(var, gNaP, tEnd, model)\n",
      "print_timing(Iatp_gNaP, t, folderPath, var, \"p2x7\")\n",
      "printOutput(Iatp_gNaP,folderPath, var, \"p2x7\")"
     ],
     "language": "python",
     "metadata": {
      "run_control": {
       "breakpoint": false,
       "read_only": false
      }
     },
     "outputs": []
    },
    {
     "cell_type": "code",
     "collapsed": false,
     "input": [
      "#calc results\n",
      "################## gL ##################\n",
      "var = 'gL'\n",
      "#gL = map(lambda x: round(x,1), linspace(2.5,4.5,(4.5-2.5)/.2))\n",
      "model = P2X7_model\n",
      "Iatp_gL,t = change_constant_parallel(var, gL, tEnd, model)\n",
      "print_timing(Iatp_gL, t, folderPath, var, \"p2x7\")\n",
      "printOutput(Iatp_gL, folderPath, var, \"p2x7\")"
     ],
     "language": "python",
     "metadata": {
      "run_control": {
       "breakpoint": false,
       "read_only": false
      }
     },
     "outputs": []
    },
    {
     "cell_type": "code",
     "collapsed": false,
     "input": [
      "Iatp_gL['4.5'].plot()\n",
      "Iatp_gL['4.3'].plot()\n",
      "Iatp_gL['4.1'].plot()\n",
      "\n",
      "plt.show()\n",
      "Iatp_gL.head()"
     ],
     "language": "python",
     "metadata": {
      "run_control": {
       "breakpoint": false,
       "read_only": false
      }
     },
     "outputs": []
    },
    {
     "cell_type": "code",
     "collapsed": false,
     "input": [
      "Ican_gL.head()"
     ],
     "language": "python",
     "metadata": {
      "run_control": {
       "breakpoint": false,
       "read_only": false
      }
     },
     "outputs": []
    },
    {
     "cell_type": "code",
     "collapsed": false,
     "input": [
      "Ican_gL.plot()\n",
      "plt.show()"
     ],
     "language": "python",
     "metadata": {
      "run_control": {
       "breakpoint": false,
       "read_only": false
      }
     },
     "outputs": []
    },
    {
     "cell_type": "code",
     "collapsed": false,
     "input": [
      "Iatp_gNaP.plot()\n",
      "plt.show()"
     ],
     "language": "python",
     "metadata": {
      "run_control": {
       "breakpoint": false,
       "read_only": false
      }
     },
     "outputs": []
    },
    {
     "cell_type": "code",
     "collapsed": false,
     "input": [
      "Iatp_gNaP.head()"
     ],
     "language": "python",
     "metadata": {
      "run_control": {
       "breakpoint": false,
       "read_only": false
      }
     },
     "outputs": []
    },
    {
     "cell_type": "code",
     "collapsed": false,
     "input": [
      "Ican_gNaP.plot()\n",
      "plt.show()"
     ],
     "language": "python",
     "metadata": {
      "run_control": {
       "breakpoint": false,
       "read_only": false
      }
     },
     "outputs": []
    },
    {
     "cell_type": "heading",
     "level": 1,
     "metadata": {
      "heading_collapsed": true
     },
     "source": [
      "Serial Runs"
     ]
    },
    {
     "cell_type": "code",
     "collapsed": false,
     "input": [
      "gL = map(lambda x: round(x,1), linspace(2.5,4.5,(4.5-2.5)/.2))\n",
      "gNaP = map(lambda x: round(x,1), linspace(2.8,4.2,(4.2-2.8)/.2))\n",
      "folderPath = 'Results/Serial_'\n",
      "tEnd = 1000.#*60.#*22. #22 minutes\n",
      "\n",
      "#calc results\n",
      "################## gL ##################\n",
      "var = 'gL'\n",
      "model = \"p2x7\"\n",
      "Iatp_gL,t = change_constant(var, gL, tEnd, model)\n",
      "print_timing(Iatp_gL, t, folderPath, var, model)\n",
      "printOutput(Iatp_gL, folderPath, var, model)\n",
      "\n",
      "model = \"Toparkikova\"\n",
      "Ican_gL,t = change_constant(var, gL, tEnd, model)\n",
      "print_timing(Ican_gL, t, folderPath, var, model)\n",
      "printOutput(Ican_gL, folderPath, var, model)\n",
      "\n",
      "\n",
      "################## gNaP ################\n",
      "var = \"gnaps\"\n",
      "model = \"p2x7\"\n",
      "Iatp_gNaP,t = change_constant(var, gNaP, tEnd, model)\n",
      "print_timing(Iatp_gNaP, t, folderPath, var, model)\n",
      "printOutput(Iatp_gNaP,folderPath, var, model)\n",
      "\n",
      "model = \"Toparkikova\"\n",
      "Ican_gNaP,t = change_constant('gnaps', gNaP, tEnd, \"Toparkikova\")\n",
      "print_timing(Ican_gNaP, t, folderPath, var, model)\n",
      "printOutput(Ican_gNaP, folderPath, var, model)"
     ],
     "language": "python",
     "metadata": {
      "run_control": {
       "breakpoint": false,
       "read_only": false
      }
     },
     "outputs": []
    },
    {
     "cell_type": "markdown",
     "metadata": {},
     "source": [
      "#atp -- will do this later\n",
      "val_name = 'atp0'\n",
      "path = folderPath+val_name+\"_\"+str(round(tEnd/1000.))+\"sec\"\n",
      "var_vals = np.array([1.0,2.4,3.2,4.5,5.5,6.5])*(10**-6)\n",
      "\n",
      "P2X7_Vm,t = change_constant_parallel(val_name, var_vals, tEnd, P2X7_model)\n",
      "printOutput(P2X7_Vm, folderPath+'_P2X7', \"atp\", tEnd)\n",
      "print t\n",
      "P2X7_Vm.tail()"
     ]
    },
    {
     "cell_type": "code",
     "collapsed": false,
     "input": [],
     "language": "python",
     "metadata": {
      "run_control": {
       "breakpoint": false,
       "read_only": false
      }
     },
     "outputs": []
    },
    {
     "cell_type": "heading",
     "level": 1,
     "metadata": {
      "heading_collapsed": true
     },
     "source": [
      "Other Stuff"
     ]
    },
    {
     "cell_type": "markdown",
     "metadata": {},
     "source": [
      "Compare simulator performance with and without Jacobian Matrix"
     ]
    },
    {
     "cell_type": "code",
     "collapsed": false,
     "input": [
      "#compare performace with and without jacobian\n",
      "import sys\n",
      "\n",
      "ttot=1000.*60 #how long to run simulation? (in milliseconds)\n",
      "\n",
      "sbn = TBModel()\n",
      "start = clock()\n",
      "y,t = sbn.simulate(ttot)\n",
      "no_dfun = clock() - start\n",
      "ax1 = plt.subplot(211)\n",
      "ax1.plot(t,y[0])\n",
      "\n",
      "sbn = TBModel()\n",
      "start = clock()\n",
      "y,t = sbn.simulate(ttot,j_t_function)\n",
      "yes_dfun = clock() - start\n",
      "ax2 = plt.subplot(212, sharex=ax1)\n",
      "ax2.plot(t,y[0])\n",
      "\n",
      "print yes_dfun, no_dfun\n",
      "print \"difference:\", yes_dfun - no_dfun\n",
      "sys.stdout.flush()\n",
      "\n",
      "plt.show()"
     ],
     "language": "python",
     "metadata": {
      "run_control": {
       "breakpoint": false,
       "read_only": false
      }
     },
     "outputs": []
    }
   ],
   "metadata": {}
  }
 ]
}