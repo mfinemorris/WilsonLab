{
 "metadata": {
  "name": "",
  "signature": "sha256:7da9b586cb6007f13410e7de3629c34f8e3ff5a34539b0490cb27521e3e3652a"
 },
 "nbformat": 3,
 "nbformat_minor": 0,
 "worksheets": [
  {
   "cells": [
    {
     "cell_type": "heading",
     "level": 1,
     "metadata": {},
     "source": [
      "Single Cell Persistent Sodium Current Bursting Model"
     ]
    },
    {
     "cell_type": "markdown",
     "metadata": {},
     "source": [
      "The following was modified from a somatic-dendritic burster to a somatic burster as described in the model I from Butera et al. , J. Neurophysiol, July 1999 Vol. 82 no. 1 382-397. Modifications made by Morgan Fine-Morris in October 2014.\n",
      "To recreate bursting plots from Butera et al. use eL of -60, -57.5, -54.0 (mV).\n",
      "\n",
      "Notes from the original code (kept for completeness' sake, but may no longer apply):\n",
      "\"\n",
      "Model of somato-dendritic burster\n",
      "From Toporikova and Butera, J. Comp neuroscience, DOI 10.1007/s10827-010-0274-z\n",
      "Model with following parameters reproduce Figure 1B of the paper above\n",
      "setting gcan=0, convert model to Pruvis and Butera 2007\n",
      "units: V = mV; Kca = uM; Cm = uF/cm^2; g = uS/cm^2; phi = 1/s;\n",
      "Parameter fi is normalized with respect to intracellular volume, so it's units fi=1/pL;\n",
      "\""
     ]
    },
    {
     "cell_type": "heading",
     "level": 1,
     "metadata": {},
     "source": [
      "Model Equations"
     ]
    },
    {
     "cell_type": "markdown",
     "metadata": {},
     "source": [
      "To see the equations used by the model in this notebook, run the cell directly below."
     ]
    },
    {
     "cell_type": "code",
     "collapsed": false,
     "input": [
      "## Print Equations ##\n",
      "from IPython.display import display\n",
      "from IPython.display import Math\n",
      "\n",
      "def showF(string):\n",
      " display(Math(string))\n",
      " \n",
      "membrane_curr = r'C\\frac{dV}{dt} = -I_{NaP-h}-I_{Na}-I_{K}-I_{L}+I_{aps}'\n",
      "dx_dt = r'\\frac{dx}{dt} = \\frac{x_{\\infty}(V)-x}{\\tau_{x}(V)}'\n",
      "tau_x = r'\\tau_{x}(V) = \\frac{\\tau_{xmax}}{cosh[(V-\\theta_{x})/(2\\sigma_{x})]}'\n",
      "x_inf = r'x_{\\infty}(V) = (1+exp[(V-\\theta_{x})/\\sigma_x])^{-1}'\n",
      "I_Na = r'I_{Na} = g_{Na} m_{\\infty}^{3}(V)(1-n)(V-E_{Na})'\n",
      "I_NaPh = r'I_{NaP-h}=g_{NaP}m_{\\infty}(V)h(V-E_{Na})'\n",
      "I_L = r'I_{L}=g_{L}(V-E_{L})'\n",
      "I_K = r'I_{K} = g_{K}n^{4}(V-E_{K})'\n",
      "I_tonic = r'I_{tonic-e} = g_{tonic-e}(V-E_{syn-e})'\n",
      "\n",
      "print \"Membrane Equation and constituent currents:\"\n",
      "showF(membrane_curr)\n",
      "showF(I_K)\n",
      "showF(I_Na)\n",
      "showF(I_NaPh)\n",
      "showF(I_L)\n",
      "showF(I_tonic)\n",
      "print \n",
      "print \"Generalized gating variable equations (where x can be m, n, h, or mp):\"\n",
      "showF(dx_dt)\n",
      "showF(tau_x)\n",
      "showF(x_inf)\n",
      "\n",
      "print \n",
      "print \"In the Model Parameters cell below, INVERSE SLOPE MULTIPLIER variables (sm, sn, smp, sh) \\\n",
      "correspond to sigma parameters in the generalized gating variable equations while HALF (IN)ACTIVATION VOLTAGE variables \\\n",
      "(vm, vn, vmp, vh) correspond the theta parameters in the generalized gating variable equations.\""
     ],
     "language": "python",
     "metadata": {},
     "outputs": [
      {
       "output_type": "stream",
       "stream": "stdout",
       "text": [
        "Membrane Equation and constituent currents:\n"
       ]
      },
      {
       "latex": [
        "$$C\\frac{dV}{dt} = -I_{NaP-h}-I_{Na}-I_{K}-I_{L}+I_{aps}$$"
       ],
       "metadata": {},
       "output_type": "display_data",
       "text": [
        "<IPython.core.display.Math at 0x10d224990>"
       ]
      },
      {
       "latex": [
        "$$I_{K} = g_{K}n^{4}(V-E_{K})$$"
       ],
       "metadata": {},
       "output_type": "display_data",
       "text": [
        "<IPython.core.display.Math at 0x10d2249d0>"
       ]
      },
      {
       "latex": [
        "$$I_{Na} = g_{Na} m_{\\infty}^{3}(V)(1-n)(V-E_{Na})$$"
       ],
       "metadata": {},
       "output_type": "display_data",
       "text": [
        "<IPython.core.display.Math at 0x10d21e890>"
       ]
      },
      {
       "latex": [
        "$$I_{NaP-h}=g_{NaP}m_{\\infty}(V)h(V-E_{Na})$$"
       ],
       "metadata": {},
       "output_type": "display_data",
       "text": [
        "<IPython.core.display.Math at 0x10d224d50>"
       ]
      },
      {
       "latex": [
        "$$I_{L}=g_{L}(V-E_{L})$$"
       ],
       "metadata": {},
       "output_type": "display_data",
       "text": [
        "<IPython.core.display.Math at 0x10d224950>"
       ]
      },
      {
       "latex": [
        "$$I_{tonic-e} = g_{tonic-e}(V-E_{syn-e})$$"
       ],
       "metadata": {},
       "output_type": "display_data",
       "text": [
        "<IPython.core.display.Math at 0x10d224a10>"
       ]
      },
      {
       "output_type": "stream",
       "stream": "stdout",
       "text": [
        "\n",
        "Generalized gating variable equations (where x can be m, n, h, or mp):\n"
       ]
      },
      {
       "latex": [
        "$$\\frac{dx}{dt} = \\frac{x_{\\infty}(V)-x}{\\tau_{x}(V)}$$"
       ],
       "metadata": {},
       "output_type": "display_data",
       "text": [
        "<IPython.core.display.Math at 0x10d224b50>"
       ]
      },
      {
       "latex": [
        "$$\\tau_{x}(V) = \\frac{\\tau_{xmax}}{cosh[(V-\\theta_{x})/(2\\sigma_{x})]}$$"
       ],
       "metadata": {},
       "output_type": "display_data",
       "text": [
        "<IPython.core.display.Math at 0x10d224d90>"
       ]
      },
      {
       "latex": [
        "$$x_{\\infty}(V) = (1+exp[(V-\\theta_{x})/\\sigma_x])^{-1}$$"
       ],
       "metadata": {},
       "output_type": "display_data",
       "text": [
        "<IPython.core.display.Math at 0x10d224cd0>"
       ]
      },
      {
       "output_type": "stream",
       "stream": "stdout",
       "text": [
        "\n",
        "In the Model Parameters cell below, INVERSE SLOPE MULTIPLIER variables (sm, sn, smp, sh) correspond to sigma parameters in the generalized gating variable equations while HALF (IN)ACTIVATION VOLTAGE variables (vm, vn, vmp, vh) correspond the theta parameters in the generalized gating variable equations.\n"
       ]
      }
     ],
     "prompt_number": 15
    },
    {
     "cell_type": "heading",
     "level": 1,
     "metadata": {},
     "source": [
      "Model Parameters"
     ]
    },
    {
     "cell_type": "markdown",
     "metadata": {},
     "source": [
      "If you are confused about the purpose of certain variables, try running the cell above to see the model equations.\n",
      "You can define the parameters by loading parameters from a text file by providing a viable file name in the specificed cell, or you can define them directly into the notebook by setting them in the cell below the heading Direct Define Parameters and running both cells below the heading."
     ]
    },
    {
     "cell_type": "code",
     "collapsed": false,
     "input": [
      "#remove all variable definition by running this cell\n",
      "%reset -f"
     ],
     "language": "python",
     "metadata": {},
     "outputs": [
      {
       "metadata": {},
       "output_type": "pyout",
       "prompt_number": 105,
       "text": [
        "\"\\ndefault = {'Vd0': -50.0, 'ek': -85.0, 'vh': -48.0, 'vm': -34.0, 'vn': -29.0, 'tauhb': 10000.0, 'hs0': 0.33, 'gnaps': 2.8,            'gk': 11.2, 'vmp': -40.0, 'Vs0': -60.0, 'ena': 50.0, 'LL': 0.37, 'Kd': 0.4, 'Iaps': 0.0, 'smp': -6.0, 'I': 1.0,            'sh': 6.0, 'gL': 2.8, 'A': 0.005, 'gtonic': 0.0, 'Ka': 0.4, 'gcan': 1.0, 'sm': -5.0, 'Ke': 0.2, 'eL': -54.0,            'seconds': 10.0, 'Ki': 1.0, 'Cmd': 5.0, 'eSyn': 0.0, 'P': 31000.0, 'ns0': 0.004, 'fi': 0.0001, 'dt': 0.3,           'Cms': 21.0, 'taunb': 10.0, 'C0': 0.03, 'ncan': 0.97, 'Ve': 400.0, 'Vi': 4.0, 'k': 0.3, 'gna': 28.0, 'sn': -4.0,            'l0': 0.93, 'Kcan': 0.74, 'sigma': 0.185, 'Ct': 1.25}\\n\""
       ]
      }
     ],
     "prompt_number": 105
    },
    {
     "cell_type": "heading",
     "level": 3,
     "metadata": {},
     "source": [
      "Load from File (Run both cells)"
     ]
    },
    {
     "cell_type": "markdown",
     "metadata": {},
     "source": [
      "Specifiy the name of the file from which to load the model parameters in the cell below, the run that cell and the one below it. For instructions on how to create your own parameter load file, see the wiki page at https://github.com/mfinemorris/WilsonLab/wiki/Parameter-Files."
     ]
    },
    {
     "cell_type": "code",
     "collapsed": false,
     "input": [
      "#specify name of file to load (including extension) e.g. fileName = \"default.txt\"\n",
      "fileName = \"default.txt\""
     ],
     "language": "python",
     "metadata": {},
     "outputs": [],
     "prompt_number": 106
    },
    {
     "cell_type": "code",
     "collapsed": false,
     "input": [
      "def loadParamFile(fromFile):\n",
      "    #load constant from file and check them against the list of constants\n",
      "    var = dict()\n",
      "    with open(fromFile) as paramfile:\n",
      "        for line in paramfile:\n",
      "            #separate the parameter definition from the comment\n",
      "            #if the line contains a definition, split it into key and value\n",
      "            #enter key and value into dictionary\n",
      "            try:\n",
      "                info = line.split(\"#\",2)[0]\n",
      "                if \"=\" in info:\n",
      "                    definition = info.strip('\\n')\n",
      "                    key,value = definition.split(\"=\",2)\n",
      "                    var[key.strip()] = float(value)\n",
      "            except ValueError as e:\n",
      "                print \"Value Error '{}' on line '{}'.\".format(e,line)\n",
      "                continue\n",
      "            except Exception as e:\n",
      "                print \"Unknown Error Type '{}' on line '{}'.\".format(e,line)\n",
      "                continue\n",
      "    return var\n",
      "\n",
      "\n",
      "def checkParams(var):\n",
      "    '''\n",
      "    check that all necessary parameters all present\n",
      "    '''\n",
      "    #all params that should be defined for the model to run\n",
      "    paramNames = ['Vs0', 'ns0', 'hs0', 'Vd0', 'C0', 'l0', 'seconds', 'dt', 'Cms', 'Cmd', 'ena', 'ek', 'eL', 'eSyn', \\\n",
      "              'gk', 'gna', 'gnaps', 'gL', 'gtonic', 'gcan', 'Iaps', 'vm', 'vn', 'vmp', 'vh', 'sm', 'sn', 'smp', \\\n",
      "              'sh', 'taunb', 'tauhb', 'I', 'LL', 'P', 'Ki', 'Ka', 'Ve', 'Ke', 'Ct', 'sigma', 'fi', 'Vi', 'A', \\\n",
      "              'Kd', 'Kcan', 'ncan', 'k']\n",
      "\n",
      "    \n",
      "    #determine which params are necessary but not defined\n",
      "    missingParams = paramNames - var.viewkeys()\n",
      "    #determine which params are defined but not used in model\n",
      "    extraParams = var.viewkeys() - paramNames\n",
      "    \n",
      "    if missingParams:\n",
      "        print \"Missing the following parameters: \", ', '.join(missingParams), \".\"\n",
      "        \n",
      "    if extraParams:\n",
      "        print \"Parameters not recognized: \", ', '.join(extraParams), \".\"\n",
      "        \n",
      "    if missingParams and extraParams:\n",
      "        print \"Please check that all specified parameters are correctly named.\"\n",
      "        \n",
      "#Try to load the file. Check that all the necessary parameters are specified.\n",
      "try:\n",
      "    param = loadParamFile(fileName)\n",
      "    checkParams(param)\n",
      "except IOError as e:\n",
      "    print \"IOError: \", e\n",
      "    print \"Check that the file you are trying to load is in the same directory as this notebook and that the file name \\\n",
      "(including the extension!) is correct.\""
     ],
     "language": "python",
     "metadata": {},
     "outputs": [],
     "prompt_number": 111
    },
    {
     "cell_type": "heading",
     "level": 3,
     "metadata": {},
     "source": [
      "Direct Define Parameters (Run both cells)"
     ]
    },
    {
     "cell_type": "code",
     "collapsed": false,
     "input": [
      "#### INITIAL CONDITIONS ####\n",
      "Vs0=-60.0 #initial somatic memberane voltage\n",
      "ns0=0.004 #initial value of gating var n\n",
      "hs0=0.33 #initial value of gating var h\n",
      "Vd0=-50 #initial dendritic membrane voltage\n",
      "C0=0.03 #initial calcium 2+ balance\n",
      "l0=0.93 # initial value of IP3 channel gating variable\n",
      "\n",
      "#### TIME (ms) ####\n",
      "# Duration\n",
      "seconds = 10 #set to the number of seconds you want to see\n",
      "# time step\n",
      "dt=0.3\n",
      "\n",
      "#### MEMBRANE CAPACITANCE (pF) ####\n",
      "#soma membrane capacitance\n",
      "Cms=21\n",
      "#dendrite membrane capacitance\n",
      "Cmd=5\n",
      "\n",
      "#### REVERSAL POTENTIALS (mV) ####\n",
      "# sodium potential (for normal sodium current and persistent sodium current)\n",
      "ena=50\n",
      "# potassium potential\n",
      "ek=-85\n",
      "# leak reversal potential\n",
      "eL=-54.0 # suggested value for vleak from Butera paper are -60,-57.5,-54\n",
      "# reversal potential of non-NMDA glutamatergic synaptic currents.\n",
      "eSyn=0.0\n",
      "\n",
      "#### CONDUCTANCE (nS) ####\n",
      "# potassium current conductance\n",
      "gk=11.2\n",
      "# sodium current conductance\n",
      "gna=28\n",
      "# persistent sodium current conductance\n",
      "gnaps=2.8\n",
      "# leak current conductance\n",
      "gL=2.8\n",
      "# tonic conductance\n",
      "gtonic=0.0\n",
      "# calcium conductance\n",
      "gcan = 1.0\n",
      "\n",
      "#### APPLIED CURRENT ####\n",
      "Iaps=0\n",
      "\n",
      "#### HALF (IN)ACTIVATION VOLTAGE (mV) ####\n",
      "vm=-34\n",
      "vn=-29\n",
      "vmp=-40\n",
      "vh=-48\n",
      "\n",
      "#### INVERSE SLOPE MULTIPLIER (mV) ####\n",
      "sm=-5\n",
      "sn=-4\n",
      "smp=-6\n",
      "sh=6\n",
      "\n",
      "#### TIME CONSTANT MAX VALUES (ms) #####\n",
      "taunb=10 #tau max for n\n",
      "tauhb=10000 #tau max for h\n",
      "\n",
      "#### Constants for calculating Ca Flux: ER --> Cytosol ####\n",
      "I=1 #IP3 concentration\n",
      "LL=0.37 #ER leak permeability\n",
      "P=31000 #maximum total permeability of IP3 channels\n",
      "Ki=1.0 #dissociation consts for IP3 receptor activity by IP3\n",
      "Ka=0.4 #dissociation consts for IP3 receptor activity by Ca\n",
      "\n",
      "#### Constants for calculating Ca Flux: Cytosol --> ER ####\n",
      "Ve=400 #Maximal SERCA pump rate\n",
      "Ke=0.2 #coefficient for SERCA pumps\n",
      "\n",
      "#### ER Ca CONCENTRATION ####\n",
      "Ct=1.25 #Total Ca\n",
      "sigma=0.185 #ratio of cytosolic to ER volume\n",
      "\n",
      "#The ER parameters\n",
      "fi=0.0001 #bound Ca concentration in cytosol\n",
      "Vi=4 #free Ca concentration in cytosol\n",
      "A=0.005 #scaling const.\n",
      "Kd=0.4 #dissociation constant for IP3 receptor inactivation by Ca\n",
      "\n",
      "#### Calcium current activation ####\n",
      "Kcan=0.74\n",
      "ncan=0.97\n",
      "\n",
      "#### Ratio of somatic to total area ####\n",
      "k=0.3"
     ],
     "language": "python",
     "metadata": {},
     "outputs": [],
     "prompt_number": 82
    },
    {
     "cell_type": "code",
     "collapsed": false,
     "input": [
      "param = {'Vs0': Vs0,  'ns0': ns0,  'hs0': hs0,  'Vd0': Vd0,  'C0': C0,  'l0': l0,  'seconds': seconds ,\\\n",
      "        'dt': dt,  'Cms': Cms,  'Cmd': Cmd,  'ena': ena,  'ek': ek,  'eL': eL,  'eSyn': eSyn,  'gk': gk,\\\n",
      "        'gna': gna,  'gnaps': gnaps,  'gL': gL,  'gtonic': gtonic,  'gcan': gcan ,  'Iaps': Iaps,  'vm': vm,\\\n",
      "        'vn': vn,  'vmp': vmp,  'vh': vh,  'sm': sm,  'sn': sn,  'smp': smp,  'sh': sh,  'taunb': taunb,\\\n",
      "        'tauhb': tauhb,  'I': I,  'LL': LL,  'P': P,  'Ki': Ki,  'Ka': Ka,  'Ve': Ve,  'Ke': Ke,  'Ct': Ct,\\\n",
      "        'sigma': sigma,  'fi': fi,  'Vi': Vi,  'A': A,  'Kd': Kd,  'Kcan': Kcan,  'ncan': ncan,  'k': k }\n",
      "checkParams(param)"
     ],
     "language": "python",
     "metadata": {},
     "outputs": [
      {
       "output_type": "stream",
       "stream": "stdout",
       "text": [
        "All necessary parameters specified and no extraneous parameters were found.\n"
       ]
      }
     ],
     "prompt_number": 78
    },
    {
     "cell_type": "heading",
     "level": 1,
     "metadata": {},
     "source": [
      "Simulate Model"
     ]
    },
    {
     "cell_type": "markdown",
     "metadata": {},
     "source": [
      "Run the cell to generate the graph of time vs. voltage."
     ]
    },
    {
     "cell_type": "code",
     "collapsed": false,
     "input": [
      "import numpy as np\n",
      "import matplotlib.pyplot as plt\n",
      "import math\n",
      "from scipy import linspace\n",
      "from scipy.integrate import odeint\n",
      "\n",
      "def df(y,t):\n",
      "    '''\n",
      "    Defines the model equation.\n",
      "    '''\n",
      "    Vs = y[0] #Somatic membrane voltage\n",
      "    ns = y[1] #activation variable\n",
      "    hs = y[2] #inactivation variable\n",
      "    Vd = y[3] #Dendritic membrane voltage\n",
      "    C = y[4] #Intracellular Ca2+ balance\n",
      "    l = y[5] #IP3 channel gating variable\n",
      "    \n",
      "    #Calculate ER Ca\n",
      "    Ce = (param['Ct'] - C)/param['sigma']\n",
      "    \n",
      "    # SOMATIC FUNCTIONS\n",
      "    minfs = 1/(1+math.exp((Vs-param['vm']) /param['sm']))\n",
      "    ninfs = 1/(1+math.exp((Vs-param['vn']) /param['sn']))\n",
      "    minfps = 1/(1+math.exp((Vs-param['vmp'])/param['smp']))\n",
      "    hinfs = 1/(1+math.exp((Vs-param['vh']) /param['sh']))\n",
      "    \n",
      "    tauns = param['taunb']/math.cosh((Vs-param['vn'])/(2*param['sn']))\n",
      "    tauhs = param['tauhb']/math.cosh((Vs-param['vh'])/(2*param['sh']))\n",
      "    \n",
      "    I_nas = param['gna']*math.pow(minfs,3)*(1-ns)*(Vs-param['ena']) #sodium current\n",
      "    I_ks = param['gk']*math.pow(ns,4)*(Vs-param['ek']) # potassium current\n",
      "    I_naps = param['gnaps']*minfps*hs*(Vs-param['ena']) # persistent sodium current\n",
      "    I_tonic = param['gtonic']*(Vs-param['eSyn']) # current from external tonic drive\n",
      "    I_L = param['gL']*(Vs-param['eL']) # leak current\n",
      "    I_ds = param['gcan']*(Vd-Vs)/param['k'] # modification of somatic current due to dendritic current\n",
      "        \n",
      "    # DENDRITIC FUNCTIONS\n",
      "    # Flux of Ca from ER to cytosol(regulated by IP3 receptors)\n",
      "    J_ER_in=(param['LL'] + param['P']*math.pow(((param['I']*C*l)/((param['I']+param['Ki'])*(C+param['Ka']))),3))*(Ce - C) \n",
      "    # Flux from cytosol back to ER (controlled by SERCA pumps)\n",
      "    J_ER_out=param['Ve']*math.pow(C,2)/(math.pow(param['Ke'],2)+math.pow(C,2))\n",
      "    # Activation of calcium current (I_can)\n",
      "    caninf = 1/(1+math.pow((param['Kcan']/C),param['ncan']))\n",
      "    \n",
      "    I_can = param['gcan']*caninf*(Vd-param['ena']) # calcium current\n",
      "    I_sd = param['gcan']*(Vs-Vd)/(1-param['k']) # modification of dendritic current due to somatic current\n",
      "    \n",
      "    # SOMATIC EQUATIONS\n",
      "    dVs = (-I_ks-I_nas-I_naps-I_L-I_tonic-param['Iaps'])/param['Cms']\n",
      "    dns = (ninfs-ns)/tauns\n",
      "    dhs = (hinfs-hs)/tauhs\n",
      "    \n",
      "    # DENDRITIC EQUATIONS\n",
      "    dVd = (-I_can-I_ds)/param['Cmd']\n",
      "    dC = param['fi']/param['Vi']*( J_ER_in - J_ER_out)\n",
      "    dl = param['A']*( param['Kd'] - (C + param['Kd'])*l )\n",
      "    \n",
      "    return [dVs,dns,dhs,dVd,dC,dl]\n",
      "\n",
      "\n",
      "#solves the equations\n",
      "def solve(y0, tEnd, tLen):\n",
      "    '''\n",
      "    Solve the equation from t=0 to t=tEnd for tLen time steps. Initial values are Vs0, ns0, hs0, Vd, C0, l0, respectively,\n",
      "    somatic voltage, activation variable, inactivation variable, dendritic voltage, calcium concentration, \n",
      "    and IP3 channel gating variable\n",
      "    '''\n",
      "    t = linspace(0,tEnd,tLen)\n",
      "    soln = odeint(df, y0, t)\n",
      "    Vs = soln[:, 0]\n",
      "    ns = soln[:, 0]\n",
      "    hs = soln[:, 0]\n",
      "    Vd=soln[:, 0]\n",
      "    C0=soln[:, 0]\n",
      "    l0=soln[:, 0]\n",
      "    return t, Vs\n",
      "\n",
      "def plotActionPotential(t, Vs):\n",
      "    '''\n",
      "    plot voltage (Vs) against time (t) and save to file fileName if provided\n",
      "    '''\n",
      "    plt.figure()\n",
      "    plt.plot(t/1000.,Vs,'k')\n",
      "    plt.ylabel('V (mV)', fontsize=16)\n",
      "    plt.xlabel('time (sec)', fontsize=16)\n",
      "    plt.ylim(-80,10)\n",
      "    plt.show()\n",
      "\n",
      "    \n",
      "    \n",
      "tEnd=param['seconds']*1000.0\n",
      "tLen=int(tEnd/param['dt'])\n",
      "\n",
      "#solve eq\n",
      "y0 = [param['Vs0'],param['ns0'],param['hs0'],param['Vd0'],param['C0'],param['l0']]\n",
      "t, Vs= solve(y0,tEnd,tLen)\n",
      "plotActionPotential(t,Vs)"
     ],
     "language": "python",
     "metadata": {},
     "outputs": [],
     "prompt_number": 108
    },
    {
     "cell_type": "code",
     "collapsed": false,
     "input": [],
     "language": "python",
     "metadata": {},
     "outputs": []
    }
   ],
   "metadata": {}
  }
 ]
}