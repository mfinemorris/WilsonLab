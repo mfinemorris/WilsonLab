{
 "metadata": {
  "name": "",
  "signature": "sha256:0908718e2afb432ef3bc1aac917fab385e206fef2e70b0ff65fece6820753850"
 },
 "nbformat": 3,
 "nbformat_minor": 0,
 "worksheets": [
  {
   "cells": [
    {
     "cell_type": "markdown",
     "metadata": {},
     "source": [
      "Modified from: http://nbviewer.ipython.org/github/ipython/ipython/blob/2.x/examples/Interactive%20Widgets/Variable%20Inspector.ipynb"
     ]
    },
    {
     "cell_type": "code",
     "collapsed": false,
     "input": [
      "from IPython.html import widgets # Loads the Widget framework.\n",
      "from IPython.core.magics.namespace import NamespaceMagics # Used to query namespace.\n",
      "\n",
      "# For this example, hide these names, just to avoid polluting the namespace further\n",
      "get_ipython().user_ns_hidden['widgets'] = widgets\n",
      "get_ipython().user_ns_hidden['NamespaceMagics'] = NamespaceMagics\n",
      "\n",
      "class VariableInspectorWindow(object):\n",
      "    instance = None\n",
      "    \n",
      "    def __init__(self, ipython):\n",
      "        \"\"\"Public constructor.\"\"\"\n",
      "        if VariableInspectorWindow.instance is not None:\n",
      "            raise Exception(\"\"\"Only one instance of the Variable Inspector can exist at a \n",
      "                time.  Call close() on the active instance before creating a new instance.\n",
      "                If you have lost the handle to the active instance, you can re-obtain it\n",
      "                via `VariableInspectorWindow.instance`.\"\"\")\n",
      "        \n",
      "        VariableInspectorWindow.instance = self\n",
      "        self.closed = False\n",
      "        self.namespace = NamespaceMagics()\n",
      "        self.namespace.shell = ipython.kernel.shell\n",
      "        \n",
      "        self._popout = widgets.PopupWidget()\n",
      "        self._popout.description = \"Variable Inspector\"\n",
      "        self._popout.button_text = self._popout.description\n",
      "\n",
      "        self._modal_body = widgets.ContainerWidget()\n",
      "        self._modal_body.set_css('overflow-y', 'scroll')\n",
      "\n",
      "        self._modal_body_label = widgets.HTMLWidget(value = 'Not hooked')\n",
      "        self._modal_body.children = [self._modal_body_label]\n",
      "\n",
      "        self._popout.children = [\n",
      "            self._modal_body, \n",
      "        ]\n",
      "        \n",
      "        self._ipython = ipython\n",
      "        self._ipython.register_post_execute(self._fill)\n",
      "\n",
      "    def close(self):\n",
      "        \"\"\"Close and remove hooks.\"\"\"\n",
      "        if not self.closed:\n",
      "            del self._ipython._post_execute[self._fill]\n",
      "            self._popout.close()\n",
      "            self.closed = True\n",
      "            VariableInspectorWindow.instance = None\n",
      "\n",
      "    def _fill(self):\n",
      "        \"\"\"Fill self with variable information.\"\"\"\n",
      "        values = self.namespace.who_ls()\n",
      "        self._modal_body_label.value = '<table class=\"table table-bordered table-striped\"><tr><th>Name</th><th>Type</th><th>Value</th></tr><tr><td>' + \\\n",
      "            '</td></tr><tr><td>'.join(['{0}</td><td>{1}</td><td>{2}'.format(v, type(eval(v)).__name__, str(eval(v))) for v in values]) + \\\n",
      "            '</td></tr></table>'\n",
      "\n",
      "    def _ipython_display_(self):\n",
      "        \"\"\"Called when display() or pyout is used to display the Variable \n",
      "        Inspector.\"\"\"\n",
      "        self._popout._ipython_display_()\n",
      "        self._popout.add_class('vbox')\n",
      "        self._modal_body.add_class('box-flex1')"
     ],
     "language": "python",
     "metadata": {},
     "outputs": []
    },
    {
     "cell_type": "code",
     "collapsed": false,
     "input": [
      "inspector = VariableInspectorWindow(get_ipython())\n",
      "inspector"
     ],
     "language": "python",
     "metadata": {},
     "outputs": []
    }
   ],
   "metadata": {}
  }
 ]
}