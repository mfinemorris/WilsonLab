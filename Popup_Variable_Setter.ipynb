{
 "metadata": {
  "name": "",
  "signature": "sha256:22183bd15e4cc6934d760d6ec9dbbdcff1f3acc0247f3222dc39b6c6f1466ddb"
 },
 "nbformat": 3,
 "nbformat_minor": 0,
 "worksheets": [
  {
   "cells": [
    {
     "cell_type": "markdown",
     "metadata": {},
     "source": [
      "Modified from: http://nbviewer.ipython.org/github/ipython/ipython/blob/2.x/examples/Interactive%20Widgets/Variable%20Inspector.ipynb"
     ]
    },
    {
     "cell_type": "code",
     "collapsed": false,
     "input": [
      "from IPython.html import widgets # Loads the Widget framework.\n",
      "from IPython.core.magics.namespace import NamespaceMagics # Used to query namespace.\n",
      "from IPython.display import display # Used to display widgets in the notebook\n",
      "from IPython.display import Math\n",
      "\n",
      "# For this example, hide these names, just to avoid polluting the namespace further\n",
      "get_ipython().user_ns_hidden['widgets'] = widgets\n",
      "get_ipython().user_ns_hidden['NamespaceMagics'] = NamespaceMagics\n",
      "\n",
      "\n",
      "defaultVars = {\"gL\":2.8, \"vleaks\":-60.0, \"tDuration\":30*1000., \"dt\":0.1, \\\n",
      "               \"gnaps\":2.8, \"Cms\":21.0, \"vna\":50., \"vk\":-85., \"gk\":11.2, \\\n",
      "               \"gna\":28.0, \"vm\":-34.,\"vn\":-29.,\"vmp\":-40.,\"vh\":-48.0,\"sm\":-5.0,\\\n",
      "               \"sn\":-4.0,\"smp\":-6.0,\"sh\":6.0,\"taunb\":10.0,\"tauhb\":10000.0, \"Iaps\":0.0}\n",
      "varSymbols = {\"gL\":r'g_{L}', \"vleaks\":r'E_{L}', \"dt\":r'dt', \"tDuration\":r'',\\\n",
      "               \"gnaps\":r'g_{nap}', \"Cms\":r'C_{m}', \"vna\":r'E_{Na}', \"vk\":r'E_{K}', \"gk\":r'g_{K}', \\\n",
      "               \"gna\":r'g_{Na}', \"vm\":r'\\theta_{m}',\"vn\":r'\\theta_{n}',\"vmp\":r'\\theta_{mp}',\"vh\":r'\\theta_{h}',\"sm\":r'\\sigma_{m}',\\\n",
      "               \"sn\":r'\\sigma_{n}',\"smp\":r'\\sigma_{mp}',\"sh\":r'\\sigma_{h}',\"taunb\":r'\\tau{n, max}',\"tauhb\":r'\\tau{n, max}', \"Iaps\":r'amp'}\n",
      "\n",
      "varUnits = {\"gL\":'uS/cm^2', \"vleaks\":\"mv\", \"tDuration\":\"ms\", \"dt\":\"ms\", \\\n",
      "               \"gnaps\":'uS/cm^2', \"Cms\":'uF/cm^2', \"vna\":\"mv\", \"vk\":\"mv\", \"gk\":'uS/cm^2', \\\n",
      "               \"gna\":'uS/cm^2', \"vm\":\"mv\",\"vn\":\"mv\",\"vmp\":\"mv\",\"vh\":\"mv\",\"sm\":\"mv\",\\\n",
      "               \"sn\":\"mv\",\"smp\":\"mv\",\"sh\":\"mv\",\"taunb\":\"ms\",\"tauhb\":\"ms\",\"Iaps\":\"A\"}\n",
      "\n",
      "varName = {\"gL\":'leak conductance per area', \"vleaks\":\"leak potential\", \"tDuration\":\"simulation duration\", \"dt\":\"time step\", \\\n",
      "               \"gnaps\":'persistent sodium conductance per area', \"Cms\":'membrane capacitance per area', \\\n",
      "               \"vna\":\"sodium reversal potential\", \"vk\":\"potassium reversal potential\", \"gk\":'potassium conductance per area', \\\n",
      "               \"gna\":'Sodium conductance per area',\"vm\":\"half activation for m\",\"vn\":\"half activation for n\",\\\n",
      "               \"vmp\":\"half activation for mp \",\"vh\":\"half inactivation for h\",\"sm\":\"inverse slope for m\", \\\n",
      "               \"sn\":\"inverse slope for n\",\"smp\":\"inverse slope for mp\",\"sh\":\"inverse slope for h\",\\\n",
      "               \"taunb\":\"max time const for n\",\"tauhb\":\"max time const for h\", \"Iaps\":\"injected current\"}\n",
      "\n",
      "\n",
      "class VariableInspectorWindow(object):\n",
      "    instance = None\n",
      "    \n",
      "    def __init__(self, ipython):\n",
      "        \"\"\"Public constructor.\"\"\"\n",
      "        if VariableInspectorWindow.instance is not None:\n",
      "            raise Exception(\"\"\"Only one instance of the Variable Inspector can exist at a \n",
      "                time.  Call close() on the active instance before creating a new instance.\n",
      "                If you have lost the handle to the active instance, you can re-obtain it\n",
      "                via `VariableInspectorWindow.instance`.\"\"\")\n",
      "        \n",
      "        VariableInspectorWindow.instance = self\n",
      "        self.closed = False\n",
      "        self.namespace = NamespaceMagics()\n",
      "        self.namespace.shell = ipython.kernel.shell\n",
      "        \n",
      "        self._popout = widgets.PopupWidget()\n",
      "        self._popout.description = \"Variable Inspector\"\n",
      "        self._popout.button_text = self._popout.description\n",
      "\n",
      "        self._modal_body = widgets.ContainerWidget()\n",
      "        self._modal_body.set_css('overflow-y', 'scroll')\n",
      "\n",
      "        self._modal_body_label = widgets.HTMLWidget(value = 'Not hooked')\n",
      "        self._modal_body.children = [self._modal_body_label]\n",
      "\n",
      "        self._popout.children = [\n",
      "            self._modal_body, \n",
      "        ]\n",
      "        \n",
      "        self._ipython = ipython\n",
      "        #self._ipython.register_post_execute(self._fill)\n",
      "        self._ipython.events.register('post_run_cell', self._fill)\n",
      "\n",
      "    def close(self):\n",
      "        \"\"\"Close and remove hooks.\"\"\"\n",
      "        if not self.closed:\n",
      "            del self._ipython._post_execute[self._fill]\n",
      "            self._popout.close()\n",
      "            self.closed = True\n",
      "            VariableInspectorWindow.instance = None\n",
      "\n",
      "    def _fill(self):\n",
      "        \"\"\"Fill self with variable information.\"\"\"\n",
      "        values = self.namespace.who_ls('float int')#this gets a sorted list of all interactive variables\n",
      "       \n",
      "        self._modal_body_label.value = '<table class=\"table table-bordered table-striped\"><tr><th>Name</th><th>Type</th><th>Value</th></tr><tr><td>' + \\\n",
      "            '</td></tr><tr><td>'.join(['{0}</td><td>{1}</td><td>{2}'.format(v, type(eval(v)).__name__, str(eval(v))) for v in values]) + \\\n",
      "            '</td></tr></table>'\n",
      "        \"\"\"\n",
      "        self._modal_body_label.value = '<table class=\"table table-bordered table-striped\"><tr><th>Variable Name</th><th>Default Value</th><th>Units</th><th>Description</th</tr><tr><td>' + \\\n",
      "            '</td></tr><tr><td>'.join(['{0}</td><td>{1}</td><td>{2}'.format(key, defaultVars[key], varUnits[key], varName[key]) for key in defaultVars]) + \\\n",
      "            '</td></tr></table>'\n",
      "         \"\"\"\n",
      "    def _ipython_display_(self):\n",
      "        \"\"\"Called when display() or pyout is used to display the Variable \n",
      "        Inspector.\"\"\"\n",
      "        self._popout._ipython_display_()\n",
      "        self._popout.add_class('vbox')\n",
      "        self._modal_body.add_class('box-flex1')"
     ],
     "language": "python",
     "metadata": {},
     "outputs": [],
     "prompt_number": 6
    },
    {
     "cell_type": "code",
     "collapsed": false,
     "input": [
      "%reset\n",
      "a=101\n",
      "b=95.3\n",
      "c=9.0\n",
      "inspector = VariableInspectorWindow(get_ipython())\n",
      "inspector"
     ],
     "language": "python",
     "metadata": {},
     "outputs": [
      {
       "name": "stdout",
       "output_type": "stream",
       "stream": "stdout",
       "text": [
        "Once deleted, variables cannot be recovered. Proceed (y/[n])? \n"
       ]
      },
      {
       "output_type": "stream",
       "stream": "stdout",
       "text": [
        "Nothing done.\n"
       ]
      }
     ],
     "prompt_number": 7
    },
    {
     "cell_type": "code",
     "collapsed": false,
     "input": [],
     "language": "python",
     "metadata": {},
     "outputs": []
    }
   ],
   "metadata": {}
  }
 ]
}