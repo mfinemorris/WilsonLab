{
 "metadata": {
  "name": "",
  "signature": "sha256:a9b4191b44e8aa4256f06a1d590b89e4d5edbba11e3370c90d488fc3b0231ec3"
 },
 "nbformat": 3,
 "nbformat_minor": 0,
 "worksheets": [
  {
   "cells": [
    {
     "cell_type": "code",
     "collapsed": false,
     "input": [
      "import IPython.display as display\n",
      "\n",
      "import numpy as np\n",
      "from numpy import NaN, Inf, arange, isscalar, asarray, array\n",
      "\n",
      "import scipy\n",
      "from scipy import spatial, signal, fft, arange\n",
      "\n",
      "import pandas as pd\n",
      "from pandas import Series, DataFrame\n",
      "from pandas.tools.plotting import autocorrelation_plot\n",
      "\n",
      "import matplotlib.pyplot as plt\n",
      "import matplotlib.patches as patches\n",
      "from matplotlib.backends.backend_pdf import PdfPages\n",
      "\n",
      "import sys, os, errno, math, time\n",
      "import itertools\n",
      "import utility, NMResources, NMAPlots #import my .py files\n",
      "\n",
      "# any function defs\n",
      "\n",
      "def load_multiCols(file_name):\n",
      "    return pd.read_csv(file_name, index_col=[0], header=[0,1], skipinitialspace=True)\n",
      "\n",
      "def extract_misc_data(file_name, show = False):\n",
      "    '''\n",
      "    Extracts labeled data from the passed file and returns a dict of labels: data.\n",
      "    '''\n",
      "    import json\n",
      "    #Extract Data\n",
      "    with open(file_name,'r') as f:\n",
      "        misc_data = json.load(f)\n",
      "    if show: print 'Items in misc file: ',misc_data.keys(),'\\n'\n",
      "\n",
      "    #put extracted data in a dict\n",
      "    temp = {}\n",
      "    for k,v in misc_data.iteritems():\n",
      "        try:\n",
      "            temp[k] = pd.DataFrame.from_dict(v)\n",
      "            if show: print k,': ', type(temp[k])\n",
      "        except:\n",
      "            temp[k] = v\n",
      "            if show: print k, \": \", v\n",
      "    return temp\n"
     ],
     "language": "python",
     "metadata": {},
     "outputs": [],
     "prompt_number": 1
    },
    {
     "cell_type": "code",
     "collapsed": false,
     "input": [
      "def extract_var_label(file_name, var_name):\n",
      "    basename = os.path.basename(file_name)\n",
      "    f_parts = os.path.splitext(basename)[0].split('-') #remove extension and split on '-'\n",
      "    for part in f_parts:\n",
      "        if var_name in part:\n",
      "            label = part.replace(var_name,'').replace(\"_\",\".\")\n",
      "            return label\n",
      "    return None\n",
      "\n",
      "def load_label_multiCols(files, label_var):\n",
      "    data = {}\n",
      "    for f in files:\n",
      "        basename = os.path.basename(f)\n",
      "        label = extract_var_label(basename,'IP')\n",
      "        data[label] = load_multiCols(f)\n",
      "    return data\n",
      "\n",
      "def count_bursts_all(bursts_dict, time=0):\n",
      "    all_bursts_freq = {}\n",
      "    for key, value in bursts_dict.iteritems():\n",
      "        all_bursts_freq[key] = count_bursts(value,time)\n",
      "    return all_bursts_freq\n",
      "\n",
      "def count_bursts(burst_df, time=0):\n",
      "    '''\n",
      "    If you do not provide a time >= 0 only the count will be returned, not the overall frequency\n",
      "    '''\n",
      "    burst_start_all_keys = burst_df.xs(key='start',axis=1, level=1)\n",
      "    bursts_per_sec = {}\n",
      "    for k,v in burst_start_all_keys.iteritems():\n",
      "        if time <= 0:\n",
      "            bursts_per_sec[k] = len(v.dropna())\n",
      "            print k, len(v.dropna())\n",
      "        else:\n",
      "            bursts_per_sec[k] = len(v.dropna())/time\n",
      "    return bursts_per_sec\n",
      "\n",
      "\n",
      "\n",
      "def get_files(start, folder_crit=[], file_crit=[], verbose = True):\n",
      "    folders = []\n",
      "    curr_dir = os.getcwd()\n",
      "    folder_num = 0\n",
      "    for n, (root, dirs, files) in enumerate(os.walk(start)):\n",
      "        \n",
      "        #if root does not contain folder criteria, skip it\n",
      "        if not utility.strings_containing([root], folder_crit):\n",
      "            continue\n",
      "        \n",
      "        if verbose: print \"[\"+str(folder_num)+\"]\", root\n",
      "        folder_num += 1\n",
      "        file_paths = []\n",
      "        \n",
      "        goodfiles = utility.strings_containing(files,file_crit)\n",
      "        for nn,f in enumerate(goodfiles):\n",
      "            #remove zip files\n",
      "            if '.zip' in f:\n",
      "                files.remove(f)\n",
      "                continue\n",
      "            file_path = \"r'\"+os.path.join(curr_dir,root, f).replace('C:','')+\"'\"\n",
      "            if verbose: \n",
      "                print \" [\"+str(nn)+\"]\", file_path\n",
      "            file_paths.append(file_path.lstrip('r').replace('\\'',''))\n",
      "        if verbose: \n",
      "            print\n",
      "        if len(file_paths) > 0:\n",
      "            folders.append(file_paths)\n",
      "    return list(itertools.chain(*folders))\n",
      "\n",
      "import shutil\n",
      "def copy_all_files(new_dir, files, verbose = False):\n",
      "    new_files = []\n",
      "    for i in files:\n",
      "        base = os.path.basename(i)\n",
      "        new_location = os.path.join(new_dir, base)\n",
      "        try:\n",
      "            shutil.copy(i, new_location)\n",
      "            if verbose: print \"Made file %s\" % new_location\n",
      "            new_files.append(new_location)\n",
      "        except:\n",
      "            if verbose: print 'Copy of \"%s\" to new dir \"%s\" failed.'%(i, new_dir)\n",
      "    return new_files\n",
      "\n",
      "valid_files = get_files('NMAnalysis',['TBModel'],['.csv','misc'],False)\n",
      "valid_files"
     ],
     "language": "python",
     "metadata": {},
     "outputs": [
      {
       "metadata": {},
       "output_type": "pyout",
       "prompt_number": 146,
       "text": [
        "['\\\\Users\\\\mfinemorris\\\\repos\\\\WilsonLab\\\\NMAnalysis\\\\TBModel-sec1320-eL-IP0_9\\\\misc-TBModel-sec1320-eL-IP0_9.txt.csv',\n",
        " '\\\\Users\\\\mfinemorris\\\\repos\\\\WilsonLab\\\\NMAnalysis\\\\TBModel-sec1320-eL-IP0_9-gnaps2_8\\\\misc-TBModel-sec1320-eL-IP0_9-gnaps2_8.txt.csv',\n",
        " '\\\\Users\\\\mfinemorris\\\\repos\\\\WilsonLab\\\\NMAnalysis\\\\TBModel-sec1320-eL-IP0_95\\\\misc-TBModel-sec1320-eL-IP0_95.txt.csv',\n",
        " '\\\\Users\\\\mfinemorris\\\\repos\\\\WilsonLab\\\\NMAnalysis\\\\TBModel-sec1320-eL-IP0_95-gnaps2_8\\\\misc-TBModel-sec1320-eL-IP0_95-gnaps2_8.txt.csv',\n",
        " '\\\\Users\\\\mfinemorris\\\\repos\\\\WilsonLab\\\\NMAnalysis\\\\TBModel-sec1320-eL-IP1_0\\\\misc-TBModel-sec1320-eL-IP1_0.txt.csv',\n",
        " '\\\\Users\\\\mfinemorris\\\\repos\\\\WilsonLab\\\\NMAnalysis\\\\TBModel-sec1320-eL-IP1_0-gnaps2_8\\\\misc-TBModel-sec1320-eL-IP1_0-gnaps2_8.txt.csv',\n",
        " '\\\\Users\\\\mfinemorris\\\\repos\\\\WilsonLab\\\\NMAnalysis\\\\TBModel-sec1320-eL-IP1_2\\\\misc-TBModel-sec1320-eL-IP1_2.txt.csv',\n",
        " '\\\\Users\\\\mfinemorris\\\\repos\\\\WilsonLab\\\\NMAnalysis\\\\TBModel-sec1320-eL-IP1_2-gnaps2_8\\\\misc-TBModel-sec1320-eL-IP1_2-gnaps2_8.txt.csv']"
       ]
      }
     ],
     "prompt_number": 146
    },
    {
     "cell_type": "heading",
     "level": 2,
     "metadata": {},
     "source": [
      "Get N for IP3 and eL"
     ]
    },
    {
     "cell_type": "code",
     "collapsed": false,
     "input": [
      "#get overall burst freq or burst count\n",
      "burst_freq = count_bursts_all(bursts)\n",
      "print burst_freq\n",
      "pd.DataFrame(burst_freq)"
     ],
     "language": "python",
     "metadata": {},
     "outputs": [
      {
       "output_type": "stream",
       "stream": "stdout",
       "text": [
        "-40 0\n",
        "-45 0\n",
        "-50 0\n",
        "-55 396\n",
        "-65 0\n",
        "-40 0\n",
        "-45 0\n",
        "-50 148\n",
        "-55 590\n",
        "-60 147\n",
        "-65 147\n",
        "-40 0\n",
        "-45 0\n",
        "-50 452\n",
        "-55 451\n",
        "-60 451\n",
        "-65 451\n",
        "-40 0\n",
        "-45 0\n",
        "-50 724\n",
        "-55 723\n",
        "-60 723\n",
        "-65 722\n",
        "{'0.9': {'-55': 396, '-65': 0, '-40': 0, '-50': 0, '-45': 0}, '0.95': {'-55': 590, '-60': 147, '-65': 147, '-40': 0, '-45': 0, '-50': 148}, '1.0': {'-55': 451, '-60': 451, '-65': 451, '-40': 0, '-45': 0, '-50': 452}, '1.2': {'-55': 723, '-60': 723, '-65': 722, '-40': 0, '-45': 0, '-50': 724}}\n"
       ]
      },
      {
       "html": [
        "<div style=\"max-height:1000px;max-width:1500px;overflow:auto;\">\n",
        "<table border=\"1\" class=\"dataframe\">\n",
        "  <thead>\n",
        "    <tr style=\"text-align: right;\">\n",
        "      <th></th>\n",
        "      <th>0.9</th>\n",
        "      <th>0.95</th>\n",
        "      <th>1.0</th>\n",
        "      <th>1.2</th>\n",
        "    </tr>\n",
        "  </thead>\n",
        "  <tbody>\n",
        "    <tr>\n",
        "      <th>-40</th>\n",
        "      <td>   0</td>\n",
        "      <td>   0</td>\n",
        "      <td>   0</td>\n",
        "      <td>   0</td>\n",
        "    </tr>\n",
        "    <tr>\n",
        "      <th>-45</th>\n",
        "      <td>   0</td>\n",
        "      <td>   0</td>\n",
        "      <td>   0</td>\n",
        "      <td>   0</td>\n",
        "    </tr>\n",
        "    <tr>\n",
        "      <th>-50</th>\n",
        "      <td>   0</td>\n",
        "      <td> 148</td>\n",
        "      <td> 452</td>\n",
        "      <td> 724</td>\n",
        "    </tr>\n",
        "    <tr>\n",
        "      <th>-55</th>\n",
        "      <td> 396</td>\n",
        "      <td> 590</td>\n",
        "      <td> 451</td>\n",
        "      <td> 723</td>\n",
        "    </tr>\n",
        "    <tr>\n",
        "      <th>-60</th>\n",
        "      <td> NaN</td>\n",
        "      <td> 147</td>\n",
        "      <td> 451</td>\n",
        "      <td> 723</td>\n",
        "    </tr>\n",
        "    <tr>\n",
        "      <th>-65</th>\n",
        "      <td>   0</td>\n",
        "      <td> 147</td>\n",
        "      <td> 451</td>\n",
        "      <td> 722</td>\n",
        "    </tr>\n",
        "  </tbody>\n",
        "</table>\n",
        "</div>"
       ],
       "metadata": {},
       "output_type": "pyout",
       "prompt_number": 212,
       "text": [
        "     0.9  0.95  1.0  1.2\n",
        "-40    0     0    0    0\n",
        "-45    0     0    0    0\n",
        "-50    0   148  452  724\n",
        "-55  396   590  451  723\n",
        "-60  NaN   147  451  723\n",
        "-65    0   147  451  722"
       ]
      }
     ],
     "prompt_number": 212
    },
    {
     "cell_type": "heading",
     "level": 2,
     "metadata": {},
     "source": [
      "Extract data from the misc file"
     ]
    },
    {
     "cell_type": "code",
     "collapsed": false,
     "input": [
      "#output_file = r'\\Users\\mfinemorris\\repos\\WilsonLab\\NMAnalysis\\TBModel-sec1320-eL-IP0_95-gnaps2_8\\misc-TBModel-sec1320-eL-IP0_95-gnaps2_8.txt.csv'\n",
      "def gather_misc_data(misc_files):\n",
      "    all_data = {}\n",
      "    bd = {}\n",
      "    ibi = {}\n",
      "    for i in misc_files:\n",
      "        f = os.path.splitext(os.path.splitext(os.path.basename(i))[0])[0]\n",
      "        print  f\n",
      "        label = f.split('-')[4].replace(\"IP\",'').replace(\"_\",\".\") #get IP val\n",
      "        all_data[label] = extract_misc_data(i)\n",
      "\n",
      "        bd[label] = all_data[label]['burst_stat_data'].dropna()\n",
      "        ibi[label] =all_data[label]['ibi_avg_std'].dropna()\n",
      "    return all_data, bd, ibi"
     ],
     "language": "python",
     "metadata": {},
     "outputs": [],
     "prompt_number": 150
    },
    {
     "cell_type": "code",
     "collapsed": false,
     "input": [
      "misc_files_all = get_files('NMAnalysis',['TBModel'],['misc'],verbose=False)\n",
      "misc_files_2_8 = [f for f in misc_files_all if 'gnaps' in f]\n",
      "misc_files_1_5 = [f for f in misc_files_all if not 'gnaps' in f]\n",
      "#misc_files = misc_files_2_8\n",
      "misc_files = misc_files_1_5\n",
      "misc_files"
     ],
     "language": "python",
     "metadata": {},
     "outputs": [
      {
       "metadata": {},
       "output_type": "pyout",
       "prompt_number": 151,
       "text": [
        "['\\\\Users\\\\mfinemorris\\\\repos\\\\WilsonLab\\\\NMAnalysis\\\\TBModel-sec1320-eL-IP0_9\\\\misc-TBModel-sec1320-eL-IP0_9.txt.csv',\n",
        " '\\\\Users\\\\mfinemorris\\\\repos\\\\WilsonLab\\\\NMAnalysis\\\\TBModel-sec1320-eL-IP0_95\\\\misc-TBModel-sec1320-eL-IP0_95.txt.csv',\n",
        " '\\\\Users\\\\mfinemorris\\\\repos\\\\WilsonLab\\\\NMAnalysis\\\\TBModel-sec1320-eL-IP1_0\\\\misc-TBModel-sec1320-eL-IP1_0.txt.csv',\n",
        " '\\\\Users\\\\mfinemorris\\\\repos\\\\WilsonLab\\\\NMAnalysis\\\\TBModel-sec1320-eL-IP1_2\\\\misc-TBModel-sec1320-eL-IP1_2.txt.csv']"
       ]
      }
     ],
     "prompt_number": 151
    },
    {
     "cell_type": "code",
     "collapsed": false,
     "input": [
      "all_data, bd, ibi = gather_misc_data(misc_files)"
     ],
     "language": "python",
     "metadata": {},
     "outputs": [
      {
       "output_type": "stream",
       "stream": "stdout",
       "text": [
        "misc-TBModel-sec1320-eL-IP0_9\n",
        "misc-TBModel-sec1320-eL-IP0_95\n",
        "misc-TBModel-sec1320-eL-IP1_0\n",
        "misc-TBModel-sec1320-eL-IP1_2\n"
       ]
      }
     ],
     "prompt_number": 152
    },
    {
     "cell_type": "code",
     "collapsed": false,
     "input": [
      "%store bd_gnapkeyed\n",
      "%store ibi_gnapkeyed"
     ],
     "language": "python",
     "metadata": {},
     "outputs": [
      {
       "output_type": "stream",
       "stream": "stdout",
       "text": [
        "Stored 'bd_gnapkeyed' (dict)\n",
        "Stored 'ibi_gnapkeyed' (dict)\n"
       ]
      }
     ],
     "prompt_number": 153
    },
    {
     "cell_type": "code",
     "collapsed": false,
     "input": [
      "all_data = {}\n",
      "bd = {}\n",
      "ibi = {}\n",
      "for i in misc_files:\n",
      "    f = os.path.splitext(os.path.splitext(os.path.basename(i))[0])[0]\n",
      "    label = f.split('-')[4].replace(\"IP\",'').replace(\"_\",\".\") #get IP val\n",
      "    all_data[label] = extract_misc_data(i)\n",
      "    \n",
      "    bd[label] = all_data[label]['burst_stat_data'].dropna()\n",
      "    ibi[label] = all_data[label]['ibi_avg_std'].dropna()\n",
      "\n",
      "    bd_df = pd.concat([bd[label]['duration mean'], bd[label]['duration std']], axis=1)\n",
      "    spb_df = pd.concat([bd[label]['spike/burst'], bd[label]['spike/burst std']], axis=1)\n",
      "    all_df = pd.concat([bd_df, spb_df, ibi[label]], axis=1)\n",
      "    \n",
      "    print f\n",
      "    display.display(all_df)\n",
      "\n",
      "    ibi_bd_dir = '\\\\Users\\\\mfinemorris\\\\Desktop'\n",
      "    f = f+'.csv'\n",
      "    \n",
      "    ibi_f = os.path.join(ibi_bd_dir,f.replace('misc','ibi'))\n",
      "    bd_f = os.path.join(ibi_bd_dir,f.replace('misc','bd'))\n",
      "    spb_f = os.path.join(ibi_bd_dir,f.replace('misc','spb'))\n",
      "    all_f =  os.path.join(ibi_bd_dir,f.replace('misc','all'))\n",
      "    \n",
      "    bd_df.to_csv(bd_f)\n",
      "    spb_df.to_csv(spb_f)\n",
      "    ibi[label].to_csv(ibi_f)\n",
      "    all_df.to_csv(all_f)\n",
      "    \n"
     ],
     "language": "python",
     "metadata": {},
     "outputs": [
      {
       "output_type": "stream",
       "stream": "stdout",
       "text": [
        "misc-TBModel-sec1320-eL-IP0_9\n"
       ]
      },
      {
       "html": [
        "<div style=\"max-height:1000px;max-width:1500px;overflow:auto;\">\n",
        "<table border=\"1\" class=\"dataframe\">\n",
        "  <thead>\n",
        "    <tr style=\"text-align: right;\">\n",
        "      <th></th>\n",
        "      <th>duration mean</th>\n",
        "      <th>duration std</th>\n",
        "      <th>spike/burst</th>\n",
        "      <th>spike/burst std</th>\n",
        "      <th>ibi_average</th>\n",
        "      <th>ibi_std</th>\n",
        "    </tr>\n",
        "  </thead>\n",
        "  <tbody>\n",
        "    <tr>\n",
        "      <th>-55</th>\n",
        "      <td> 0</td>\n",
        "      <td> 0</td>\n",
        "      <td> 1</td>\n",
        "      <td> 0</td>\n",
        "      <td> 3304.959846</td>\n",
        "      <td> 0.049133</td>\n",
        "    </tr>\n",
        "  </tbody>\n",
        "</table>\n",
        "</div>"
       ],
       "metadata": {},
       "output_type": "display_data",
       "text": [
        "     duration mean  duration std  spike/burst  spike/burst std  ibi_average  \\\n",
        "-55              0             0            1                0  3304.959846   \n",
        "\n",
        "      ibi_std  \n",
        "-55  0.049133  "
       ]
      },
      {
       "output_type": "stream",
       "stream": "stdout",
       "text": [
        "misc-TBModel-sec1320-eL-IP0_95\n"
       ]
      },
      {
       "html": [
        "<div style=\"max-height:1000px;max-width:1500px;overflow:auto;\">\n",
        "<table border=\"1\" class=\"dataframe\">\n",
        "  <thead>\n",
        "    <tr style=\"text-align: right;\">\n",
        "      <th></th>\n",
        "      <th>duration mean</th>\n",
        "      <th>duration std</th>\n",
        "      <th>spike/burst</th>\n",
        "      <th>spike/burst std</th>\n",
        "      <th>ibi_average</th>\n",
        "      <th>ibi_std</th>\n",
        "    </tr>\n",
        "  </thead>\n",
        "  <tbody>\n",
        "    <tr>\n",
        "      <th>-50</th>\n",
        "      <td> 7325.078786</td>\n",
        "      <td>  53.093710</td>\n",
        "      <td> 119.775510</td>\n",
        "      <td>  5.354291</td>\n",
        "      <td> 1603.950462</td>\n",
        "      <td>    7.579744</td>\n",
        "    </tr>\n",
        "    <tr>\n",
        "      <th>-55</th>\n",
        "      <td>  196.378828</td>\n",
        "      <td> 341.220482</td>\n",
        "      <td>   9.471186</td>\n",
        "      <td> 14.718237</td>\n",
        "      <td> 2028.976933</td>\n",
        "      <td> 2782.655099</td>\n",
        "    </tr>\n",
        "    <tr>\n",
        "      <th>-60</th>\n",
        "      <td>  388.282342</td>\n",
        "      <td>   1.929146</td>\n",
        "      <td>  29.979592</td>\n",
        "      <td>  0.247436</td>\n",
        "      <td> 8536.421055</td>\n",
        "      <td>    1.110531</td>\n",
        "    </tr>\n",
        "    <tr>\n",
        "      <th>-65</th>\n",
        "      <td>  300.788536</td>\n",
        "      <td>  24.908937</td>\n",
        "      <td>  22.831081</td>\n",
        "      <td>  1.823462</td>\n",
        "      <td> 8614.262139</td>\n",
        "      <td>   93.376614</td>\n",
        "    </tr>\n",
        "  </tbody>\n",
        "</table>\n",
        "</div>"
       ],
       "metadata": {},
       "output_type": "display_data",
       "text": [
        "     duration mean  duration std  spike/burst  spike/burst std  ibi_average  \\\n",
        "-50    7325.078786     53.093710   119.775510         5.354291  1603.950462   \n",
        "-55     196.378828    341.220482     9.471186        14.718237  2028.976933   \n",
        "-60     388.282342      1.929146    29.979592         0.247436  8536.421055   \n",
        "-65     300.788536     24.908937    22.831081         1.823462  8614.262139   \n",
        "\n",
        "         ibi_std  \n",
        "-50     7.579744  \n",
        "-55  2782.655099  \n",
        "-60     1.110531  \n",
        "-65    93.376614  "
       ]
      },
      {
       "output_type": "stream",
       "stream": "stdout",
       "text": [
        "misc-TBModel-sec1320-eL-IP1_0\n"
       ]
      },
      {
       "html": [
        "<div style=\"max-height:1000px;max-width:1500px;overflow:auto;\">\n",
        "<table border=\"1\" class=\"dataframe\">\n",
        "  <thead>\n",
        "    <tr style=\"text-align: right;\">\n",
        "      <th></th>\n",
        "      <th>duration mean</th>\n",
        "      <th>duration std</th>\n",
        "      <th>spike/burst</th>\n",
        "      <th>spike/burst std</th>\n",
        "      <th>ibi_average</th>\n",
        "      <th>ibi_std</th>\n",
        "    </tr>\n",
        "  </thead>\n",
        "  <tbody>\n",
        "    <tr>\n",
        "      <th>-50</th>\n",
        "      <td> 1483.825833</td>\n",
        "      <td> 123.201753</td>\n",
        "      <td> 48.201774</td>\n",
        "      <td> 4.238091</td>\n",
        "      <td> 1442.385475</td>\n",
        "      <td>  5.252801</td>\n",
        "    </tr>\n",
        "    <tr>\n",
        "      <th>-55</th>\n",
        "      <td>  444.682961</td>\n",
        "      <td>   9.799522</td>\n",
        "      <td> 28.997783</td>\n",
        "      <td> 0.047088</td>\n",
        "      <td> 2475.752294</td>\n",
        "      <td>  9.666139</td>\n",
        "    </tr>\n",
        "    <tr>\n",
        "      <th>-60</th>\n",
        "      <td>  374.301359</td>\n",
        "      <td>   5.012979</td>\n",
        "      <td> 23.966741</td>\n",
        "      <td> 0.467858</td>\n",
        "      <td> 2546.112610</td>\n",
        "      <td>  4.662043</td>\n",
        "    </tr>\n",
        "    <tr>\n",
        "      <th>-65</th>\n",
        "      <td>  309.473917</td>\n",
        "      <td>  36.944447</td>\n",
        "      <td> 18.524336</td>\n",
        "      <td> 1.295337</td>\n",
        "      <td> 2606.068560</td>\n",
        "      <td> 91.881385</td>\n",
        "    </tr>\n",
        "  </tbody>\n",
        "</table>\n",
        "</div>"
       ],
       "metadata": {},
       "output_type": "display_data",
       "text": [
        "     duration mean  duration std  spike/burst  spike/burst std  ibi_average  \\\n",
        "-50    1483.825833    123.201753    48.201774         4.238091  1442.385475   \n",
        "-55     444.682961      9.799522    28.997783         0.047088  2475.752294   \n",
        "-60     374.301359      5.012979    23.966741         0.467858  2546.112610   \n",
        "-65     309.473917     36.944447    18.524336         1.295337  2606.068560   \n",
        "\n",
        "       ibi_std  \n",
        "-50   5.252801  \n",
        "-55   9.666139  \n",
        "-60   4.662043  \n",
        "-65  91.881385  "
       ]
      },
      {
       "output_type": "stream",
       "stream": "stdout",
       "text": [
        "misc-TBModel-sec1320-eL-IP1_2\n"
       ]
      },
      {
       "html": [
        "<div style=\"max-height:1000px;max-width:1500px;overflow:auto;\">\n",
        "<table border=\"1\" class=\"dataframe\">\n",
        "  <thead>\n",
        "    <tr style=\"text-align: right;\">\n",
        "      <th></th>\n",
        "      <th>duration mean</th>\n",
        "      <th>duration std</th>\n",
        "      <th>spike/burst</th>\n",
        "      <th>spike/burst std</th>\n",
        "      <th>ibi_average</th>\n",
        "      <th>ibi_std</th>\n",
        "    </tr>\n",
        "  </thead>\n",
        "  <tbody>\n",
        "    <tr>\n",
        "      <th>-50</th>\n",
        "      <td> 686.009470</td>\n",
        "      <td> 74.717997</td>\n",
        "      <td> 41.119114</td>\n",
        "      <td> 3.016771</td>\n",
        "      <td> 1140.808397</td>\n",
        "      <td>  7.992961</td>\n",
        "    </tr>\n",
        "    <tr>\n",
        "      <th>-55</th>\n",
        "      <td> 460.616909</td>\n",
        "      <td>  0.635660</td>\n",
        "      <td> 29.005533</td>\n",
        "      <td> 0.117557</td>\n",
        "      <td> 1363.551971</td>\n",
        "      <td>  0.523816</td>\n",
        "    </tr>\n",
        "    <tr>\n",
        "      <th>-60</th>\n",
        "      <td> 395.814829</td>\n",
        "      <td>  3.247589</td>\n",
        "      <td> 21.977870</td>\n",
        "      <td> 0.315012</td>\n",
        "      <td> 1428.338421</td>\n",
        "      <td>  3.232061</td>\n",
        "    </tr>\n",
        "    <tr>\n",
        "      <th>-65</th>\n",
        "      <td> 330.480412</td>\n",
        "      <td> 20.215630</td>\n",
        "      <td> 15.940608</td>\n",
        "      <td> 0.850064</td>\n",
        "      <td> 1491.504395</td>\n",
        "      <td> 46.709501</td>\n",
        "    </tr>\n",
        "  </tbody>\n",
        "</table>\n",
        "</div>"
       ],
       "metadata": {},
       "output_type": "display_data",
       "text": [
        "     duration mean  duration std  spike/burst  spike/burst std  ibi_average  \\\n",
        "-50     686.009470     74.717997    41.119114         3.016771  1140.808397   \n",
        "-55     460.616909      0.635660    29.005533         0.117557  1363.551971   \n",
        "-60     395.814829      3.247589    21.977870         0.315012  1428.338421   \n",
        "-65     330.480412     20.215630    15.940608         0.850064  1491.504395   \n",
        "\n",
        "       ibi_std  \n",
        "-50   7.992961  \n",
        "-55   0.523816  \n",
        "-60   3.232061  \n",
        "-65  46.709501  "
       ]
      }
     ],
     "prompt_number": 155
    },
    {
     "cell_type": "heading",
     "level": 2,
     "metadata": {},
     "source": [
      "Extract Data From Burst Files"
     ]
    },
    {
     "cell_type": "code",
     "collapsed": false,
     "input": [
      "#get appropriate files and separate based on gnaps val\n",
      "burst_files_all = get_files('NMAnalysis',['TBModel','1320'],['bursts'],verbose=False)\n",
      "#split into gnaps=2.8 and gnaps=1.5\n",
      "#should actually flatten with itertools.chain\n",
      "burst_files_2_8 = [f for f in burst_files_all if 'gnaps' in f]\n",
      "burst_files_1_5 = [f for f in burst_files_all if not 'gnaps' in f]\n",
      "\n",
      "#burst_files = burst_files_2_8\n",
      "burst_files = burst_files_1_5\n",
      "\n",
      "if '0_96' in burst_files[2]:\n",
      "    burst_files.pop(2)\n",
      "burst_files"
     ],
     "language": "python",
     "metadata": {},
     "outputs": [
      {
       "metadata": {},
       "output_type": "pyout",
       "prompt_number": 140,
       "text": [
        "['\\\\Users\\\\mfinemorris\\\\repos\\\\WilsonLab\\\\NMAnalysis\\\\TBModel-sec1320-eL-IP0_9\\\\bursts-TBModel-sec1320-eL-IP0_9.txt',\n",
        " '\\\\Users\\\\mfinemorris\\\\repos\\\\WilsonLab\\\\NMAnalysis\\\\TBModel-sec1320-eL-IP0_95\\\\bursts-TBModel-sec1320-eL-IP0_95.txt',\n",
        " '\\\\Users\\\\mfinemorris\\\\repos\\\\WilsonLab\\\\NMAnalysis\\\\TBModel-sec1320-eL-IP1_0\\\\bursts-TBModel-sec1320-eL-IP1_0.txt',\n",
        " '\\\\Users\\\\mfinemorris\\\\repos\\\\WilsonLab\\\\NMAnalysis\\\\TBModel-sec1320-eL-IP1_2\\\\bursts-TBModel-sec1320-eL-IP1_2.txt']"
       ]
      }
     ],
     "prompt_number": 140
    },
    {
     "cell_type": "code",
     "collapsed": false,
     "input": [
      "#load files\n",
      "bursts = load_label_multiCols(burst_files,'IP')\n",
      "for k in bursts:\n",
      "    print k\n",
      "    b = bursts[k]\n",
      "    dur = b.xs('duration',level=1,axis=1)\n",
      "    for k,v in dur.iteritems():\n",
      "        print k, v.mean()   \n",
      "#display.display()"
     ],
     "language": "python",
     "metadata": {},
     "outputs": [
      {
       "output_type": "stream",
       "stream": "stdout",
       "text": [
        "0.9\n",
        "-40 nan\n",
        "-45 nan\n",
        "-50 nan\n",
        "-55 0.0\n",
        "-65 nan\n",
        "0.95\n",
        "-40 nan\n",
        "-45 nan\n",
        "-50 300.788536301\n",
        "-55 196.378828437\n",
        "-60 388.282342341\n",
        "-65 7325.07878622\n",
        "1.0\n",
        "-40 nan\n",
        "-45 nan\n",
        "-50 309.47391725\n",
        "-55 444.682960517\n",
        "-60 374.301358733\n",
        "-65 1483.82583303\n",
        "1.2\n",
        "-40 nan\n",
        "-45 nan\n",
        "-50 330.480411777\n",
        "-55 460.616909031\n",
        "-60 395.814829433\n",
        "-65 686.009470253\n"
       ]
      }
     ],
     "prompt_number": 229
    },
    {
     "cell_type": "heading",
     "level": 2,
     "metadata": {},
     "source": [
      "Get Spikes/Burst and Burst Freq (Make sure both misc and burst files are for same gnaps)"
     ]
    },
    {
     "cell_type": "code",
     "collapsed": false,
     "input": [
      "time = 1320. #time in seconds\n",
      "#get overall burst freq or burst count\n",
      "burst_freq = count_bursts_all(bursts,1320.)\n",
      "\n",
      "combined_df = {}\n",
      "for key, value in bd.iteritems():\n",
      "    #set label of burst count or burst freq column\n",
      "    if time > 0:\n",
      "        freq_col_label = 'bursts/sec'\n",
      "    else:\n",
      "        freq_col_label = 'total bursts'\n",
      "    \n",
      "    #convert burst freq dict to dataframe, and set the column name\n",
      "    df = pd.DataFrame().from_dict(burst_freq[key],'index')\n",
      "    df.columns = [freq_col_label]\n",
      "\n",
      "    val_std = pd.concat([value['spike/burst'].dropna(), value['spike/burst std'].dropna(), df.where(df > 0).dropna()], axis=1)\n",
      "    combined_df[key]=val_std\n",
      "    \n",
      "for k,v in combined_df.iteritems():\n",
      "    print k\n",
      "    #display.display(v)\n",
      "    print v"
     ],
     "language": "python",
     "metadata": {},
     "outputs": [
      {
       "output_type": "stream",
       "stream": "stdout",
       "text": [
        "0.9\n",
        "     spike/burst  spike/burst std  bursts/sec\n",
        "-55            1                0         0.3\n",
        "0.95\n",
        "     spike/burst  spike/burst std  bursts/sec\n",
        "-50   119.775510         5.354291    0.112121\n",
        "-55     9.471186        14.718237    0.446970\n",
        "-60    29.979592         0.247436    0.111364\n",
        "-65    22.831081         1.823462    0.111364\n",
        "1.0\n",
        "     spike/burst  spike/burst std  bursts/sec\n",
        "-50    48.201774         4.238091    0.342424\n",
        "-55    28.997783         0.047088    0.341667\n",
        "-60    23.966741         0.467858    0.341667\n",
        "-65    18.524336         1.295337    0.341667\n",
        "1.2\n",
        "     spike/burst  spike/burst std  bursts/sec\n",
        "-50    41.119114         3.016771    0.548485\n",
        "-55    29.005533         0.117557    0.547727\n",
        "-60    21.977870         0.315012    0.547727\n",
        "-65    15.940608         0.850064    0.546970\n"
       ]
      }
     ],
     "prompt_number": 9
    },
    {
     "cell_type": "code",
     "collapsed": false,
     "input": [
      "#make latex file\n",
      "with open('\\\\Users\\\\mfinemorris\\\\Desktop\\\\' + 'tables-gnaps1_5.txt', 'w') as f:\n",
      "    for k in combined_df:\n",
      "        print k\n",
      "        f.write(k)\n",
      "        f.write('\\n')\n",
      "        f.write(combined_df[k].to_latex())\n",
      "        f.write(\"\\n\\n\")"
     ],
     "language": "python",
     "metadata": {},
     "outputs": [
      {
       "output_type": "stream",
       "stream": "stdout",
       "text": [
        "0.9\n",
        "0.95\n",
        "1.0\n",
        "1.2\n"
       ]
      }
     ],
     "prompt_number": 26
    },
    {
     "cell_type": "heading",
     "level": 1,
     "metadata": {},
     "source": [
      "Summary Plots"
     ]
    },
    {
     "cell_type": "code",
     "collapsed": false,
     "input": [
      "misc_files_all = get_files('NMAnalysis',['TBModel'],['misc'],verbose=False)\n",
      "misc_files_2_8 = [f for f in misc_files_all if 'gnaps' in f]\n",
      "misc_files_1_5 = [f for f in misc_files_all if not 'gnaps' in f]\n",
      "\n",
      "misc_files=misc_files_2_8\n",
      "gnap = '2.8'\n",
      "\n",
      "misc_files=misc_files_1_5\n",
      "gnap = '1.5'\n",
      "\n",
      "#get the files and data\n",
      "all_data, bd, ibi = gather_misc_data(misc_files) "
     ],
     "language": "python",
     "metadata": {},
     "outputs": [
      {
       "output_type": "stream",
       "stream": "stdout",
       "text": [
        "misc-TBModel-sec1320-eL-IP0_9\n",
        "misc-TBModel-sec1320-eL-IP0_95\n",
        "misc-TBModel-sec1320-eL-IP1_0\n",
        "misc-TBModel-sec1320-eL-IP1_2\n"
       ]
      }
     ],
     "prompt_number": 108
    },
    {
     "cell_type": "code",
     "collapsed": false,
     "input": [
      "from matplotlib import rc\n",
      "import matplotlib as mpl\n",
      "fig_size = (8, 6)\n",
      "fig_dpi = 80*1.5\n",
      "plt.rc('font', family='sans-serif') \n",
      "mpl.rcParams['mathtext.default'] = 'regular'\n",
      "# to get sanserif, unitalicized math expression can also use\n",
      "# r'$\\mathrm{\\mathsf{'...'}}$' where latex math symbolic expression\n",
      "# replaces ellipses."
     ],
     "language": "python",
     "metadata": {},
     "outputs": [],
     "prompt_number": 109
    },
    {
     "cell_type": "heading",
     "level": 2,
     "metadata": {},
     "source": [
      "BD Summary"
     ]
    },
    {
     "cell_type": "code",
     "collapsed": false,
     "input": [
      "#burst duration summary plot\n",
      "\n",
      "variable = r'E_{L}\\ (mV)'\n",
      "fig = plt.figure(num=1, figsize=fig_size, dpi=fig_dpi, facecolor='w', edgecolor='k')\n",
      "ax = fig.gca()\n",
      "for k,v in bd.iteritems():\n",
      "    if v['duration mean'].count() > 1:\n",
      "        print v.first_valid_index(), v.last_valid_index()\n",
      "        ax.errorbar(v.index, v['duration mean'], v['duration std'], marker = '^', label = '$%s = %s\\ nS$'%(r'[IP_{3}]',k))\n",
      "        plt.subplots_adjust(left=.10, right = 0.97, top=0.92, bottom=0.08)\n",
      "        \n",
      "plt.xlabel('$%s$' %(variable))\n",
      "plt.ylabel('Burst Duration (ms)')\n",
      "plt.legend(loc=2)\n",
      "plt.title(r'Change in burst duration with $%s$ for $gnap = %s\\ \\mu M$' %(variable, gnap))\n",
      "plt.xlim(-67, -48)\n",
      "plt.ylim(-100, 9000)\n",
      "plt.show()"
     ],
     "language": "python",
     "metadata": {},
     "outputs": [
      {
       "output_type": "stream",
       "stream": "stdout",
       "text": [
        "-50 -65\n",
        "-50 -65\n",
        "-50 -65\n"
       ]
      }
     ],
     "prompt_number": 92
    },
    {
     "cell_type": "heading",
     "level": 2,
     "metadata": {},
     "source": [
      "IBI Summary"
     ]
    },
    {
     "cell_type": "code",
     "collapsed": false,
     "input": [
      "#ibi summary plot\n",
      "variable = r'E_{L}\\ (mV)'\n",
      "fig = plt.figure(num=2, figsize=fig_size, dpi=fig_dpi, facecolor='w', edgecolor='k')\n",
      "ax = fig.gca()\n",
      "for k,v in ibi.iteritems():\n",
      "    if v['ibi_average'].count() > 1:\n",
      "        print v.first_valid_index(), v.last_valid_index()\n",
      "        plt.errorbar(v.index, v['ibi_average'], v['ibi_std'], marker = '^', label = '$%s = %s\\ nS$'%(r'[IP_{3}]',k))\n",
      "        plt.subplots_adjust(left=.10, right = 0.97, top=0.92, bottom=0.08)\n",
      "\n",
      "plt.xlabel('$%s$' %variable)\n",
      "plt.ylabel('Interburst Interval (ms)')\n",
      "plt.legend(loc=1)\n",
      "plt.title(r'Change in interburst interval with $%s$ for $gnap = %s\\ \\mu M$' %(variable, gnap))\n",
      "plt.xlim(-67, -48)\n",
      "plt.ylim(-100, 9000)\n",
      "plt.show()"
     ],
     "language": "python",
     "metadata": {},
     "outputs": [
      {
       "output_type": "stream",
       "stream": "stdout",
       "text": [
        "-50 -65\n",
        "-50 -65\n",
        "-50 -65\n"
       ]
      }
     ],
     "prompt_number": 94
    },
    {
     "cell_type": "heading",
     "level": 2,
     "metadata": {},
     "source": [
      "BD and IBI for Multiple gnaps combined"
     ]
    },
    {
     "cell_type": "code",
     "collapsed": false,
     "input": [
      "#set this to a valid folder to autosave plots in cell below\n",
      "save_folder = ''#'C:\\\\Users\\\\mfinemorris\\\\Desktop'#\\\\Write-up\\\\plots'"
     ],
     "language": "python",
     "metadata": {},
     "outputs": [],
     "prompt_number": 119
    },
    {
     "cell_type": "code",
     "collapsed": false,
     "input": [
      "####plot interburst interval or burst duration all on same plot####\n",
      "import matplotlib.lines as mlines\n",
      "def double_params(data, title, param1_str, param2_str, mean_key, std_key, legend_loc, \n",
      "                  color_array, markers, line_styles, x_lim, y_lim, x_label, y_label):\n",
      "\n",
      "    param1_handles = {}\n",
      "    param2_handles = {}\n",
      "    for n, (param1, structure) in enumerate(data.iteritems()):\n",
      "        for nn, (param2, df) in enumerate(structure.iteritems()):\n",
      "            if df[mean_key].count() > 1:\n",
      "                x, y, yerr = df.index, df[mean_key], df[std_key]\n",
      "                plt.errorbar(x, y, yerr, marker = markers[n%2], linestyle = line_styles[n%2], markersize = 8, color = color_array[nn%3])\n",
      "                param2_handles[param2] = mlines.Line2D([], [], color=color_array[nn%3], label='$%s = %s$'%(param2_str, param2))\n",
      "                param1_handles[param1] = mlines.Line2D([], [], color='k', marker=markers[n%2], linestyle = line_styles[n%2],\n",
      "                                                   label='$ %s = %s$'%(param1_str, param1))\n",
      "            else:\n",
      "                continue\n",
      "\n",
      "    plt.legend(handles=param2_handles.values()+param1_handles.values(), loc=legend_loc)\n",
      "    plt.xlim(x_lim)\n",
      "    plt.ylim(y_lim)\n",
      "    plt.xlabel('$%s$'%x_label)\n",
      "    plt.ylabel('$%s$'%y_label)\n",
      "    plt.title(title)\n",
      "    return plt.gca()\n",
      "\n",
      "#get the files\n",
      "misc_files_all = get_files('NMAnalysis',['TBModel'],['misc'],verbose=False)\n",
      "misc_files_2_8 = [f for f in misc_files_all if 'gnaps' in f]\n",
      "misc_files_1_5 = [f for f in misc_files_all if not 'gnaps' in f]\n",
      "\n",
      "#for both gnaps\n",
      "a = gather_misc_data(misc_files_2_8)\n",
      "b = gather_misc_data(misc_files_1_5)\n",
      "all_gnapkeyed = {'2.8': a[0], '1.5': b[0]}\n",
      "bd_gnapkeyed = {'2.8': a[1], '1.5': b[1]}\n",
      "ibi_gnapkeyed  = {'2.8': a[2], '1.5': b[2]}\n",
      "\n",
      "color_array = ['b', 'r', 'g']\n",
      "markers = ['^','v']\n",
      "line_styles = ['--',':']\n",
      "\n",
      "fig_ibi = plt.figure(0)\n",
      "data = ibi_gnapkeyed\n",
      "title = 'Interburst Interval'\n",
      "mean_key = 'ibi_average'\n",
      "std_key = 'ibi_std'\n",
      "legend_loc = 1\n",
      "ax_ibi = double_params(data, title,r'g_{nap}\\ (nS)',r'[IP_{3}]\\ (\\mu M)', \n",
      "                   mean_key, std_key, legend_loc,color_array, markers, line_styles,(-67,-48),(-100,9000),r'E_{L}\\ (mV)','Length\\ (ms)')\n",
      "\n",
      "fig_bd = plt.figure(1)\n",
      "data = bd_gnapkeyed\n",
      "title = 'Burst Duration'\n",
      "mean_key = 'duration mean'\n",
      "std_key = 'duration std'\n",
      "legend_loc = 2\n",
      "ax_bd = double_params(data, title, r'g_{nap}\\ (nS)', r'[IP_{3}]\\ (\\mu M)', \n",
      "                   mean_key, std_key, legend_loc,color_array, markers, line_styles,(-67,-48),(-100,9000),r'E_{L}\\ (mV)','Length\\ (ms)')\n",
      "\n",
      "try:\n",
      "    fig_ibi.savefig(os.path.join(save_folder,'ibi_all.png'))\n",
      "    fig_bd.savefig(os.path.join(save_folder,'bd_all.png'))\n",
      "except Exception as e:\n",
      "    print e\n",
      "    \n",
      "plt.show()"
     ],
     "language": "python",
     "metadata": {},
     "outputs": [
      {
       "output_type": "stream",
       "stream": "stdout",
       "text": [
        "misc-TBModel-sec1320-eL-IP0_9-gnaps2_8\n",
        "misc-TBModel-sec1320-eL-IP0_95-gnaps2_8\n",
        "misc-TBModel-sec1320-eL-IP1_0-gnaps2_8\n",
        "misc-TBModel-sec1320-eL-IP1_2-gnaps2_8\n",
        "misc-TBModel-sec1320-eL-IP0_9\n",
        "misc-TBModel-sec1320-eL-IP0_95\n",
        "misc-TBModel-sec1320-eL-IP1_0\n",
        "misc-TBModel-sec1320-eL-IP1_2\n"
       ]
      }
     ],
     "prompt_number": 136
    },
    {
     "cell_type": "heading",
     "level": 2,
     "metadata": {},
     "source": [
      "Raster Plot"
     ]
    },
    {
     "cell_type": "heading",
     "level": 4,
     "metadata": {},
     "source": [
      "Collect file names"
     ]
    },
    {
     "cell_type": "code",
     "collapsed": false,
     "input": [
      "valid_files = get_files('NMAnalysis',['TBModel','1320'],['.csv','peaks'],False)\n",
      "valid_files"
     ],
     "language": "python",
     "metadata": {},
     "outputs": [
      {
       "metadata": {},
       "output_type": "pyout",
       "prompt_number": 26,
       "text": [
        "['\\\\Users\\\\mfinemorris\\\\repos\\\\WilsonLab\\\\NMAnalysis\\\\TBModel-sec1320-eL-IP0_9\\\\peaks-TBModel-sec1320-eL-IP0_9.csv',\n",
        " '\\\\Users\\\\mfinemorris\\\\repos\\\\WilsonLab\\\\NMAnalysis\\\\TBModel-sec1320-eL-IP0_9-gnaps2_8\\\\peaks-TBModel-sec1320-eL-IP0_9-gnaps2_8.csv',\n",
        " '\\\\Users\\\\mfinemorris\\\\repos\\\\WilsonLab\\\\NMAnalysis\\\\TBModel-sec1320-eL-IP0_95\\\\peaks-TBModel-sec1320-eL-IP0_95.csv',\n",
        " '\\\\Users\\\\mfinemorris\\\\repos\\\\WilsonLab\\\\NMAnalysis\\\\TBModel-sec1320-eL-IP0_95-gnaps2_8\\\\peaks-TBModel-sec1320-eL-IP0_95-gnaps2_8.csv',\n",
        " '\\\\Users\\\\mfinemorris\\\\repos\\\\WilsonLab\\\\NMAnalysis\\\\TBModel-sec1320-eL-IP1_0\\\\peaks-TBModel-sec1320-eL-IP1_0.csv',\n",
        " '\\\\Users\\\\mfinemorris\\\\repos\\\\WilsonLab\\\\NMAnalysis\\\\TBModel-sec1320-eL-IP1_0-gnaps2_8\\\\peaks-TBModel-sec1320-eL-IP1_0-gnaps2_8.csv',\n",
        " '\\\\Users\\\\mfinemorris\\\\repos\\\\WilsonLab\\\\NMAnalysis\\\\TBModel-sec1320-eL-IP1_2\\\\peaks-TBModel-sec1320-eL-IP1_2.csv',\n",
        " '\\\\Users\\\\mfinemorris\\\\repos\\\\WilsonLab\\\\NMAnalysis\\\\TBModel-sec1320-eL-IP1_2-gnaps2_8\\\\peaks-TBModel-sec1320-eL-IP1_2-gnaps2_8.csv']"
       ]
      }
     ],
     "prompt_number": 26
    },
    {
     "cell_type": "heading",
     "level": 4,
     "metadata": {},
     "source": [
      "Batch Plotting"
     ]
    },
    {
     "cell_type": "code",
     "collapsed": false,
     "input": [
      "#if Time is stored as its own separate column. Can still use other method below.\n",
      "def rasters_from_files(files):\n",
      "    for f in files:\n",
      "        d = load_multiCols(f)\n",
      "        file_path = os.path.splitext(f.replace('peaks','raster'))[0]+'.png'#replace 'peaks' with 'raster' and the original extension with '.png'\n",
      "        file_dir, file_name = os.path.split(file_path)\n",
      "        file_path = '\\\\Users\\\\mfinemorris\\\\Desktop\\\\rasters\\\\' + file_name\n",
      "        x_vals = d.xs(key='Time', axis=1,level=1)\n",
      "        NMAPlots.raster_plot(x_vals,'eL (mV)',x_max=25000,output_path=file_path)\n",
      "    #plt.show()\n",
      "    plt.close()\n",
      "    \n",
      "rasters_from_files(valid_files)"
     ],
     "language": "python",
     "metadata": {},
     "outputs": [
      {
       "output_type": "stream",
       "stream": "stdout",
       "text": [
        "\\Users\\mfinemorris\\Desktop\\rasters\\raster-TBModel-sec1320-eL-IP0_9.png\n",
        "\\Users\\mfinemorris\\Desktop\\rasters\\raster-TBModel-sec1320-eL-IP0_9-gnaps2_8.png"
       ]
      },
      {
       "output_type": "stream",
       "stream": "stdout",
       "text": [
        "\n",
        "\\Users\\mfinemorris\\Desktop\\rasters\\raster-TBModel-sec1320-eL-IP0_95.png"
       ]
      },
      {
       "output_type": "stream",
       "stream": "stdout",
       "text": [
        "\n",
        "\\Users\\mfinemorris\\Desktop\\rasters\\raster-TBModel-sec1320-eL-IP0_95-gnaps2_8.png"
       ]
      },
      {
       "output_type": "stream",
       "stream": "stdout",
       "text": [
        "\n",
        "\\Users\\mfinemorris\\Desktop\\rasters\\raster-TBModel-sec1320-eL-IP1_0.png"
       ]
      },
      {
       "output_type": "stream",
       "stream": "stdout",
       "text": [
        "\n",
        "\\Users\\mfinemorris\\Desktop\\rasters\\raster-TBModel-sec1320-eL-IP1_0-gnaps2_8.png"
       ]
      },
      {
       "output_type": "stream",
       "stream": "stdout",
       "text": [
        "\n",
        "\\Users\\mfinemorris\\Desktop\\rasters\\raster-TBModel-sec1320-eL-IP1_2.png"
       ]
      },
      {
       "output_type": "stream",
       "stream": "stdout",
       "text": [
        "\n",
        "\\Users\\mfinemorris\\Desktop\\rasters\\raster-TBModel-sec1320-eL-IP1_2-gnaps2_8.png"
       ]
      },
      {
       "output_type": "stream",
       "stream": "stdout",
       "text": [
        "\n"
       ]
      }
     ],
     "prompt_number": 22
    },
    {
     "cell_type": "heading",
     "level": 4,
     "metadata": {},
     "source": [
      "Single Plots"
     ]
    },
    {
     "cell_type": "code",
     "collapsed": false,
     "input": [
      "f = r'\\Users\\mfinemorris\\repos\\WilsonLab\\NMAnalysis\\TBModel-sec1320-eL-IP0_9\\peaks-TBModel-sec1320-eL-IP0_9.csv'\n",
      "d = load_multiCols(f)\n",
      "\n",
      "file_path = os.path.splitext(f.replace('peaks','raster'))[0]+'.png'#replace 'peaks' with 'raster' and the original extension with '.png'\n",
      "x_vals = d.xs(key='Time', axis=1,level=1)\n",
      "NMAPlots.raster_plot(x_vals,'eL (mV)',x_max=15000,output_path=file_path)"
     ],
     "language": "python",
     "metadata": {},
     "outputs": []
    },
    {
     "cell_type": "code",
     "collapsed": false,
     "input": [
      "f = r'\\Users\\mfinemorris\\repos\\WilsonLab\\NMAnalysis\\TBModel-sec1320-eL-IP0_9\\peaks-TBModel-sec1320-eL-IP0_9.csv'\n",
      "d = load_multiCols(f)\n",
      "#prep. peaks or bursts dataframe for input into raster plot by extracting all non nan indicies for each key\n",
      "#this is necessary if Time is stored only in the index of the dataframe and not as its own separate column\n",
      "peak_x_sets = {}\n",
      "for k,v in d.xs(key='Amplitude', axis=1, level =1).iteritems():\n",
      "    peak_x_sets[k] = v.dropna(axis=0,how='all').index\n",
      "NMAPlots.raster_plot(peak_x_sets,'eL')"
     ],
     "language": "python",
     "metadata": {},
     "outputs": [],
     "prompt_number": 25
    },
    {
     "cell_type": "heading",
     "level": 2,
     "metadata": {},
     "source": [
      "Time Series Plots"
     ]
    },
    {
     "cell_type": "code",
     "collapsed": false,
     "input": [
      "tsfiles = get_files('NMResults',['TBModel','1320'],['voltage'],False)\n",
      "for n,i in enumerate(tsfiles):\n",
      "    print n, i"
     ],
     "language": "python",
     "metadata": {},
     "outputs": [
      {
       "output_type": "stream",
       "stream": "stdout",
       "text": [
        "0 \\Users\\mfinemorris\\repos\\WilsonLab\\NMResults\\TBModel-sec1320-eL-IP0_9\\voltage-TBModel-sec1320-eL-IP0_9.txt\n",
        "1 \\Users\\mfinemorris\\repos\\WilsonLab\\NMResults\\TBModel-sec1320-eL-IP0_9-gnaps2_8\\voltage-TBModel-sec1320-eL-IP0_9-gnaps2_8.txt\n",
        "2 \\Users\\mfinemorris\\repos\\WilsonLab\\NMResults\\TBModel-sec1320-eL-IP0_95\\voltage-TBModel-sec1320-eL-IP0_95.txt\n",
        "3 \\Users\\mfinemorris\\repos\\WilsonLab\\NMResults\\TBModel-sec1320-eL-IP0_95-gnaps2_8\\voltage-TBModel-sec1320-eL-IP0_95-gnaps2_8.txt\n",
        "4 \\Users\\mfinemorris\\repos\\WilsonLab\\NMResults\\TBModel-sec1320-eL-IP0_96-gnaps2_8\\voltage-TBModel-sec1320-eL-IP0_96-gnaps2_8.txt\n",
        "5 \\Users\\mfinemorris\\repos\\WilsonLab\\NMResults\\TBModel-sec1320-eL-IP0_97-gnaps2_8\\voltage-TBModel-sec1320-eL-IP0_97-gnaps2_8.txt\n",
        "6 \\Users\\mfinemorris\\repos\\WilsonLab\\NMResults\\TBModel-sec1320-eL-IP0_98-gnaps2_8\\voltage-TBModel-sec1320-eL-IP0_98-gnaps2_8.txt\n",
        "7 \\Users\\mfinemorris\\repos\\WilsonLab\\NMResults\\TBModel-sec1320-eL-IP0_99-gnaps2_8\\voltage-TBModel-sec1320-eL-IP0_99-gnaps2_8.txt\n",
        "8 \\Users\\mfinemorris\\repos\\WilsonLab\\NMResults\\TBModel-sec1320-eL-IP1_0\\voltage-TBModel-sec1320-eL-IP1_0.txt\n",
        "9 \\Users\\mfinemorris\\repos\\WilsonLab\\NMResults\\TBModel-sec1320-eL-IP1_0-gnaps2_8\\voltage-TBModel-sec1320-eL-IP1_0-gnaps2_8.txt\n",
        "10 \\Users\\mfinemorris\\repos\\WilsonLab\\NMResults\\TBModel-sec1320-eL-IP1_2\\voltage-TBModel-sec1320-eL-IP1_2.txt\n",
        "11 \\Users\\mfinemorris\\repos\\WilsonLab\\NMResults\\TBModel-sec1320-eL-IP1_2-gnaps2_8\\voltage-TBModel-sec1320-eL-IP1_2-gnaps2_8.txt\n"
       ]
      }
     ],
     "prompt_number": 3
    },
    {
     "cell_type": "code",
     "collapsed": false,
     "input": [
      "#for all files\n",
      "for f in tsfiles[0:9]:\n",
      "    data_raw = pd.read_csv(f, index_col= 0)\n",
      "    path = os.path.dirname(f).replace('NMResults','NMAnalysis')\n",
      "    print path\n",
      "    NMAPlots.all_time_series(data_raw, output_directory=path,xmin=10000, xmax=20000)\n",
      "    plt.close()\n"
     ],
     "language": "python",
     "metadata": {},
     "outputs": [
      {
       "output_type": "stream",
       "stream": "stdout",
       "text": [
        "\\Users\\mfinemorris\\repos\\WilsonLab\\NMAnalysis\\TBModel-sec1320-eL-IP0_9\n",
        "\\Users\\mfinemorris\\repos\\WilsonLab\\NMAnalysis\\TBModel-sec1320-eL-IP0_9\\TimeSeries.pdf\n",
        "\\Users\\mfinemorris\\repos\\WilsonLab\\NMAnalysis\\TBModel-sec1320-eL-IP0_9-gnaps2_8"
       ]
      },
      {
       "output_type": "stream",
       "stream": "stdout",
       "text": [
        "\n",
        "\\Users\\mfinemorris\\repos\\WilsonLab\\NMAnalysis\\TBModel-sec1320-eL-IP0_9-gnaps2_8\\TimeSeries.pdf\n",
        "\\Users\\mfinemorris\\repos\\WilsonLab\\NMAnalysis\\TBModel-sec1320-eL-IP0_95"
       ]
      },
      {
       "output_type": "stream",
       "stream": "stdout",
       "text": [
        "\n",
        "\\Users\\mfinemorris\\repos\\WilsonLab\\NMAnalysis\\TBModel-sec1320-eL-IP0_95\\TimeSeries.pdf\n",
        "\\Users\\mfinemorris\\repos\\WilsonLab\\NMAnalysis\\TBModel-sec1320-eL-IP0_95-gnaps2_8"
       ]
      },
      {
       "output_type": "stream",
       "stream": "stdout",
       "text": [
        "\n",
        "\\Users\\mfinemorris\\repos\\WilsonLab\\NMAnalysis\\TBModel-sec1320-eL-IP0_95-gnaps2_8\\TimeSeries.pdf\n",
        "\\Users\\mfinemorris\\repos\\WilsonLab\\NMAnalysis\\TBModel-sec1320-eL-IP0_96-gnaps2_8"
       ]
      }
     ]
    },
    {
     "cell_type": "code",
     "collapsed": false,
     "input": [
      "#f = r'\\Users\\mfinemorris\\repos\\WilsonLab\\NMResults\\TBModel-sec1320-eL-IP0_9\\voltage-TBModel-sec1320-eL-IP0_9.txt'\n",
      "f = tsfiles[8]\n",
      "\n",
      "s = time.clock()\n",
      "data_raw = pd.read_csv(f, index_col= 0)\n",
      "print time.clock()-s\n",
      "\n",
      "NMAPlots.all_time_series(data_raw, output_directory=os.path.dirname(f).replace('NMResults','NMAnalysis'),xmin=10000, xmax=20000)"
     ],
     "language": "python",
     "metadata": {},
     "outputs": [
      {
       "output_type": "stream",
       "stream": "stdout",
       "text": [
        "29.0524229229\n",
        "\\Users\\mfinemorris\\repos\\WilsonLab\\NMAnalysis\\TBModel-sec1320-eL-IP1_0\\TimeSeries.pdf\n"
       ]
      }
     ],
     "prompt_number": 4
    },
    {
     "cell_type": "code",
     "collapsed": false,
     "input": [
      "#single plot for single value of eL\n",
      "key = '-55'\n",
      "NMAPlots.plot_time_series(data_raw[key], key,output_directory=os.path.dirname(f),xmin=30000, xmax=32000)\n",
      "plt.show()"
     ],
     "language": "python",
     "metadata": {},
     "outputs": [],
     "prompt_number": 18
    },
    {
     "cell_type": "code",
     "collapsed": false,
     "input": [
      "%%javascript\n",
      "// This function allows us to add buttons \n",
      "// to the notebook toolbar.\n",
      "IPython.toolbar.add_buttons_group([\n",
      "{\n",
      "    // The button's label.\n",
      "    'label': 'Clear current cell output',\n",
      "    \n",
      "    // The button's icon.\n",
      "    'icon': 'icon-trash',\n",
      "    \n",
      "    // The callback function.\n",
      "    'callback': function (){\n",
      "\n",
      "        // We retrieve the lists of all cells.\n",
      "        var cells = IPython.notebook.get_cells();\n",
      "        \n",
      "\n",
      "        var cell = IPython.notebook.get_selected_cell();\n",
      "        if ((cell instanceof IPython.CodeCell)) {\n",
      "        }\n",
      "                 \n",
      "        /*\n",
      "        // We only keep the code cells.\n",
      "        cells = cells.filter(function(c)\n",
      "            {\n",
      "                return c instanceof IPython.CodeCell; \n",
      "            })\n",
      "        \n",
      "        // We set the input prompt of all code cells.\n",
      "        for (var i = 0; i < cells.length; i++) {\n",
      "            cells[i].set_input_prompt(i + 1);\n",
      "        }*/\n",
      "    }\n",
      "}]);\n",
      "        "
     ],
     "language": "python",
     "metadata": {},
     "outputs": []
    }
   ],
   "metadata": {}
  }
 ]
}