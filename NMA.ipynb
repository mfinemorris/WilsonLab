{
 "metadata": {
  "name": "",
  "signature": "sha256:8a557c869048350686b77499e9bcb18a3a9820a8caa19bf5c74ece7c9cd9a229"
 },
 "nbformat": 3,
 "nbformat_minor": 0,
 "worksheets": [
  {
   "cells": [
    {
     "cell_type": "heading",
     "level": 1,
     "metadata": {},
     "source": [
      "Neuron Modeling Analysis"
     ]
    },
    {
     "cell_type": "code",
     "collapsed": false,
     "input": [
      "import numpy as np\n",
      "import scipy\n",
      "from scipy import spatial, signal, fft, arange\n",
      "import pandas as pd\n",
      "import matplotlib.pyplot as plt\n",
      "from pandas import Series, DataFrame\n",
      "import time as t\n",
      "from PIL import Image\n",
      "import sys\n",
      "import os, errno\n",
      "import matplotlib.patches as patches\n",
      "from pandas.tools.plotting import autocorrelation_plot\n",
      "#from pyeeg import * \n",
      "from numpy import NaN, Inf, arange, isscalar, asarray, array\n",
      "from matplotlib.backends.backend_pdf import PdfPages\n",
      "import utility\n",
      "import NMResources\n",
      "import math\n",
      "from math import log\n",
      "\n",
      "def mkdir_p(path):\n",
      "    '''\n",
      "    This function creates a folder at the end of the specified path, unless the folder already exsists. \n",
      "    '''\n",
      "    try:\n",
      "        os.makedirs(path)\n",
      "    except OSError as exc: # Python >2.5\n",
      "        if exc.errno == errno.EEXIST and os.path.isdir(path):\n",
      "            pass #do nothing if the error occurs because the path already exists\n",
      "        else: raise #re-raises the error\n",
      "    \n",
      "def delta_tuner(dataframe, epsilon, rate): #choose which data to use to tune. can be either selected list or full ist. AD reccoments full list.\n",
      "    '''\n",
      "    this function takes a dataframe of time series data and runs peak detection iteritvely. \n",
      "    since peak detection always has the the range of delta values of 0 to the max of stack,\n",
      "    epsiolon is used to be the number of divisions of that range to test. 1 being the minimum for epsilon, which is the exact middle of the range.\n",
      "    the function will return a results table (average # of events) and (# ROIs with events>1) on their own axis.\n",
      "    the graph will be click able, as to obtain the delta value that generated that point.\n",
      "    data results are not saved.\n",
      "    '''\n",
      "    \n",
      "    range_array = np.linspace(0, max(dataframe.max())/2, num = epsilon) #create the array of which delta values to test. the range is from zero (although zero is not used) to half of the max value from the entire data frame. epsilon is used to determine the number of slices to make\n",
      "    \n",
      "    results_average = Series(index = range_array) #the empty series to store results\n",
      "    results_num = Series (index = range_array) #an empty series to store results\n",
      "    #results_perc = Series (index = range_array)\n",
      "    \n",
      "    for delta in range_array[1:]: #for each delta value in the array\n",
      "        \n",
      "        peak_amp_temp, peak_sets_temp_x, peak_sets_temp_y = event_detection(dataframe,delta, rate) #perform event detection with the delta\n",
      "\n",
      "        event_counts = peak_amp_temp.loc['count'] #count the number of events, which is a row in the peak_amp_temp array\n",
      "        average_num_events = event_counts.mean() #average the counts, to obtain (average # events/roi)\n",
      "        num_roi = event_counts[event_counts>=1].count() #count the number of ROIs with more than one event\n",
      "        \n",
      "        #perc_roi = num_roi/len(data_smooth.columns)\n",
      "\n",
      "        results_average[delta] = average_num_events \n",
      "        results_num[delta] = num_roi\n",
      "        #results_perc[delta]= perc_roi\n",
      "    return results_average, results_num\n",
      "\n",
      "def savitzky_golay(y, window_size, order, deriv=0, rate=1):\n",
      "    r\"\"\"Smooth (and optionally differentiate) data with a Savitzky-Golay filter.\n",
      "    The Savitzky-Golay filter removes high frequency noise from data.\n",
      "    It has the advantage of preserving the original shape and\n",
      "    features of the signal better than other types of filtering\n",
      "    approaches, such as moving averages techniques.\n",
      "    Parameters\n",
      "    ----------\n",
      "    y : array_like, shape (N,)\n",
      "        the values of the time history of the signal.\n",
      "    window_size : int\n",
      "        the length of the window. Must be an odd integer number.\n",
      "    order : int\n",
      "        the order of the polynomial used in the filtering.\n",
      "        Must be less then `window_size` - 1.\n",
      "    deriv: int\n",
      "        the order of the derivative to compute (default = 0 means only smoothing)\n",
      "    Returns\n",
      "    -------\n",
      "    ys : ndarray, shape (N)\n",
      "        the smoothed signal (or it's n-th derivative).\n",
      "    Notes\n",
      "    -----\n",
      "    The Savitzky-Golay is a type of low-pass filter, particularly\n",
      "    suited for smoothing noisy data. The main idea behind this\n",
      "    approach is to make for each point a least-square fit with a\n",
      "    polynomial of high order over a odd-sized window centered at\n",
      "    the point.\n",
      "    Examples\n",
      "    --------\n",
      "    t = np.linspace(-4, 4, 500)\n",
      "    y = np.exp( -t**2 ) + np.random.normal(0, 0.05, t.shape)\n",
      "    ysg = savitzky_golay(y, window_size=31, order=4)\n",
      "    import matplotlib.pyplot as plt\n",
      "    plt.plot(t, y, label='Noisy signal')\n",
      "    plt.plot(t, np.exp(-t**2), 'k', lw=1.5, label='Original signal')\n",
      "    plt.plot(t, ysg, 'r', label='Filtered signal')\n",
      "    plt.legend()\n",
      "    plt.show()\n",
      "    References\n",
      "    ----------\n",
      "    .. [1] A. Savitzky, M. J. E. Golay, Smoothing and Differentiation of\n",
      "       Data by Simplified Least Squares Procedures. Analytical\n",
      "       Chemistry, 1964, 36 (8), pp 1627-1639.\n",
      "    .. [2] Numerical Recipes 3rd Edition: The Art of Scientific Computing\n",
      "       W.H. Press, S.A. Teukolsky, W.T. Vetterling, B.P. Flannery\n",
      "       Cambridge University Press ISBN-13: 9780521880688\n",
      "    \"\"\"\n",
      "    import numpy as np\n",
      "    from math import factorial\n",
      "\n",
      "    try:\n",
      "        window_size = np.abs(np.int(window_size))\n",
      "        order = np.abs(np.int(order))\n",
      "    except ValueError, msg:\n",
      "        raise ValueError(\"window_size and order have to be of type int\")\n",
      "    if window_size % 2 != 1 or window_size < 1:\n",
      "        raise TypeError(\"window_size size must be a positive odd number\")\n",
      "    if window_size < order + 2:\n",
      "        raise TypeError(\"window_size is too small for the polynomials order\")\n",
      "    order_range = range(order+1)\n",
      "    half_window = (window_size -1) // 2\n",
      "    # precompute coefficients\n",
      "    b = np.mat([[k**i for i in order_range] for k in range(-half_window, half_window+1)])\n",
      "    m = np.linalg.pinv(b).A[deriv] * rate**deriv * factorial(deriv)\n",
      "    # pad the signal at the extremes with\n",
      "    # values taken from the signal itself\n",
      "    firstvals = y[0] - np.abs( y[1:half_window+1][::-1] - y[0] )\n",
      "    lastvals = y[-1] + np.abs(y[-half_window-1:-1][::-1] - y[-1])\n",
      "    y = np.concatenate((firstvals, y, lastvals))\n",
      "    return np.convolve( m[::-1], y, mode='valid')\n",
      "\n",
      "def peakdet(v, delta, x = None):\n",
      "    \"\"\"\n",
      "    Converted from MATLAB script at http://billauer.co.il/peakdet.html\n",
      "    \n",
      "    Returns two arrays\n",
      "    \n",
      "    function [maxtab, mintab]=peakdet(v, delta, x)\n",
      "    %PEAKDET Detect peaks in a vector\n",
      "    %        [MAXTAB, MINTAB] = PEAKDET(V, DELTA) finds the local\n",
      "    %        maxima and minima (\"peaks\") in the vector V.\n",
      "    %        MAXTAB and MINTAB consists of two columns. Column 1\n",
      "    %        contains indices in V, and column 2 the found values.\n",
      "    %      \n",
      "    %        With [MAXTAB, MINTAB] = PEAKDET(V, DELTA, X) the indices\n",
      "    %        in MAXTAB and MINTAB are replaced with the corresponding\n",
      "    %        X-values.\n",
      "    %\n",
      "    %        A point is considered a maximum peak if it has the maximal\n",
      "    %        value, and was preceded (to the left) by a value lower by\n",
      "    %        DELTA.\n",
      "    \n",
      "    % Eli Billauer, 3.4.05 (Explicitly not copyrighted).\n",
      "    % This function is released to the public domain; Any use is allowed.\n",
      "    \n",
      "    \"\"\"\n",
      "    maxtab = []\n",
      "    #mintab = []\n",
      "       \n",
      "    if x is None:\n",
      "        x = arange(len(v))\n",
      "    \n",
      "    v = asarray(v)\n",
      "    \n",
      "    if len(v) != len(x):\n",
      "        sys.exit('Input vectors v and x must have same length')\n",
      "    \n",
      "    if not isscalar(delta):\n",
      "        sys.exit('Input argument delta must be a scalar')\n",
      "    \n",
      "    if delta <= 0:\n",
      "        sys.exit('Input argument delta must be positive')\n",
      "    \n",
      "    mn, mx = Inf, -Inf\n",
      "    mnpos, mxpos = NaN, NaN\n",
      "    \n",
      "    lookformax = True\n",
      "    \n",
      "    for i in arange(len(v)):\n",
      "        this = v[i]\n",
      "        if this > mx:\n",
      "            mx = this\n",
      "            mxpos = x[i]\n",
      "        if this < mn:\n",
      "            mn = this\n",
      "            mnpos = x[i]\n",
      "        \n",
      "        if lookformax:\n",
      "            if this < mx-delta:\n",
      "                maxtab.append((mxpos, mx))\n",
      "                mn = this\n",
      "                mnpos = x[i]\n",
      "                lookformax = False\n",
      "        else:\n",
      "            if this > mn+delta:\n",
      "                #mintab.append((mnpos, mn))\n",
      "                mx = this\n",
      "                mxpos = x[i]\n",
      "                lookformax = True\n",
      " \n",
      "    return array(maxtab)#, array(mintab)\n",
      "\n",
      "\n",
      "def event_detection(data, delta, rate):\n",
      "    '''\n",
      "    do peak detect on a dataframe. takes a delta value and the rate.\n",
      "    A point is considered a maximum peak if it has the maximal value, and was preceded (to the left) by a value lower by DELTA.\n",
      "    '''\n",
      "    \n",
      "    #results storage\n",
      "    peak_amp_temp = DataFrame()\n",
      "    rr_int_temp = DataFrame()\n",
      "    peak_sets_temp_x = {} #time\n",
      "    peak_sets_temp_y = {} #amplitude\n",
      "\n",
      "    for label, column in data.iteritems(): #for each column in the data frame\n",
      "        start_time = t.clock()\n",
      "        time = column.index.tolist() #time array\n",
      "        col = column.tolist() #amplitude array\n",
      "\n",
      "        #peakdet\n",
      "        maxtab = peakdet(col, delta,None)\n",
      "\n",
      "        maxtab = np.array(maxtab)\n",
      "\n",
      "        if maxtab.size == 0: #how to handle empty np array, which occurs if no events are detected\n",
      "            maxptime = []\n",
      "            maxpeaks = []\n",
      "        \n",
      "        else:\n",
      "            maxptime = maxtab[:,0] #all of the rows and only the first column are time\n",
      "            maxpeaks = maxtab[:,1] #all of the rows and only the second column are amp.\n",
      "\n",
      "        maxptime_true = (np.multiply(maxptime,rate) + time[0]) #get the real time for each peak, since the peak is given in index not time\n",
      "        peak_sets_temp_x[label] = maxptime_true #store array of event time in the dictionary with the ROI name as the key\n",
      "\n",
      "        peak_sets_temp_y[label] = np.array(maxpeaks) #store array of events in the dictionary with the ROI name as the key\n",
      "        #RR = rrinterval(maxptime_true)\n",
      "        peak_amp_temp[label] = Series(data = maxpeaks, index=maxptime_true).describe() #store summary data series in the summary dataframe\n",
      "        #rr_int_temp[label] = Series(data = RR, index=maxptime_true[:-1]).describe()\n",
      "        end_time = t.clock()\n",
      "        print label, 'took', (end_time - start_time), 'seconds to run'\n",
      "    return peak_amp_temp, peak_sets_temp_x, peak_sets_temp_y\n",
      "\n",
      "def line_plots(data_orignal, data_smooth, events_x, events_y, peak_sets_temp_x, peak_sets_temp_y, event_summary,folder):\n",
      "    '''\n",
      "    creates the plots with two lines: original data and smoothed data. it also overlays the events from LCpro and RAIN.\n",
      "    '''\n",
      "    lcpro_events_select_list = event_summary[event_summary['LCpro, select'] >= 1].index.tolist() #list of only roi's found by RAIN\n",
      "    \n",
      "    for label, column in data_orignal.iteritems():\n",
      "        \n",
      "        plt.figure()\n",
      "        plt.xlabel('Time (s)')\n",
      "        plt.ylabel('Intensity')\n",
      "        plt.title(label)\n",
      "        plt.ylim(ymin = min(data_orignal.min()), ymax = max(data_orignal.max()))\n",
      "        plt.xlim(xmin = data_orignal.index[0], xmax = data_orignal.index[-1])\n",
      "        \n",
      "        plt.plot(data_orignal.index, data_orignal[label], label = 'original', color = 'r')\n",
      "        plt.plot(data_orignal.index, data_smooth[label], label = 'smooth', color = 'b')\n",
      "        if label in data_orignal.columns:     \n",
      "            plt.plot(events_x[label], events_y[label], marker = \"^\", color=\"r\", linestyle= \"None\")\n",
      "        if label in lcpro_events_select_list:\n",
      "            plt.plot(events_x[label], events_y[label], marker = \"^\", color=\"g\", linestyle= \"None\")\n",
      "        if label in peak_sets_temp_x.keys():\n",
      "            plt.plot(peak_sets_temp_x[label], peak_sets_temp_y[label], marker = \"^\", color=\"y\", linestyle= \"None\")\n",
      "        plt.savefig(r'%s/plots/%s.pdf' %(folder,label))\n",
      "        plt.close()\n",
      "\n",
      "def rrinterval(maxptime): \n",
      "    \"\"\"\n",
      "    find time from r peak to r peak, called the R-R interval. Input array must be a list of numbers (float).\n",
      "    \"\"\"\n",
      "    \n",
      "    rrint = [] #empty array for ttot to go into\n",
      "    \n",
      "    for time in maxptime[1:]: #for each r peak, starting with the second one\n",
      "        s2time = maxptime.index(time) \n",
      "        s2 = maxptime[s2time-1]\n",
      "        meas = time - s2 #measure the interval by subtracting\n",
      "        rrint.append(meas) #append the measurement to the ttotal array\n",
      "    return rrint #return array\n",
      "\n",
      "def histent(data_list):\n",
      "    '''\n",
      "    Input must be a list. returns the entropy score and binarray. \n",
      "    '''\n",
      "    NumBin = int(2 * (log(len(data_list), 2)))\n",
      "    binarray = np.linspace(min(data_list), max(data_list), NumBin)\n",
      "    no, xo = np.histogram(data_list, binarray); #print no\n",
      "\n",
      "    # normalize the distribution to make area under distribution function unity\n",
      "    no = no/sum(no); #print no\n",
      "\n",
      "    # find the bins that have no samples to prevent log(0) in calculation\n",
      "    no = no[np.nonzero(no)]    \n",
      "\n",
      "    # if all of the samples fall in one bin regardless of the bin size\n",
      "    # means we have the most predictable sitution and the entropy is 0\n",
      "    # if we have uniformly dist function, the max entropy will be 1\n",
      "\n",
      "    HistEntropy = [-1*(x * log(x, 2))/(log(NumBin,2)) for x in no]\n",
      "    #print 'HistEntropy array=', HistEntropy\n",
      "    HistEntropy = sum(HistEntropy)\n",
      "    #print 'HistEntropy=', HistEntropy\n",
      "    \n",
      "    return HistEntropy, binarray\n",
      "\n",
      "\n",
      "def plot_hist(data_col_labels, data_dict, label, plot_title='', plot_file=''):\n",
      "    \n",
      "    series = Series(index = data_col_labels)\n",
      "    \n",
      "    for key, results in data_dict.iteritems():\n",
      "        \n",
      "        temp = results[label].tolist()\n",
      "        try:\n",
      "            HistEntropy, binarray = histent(temp)\n",
      "            series[key] = HistEntropy\n",
      "        except Exception as e:\n",
      "            print \"Skipping %s %s because %s\"%(variable, key, e)\n",
      "            continue\n",
      "        plt.hist(temp,binarray)\n",
      "        plt.xlabel('%s (s)'%label)\n",
      "        plt.ylabel('Count')\n",
      "        \n",
      "        try:\n",
      "                plt.title(plot_title % key)\n",
      "        except TypeError or ValueError:\n",
      "            plt.title(plot_title)\n",
      "\n",
      "        if plot_file:\n",
      "                plt.savefig(plot_file%key)\n",
      "                plt.close()\n",
      "        else:\n",
      "            plt.show()    \n",
      "    return series\n",
      "\n",
      "\n",
      "def sliding_peak_freq(dictionary, data_raw, window):\n",
      "    '''\n",
      "    takes a window size in ms and does non-overlapping count (which is freq, since the windows are all the same size) and average ibi. \n",
      "    returns two dataframes with this information for each 'test' case.\n",
      "    '''\n",
      "    import math\n",
      "    num = math.trunc(data_raw.index[-1]/window) #get the number of windows to do the counts and averages over.\n",
      "    \n",
      "    sliding_count = DataFrame(index= (np.arange(num)*window)) #where we're storing the results for each timeseries\n",
      "    sliding_mean = DataFrame(index= (np.arange(num)*window)) #where we're storing the results for each timeseries\n",
      "    \n",
      "    for key, value in dictionary.iteritems():\n",
      "        \n",
      "        temp_count = Series(index= (np.arange(num)*window)) #temp storage\n",
      "        temp_mean = Series(index= (np.arange(num)*window)) #temp storage\n",
      "        \n",
      "        for i in (np.arange(num)*window):\n",
      "            temp_count[i] = value['Interval'][i:(i+window)].count() #get the count in the window\n",
      "            temp_mean[i] = value['Interval'][i:(i+window)].mean() #get the mean in the window\n",
      "        \n",
      "        temp_mean = temp_mean.fillna(0) #temp mean returns NaN for windows with no events. make it zero for graphing\n",
      "        \n",
      "        sliding_count[key] = temp_count #store series in results table\n",
      "        sliding_mean[key] = temp_mean #store series in results table\n",
      "    \n",
      "    sliding_count = sliding_count.sort_index(axis = 1)\n",
      "    sliding_mean = sliding_mean.sort_index(axis = 1) #my attempt at reordering so the columns are in increaing order\n",
      "    return sliding_mean, sliding_count\n",
      "\n",
      "\n",
      "def sliding_burst_freq(dictionary, data_raw, window):\n",
      "    '''\n",
      "    takes a window size in ms and does non-overlapping count (which is freq, since the windows are all the same size) and average ibi. \n",
      "    returns two dataframes with this information for each 'test' case.\n",
      "    '''\n",
      "    \n",
      "    import math\n",
      "    num = math.trunc(data_raw.index[-1]/window) #get the number of windows to do the counts and averages over.\n",
      "    \n",
      "    sliding_count = DataFrame(index= (np.arange(num)*window)) #where we're storing the results for each timeseries\n",
      "    sliding_mean_dur = DataFrame(index= (np.arange(num)*window)) #where we're storing the results for each timeseries\n",
      "    sliding_mean_dur = DataFrame(index= (np.arange(num)*window))\n",
      "    \n",
      "    for key, value in dictionary.iteritems():\n",
      "        \n",
      "        temp_count = Series(index= (np.arange(num)*window)) #temp storage\n",
      "        temp_mean_dur = Series(index= (np.arange(num)*window)) #temp storage\n",
      "        \n",
      "        for i in (np.arange(num)*window):\n",
      "            temp_count[i] = value['Duration'][i:(i+window)].count() #get the count in the window\n",
      "            temp_mean_dur[i] = value['Duration'][i:(i+window)].mean() #get the mean in the window\n",
      "        \n",
      "        temp_mean = temp_mean_dur.fillna(0) #temp mean returns NaN for windows with no events. make it zero for graphing\n",
      "        \n",
      "        sliding_count[key] = temp_count #store series in results table\n",
      "        sliding_mean_dur[key] = temp_mean #store series in results table\n",
      "    \n",
      "    sliding_count = sliding_count.sort_index(axis = 1)\n",
      "    sliding_mean = sliding_mean_dur.sort_index(axis = 1) #my attempt at reordering so the columns are in increaing order\n",
      "    return sliding_mean, sliding_count\n",
      "\n",
      "def all_time_series(data_raw, peaks=None, bursts=None, exp='', output_directory=''):\n",
      "    '''\n",
      "    create and save all time series. requires that event detection has been performed. \n",
      "    saves out plots of graphs with the same scale, 30 s - 45 s.\n",
      "    '''\n",
      "    \n",
      "    for label, column in data_raw.iteritems():\n",
      "        \n",
      "        plt.figure()\n",
      "        plt.plot(data_raw.index, data_raw[label], color = 'k')\n",
      "        try:\n",
      "            #plot peaks with gree triangles\n",
      "            plt.plot(peaks[label].index, peaks[label]['Amplitude'], marker ='^', color = 'g', linestyle = 'None')\n",
      "        except Exception as e:\n",
      "            print \"Error ploting peaks because \", e\n",
      "            \n",
      "        try:\n",
      "            #mark burst start (magenta triangle)\n",
      "            for index, row in bursts[label]['Start'].iteritems():\n",
      "                plt.plot(row, peaks[label]['Amplitude'].loc[row], marker ='^', color = 'm', linestyle = 'None')\n",
      "            #mark burst end (yellow triangle)\n",
      "            for index, row in bursts[label]['End'].iteritems():\n",
      "                plt.plot(row, peaks[label]['Amplitude'].loc[row], marker ='^', color = 'y', linestyle = 'None')\n",
      "        except Exception as e:\n",
      "            print \"Error plotting burst start & end markers because \",e\n",
      "            \n",
      "        plt.xlim(xmin = 30000, xmax = 45000)\n",
      "        if exp:\n",
      "            plt.title('%s - %s' %(exp, label))\n",
      "        else:\n",
      "            plt.title('%s' %(label))\n",
      "\n",
      "        plt.xlabel('Time (ms)')\n",
      "        plt.ylabel('Voltage')\n",
      "        if output_directory:\n",
      "            plt.savefig(r'%s/Time Series - %s.pdf'%(output_directory, label))\n",
      "            plt.close()\n",
      "    plt.show()\n",
      "\n",
      "def get_folders_files(folder):\n",
      "    dir_content = os.listdir(folder)\n",
      "    dir_files = []\n",
      "    dir_folders = []\n",
      "    for f in dir_content:\n",
      "        f = os.path.join(folder,f)\n",
      "        if os.path.isdir(f):\n",
      "            dir_folders.append(f)\n",
      "        else:\n",
      "            dir_files.append(f)\n",
      "    return dir_folders, dir_files\n",
      "\n",
      "def display_content(dir_files, data_type='voltage'):\n",
      "    #get dirname\n",
      "    print \"Folder: \",os.path.dirname(dir_files[0])\n",
      "    print\n",
      "    for n,i in enumerate(dir_files):\n",
      "        file_name = os.path.basename(i)\n",
      "        if data_type in file_name:\n",
      "            print n,\": \",i\n",
      "    return i\n",
      "\n",
      "\n",
      "#may at some point need a function that picks out specific folders passed on passed in criteria\n",
      "\n",
      "\n",
      "print \"Notebook initalized\"    "
     ],
     "language": "python",
     "metadata": {},
     "outputs": [
      {
       "output_type": "stream",
       "stream": "stdout",
       "text": [
        "Notebook initalized\n"
       ]
      }
     ],
     "prompt_number": 1
    },
    {
     "cell_type": "heading",
     "level": 1,
     "metadata": {},
     "source": [
      "Define Folders and File Paths. Import Data and Preview Data."
     ]
    },
    {
     "cell_type": "heading",
     "level": 3,
     "metadata": {},
     "source": [
      "Quick Lookup for Files (I can't really promise that this will work)"
     ]
    },
    {
     "cell_type": "code",
     "collapsed": false,
     "input": [
      "#folder where results are stored\n",
      "results_folder = os.path.join(os.getcwd(), 'NMResults')"
     ],
     "language": "python",
     "metadata": {},
     "outputs": [],
     "prompt_number": 2
    },
    {
     "cell_type": "code",
     "collapsed": false,
     "input": [
      "#get the subfolders and files of folder\n",
      "folder=results_folder\n",
      "\n",
      "subfolders, files = get_folders_files(folder)\n",
      "display_content(subfolders,'')\n"
     ],
     "language": "python",
     "metadata": {},
     "outputs": [
      {
       "output_type": "stream",
       "stream": "stdout",
       "text": [
        "Folder:  C:\\Users\\mfinemorris\\repos\\WilsonLab\\NMResults\n",
        "\n",
        "0 :  C:\\Users\\mfinemorris\\repos\\WilsonLab\\NMResults\\TBModel-sec1320-eL-IP0_9\n",
        "1 :  C:\\Users\\mfinemorris\\repos\\WilsonLab\\NMResults\\TBModel-sec1320-eL-IP0_9-gnaps2_8\n",
        "2 :  C:\\Users\\mfinemorris\\repos\\WilsonLab\\NMResults\\TBModel-sec1320-eL-IP0_95\n",
        "3 :  C:\\Users\\mfinemorris\\repos\\WilsonLab\\NMResults\\TBModel-sec1320-eL-IP0_95-gnaps2_8\n",
        "4 :  C:\\Users\\mfinemorris\\repos\\WilsonLab\\NMResults\\TBModel-sec1320-eL-IP1_0\n",
        "5 :  C:\\Users\\mfinemorris\\repos\\WilsonLab\\NMResults\\TBModel-sec1320-eL-IP1_0-gnaps2_8\n",
        "6 :  C:\\Users\\mfinemorris\\repos\\WilsonLab\\NMResults\\TBModel-sec1320-eL-IP1_2\n",
        "7 :  C:\\Users\\mfinemorris\\repos\\WilsonLab\\NMResults\\TBModel-sec1320-eL-IP1_2-gnaps2_8\n",
        "8 :  C:\\Users\\mfinemorris\\repos\\WilsonLab\\NMResults\\TBModel-sec60-eL-IP0_9\n",
        "9 :  C:\\Users\\mfinemorris\\repos\\WilsonLab\\NMResults\\TBModel-sec60-eL-IP0_95\n",
        "10 :  C:\\Users\\mfinemorris\\repos\\WilsonLab\\NMResults\\TBModel-sec60-eL-IP1_0\n",
        "11 :  C:\\Users\\mfinemorris\\repos\\WilsonLab\\NMResults\\TBModel-sec60-eL-IP1_2\n",
        "12 :  C:\\Users\\mfinemorris\\repos\\WilsonLab\\NMResults\\TBModel-sec600-eL-IP0_9\n",
        "13 :  C:\\Users\\mfinemorris\\repos\\WilsonLab\\NMResults\\TBModel-sec600-eL-IP0_95\n",
        "14 :  C:\\Users\\mfinemorris\\repos\\WilsonLab\\NMResults\\TBModel-sec600-eL-IP1_0\n",
        "15 :  C:\\Users\\mfinemorris\\repos\\WilsonLab\\NMResults\\TBModel-sec600-eL-IP1_2\n"
       ]
      },
      {
       "metadata": {},
       "output_type": "pyout",
       "prompt_number": 3,
       "text": [
        "'C:\\\\Users\\\\mfinemorris\\\\repos\\\\WilsonLab\\\\NMResults\\\\TBModel-sec600-eL-IP1_2'"
       ]
      }
     ],
     "prompt_number": 3
    },
    {
     "cell_type": "code",
     "collapsed": false,
     "input": [
      "subfolders_2, files_2 = get_folders_files(subfolders[1])\n",
      "#print files\n",
      "File_Path = display_content(files_2)\n",
      "File_Path"
     ],
     "language": "python",
     "metadata": {},
     "outputs": [
      {
       "output_type": "stream",
       "stream": "stdout",
       "text": [
        "Folder:  C:\\Users\\mfinemorris\\repos\\WilsonLab\\NMResults\\TBModel-sec1320-eL-IP0_9-gnaps2_8\n",
        "\n",
        "2 :  C:\\Users\\mfinemorris\\repos\\WilsonLab\\NMResults\\TBModel-sec1320-eL-IP0_9-gnaps2_8\\voltage-TBModel-sec1320-eL-IP0_9-gnaps2_8.txt\n"
       ]
      },
      {
       "metadata": {},
       "output_type": "pyout",
       "prompt_number": 4,
       "text": [
        "'C:\\\\Users\\\\mfinemorris\\\\repos\\\\WilsonLab\\\\NMResults\\\\TBModel-sec1320-eL-IP0_9-gnaps2_8\\\\voltage-TBModel-sec1320-eL-IP0_9-gnaps2_8.txt'"
       ]
      }
     ],
     "prompt_number": 4
    },
    {
     "cell_type": "code",
     "collapsed": false,
     "input": [
      "#specify data file, find it and extract experiment information from its name\n",
      "#File_Path = files_2[1]\n",
      "\n",
      "if not os.path.isfile(File_Path):\n",
      "    print \"Cannot find file\",data_file\n",
      "else:\n",
      "    #read-in file and reset output dict\n",
      "    data_raw = pd.read_csv(File_Path, index_col= 0)\n",
      "    output_dict = {} # reset output dict each time I load a new data file\n",
      "    \n",
      "    file_info = os.path.basename(File_Path).partition('.')[0].split(\"-\")\n",
      "    print \"file info: \", file_info\n",
      "    variable = file_info[3]\n",
      "    print \"variable: \",variable\n",
      "    print\n",
      "    output_dict['File_Path'] = File_Path\n",
      "    # make experiment label\n",
      "    exp = (file_info[1]+\" with \"+\", \".join(file_info[2:])).replace(\"_\",\".\")\n",
      "    output_dict['exp'] = exp\n",
      "    \n",
      "output_dict['exp']"
     ],
     "language": "python",
     "metadata": {},
     "outputs": [
      {
       "output_type": "stream",
       "stream": "stdout",
       "text": [
        "file info:  ['voltage', 'TBModel', 'sec1320', 'eL', 'IP0_9', 'gnaps2_8']\n",
        "variable:  eL\n",
        "\n"
       ]
      },
      {
       "metadata": {},
       "output_type": "pyout",
       "prompt_number": 7,
       "text": [
        "'TBModel with sec1320, eL, IP0.9, gnaps2.8'"
       ]
      }
     ],
     "prompt_number": 7
    },
    {
     "cell_type": "heading",
     "level": 3,
     "metadata": {},
     "source": [
      "Preview Data"
     ]
    },
    {
     "cell_type": "code",
     "collapsed": false,
     "input": [
      "data_raw.head()"
     ],
     "language": "python",
     "metadata": {},
     "outputs": [
      {
       "html": [
        "<div style=\"max-height:1000px;max-width:1500px;overflow:auto;\">\n",
        "<table border=\"1\" class=\"dataframe\">\n",
        "  <thead>\n",
        "    <tr style=\"text-align: right;\">\n",
        "      <th></th>\n",
        "      <th>-40</th>\n",
        "      <th>-45</th>\n",
        "      <th>-50</th>\n",
        "      <th>-55</th>\n",
        "      <th>-60</th>\n",
        "      <th>-65</th>\n",
        "    </tr>\n",
        "  </thead>\n",
        "  <tbody>\n",
        "    <tr>\n",
        "      <th>0.0</th>\n",
        "      <td>-60.000000</td>\n",
        "      <td>-60.000000</td>\n",
        "      <td>-60.000000</td>\n",
        "      <td>-60.000000</td>\n",
        "      <td>-60.000000</td>\n",
        "      <td>-60.000000</td>\n",
        "    </tr>\n",
        "    <tr>\n",
        "      <th>0.1</th>\n",
        "      <td>-59.700305</td>\n",
        "      <td>-59.754658</td>\n",
        "      <td>-59.809011</td>\n",
        "      <td>-59.863363</td>\n",
        "      <td>-59.917715</td>\n",
        "      <td>-59.972067</td>\n",
        "    </tr>\n",
        "    <tr>\n",
        "      <th>0.2</th>\n",
        "      <td>-59.408372</td>\n",
        "      <td>-59.516292</td>\n",
        "      <td>-59.624208</td>\n",
        "      <td>-59.732122</td>\n",
        "      <td>-59.840033</td>\n",
        "      <td>-59.947941</td>\n",
        "    </tr>\n",
        "    <tr>\n",
        "      <th>0.3</th>\n",
        "      <td>-59.123710</td>\n",
        "      <td>-59.284455</td>\n",
        "      <td>-59.445189</td>\n",
        "      <td>-59.605912</td>\n",
        "      <td>-59.766626</td>\n",
        "      <td>-59.927331</td>\n",
        "    </tr>\n",
        "    <tr>\n",
        "      <th>0.4</th>\n",
        "      <td>-58.845864</td>\n",
        "      <td>-59.058732</td>\n",
        "      <td>-59.271577</td>\n",
        "      <td>-59.484397</td>\n",
        "      <td>-59.697194</td>\n",
        "      <td>-59.909968</td>\n",
        "    </tr>\n",
        "  </tbody>\n",
        "</table>\n",
        "</div>"
       ],
       "metadata": {},
       "output_type": "pyout",
       "prompt_number": 8,
       "text": [
        "           -40        -45        -50        -55        -60        -65\n",
        "0.0 -60.000000 -60.000000 -60.000000 -60.000000 -60.000000 -60.000000\n",
        "0.1 -59.700305 -59.754658 -59.809011 -59.863363 -59.917715 -59.972067\n",
        "0.2 -59.408372 -59.516292 -59.624208 -59.732122 -59.840033 -59.947941\n",
        "0.3 -59.123710 -59.284455 -59.445189 -59.605912 -59.766626 -59.927331\n",
        "0.4 -58.845864 -59.058732 -59.271577 -59.484397 -59.697194 -59.909968"
       ]
      }
     ],
     "prompt_number": 8
    },
    {
     "cell_type": "code",
     "collapsed": false,
     "input": [
      "data_raw.tail()"
     ],
     "language": "python",
     "metadata": {},
     "outputs": [
      {
       "html": [
        "<div style=\"max-height:1000px;max-width:1500px;overflow:auto;\">\n",
        "<table border=\"1\" class=\"dataframe\">\n",
        "  <thead>\n",
        "    <tr style=\"text-align: right;\">\n",
        "      <th></th>\n",
        "      <th>-40</th>\n",
        "      <th>-45</th>\n",
        "      <th>-50</th>\n",
        "      <th>-55</th>\n",
        "      <th>-60</th>\n",
        "      <th>-65</th>\n",
        "    </tr>\n",
        "  </thead>\n",
        "  <tbody>\n",
        "    <tr>\n",
        "      <th>1319999.6</th>\n",
        "      <td>-33.911522</td>\n",
        "      <td>-42.133614</td>\n",
        "      <td>-40.795232</td>\n",
        "      <td>-45.515036</td>\n",
        "      <td>-54.636356</td>\n",
        "      <td>-59.253822</td>\n",
        "    </tr>\n",
        "    <tr>\n",
        "      <th>1319999.7</th>\n",
        "      <td>-32.412282</td>\n",
        "      <td>-42.081498</td>\n",
        "      <td>-40.727442</td>\n",
        "      <td>-45.512276</td>\n",
        "      <td>-54.636237</td>\n",
        "      <td>-59.253822</td>\n",
        "    </tr>\n",
        "    <tr>\n",
        "      <th>1319999.8</th>\n",
        "      <td>-30.068790</td>\n",
        "      <td>-42.028512</td>\n",
        "      <td>-40.656953</td>\n",
        "      <td>-45.509507</td>\n",
        "      <td>-54.636118</td>\n",
        "      <td>-59.253822</td>\n",
        "    </tr>\n",
        "    <tr>\n",
        "      <th>1319999.9</th>\n",
        "      <td>-26.156822</td>\n",
        "      <td>-41.974610</td>\n",
        "      <td>-40.583555</td>\n",
        "      <td>-45.506729</td>\n",
        "      <td>-54.635999</td>\n",
        "      <td>-59.253822</td>\n",
        "    </tr>\n",
        "    <tr>\n",
        "      <th>1320000.0</th>\n",
        "      <td>-20.263803</td>\n",
        "      <td>-41.919741</td>\n",
        "      <td>-40.507017</td>\n",
        "      <td>-45.503941</td>\n",
        "      <td>-54.635880</td>\n",
        "      <td>-59.253822</td>\n",
        "    </tr>\n",
        "  </tbody>\n",
        "</table>\n",
        "</div>"
       ],
       "metadata": {},
       "output_type": "pyout",
       "prompt_number": 29,
       "text": [
        "                 -40        -45        -50        -55        -60        -65\n",
        "1319999.6 -33.911522 -42.133614 -40.795232 -45.515036 -54.636356 -59.253822\n",
        "1319999.7 -32.412282 -42.081498 -40.727442 -45.512276 -54.636237 -59.253822\n",
        "1319999.8 -30.068790 -42.028512 -40.656953 -45.509507 -54.636118 -59.253822\n",
        "1319999.9 -26.156822 -41.974610 -40.583555 -45.506729 -54.635999 -59.253822\n",
        "1320000.0 -20.263803 -41.919741 -40.507017 -45.503941 -54.635880 -59.253822"
       ]
      }
     ],
     "prompt_number": 29
    },
    {
     "cell_type": "code",
     "collapsed": false,
     "input": [
      "meas = '-60'\n",
      "col=data_raw[meas].iloc[:132000]\n",
      "plt.plot(col.index, col.values)\n",
      "plt.xlabel('time (s)')\n",
      "plt.show()"
     ],
     "language": "python",
     "metadata": {},
     "outputs": []
    },
    {
     "cell_type": "code",
     "collapsed": false,
     "input": [
      "all_time_series(data_raw)"
     ],
     "language": "python",
     "metadata": {},
     "outputs": [
      {
       "output_type": "stream",
       "stream": "stdout",
       "text": [
        "Error ploting peaks because  'NoneType' object has no attribute '__getitem__'\n",
        "Error plotting burst start & end markers because  'NoneType' object has no attribute '__getitem__'\n",
        "Error ploting peaks because "
       ]
      },
      {
       "output_type": "stream",
       "stream": "stdout",
       "text": [
        " 'NoneType' object has no attribute '__getitem__'\n",
        "Error plotting burst start & end markers because  'NoneType' object has no attribute '__getitem__'\n",
        "Error ploting peaks because "
       ]
      },
      {
       "output_type": "stream",
       "stream": "stdout",
       "text": [
        " 'NoneType' object has no attribute '__getitem__'\n",
        "Error plotting burst start & end markers because  'NoneType' object has no attribute '__getitem__'\n",
        "Error ploting peaks because "
       ]
      },
      {
       "output_type": "stream",
       "stream": "stdout",
       "text": [
        " 'NoneType' object has no attribute '__getitem__'\n",
        "Error plotting burst start & end markers because  'NoneType' object has no attribute '__getitem__'\n",
        "Error ploting peaks because "
       ]
      },
      {
       "output_type": "stream",
       "stream": "stdout",
       "text": [
        " 'NoneType' object has no attribute '__getitem__'\n",
        "Error plotting burst start & end markers because  'NoneType' object has no attribute '__getitem__'\n",
        "Error ploting peaks because "
       ]
      },
      {
       "output_type": "stream",
       "stream": "stdout",
       "text": [
        " 'NoneType' object has no attribute '__getitem__'\n",
        "Error plotting burst start & end markers because  'NoneType' object has no attribute '__getitem__'\n"
       ]
      }
     ],
     "prompt_number": 48
    },
    {
     "cell_type": "code",
     "collapsed": false,
     "input": [
      "#plot all raw data time series\n",
      "for label, column in data_raw.iteritems():\n",
      "    s=column.iloc[:13200]\n",
      "    print label\n",
      "    plt.plot(s.index/1000., s.values, label=label)\n",
      "    #plt.legend()\n",
      "    \n",
      "    plt.title(\"%s = %s\"%(variable,label))\n",
      "    plt.show()"
     ],
     "language": "python",
     "metadata": {},
     "outputs": []
    },
    {
     "cell_type": "heading",
     "level": 3,
     "metadata": {},
     "source": [
      "Set output directory and outputfile information and suffixes"
     ]
    },
    {
     "cell_type": "code",
     "collapsed": false,
     "input": [
      "#construct output directory path name and part of file name for plots and data files\n",
      "analysis_directory = os.path.join(os.getcwd(), 'NMAnalysis')\n",
      "#output_directory = \"/Users/mfinemorris/Desktop/Neuron Modeling\"\n",
      "mkdir_p(analysis_directory)"
     ],
     "language": "python",
     "metadata": {},
     "outputs": [],
     "prompt_number": 30
    },
    {
     "cell_type": "code",
     "collapsed": false,
     "input": [
      "plot_ext = \".png\"\n",
      "data_ext = \".txt\""
     ],
     "language": "python",
     "metadata": {},
     "outputs": [],
     "prompt_number": 31
    },
    {
     "cell_type": "code",
     "collapsed": false,
     "input": [
      "exp_info = \"-\".join(file_info[1:])\n",
      "output_suffix = exp_info + data_ext\n",
      "plot_suffix = exp_info + plot_ext\n",
      "output_suffix, plot_suffix"
     ],
     "language": "python",
     "metadata": {},
     "outputs": [
      {
       "metadata": {},
       "output_type": "pyout",
       "prompt_number": 32,
       "text": [
        "('TBModel-sec1320-eL-IP0_9-gnaps2_8.txt',\n",
        " 'TBModel-sec1320-eL-IP0_9-gnaps2_8.png')"
       ]
      }
     ],
     "prompt_number": 32
    },
    {
     "cell_type": "code",
     "collapsed": false,
     "input": [
      "analysis_subdir = NMResources.element_sep.join(file_info[1:])\n",
      "output_directory = os.path.join(analysis_directory,analysis_subdir)                                     \n",
      "utility.mkdir_p(output_directory)\n",
      "output_directory"
     ],
     "language": "python",
     "metadata": {},
     "outputs": [
      {
       "metadata": {},
       "output_type": "pyout",
       "prompt_number": 33,
       "text": [
        "'C:\\\\Users\\\\mfinemorris\\\\repos\\\\WilsonLab\\\\NMAnalysis\\\\TBModel-sec1320-eL-IP0_9-gnaps2_8'"
       ]
      }
     ],
     "prompt_number": 33
    },
    {
     "cell_type": "heading",
     "level": 1,
     "metadata": {},
     "source": [
      "Process Data"
     ]
    },
    {
     "cell_type": "heading",
     "level": 3,
     "metadata": {},
     "source": [
      "Event detection"
     ]
    },
    {
     "cell_type": "code",
     "collapsed": false,
     "input": [
      "# calc rate\n",
      "rate = data_raw.index[3] - data_raw.index[2]\n",
      "output_dict['rate'] = rate\n",
      "\n",
      "#event detection on all time series\n",
      "delta = 1\n",
      "peak_amp_temp, peak_sets_temp_x, peak_sets_temp_y = event_detection(data_raw, delta, rate)\n",
      "output_dict['peak_amp_temp'] = peak_amp_temp\n",
      "output_dict['peak_amp_temp']"
     ],
     "language": "python",
     "metadata": {},
     "outputs": [
      {
       "output_type": "stream",
       "stream": "stdout",
       "text": [
        "-40 took 18.5042959468 seconds to run\n",
        "-45"
       ]
      },
      {
       "output_type": "stream",
       "stream": "stdout",
       "text": [
        " took 19.0850234722 seconds to run\n",
        "-50"
       ]
      },
      {
       "output_type": "stream",
       "stream": "stdout",
       "text": [
        " took 18.9185221391 seconds to run\n",
        "-55"
       ]
      },
      {
       "output_type": "stream",
       "stream": "stdout",
       "text": [
        " took 17.7690477588 seconds to run\n",
        "-60"
       ]
      },
      {
       "output_type": "stream",
       "stream": "stdout",
       "text": [
        " took 18.4176569843 seconds to run\n",
        "-65"
       ]
      },
      {
       "output_type": "stream",
       "stream": "stdout",
       "text": [
        " took 17.2544966402 seconds to run\n"
       ]
      },
      {
       "html": [
        "<div style=\"max-height:1000px;max-width:1500px;overflow:auto;\">\n",
        "<table border=\"1\" class=\"dataframe\">\n",
        "  <thead>\n",
        "    <tr style=\"text-align: right;\">\n",
        "      <th></th>\n",
        "      <th>-40</th>\n",
        "      <th>-45</th>\n",
        "      <th>-50</th>\n",
        "      <th>-55</th>\n",
        "      <th>-60</th>\n",
        "      <th>-65</th>\n",
        "    </tr>\n",
        "  </thead>\n",
        "  <tbody>\n",
        "    <tr>\n",
        "      <th>count</th>\n",
        "      <td> 101393.000000</td>\n",
        "      <td> 66751.000000</td>\n",
        "      <td> 28307.000000</td>\n",
        "      <td> 8946.000000</td>\n",
        "      <td> 8585.000000</td>\n",
        "      <td>  1.000000</td>\n",
        "    </tr>\n",
        "    <tr>\n",
        "      <th>mean</th>\n",
        "      <td>      5.170197</td>\n",
        "      <td>     5.545849</td>\n",
        "      <td>     5.525779</td>\n",
        "      <td>    5.628782</td>\n",
        "      <td>    5.866280</td>\n",
        "      <td>-59.860531</td>\n",
        "    </tr>\n",
        "    <tr>\n",
        "      <th>std</th>\n",
        "      <td>      0.068037</td>\n",
        "      <td>     0.061783</td>\n",
        "      <td>     0.053872</td>\n",
        "      <td>    0.053654</td>\n",
        "      <td>    0.063214</td>\n",
        "      <td>       NaN</td>\n",
        "    </tr>\n",
        "    <tr>\n",
        "      <th>min</th>\n",
        "      <td>      2.996614</td>\n",
        "      <td>     3.999799</td>\n",
        "      <td>     4.962911</td>\n",
        "      <td>    5.509547</td>\n",
        "      <td>    5.695859</td>\n",
        "      <td>-59.860531</td>\n",
        "    </tr>\n",
        "    <tr>\n",
        "      <th>25%</th>\n",
        "      <td>      5.132880</td>\n",
        "      <td>     5.505995</td>\n",
        "      <td>     5.485196</td>\n",
        "      <td>    5.587622</td>\n",
        "      <td>    5.821285</td>\n",
        "      <td>-59.860531</td>\n",
        "    </tr>\n",
        "    <tr>\n",
        "      <th>50%</th>\n",
        "      <td>      5.185677</td>\n",
        "      <td>     5.561485</td>\n",
        "      <td>     5.540469</td>\n",
        "      <td>    5.643514</td>\n",
        "      <td>    5.875972</td>\n",
        "      <td>-59.860531</td>\n",
        "    </tr>\n",
        "    <tr>\n",
        "      <th>75%</th>\n",
        "      <td>      5.217478</td>\n",
        "      <td>     5.594910</td>\n",
        "      <td>     5.573740</td>\n",
        "      <td>    5.676979</td>\n",
        "      <td>    5.914371</td>\n",
        "      <td>-59.860531</td>\n",
        "    </tr>\n",
        "    <tr>\n",
        "      <th>max</th>\n",
        "      <td>      6.408148</td>\n",
        "      <td>     6.187032</td>\n",
        "      <td>     6.042075</td>\n",
        "      <td>    5.860843</td>\n",
        "      <td>    6.027399</td>\n",
        "      <td>-59.860531</td>\n",
        "    </tr>\n",
        "  </tbody>\n",
        "</table>\n",
        "</div>"
       ],
       "metadata": {},
       "output_type": "pyout",
       "prompt_number": 34,
       "text": [
        "                 -40           -45           -50          -55          -60  \\\n",
        "count  101393.000000  66751.000000  28307.000000  8946.000000  8585.000000   \n",
        "mean        5.170197      5.545849      5.525779     5.628782     5.866280   \n",
        "std         0.068037      0.061783      0.053872     0.053654     0.063214   \n",
        "min         2.996614      3.999799      4.962911     5.509547     5.695859   \n",
        "25%         5.132880      5.505995      5.485196     5.587622     5.821285   \n",
        "50%         5.185677      5.561485      5.540469     5.643514     5.875972   \n",
        "75%         5.217478      5.594910      5.573740     5.676979     5.914371   \n",
        "max         6.408148      6.187032      6.042075     5.860843     6.027399   \n",
        "\n",
        "             -65  \n",
        "count   1.000000  \n",
        "mean  -59.860531  \n",
        "std          NaN  \n",
        "min   -59.860531  \n",
        "25%   -59.860531  \n",
        "50%   -59.860531  \n",
        "75%   -59.860531  \n",
        "max   -59.860531  "
       ]
      }
     ],
     "prompt_number": 34
    },
    {
     "cell_type": "heading",
     "level": 3,
     "metadata": {},
     "source": [
      "Save Peaks"
     ]
    },
    {
     "cell_type": "code",
     "collapsed": false,
     "input": [
      "#save peak data for later operations in notebook\n",
      "peaks = {} \n",
      "\n",
      "#save peak data for later output\n",
      "peak_y = peak_sets_temp_y\n",
      "peak_x = peak_sets_temp_x\n",
      "temp = []\n",
      "\n",
      "for k in peak_x:\n",
      "    start_time = t.clock()\n",
      "\n",
      "    #### Collect peak data for later notebook operations\n",
      "    xlist = peak_x[k].tolist()\n",
      "    #get RR interval\n",
      "    RR = rrinterval(xlist)\n",
      "    RR.append(NaN)\n",
      "    peaks[k] = DataFrame({'Amplitude':peak_y[k].tolist(),'Interval':RR}, index = xlist)\n",
      "\n",
      "    #### Collect peak data for saving\n",
      "    temp.append(peak_x[k])\n",
      "    temp.append(peak_y[k])\n",
      "    temp.append(RR[:-1])\n",
      "    \n",
      "    end_time = t.clock()\n",
      "    print k, \"finished in\", np.round(end_time - start_time, 3)\n",
      "    \n",
      "#index/cols for the peak array that will be saved to file\n",
      "cols=pd.MultiIndex.from_product([data_raw.columns,[u'rr', u'x', u'y']],names=['variable','peak_data'])\n",
      "max_peaks = max([len(peak_x[key]) for key in peak_x])\n",
      "peak_x_y = pd.DataFrame(data=temp, index=cols, columns=range(0,max_peaks)).T.to_sparse()\n",
      "\n",
      "#output_dict['peaks_'] = peak_x_y"
     ],
     "language": "python",
     "metadata": {},
     "outputs": [
      {
       "output_type": "stream",
       "stream": "stdout",
       "text": [
        "-55 finished in 0.594\n",
        "-60"
       ]
      },
      {
       "output_type": "stream",
       "stream": "stdout",
       "text": [
        " finished in 0.551\n",
        "-65 finished in 0.0\n",
        "-40"
       ]
      },
      {
       "output_type": "stream",
       "stream": "stdout",
       "text": [
        " finished in 74.998\n",
        "-45"
       ]
      },
      {
       "output_type": "stream",
       "stream": "stdout",
       "text": [
        " finished in 32.26\n",
        "-50"
       ]
      },
      {
       "output_type": "stream",
       "stream": "stdout",
       "text": [
        " finished in 5.807\n"
       ]
      }
     ],
     "prompt_number": 35
    },
    {
     "cell_type": "code",
     "collapsed": false,
     "input": [
      "save_file = os.path.join(output_directory,'peaks-'+output_suffix)\n",
      "print save_file\n",
      "# IDK why this works and peak_x_y.to_csv() doesn't, but you can't argue with results...\n",
      "peak_dict = peak_x_y.to_dict()\n",
      "pd.DataFrame().from_dict(peak_dict).to_csv(save_file)"
     ],
     "language": "python",
     "metadata": {},
     "outputs": [
      {
       "output_type": "stream",
       "stream": "stdout",
       "text": [
        "C:\\Users\\mfinemorris\\repos\\WilsonLab\\NMAnalysis\\TBModel-sec1320-eL-IP0_9-gnaps2_8\\peaks-TBModel-sec1320-eL-IP0_9-gnaps2_8.txt\n"
       ]
      }
     ],
     "prompt_number": 36
    },
    {
     "cell_type": "heading",
     "level": 3,
     "metadata": {},
     "source": [
      "Peak to peak measurments, includes IBI"
     ]
    },
    {
     "cell_type": "code",
     "collapsed": false,
     "input": [
      "#how many peaks occur in each trace?\n",
      "for key, value in peak_sets_temp_x.iteritems():\n",
      "    v = value.tolist()\n",
      "    print key, '=', len(v)"
     ],
     "language": "python",
     "metadata": {},
     "outputs": [
      {
       "output_type": "stream",
       "stream": "stdout",
       "text": [
        "-55 = 8946\n",
        "-60 = 8585\n",
        "-65 = 1\n",
        "-40 = 101393\n",
        "-45 = 66751\n",
        "-50 = 28307\n"
       ]
      }
     ],
     "prompt_number": 37
    },
    {
     "cell_type": "code",
     "collapsed": false,
     "input": [
      "#all events detected\n",
      "peaks = {}\n",
      "for key, value in peak_sets_temp_x.iteritems():\n",
      "    start_time = t.clock()\n",
      "    peak_x = value.tolist()\n",
      "    peak_y = peak_sets_temp_y[key].tolist()\n",
      "    \n",
      "    RR = rrinterval(peak_x)\n",
      "    RR.append(NaN)\n",
      "    #make Dataframe with index as peak_x (time of peak) and store amplitude of peak(peak_y) and RR-interval\n",
      "    results_peaks = DataFrame({'Amplitude':peak_y,'Interval':RR}, index = peak_x)  \n",
      "    peaks[key] = results_peaks\n",
      "    end_time = t.clock()\n",
      "    print key, \"finished in\", np.round(end_time - start_time, 3)"
     ],
     "language": "python",
     "metadata": {},
     "outputs": [
      {
       "output_type": "stream",
       "stream": "stdout",
       "text": [
        "-55 finished in 0.608\n",
        "-60"
       ]
      },
      {
       "output_type": "stream",
       "stream": "stdout",
       "text": [
        " finished in 0.55\n",
        "-65 finished in 0.0\n",
        "-40"
       ]
      },
      {
       "output_type": "stream",
       "stream": "stdout",
       "text": [
        " finished in 75.708\n",
        "-45"
       ]
      },
      {
       "output_type": "stream",
       "stream": "stdout",
       "text": [
        " finished in 32.624\n",
        "-50"
       ]
      },
      {
       "output_type": "stream",
       "stream": "stdout",
       "text": [
        " finished in 5.869\n"
       ]
      }
     ],
     "prompt_number": 38
    },
    {
     "cell_type": "heading",
     "level": 4,
     "metadata": {},
     "source": [
      "IBI detect and summary plot"
     ]
    },
    {
     "cell_type": "code",
     "collapsed": false,
     "input": [
      "#interburst interval detection\n",
      "ibi_thresh = 200 #in ms #!!!!!!!!!!!!!!!!!!!!!!!!!!!!!!!!!!!!!!!\n",
      "ibi_average = Series(index = data_raw.columns)\n",
      "ibi_std = Series(index = data_raw.columns)\n",
      "for key, value in peaks.iteritems():\n",
      "    ibi = value[value['Interval']>ibi_thresh].Interval.mean()\n",
      "    ibi_average[key] = ibi\n",
      "    \n",
      "    std = value[value['Interval']>ibi_thresh].Interval.std()\n",
      "    ibi_std[key] = std\n",
      "    \n",
      "ibi_data = pd.concat({'ibi_average':ibi_average,'ibi_std':ibi_std}, axis=1)\n",
      "output_dict['ibi_thresh'] = ibi_thresh\n",
      "output_dict['ibi_avg_std']=ibi_data\n",
      "'''\n",
      "#there isn't really enough ibi data to justify its own file\n",
      "save_file = os.path.join(output_directory,'ibi-'+output_suffix)\n",
      "df = pd.DataFrame().from_dict(ibi_data.to_dict())\n",
      "df.to_csv(save_file)\n",
      "'''\n",
      "print ibi_thresh\n",
      "ibi_data"
     ],
     "language": "python",
     "metadata": {},
     "outputs": [
      {
       "output_type": "stream",
       "stream": "stdout",
       "text": [
        "200\n"
       ]
      },
      {
       "html": [
        "<div style=\"max-height:1000px;max-width:1500px;overflow:auto;\">\n",
        "<table border=\"1\" class=\"dataframe\">\n",
        "  <thead>\n",
        "    <tr style=\"text-align: right;\">\n",
        "      <th></th>\n",
        "      <th>ibi_average</th>\n",
        "      <th>ibi_std</th>\n",
        "    </tr>\n",
        "  </thead>\n",
        "  <tbody>\n",
        "    <tr>\n",
        "      <th>-40</th>\n",
        "      <td>         NaN</td>\n",
        "      <td>      NaN</td>\n",
        "    </tr>\n",
        "    <tr>\n",
        "      <th>-45</th>\n",
        "      <td>         NaN</td>\n",
        "      <td>      NaN</td>\n",
        "    </tr>\n",
        "    <tr>\n",
        "      <th>-50</th>\n",
        "      <td>         NaN</td>\n",
        "      <td>      NaN</td>\n",
        "    </tr>\n",
        "    <tr>\n",
        "      <th>-55</th>\n",
        "      <td>         NaN</td>\n",
        "      <td>      NaN</td>\n",
        "    </tr>\n",
        "    <tr>\n",
        "      <th>-60</th>\n",
        "      <td> 2198.065047</td>\n",
        "      <td> 0.300326</td>\n",
        "    </tr>\n",
        "    <tr>\n",
        "      <th>-65</th>\n",
        "      <td>         NaN</td>\n",
        "      <td>      NaN</td>\n",
        "    </tr>\n",
        "  </tbody>\n",
        "</table>\n",
        "</div>"
       ],
       "metadata": {},
       "output_type": "pyout",
       "prompt_number": 49,
       "text": [
        "     ibi_average   ibi_std\n",
        "-40          NaN       NaN\n",
        "-45          NaN       NaN\n",
        "-50          NaN       NaN\n",
        "-55          NaN       NaN\n",
        "-60  2198.065047  0.300326\n",
        "-65          NaN       NaN"
       ]
      }
     ],
     "prompt_number": 49
    },
    {
     "cell_type": "code",
     "collapsed": false,
     "input": [
      "#ibi summary graph\n",
      "plt.errorbar(ibi_average.index, ibi_average, ibi_std, marker = '^', color = 'k')\n",
      "#plt.xlim(xmin = 0)\n",
      "plt.xlabel('%s' %(variable))\n",
      "plt.ylabel('Interburst Interval (ms)')\n",
      "plt.title('Interburst interval with %s' %exp)\n",
      "plot_file = os.path.join(output_directory,\"ibi_summary-\"+plot_suffix)\n",
      "print plot_file\n",
      "plt.savefig(plot_file)\n",
      "plt.show()"
     ],
     "language": "python",
     "metadata": {},
     "outputs": [
      {
       "output_type": "stream",
       "stream": "stdout",
       "text": [
        "C:\\Users\\mfinemorris\\repos\\WilsonLab\\NMAnalysis\\TBModel-sec1320-eL-IP0_9-gnaps2_8\\ibi_summary-TBModel-sec1320-eL-IP0_9-gnaps2_8.png\n"
       ]
      }
     ],
     "prompt_number": 50
    },
    {
     "cell_type": "heading",
     "level": 3,
     "metadata": {},
     "source": [
      "Burst Duration: Measure, save, summary plot"
     ]
    },
    {
     "cell_type": "code",
     "collapsed": false,
     "input": [
      "peaks.keys()"
     ],
     "language": "python",
     "metadata": {},
     "outputs": [
      {
       "metadata": {},
       "output_type": "pyout",
       "prompt_number": 41,
       "text": [
        "['-55', '-60', '-50', '-40', '-45', '-65']"
       ]
      }
     ],
     "prompt_number": 41
    },
    {
     "cell_type": "code",
     "collapsed": false,
     "input": [
      "bursts = {}\n",
      "burst_arr = []\n",
      "duration = Series(index = data_raw.columns)\n",
      "duration_std = Series(index = data_raw.columns)\n",
      "burst_ibi = Series(index = data_raw.columns)\n",
      "burst_ibi_std = Series(index = data_raw.columns)\n",
      "spikes_per_burst = Series(index = data_raw.columns)\n",
      "spikes_per_burst_std = Series(index = data_raw.columns)\n",
      "\n",
      "for key, value in peaks.iteritems():\n",
      "    b_start = []\n",
      "    b_end = []\n",
      "    b_ibi = []\n",
      "    try:\n",
      "        b_start.append(value.index[0])\n",
      "    except IndexError as e:\n",
      "        continue\n",
      "        \n",
      "    b_flag = True\n",
      "\n",
      "    for index, row in value['Interval'].iteritems():\n",
      "        if b_flag == False:\n",
      "            b_start.append(index)\n",
      "            b_flag = True\n",
      "\n",
      "        if b_flag == True:\n",
      "            if row>ibi_thresh:\n",
      "                b_end.append(index)\n",
      "                b_ibi.append(row)\n",
      "                b_flag = False\n",
      "                \n",
      "    if len(b_start) == len(b_end) +1:\n",
      "        del b_start[-1]\n",
      "        \n",
      "    #store info about bursts\n",
      "    Burst = DataFrame(data = {'Start':b_start})\n",
      "    Burst['End'] = b_end\n",
      "    Burst['Duration'] = Burst['End'] - Burst['Start']\n",
      "    Burst['Burst Interval'] = b_ibi\n",
      "    bursts[key] = Burst\n",
      "    \n",
      "    burst_arr.append(b_start)\n",
      "    burst_arr.append(b_end)\n",
      "    burst_arr.append(Burst['Duration'].values.tolist())\n",
      "    burst_arr.append(b_ibi)\n",
      "\n",
      "    #information derived from burst indo\n",
      "\n",
      "    spb = []\n",
      "    for i in np.arange(len(b_start)):\n",
      "        count = peaks[key]['Amplitude'][Burst['Start'].ix[i]:Burst['End'].ix[i]].count()\n",
      "        spb.append(count)\n",
      "    Burst['Spikes/Burst'] = spb\n",
      "\n",
      "    duration[key] = Burst['Duration'].mean()\n",
      "    duration_std[key] = Burst['Duration'].std()\n",
      "    burst_ibi[key] =  Burst['Burst Interval'].mean()\n",
      "    burst_ibi_std[key] = Burst['Burst Interval'].std()\n",
      "    spikes_per_burst[key] = Burst['Spikes/Burst'].mean()\n",
      "    spikes_per_burst_std[key] = Burst['Spikes/Burst'].std()\n",
      "    \n",
      "\n",
      "#store the burst duration- and ibi- mean and std together in prep for final output\n",
      "burst_misc_data = pd.concat([duration, duration_std, spikes_per_burst, spikes_per_burst_std],keys=['duration mean','duration std','spike/burst', 'spike/burst std'], axis=1)#DataFrame(data =,index = data_raw.columns, )\n",
      "#output_dict['bursts_']=bursts\n",
      "output_dict['burst_stat_data'] = burst_misc_data\n",
      "\n",
      "burst_misc_data"
     ],
     "language": "python",
     "metadata": {},
     "outputs": [
      {
       "html": [
        "<div style=\"max-height:1000px;max-width:1500px;overflow:auto;\">\n",
        "<table border=\"1\" class=\"dataframe\">\n",
        "  <thead>\n",
        "    <tr style=\"text-align: right;\">\n",
        "      <th></th>\n",
        "      <th>duration mean</th>\n",
        "      <th>duration std</th>\n",
        "      <th>spike/burst</th>\n",
        "      <th>spike/burst std</th>\n",
        "    </tr>\n",
        "  </thead>\n",
        "  <tbody>\n",
        "    <tr>\n",
        "      <th>-40</th>\n",
        "      <td>        NaN</td>\n",
        "      <td>      NaN</td>\n",
        "      <td>NaN</td>\n",
        "      <td>NaN</td>\n",
        "    </tr>\n",
        "    <tr>\n",
        "      <th>-45</th>\n",
        "      <td>        NaN</td>\n",
        "      <td>      NaN</td>\n",
        "      <td>NaN</td>\n",
        "      <td>NaN</td>\n",
        "    </tr>\n",
        "    <tr>\n",
        "      <th>-50</th>\n",
        "      <td>        NaN</td>\n",
        "      <td>      NaN</td>\n",
        "      <td>NaN</td>\n",
        "      <td>NaN</td>\n",
        "    </tr>\n",
        "    <tr>\n",
        "      <th>-55</th>\n",
        "      <td>        NaN</td>\n",
        "      <td>      NaN</td>\n",
        "      <td>NaN</td>\n",
        "      <td>NaN</td>\n",
        "    </tr>\n",
        "    <tr>\n",
        "      <th>-60</th>\n",
        "      <td> 412.476619</td>\n",
        "      <td> 0.042854</td>\n",
        "      <td> 17</td>\n",
        "      <td>  0</td>\n",
        "    </tr>\n",
        "    <tr>\n",
        "      <th>-65</th>\n",
        "      <td>        NaN</td>\n",
        "      <td>      NaN</td>\n",
        "      <td>NaN</td>\n",
        "      <td>NaN</td>\n",
        "    </tr>\n",
        "  </tbody>\n",
        "</table>\n",
        "</div>"
       ],
       "metadata": {},
       "output_type": "pyout",
       "prompt_number": 51,
       "text": [
        "     duration mean  duration std  spike/burst  spike/burst std\n",
        "-40            NaN           NaN          NaN              NaN\n",
        "-45            NaN           NaN          NaN              NaN\n",
        "-50            NaN           NaN          NaN              NaN\n",
        "-55            NaN           NaN          NaN              NaN\n",
        "-60     412.476619      0.042854           17                0\n",
        "-65            NaN           NaN          NaN              NaN"
       ]
      }
     ],
     "prompt_number": 51
    },
    {
     "cell_type": "code",
     "collapsed": false,
     "input": [
      "#save bursts\n",
      "save_file = os.path.join(output_directory,'bursts-'+output_suffix)\n",
      "print save_file\n",
      "\n",
      "# IDK why this works when .to_csv doesn't, but you can't argue with results...\n",
      "burst_ind = pd.MultiIndex.from_product([bursts.keys(), [u'start', u'end', u'duration', u'burst interval']], names=['variable','burst data'])\n",
      "burst_df = pd.DataFrame(data=burst_arr, index=burst_ind).T.to_sparse()\n",
      "burst_dict = burst_df.to_dict()\n",
      "pd.DataFrame().from_dict(burst_dict).to_csv(save_file)"
     ],
     "language": "python",
     "metadata": {},
     "outputs": [
      {
       "output_type": "stream",
       "stream": "stdout",
       "text": [
        "C:\\Users\\mfinemorris\\repos\\WilsonLab\\NMAnalysis\\TBModel-sec1320-eL-IP0_9-gnaps2_8\\bursts-TBModel-sec1320-eL-IP0_9-gnaps2_8.txt\n"
       ]
      }
     ],
     "prompt_number": 52
    },
    {
     "cell_type": "code",
     "collapsed": false,
     "input": [
      "#burst duration summary plot\n",
      "plt.errorbar(duration.index, duration, duration_std, marker = '^')\n",
      "plt.xlabel('%s' %(variable))\n",
      "plt.ylabel('Burst Duration (ms)')\n",
      "plt.title('Burst duration when %s is changed' %(variable))\n",
      "plot_file = os.path.join(output_directory,\"burst_dur_summary-\"+plot_suffix)\n",
      "print plot_file\n",
      "plt.savefig(plot_file)\n",
      "plt.show()"
     ],
     "language": "python",
     "metadata": {},
     "outputs": [
      {
       "output_type": "stream",
       "stream": "stdout",
       "text": [
        "C:\\Users\\mfinemorris\\repos\\WilsonLab\\NMAnalysis\\TBModel-sec1320-eL-IP0_9-gnaps2_8\\burst_dur_summary-TBModel-sec1320-eL-IP0_9-gnaps2_8.png\n"
       ]
      }
     ],
     "prompt_number": 53
    },
    {
     "cell_type": "heading",
     "level": 3,
     "metadata": {},
     "source": [
      "Raster Plot"
     ]
    },
    {
     "cell_type": "code",
     "collapsed": false,
     "input": [
      "raster_file = \"raster-\"+plot_suffix\n",
      "raster_file\n",
      "plot_file = os.path.join(output_directory,raster_file)\n",
      "plot_file"
     ],
     "language": "python",
     "metadata": {},
     "outputs": [
      {
       "metadata": {},
       "output_type": "pyout",
       "prompt_number": 54,
       "text": [
        "'C:\\\\Users\\\\mfinemorris\\\\repos\\\\WilsonLab\\\\NMAnalysis\\\\TBModel-sec1320-eL-IP0_9-gnaps2_8\\\\raster-TBModel-sec1320-eL-IP0_9-gnaps2_8.png'"
       ]
      }
     ],
     "prompt_number": 54
    },
    {
     "cell_type": "code",
     "collapsed": false,
     "input": [
      "#raster plot\n",
      "for key, value in peak_sets_temp_x.iteritems():\n",
      "    key = float(key)\n",
      "    temp_y = []\n",
      "    for n in value:\n",
      "        temp_y.append(key)\n",
      "    plt.plot(value, temp_y, marker = '.', color = 'k', linestyle = 'None', markersize = 2)\n",
      "plt.xlabel('Time (ms)')\n",
      "plt.ylabel('%s' %variable)\n",
      "\n",
      "keys = sorted(peak_sets_temp_x.keys())\n",
      "y_min = float(min(keys))\n",
      "y_max = float(max(keys))\n",
      "buff = abs(y_max-y_min)/6.0\n",
      "plt.ylim(ymin=y_min-buff, ymax=y_max+buff)\n",
      "\n",
      "plt.xlim(xmin = 20000, xmax = 45000)\n",
      "plt.title('Raster plot: %s'%exp)"
     ],
     "language": "python",
     "metadata": {},
     "outputs": [
      {
       "metadata": {},
       "output_type": "pyout",
       "prompt_number": 55,
       "text": [
        "<matplotlib.text.Text at 0x4bc3e080>"
       ]
      }
     ],
     "prompt_number": 55
    },
    {
     "cell_type": "code",
     "collapsed": false,
     "input": [
      "#save plot\n",
      "print plot_file\n",
      "plt.savefig(plot_file)\n",
      "plt.show()"
     ],
     "language": "python",
     "metadata": {},
     "outputs": [
      {
       "output_type": "stream",
       "stream": "stdout",
       "text": [
        "C:\\Users\\mfinemorris\\repos\\WilsonLab\\NMAnalysis\\TBModel-sec1320-eL-IP0_9-gnaps2_8\\raster-TBModel-sec1320-eL-IP0_9-gnaps2_8.png\n"
       ]
      }
     ],
     "prompt_number": 56
    },
    {
     "cell_type": "heading",
     "level": 2,
     "metadata": {},
     "source": [
      "Histograms"
     ]
    },
    {
     "cell_type": "code",
     "collapsed": false,
     "input": [
      "title = 'Spike Interval Histogram: %s = '%variable + '%s'\n",
      "file_name = os.path.join(output_directory, \"spike_interval_hist_%s-\"+plot_suffix)\n",
      "spike_histent = plot_hist(data_raw.columns, peaks, 'Interval', title, file_name)"
     ],
     "language": "python",
     "metadata": {},
     "outputs": [
      {
       "output_type": "stream",
       "stream": "stdout",
       "text": [
        "Skipping eL -65 because index out of bounds\n"
       ]
      }
     ],
     "prompt_number": 62
    },
    {
     "cell_type": "code",
     "collapsed": false,
     "input": [
      "title = 'Duration Histogram: %s = '%variable + '%s'\n",
      "file_name = os.path.join(output_directory, \"duration_hist_%s-\"+plot_suffix)\n",
      "spike_histent = plot_hist(data_raw.columns, bursts, 'Duration', title, file_name)"
     ],
     "language": "python",
     "metadata": {},
     "outputs": [
      {
       "output_type": "stream",
       "stream": "stdout",
       "text": [
        "Skipping eL -55 because math domain error\n",
        "Skipping eL -65 because math domain error"
       ]
      },
      {
       "output_type": "stream",
       "stream": "stdout",
       "text": [
        "\n",
        "Skipping eL -40 because math domain error\n",
        "Skipping eL -45 because math domain error\n",
        "Skipping eL -50 because math domain error\n"
       ]
      }
     ],
     "prompt_number": 63
    },
    {
     "cell_type": "code",
     "collapsed": false,
     "input": [
      "title = 'Interburst Interval Histogram: %s = '%variable + '%s'\n",
      "file_name = os.path.join(output_directory, \"ibi_hist_%s-\"+plot_suffix)\n",
      "spike_histent = plot_hist(data_raw.columns, bursts, 'Burst Interval', title, file_name)"
     ],
     "language": "python",
     "metadata": {},
     "outputs": [
      {
       "output_type": "stream",
       "stream": "stdout",
       "text": [
        "Skipping eL -55 because math domain error\n",
        "Skipping eL -65 because math domain error"
       ]
      },
      {
       "output_type": "stream",
       "stream": "stdout",
       "text": [
        "\n",
        "Skipping eL -40 because math domain error\n",
        "Skipping eL -45 because math domain error\n",
        "Skipping eL -50 because math domain error\n"
       ]
      }
     ],
     "prompt_number": 64
    },
    {
     "cell_type": "code",
     "collapsed": false,
     "input": [
      "title = 'Spikes per Burst Histogram: %s = '%variable + '%s'\n",
      "file_name = os.path.join(output_directory, \"spikes_burst_%s-\"+plot_suffix)\n",
      "spike_histent = plot_hist(data_raw.columns, bursts, 'Spikes/Burst', title, file_name)"
     ],
     "language": "python",
     "metadata": {},
     "outputs": [
      {
       "output_type": "stream",
       "stream": "stdout",
       "text": [
        "Skipping eL -55 because math domain error\n",
        "Skipping eL -65 because math domain error"
       ]
      },
      {
       "output_type": "stream",
       "stream": "stdout",
       "text": [
        "\n",
        "Skipping eL -40 because math domain error\n",
        "Skipping eL -45 because math domain error\n",
        "Skipping eL -50 because math domain error\n"
       ]
      }
     ],
     "prompt_number": 65
    },
    {
     "cell_type": "heading",
     "level": 2,
     "metadata": {},
     "source": [
      "Freq plots"
     ]
    },
    {
     "cell_type": "code",
     "collapsed": false,
     "input": [
      "rris = {}\n",
      "for key in peaks:\n",
      "    rri = peaks[key]['Interval'].tolist()\n",
      "    try:\n",
      "        del rri[-1] #the last value is NaN, so we delete it.\n",
      "    except IndexError:\n",
      "        continue\n",
      "\n",
      "    rri_new = []\n",
      "    for i in rri:\n",
      "        bpm = 60000/i\n",
      "        rri_new.append(bpm)\n",
      "    time_int = peaks[key].index.tolist()\n",
      "    del time_int[-1] #must be the same length as rri\n",
      "\n",
      "    plt.ylabel('Event Rate (events/min.)')\n",
      "    plt.xlabel('Time (s)')\n",
      "    plt.title('Event Freqency-Peak detection')\n",
      "    plt.plot(time_int, rri_new)\n",
      "    plt.show()\n",
      "    ser = pd.Series(data=rri_new, index=time_int)\n",
      "    rris[key] = ser\n",
      "    \n",
      "#output_dict['rris_'] = rris"
     ],
     "language": "python",
     "metadata": {},
     "outputs": [],
     "prompt_number": 66
    },
    {
     "cell_type": "code",
     "collapsed": false,
     "input": [
      "save_file = os.path.join(output_directory,'rris-'+output_suffix)\n",
      "print save_file\n",
      "pd.DataFrame().from_dict(rris).to_csv(save_file)"
     ],
     "language": "python",
     "metadata": {},
     "outputs": [
      {
       "output_type": "stream",
       "stream": "stdout",
       "text": [
        "C:\\Users\\mfinemorris\\repos\\WilsonLab\\NMAnalysis\\TBModel-sec1320-eL-IP0_9-gnaps2_8\\rris-TBModel-sec1320-eL-IP0_9-gnaps2_8.txt\n"
       ]
      }
     ],
     "prompt_number": 67
    },
    {
     "cell_type": "code",
     "collapsed": false,
     "input": [
      "window = 1000 #set window size, no overlap"
     ],
     "language": "python",
     "metadata": {},
     "outputs": [],
     "prompt_number": 68
    },
    {
     "cell_type": "code",
     "collapsed": false,
     "input": [
      "sliding_p_mean, sliding_p_count = sliding_peak_freq(peaks, data_raw,  window = window)\n",
      "#output_dict['sliding_p_mean_'] = sliding_p_mean\n",
      "#output_dict['sliding_p_count_'] = sliding_p_count\n",
      "peak_c_m = pd.concat({'peak count':sliding_p_count, 'peak mean':sliding_p_mean}, axis=1).to_sparse()\n",
      "#output_dict['sliding_peaks_']=peak_c_m"
     ],
     "language": "python",
     "metadata": {},
     "outputs": [],
     "prompt_number": 69
    },
    {
     "cell_type": "code",
     "collapsed": false,
     "input": [
      "sliding_b_mean, sliding_b_count = sliding_burst_freq(bursts, data_raw,  window = window)\n",
      "#output_dict['sliding_b_count_'] = sliding_b_count\n",
      "#output_dict['sliding_b_mean_'] = sliding_b_mean\n",
      "burst_c_m = pd.concat({'burst count':sliding_b_count, 'burst mean':sliding_b_mean}, axis=1).to_sparse()\n",
      "#output_dict['sliding_bursts_']=burst_c_m"
     ],
     "language": "python",
     "metadata": {},
     "outputs": [],
     "prompt_number": 70
    },
    {
     "cell_type": "code",
     "collapsed": false,
     "input": [
      "save_file = os.path.join(output_directory,'sliding_burst_cm-'+output_suffix)\n",
      "print save_file\n",
      "pd.DataFrame().from_dict(burst_c_m.to_dict()).to_csv(save_file)\n",
      "\n",
      "save_file = os.path.join(output_directory,'sliding_peak_cm-'+output_suffix)\n",
      "print save_file\n",
      "pd.DataFrame().from_dict(peak_c_m.to_dict()).to_csv(save_file)"
     ],
     "language": "python",
     "metadata": {},
     "outputs": [
      {
       "output_type": "stream",
       "stream": "stdout",
       "text": [
        "C:\\Users\\mfinemorris\\repos\\WilsonLab\\NMAnalysis\\TBModel-sec1320-eL-IP0_9-gnaps2_8\\sliding_burst_cm-TBModel-sec1320-eL-IP0_9-gnaps2_8.txt\n",
        "C:\\Users\\mfinemorris\\repos\\WilsonLab\\NMAnalysis\\TBModel-sec1320-eL-IP0_9-gnaps2_8\\sliding_peak_cm-TBModel-sec1320-eL-IP0_9-gnaps2_8.txt"
       ]
      },
      {
       "output_type": "stream",
       "stream": "stdout",
       "text": [
        "\n"
       ]
      }
     ],
     "prompt_number": 71
    },
    {
     "cell_type": "code",
     "collapsed": false,
     "input": [
      "#save sliding data"
     ],
     "language": "python",
     "metadata": {},
     "outputs": []
    },
    {
     "cell_type": "code",
     "collapsed": false,
     "input": [
      "#quick sharex plot of count and raw data for a given test varible \n",
      "foo = '0.95'\n",
      "fig, ax = plt.subplots(2, sharex= True)\n",
      "ax[0].plot(data_raw.index, data_raw[foo])\n",
      "ax[1].plot(sliding_p_count.index, sliding_p_count[foo], marker = '.')\n",
      "fig.subplots_adjust(hspace = 0.1)\n",
      "plt.show()"
     ],
     "language": "python",
     "metadata": {},
     "outputs": []
    },
    {
     "cell_type": "code",
     "collapsed": false,
     "input": [
      "rd_index = data_raw.index\n",
      "p_index = sliding_p_count.index\n",
      "for num, key in enumerate(data_raw[1:]):\n",
      "    peak_data = sliding_p_count[key]\n",
      "    raw_data = data_raw[key]\n",
      "    \n",
      "    fig = plt.figure(num)\n",
      "    fig.subplots_adjust(hspace=0.1)\n",
      "\n",
      "    ax1 = plt.subplot(211)\n",
      "    ax1.plot(rd_index, raw_data)\n",
      "    plt.ylabel('Membrane Potential (mV)')\n",
      "    plt.title(\"sliding peak count, \" + variable + \" = \"+ key)\n",
      "\n",
      "    ax2 = plt.subplot(212, sharex=ax1)\n",
      "    ax2.plot(p_index, peak_data, marker = '.')\n",
      "    plt.xlabel(\"Time (ms)\")\n",
      "    plt.ylabel(\"# Peaks\")\n",
      "    \n",
      "    plot_file = os.path.join(output_directory,\"sliding_peaks-\"+key.replace(\".\",\"_\")+\"-\"+plot_suffix)\n",
      "    print plot_file\n",
      "    fig.savefig(plot_file)\n",
      "plt.show()"
     ],
     "language": "python",
     "metadata": {},
     "outputs": [
      {
       "output_type": "stream",
       "stream": "stdout",
       "text": [
        "C:\\Users\\mfinemorris\\repos\\WilsonLab\\NMAnalysis\\TBModel-sec1320-eL-IP0_9-gnaps2_8\\sliding_peaks--40-TBModel-sec1320-eL-IP0_9-gnaps2_8.png\n"
       ]
      },
      {
       "ename": "OverflowError",
       "evalue": "Allocated too many blocks",
       "output_type": "pyerr",
       "traceback": [
        "\u001b[1;31m---------------------------------------------------------------------------\u001b[0m\n\u001b[1;31mOverflowError\u001b[0m                             Traceback (most recent call last)",
        "\u001b[1;32m<ipython-input-72-b9cde87a7d29>\u001b[0m in \u001b[0;36m<module>\u001b[1;34m()\u001b[0m\n\u001b[0;32m     20\u001b[0m     \u001b[0mplot_file\u001b[0m \u001b[1;33m=\u001b[0m \u001b[0mos\u001b[0m\u001b[1;33m.\u001b[0m\u001b[0mpath\u001b[0m\u001b[1;33m.\u001b[0m\u001b[0mjoin\u001b[0m\u001b[1;33m(\u001b[0m\u001b[0moutput_directory\u001b[0m\u001b[1;33m,\u001b[0m\u001b[1;34m\"sliding_peaks-\"\u001b[0m\u001b[1;33m+\u001b[0m\u001b[0mkey\u001b[0m\u001b[1;33m.\u001b[0m\u001b[0mreplace\u001b[0m\u001b[1;33m(\u001b[0m\u001b[1;34m\".\"\u001b[0m\u001b[1;33m,\u001b[0m\u001b[1;34m\"_\"\u001b[0m\u001b[1;33m)\u001b[0m\u001b[1;33m+\u001b[0m\u001b[1;34m\"-\"\u001b[0m\u001b[1;33m+\u001b[0m\u001b[0mplot_suffix\u001b[0m\u001b[1;33m)\u001b[0m\u001b[1;33m\u001b[0m\u001b[0m\n\u001b[0;32m     21\u001b[0m     \u001b[1;32mprint\u001b[0m \u001b[0mplot_file\u001b[0m\u001b[1;33m\u001b[0m\u001b[0m\n\u001b[1;32m---> 22\u001b[1;33m     \u001b[0mfig\u001b[0m\u001b[1;33m.\u001b[0m\u001b[0msavefig\u001b[0m\u001b[1;33m(\u001b[0m\u001b[0mplot_file\u001b[0m\u001b[1;33m)\u001b[0m\u001b[1;33m\u001b[0m\u001b[0m\n\u001b[0m\u001b[0;32m     23\u001b[0m \u001b[0mplt\u001b[0m\u001b[1;33m.\u001b[0m\u001b[0mshow\u001b[0m\u001b[1;33m(\u001b[0m\u001b[1;33m)\u001b[0m\u001b[1;33m\u001b[0m\u001b[0m\n",
        "\u001b[1;32mC:\\Users\\mfinemorris\\AppData\\Local\\Enthought\\Canopy\\User\\lib\\site-packages\\matplotlib\\figure.pyc\u001b[0m in \u001b[0;36msavefig\u001b[1;34m(self, *args, **kwargs)\u001b[0m\n\u001b[0;32m   1468\u001b[0m             \u001b[0mself\u001b[0m\u001b[1;33m.\u001b[0m\u001b[0mset_frameon\u001b[0m\u001b[1;33m(\u001b[0m\u001b[0mframeon\u001b[0m\u001b[1;33m)\u001b[0m\u001b[1;33m\u001b[0m\u001b[0m\n\u001b[0;32m   1469\u001b[0m \u001b[1;33m\u001b[0m\u001b[0m\n\u001b[1;32m-> 1470\u001b[1;33m         \u001b[0mself\u001b[0m\u001b[1;33m.\u001b[0m\u001b[0mcanvas\u001b[0m\u001b[1;33m.\u001b[0m\u001b[0mprint_figure\u001b[0m\u001b[1;33m(\u001b[0m\u001b[1;33m*\u001b[0m\u001b[0margs\u001b[0m\u001b[1;33m,\u001b[0m \u001b[1;33m**\u001b[0m\u001b[0mkwargs\u001b[0m\u001b[1;33m)\u001b[0m\u001b[1;33m\u001b[0m\u001b[0m\n\u001b[0m\u001b[0;32m   1471\u001b[0m \u001b[1;33m\u001b[0m\u001b[0m\n\u001b[0;32m   1472\u001b[0m         \u001b[1;32mif\u001b[0m \u001b[0mframeon\u001b[0m\u001b[1;33m:\u001b[0m\u001b[1;33m\u001b[0m\u001b[0m\n",
        "\u001b[1;32mC:\\Users\\mfinemorris\\AppData\\Local\\Enthought\\Canopy\\User\\lib\\site-packages\\matplotlib\\backends\\backend_wxagg.pyc\u001b[0m in \u001b[0;36mprint_figure\u001b[1;34m(self, filename, *args, **kwargs)\u001b[0m\n\u001b[0;32m     85\u001b[0m     \u001b[1;32mdef\u001b[0m \u001b[0mprint_figure\u001b[0m\u001b[1;33m(\u001b[0m\u001b[0mself\u001b[0m\u001b[1;33m,\u001b[0m \u001b[0mfilename\u001b[0m\u001b[1;33m,\u001b[0m \u001b[1;33m*\u001b[0m\u001b[0margs\u001b[0m\u001b[1;33m,\u001b[0m \u001b[1;33m**\u001b[0m\u001b[0mkwargs\u001b[0m\u001b[1;33m)\u001b[0m\u001b[1;33m:\u001b[0m\u001b[1;33m\u001b[0m\u001b[0m\n\u001b[0;32m     86\u001b[0m         \u001b[1;31m# Use pure Agg renderer to draw\u001b[0m\u001b[1;33m\u001b[0m\u001b[1;33m\u001b[0m\u001b[0m\n\u001b[1;32m---> 87\u001b[1;33m         \u001b[0mFigureCanvasAgg\u001b[0m\u001b[1;33m.\u001b[0m\u001b[0mprint_figure\u001b[0m\u001b[1;33m(\u001b[0m\u001b[0mself\u001b[0m\u001b[1;33m,\u001b[0m \u001b[0mfilename\u001b[0m\u001b[1;33m,\u001b[0m \u001b[1;33m*\u001b[0m\u001b[0margs\u001b[0m\u001b[1;33m,\u001b[0m \u001b[1;33m**\u001b[0m\u001b[0mkwargs\u001b[0m\u001b[1;33m)\u001b[0m\u001b[1;33m\u001b[0m\u001b[0m\n\u001b[0m\u001b[0;32m     88\u001b[0m         \u001b[1;31m# Restore the current view; this is needed because the\u001b[0m\u001b[1;33m\u001b[0m\u001b[1;33m\u001b[0m\u001b[0m\n\u001b[0;32m     89\u001b[0m         \u001b[1;31m# artist contains methods rely on particular attributes\u001b[0m\u001b[1;33m\u001b[0m\u001b[1;33m\u001b[0m\u001b[0m\n",
        "\u001b[1;32mC:\\Users\\mfinemorris\\AppData\\Local\\Enthought\\Canopy\\User\\lib\\site-packages\\matplotlib\\backend_bases.pyc\u001b[0m in \u001b[0;36mprint_figure\u001b[1;34m(self, filename, dpi, facecolor, edgecolor, orientation, format, **kwargs)\u001b[0m\n\u001b[0;32m   2192\u001b[0m                 \u001b[0morientation\u001b[0m\u001b[1;33m=\u001b[0m\u001b[0morientation\u001b[0m\u001b[1;33m,\u001b[0m\u001b[1;33m\u001b[0m\u001b[0m\n\u001b[0;32m   2193\u001b[0m                 \u001b[0mbbox_inches_restore\u001b[0m\u001b[1;33m=\u001b[0m\u001b[0m_bbox_inches_restore\u001b[0m\u001b[1;33m,\u001b[0m\u001b[1;33m\u001b[0m\u001b[0m\n\u001b[1;32m-> 2194\u001b[1;33m                 **kwargs)\n\u001b[0m\u001b[0;32m   2195\u001b[0m         \u001b[1;32mfinally\u001b[0m\u001b[1;33m:\u001b[0m\u001b[1;33m\u001b[0m\u001b[0m\n\u001b[0;32m   2196\u001b[0m             \u001b[1;32mif\u001b[0m \u001b[0mbbox_inches\u001b[0m \u001b[1;32mand\u001b[0m \u001b[0mrestore_bbox\u001b[0m\u001b[1;33m:\u001b[0m\u001b[1;33m\u001b[0m\u001b[0m\n",
        "\u001b[1;32mC:\\Users\\mfinemorris\\AppData\\Local\\Enthought\\Canopy\\User\\lib\\site-packages\\matplotlib\\backends\\backend_agg.pyc\u001b[0m in \u001b[0;36mprint_png\u001b[1;34m(self, filename_or_obj, *args, **kwargs)\u001b[0m\n\u001b[0;32m    519\u001b[0m \u001b[1;33m\u001b[0m\u001b[0m\n\u001b[0;32m    520\u001b[0m     \u001b[1;32mdef\u001b[0m \u001b[0mprint_png\u001b[0m\u001b[1;33m(\u001b[0m\u001b[0mself\u001b[0m\u001b[1;33m,\u001b[0m \u001b[0mfilename_or_obj\u001b[0m\u001b[1;33m,\u001b[0m \u001b[1;33m*\u001b[0m\u001b[0margs\u001b[0m\u001b[1;33m,\u001b[0m \u001b[1;33m**\u001b[0m\u001b[0mkwargs\u001b[0m\u001b[1;33m)\u001b[0m\u001b[1;33m:\u001b[0m\u001b[1;33m\u001b[0m\u001b[0m\n\u001b[1;32m--> 521\u001b[1;33m         \u001b[0mFigureCanvasAgg\u001b[0m\u001b[1;33m.\u001b[0m\u001b[0mdraw\u001b[0m\u001b[1;33m(\u001b[0m\u001b[0mself\u001b[0m\u001b[1;33m)\u001b[0m\u001b[1;33m\u001b[0m\u001b[0m\n\u001b[0m\u001b[0;32m    522\u001b[0m         \u001b[0mrenderer\u001b[0m \u001b[1;33m=\u001b[0m \u001b[0mself\u001b[0m\u001b[1;33m.\u001b[0m\u001b[0mget_renderer\u001b[0m\u001b[1;33m(\u001b[0m\u001b[1;33m)\u001b[0m\u001b[1;33m\u001b[0m\u001b[0m\n\u001b[0;32m    523\u001b[0m         \u001b[0moriginal_dpi\u001b[0m \u001b[1;33m=\u001b[0m \u001b[0mrenderer\u001b[0m\u001b[1;33m.\u001b[0m\u001b[0mdpi\u001b[0m\u001b[1;33m\u001b[0m\u001b[0m\n",
        "\u001b[1;32mC:\\Users\\mfinemorris\\AppData\\Local\\Enthought\\Canopy\\User\\lib\\site-packages\\matplotlib\\backends\\backend_agg.pyc\u001b[0m in \u001b[0;36mdraw\u001b[1;34m(self)\u001b[0m\n\u001b[0;32m    467\u001b[0m \u001b[1;33m\u001b[0m\u001b[0m\n\u001b[0;32m    468\u001b[0m         \u001b[1;32mtry\u001b[0m\u001b[1;33m:\u001b[0m\u001b[1;33m\u001b[0m\u001b[0m\n\u001b[1;32m--> 469\u001b[1;33m             \u001b[0mself\u001b[0m\u001b[1;33m.\u001b[0m\u001b[0mfigure\u001b[0m\u001b[1;33m.\u001b[0m\u001b[0mdraw\u001b[0m\u001b[1;33m(\u001b[0m\u001b[0mself\u001b[0m\u001b[1;33m.\u001b[0m\u001b[0mrenderer\u001b[0m\u001b[1;33m)\u001b[0m\u001b[1;33m\u001b[0m\u001b[0m\n\u001b[0m\u001b[0;32m    470\u001b[0m         \u001b[1;32mfinally\u001b[0m\u001b[1;33m:\u001b[0m\u001b[1;33m\u001b[0m\u001b[0m\n\u001b[0;32m    471\u001b[0m             \u001b[0mRendererAgg\u001b[0m\u001b[1;33m.\u001b[0m\u001b[0mlock\u001b[0m\u001b[1;33m.\u001b[0m\u001b[0mrelease\u001b[0m\u001b[1;33m(\u001b[0m\u001b[1;33m)\u001b[0m\u001b[1;33m\u001b[0m\u001b[0m\n",
        "\u001b[1;32mC:\\Users\\mfinemorris\\AppData\\Local\\Enthought\\Canopy\\User\\lib\\site-packages\\matplotlib\\artist.pyc\u001b[0m in \u001b[0;36mdraw_wrapper\u001b[1;34m(artist, renderer, *args, **kwargs)\u001b[0m\n\u001b[0;32m     57\u001b[0m     \u001b[1;32mdef\u001b[0m \u001b[0mdraw_wrapper\u001b[0m\u001b[1;33m(\u001b[0m\u001b[0martist\u001b[0m\u001b[1;33m,\u001b[0m \u001b[0mrenderer\u001b[0m\u001b[1;33m,\u001b[0m \u001b[1;33m*\u001b[0m\u001b[0margs\u001b[0m\u001b[1;33m,\u001b[0m \u001b[1;33m**\u001b[0m\u001b[0mkwargs\u001b[0m\u001b[1;33m)\u001b[0m\u001b[1;33m:\u001b[0m\u001b[1;33m\u001b[0m\u001b[0m\n\u001b[0;32m     58\u001b[0m         \u001b[0mbefore\u001b[0m\u001b[1;33m(\u001b[0m\u001b[0martist\u001b[0m\u001b[1;33m,\u001b[0m \u001b[0mrenderer\u001b[0m\u001b[1;33m)\u001b[0m\u001b[1;33m\u001b[0m\u001b[0m\n\u001b[1;32m---> 59\u001b[1;33m         \u001b[0mdraw\u001b[0m\u001b[1;33m(\u001b[0m\u001b[0martist\u001b[0m\u001b[1;33m,\u001b[0m \u001b[0mrenderer\u001b[0m\u001b[1;33m,\u001b[0m \u001b[1;33m*\u001b[0m\u001b[0margs\u001b[0m\u001b[1;33m,\u001b[0m \u001b[1;33m**\u001b[0m\u001b[0mkwargs\u001b[0m\u001b[1;33m)\u001b[0m\u001b[1;33m\u001b[0m\u001b[0m\n\u001b[0m\u001b[0;32m     60\u001b[0m         \u001b[0mafter\u001b[0m\u001b[1;33m(\u001b[0m\u001b[0martist\u001b[0m\u001b[1;33m,\u001b[0m \u001b[0mrenderer\u001b[0m\u001b[1;33m)\u001b[0m\u001b[1;33m\u001b[0m\u001b[0m\n\u001b[0;32m     61\u001b[0m \u001b[1;33m\u001b[0m\u001b[0m\n",
        "\u001b[1;32mC:\\Users\\mfinemorris\\AppData\\Local\\Enthought\\Canopy\\User\\lib\\site-packages\\matplotlib\\figure.pyc\u001b[0m in \u001b[0;36mdraw\u001b[1;34m(self, renderer)\u001b[0m\n\u001b[0;32m   1077\u001b[0m         \u001b[0mdsu\u001b[0m\u001b[1;33m.\u001b[0m\u001b[0msort\u001b[0m\u001b[1;33m(\u001b[0m\u001b[0mkey\u001b[0m\u001b[1;33m=\u001b[0m\u001b[0mitemgetter\u001b[0m\u001b[1;33m(\u001b[0m\u001b[1;36m0\u001b[0m\u001b[1;33m)\u001b[0m\u001b[1;33m)\u001b[0m\u001b[1;33m\u001b[0m\u001b[0m\n\u001b[0;32m   1078\u001b[0m         \u001b[1;32mfor\u001b[0m \u001b[0mzorder\u001b[0m\u001b[1;33m,\u001b[0m \u001b[0ma\u001b[0m\u001b[1;33m,\u001b[0m \u001b[0mfunc\u001b[0m\u001b[1;33m,\u001b[0m \u001b[0margs\u001b[0m \u001b[1;32min\u001b[0m \u001b[0mdsu\u001b[0m\u001b[1;33m:\u001b[0m\u001b[1;33m\u001b[0m\u001b[0m\n\u001b[1;32m-> 1079\u001b[1;33m             \u001b[0mfunc\u001b[0m\u001b[1;33m(\u001b[0m\u001b[1;33m*\u001b[0m\u001b[0margs\u001b[0m\u001b[1;33m)\u001b[0m\u001b[1;33m\u001b[0m\u001b[0m\n\u001b[0m\u001b[0;32m   1080\u001b[0m \u001b[1;33m\u001b[0m\u001b[0m\n\u001b[0;32m   1081\u001b[0m         \u001b[0mrenderer\u001b[0m\u001b[1;33m.\u001b[0m\u001b[0mclose_group\u001b[0m\u001b[1;33m(\u001b[0m\u001b[1;34m'figure'\u001b[0m\u001b[1;33m)\u001b[0m\u001b[1;33m\u001b[0m\u001b[0m\n",
        "\u001b[1;32mC:\\Users\\mfinemorris\\AppData\\Local\\Enthought\\Canopy\\User\\lib\\site-packages\\matplotlib\\artist.pyc\u001b[0m in \u001b[0;36mdraw_wrapper\u001b[1;34m(artist, renderer, *args, **kwargs)\u001b[0m\n\u001b[0;32m     57\u001b[0m     \u001b[1;32mdef\u001b[0m \u001b[0mdraw_wrapper\u001b[0m\u001b[1;33m(\u001b[0m\u001b[0martist\u001b[0m\u001b[1;33m,\u001b[0m \u001b[0mrenderer\u001b[0m\u001b[1;33m,\u001b[0m \u001b[1;33m*\u001b[0m\u001b[0margs\u001b[0m\u001b[1;33m,\u001b[0m \u001b[1;33m**\u001b[0m\u001b[0mkwargs\u001b[0m\u001b[1;33m)\u001b[0m\u001b[1;33m:\u001b[0m\u001b[1;33m\u001b[0m\u001b[0m\n\u001b[0;32m     58\u001b[0m         \u001b[0mbefore\u001b[0m\u001b[1;33m(\u001b[0m\u001b[0martist\u001b[0m\u001b[1;33m,\u001b[0m \u001b[0mrenderer\u001b[0m\u001b[1;33m)\u001b[0m\u001b[1;33m\u001b[0m\u001b[0m\n\u001b[1;32m---> 59\u001b[1;33m         \u001b[0mdraw\u001b[0m\u001b[1;33m(\u001b[0m\u001b[0martist\u001b[0m\u001b[1;33m,\u001b[0m \u001b[0mrenderer\u001b[0m\u001b[1;33m,\u001b[0m \u001b[1;33m*\u001b[0m\u001b[0margs\u001b[0m\u001b[1;33m,\u001b[0m \u001b[1;33m**\u001b[0m\u001b[0mkwargs\u001b[0m\u001b[1;33m)\u001b[0m\u001b[1;33m\u001b[0m\u001b[0m\n\u001b[0m\u001b[0;32m     60\u001b[0m         \u001b[0mafter\u001b[0m\u001b[1;33m(\u001b[0m\u001b[0martist\u001b[0m\u001b[1;33m,\u001b[0m \u001b[0mrenderer\u001b[0m\u001b[1;33m)\u001b[0m\u001b[1;33m\u001b[0m\u001b[0m\n\u001b[0;32m     61\u001b[0m \u001b[1;33m\u001b[0m\u001b[0m\n",
        "\u001b[1;32mC:\\Users\\mfinemorris\\AppData\\Local\\Enthought\\Canopy\\User\\lib\\site-packages\\matplotlib\\axes\\_base.pyc\u001b[0m in \u001b[0;36mdraw\u001b[1;34m(self, renderer, inframe)\u001b[0m\n\u001b[0;32m   2090\u001b[0m \u001b[1;33m\u001b[0m\u001b[0m\n\u001b[0;32m   2091\u001b[0m         \u001b[1;32mfor\u001b[0m \u001b[0mzorder\u001b[0m\u001b[1;33m,\u001b[0m \u001b[0ma\u001b[0m \u001b[1;32min\u001b[0m \u001b[0mdsu\u001b[0m\u001b[1;33m:\u001b[0m\u001b[1;33m\u001b[0m\u001b[0m\n\u001b[1;32m-> 2092\u001b[1;33m             \u001b[0ma\u001b[0m\u001b[1;33m.\u001b[0m\u001b[0mdraw\u001b[0m\u001b[1;33m(\u001b[0m\u001b[0mrenderer\u001b[0m\u001b[1;33m)\u001b[0m\u001b[1;33m\u001b[0m\u001b[0m\n\u001b[0m\u001b[0;32m   2093\u001b[0m \u001b[1;33m\u001b[0m\u001b[0m\n\u001b[0;32m   2094\u001b[0m         \u001b[0mrenderer\u001b[0m\u001b[1;33m.\u001b[0m\u001b[0mclose_group\u001b[0m\u001b[1;33m(\u001b[0m\u001b[1;34m'axes'\u001b[0m\u001b[1;33m)\u001b[0m\u001b[1;33m\u001b[0m\u001b[0m\n",
        "\u001b[1;32mC:\\Users\\mfinemorris\\AppData\\Local\\Enthought\\Canopy\\User\\lib\\site-packages\\matplotlib\\artist.pyc\u001b[0m in \u001b[0;36mdraw_wrapper\u001b[1;34m(artist, renderer, *args, **kwargs)\u001b[0m\n\u001b[0;32m     57\u001b[0m     \u001b[1;32mdef\u001b[0m \u001b[0mdraw_wrapper\u001b[0m\u001b[1;33m(\u001b[0m\u001b[0martist\u001b[0m\u001b[1;33m,\u001b[0m \u001b[0mrenderer\u001b[0m\u001b[1;33m,\u001b[0m \u001b[1;33m*\u001b[0m\u001b[0margs\u001b[0m\u001b[1;33m,\u001b[0m \u001b[1;33m**\u001b[0m\u001b[0mkwargs\u001b[0m\u001b[1;33m)\u001b[0m\u001b[1;33m:\u001b[0m\u001b[1;33m\u001b[0m\u001b[0m\n\u001b[0;32m     58\u001b[0m         \u001b[0mbefore\u001b[0m\u001b[1;33m(\u001b[0m\u001b[0martist\u001b[0m\u001b[1;33m,\u001b[0m \u001b[0mrenderer\u001b[0m\u001b[1;33m)\u001b[0m\u001b[1;33m\u001b[0m\u001b[0m\n\u001b[1;32m---> 59\u001b[1;33m         \u001b[0mdraw\u001b[0m\u001b[1;33m(\u001b[0m\u001b[0martist\u001b[0m\u001b[1;33m,\u001b[0m \u001b[0mrenderer\u001b[0m\u001b[1;33m,\u001b[0m \u001b[1;33m*\u001b[0m\u001b[0margs\u001b[0m\u001b[1;33m,\u001b[0m \u001b[1;33m**\u001b[0m\u001b[0mkwargs\u001b[0m\u001b[1;33m)\u001b[0m\u001b[1;33m\u001b[0m\u001b[0m\n\u001b[0m\u001b[0;32m     60\u001b[0m         \u001b[0mafter\u001b[0m\u001b[1;33m(\u001b[0m\u001b[0martist\u001b[0m\u001b[1;33m,\u001b[0m \u001b[0mrenderer\u001b[0m\u001b[1;33m)\u001b[0m\u001b[1;33m\u001b[0m\u001b[0m\n\u001b[0;32m     61\u001b[0m \u001b[1;33m\u001b[0m\u001b[0m\n",
        "\u001b[1;32mC:\\Users\\mfinemorris\\AppData\\Local\\Enthought\\Canopy\\User\\lib\\site-packages\\matplotlib\\lines.pyc\u001b[0m in \u001b[0;36mdraw\u001b[1;34m(self, renderer)\u001b[0m\n\u001b[0;32m    710\u001b[0m                 \u001b[0mfuncname\u001b[0m \u001b[1;33m=\u001b[0m \u001b[0mself\u001b[0m\u001b[1;33m.\u001b[0m\u001b[0mdrawStyles\u001b[0m\u001b[1;33m.\u001b[0m\u001b[0mget\u001b[0m\u001b[1;33m(\u001b[0m\u001b[0mself\u001b[0m\u001b[1;33m.\u001b[0m\u001b[0m_drawstyle\u001b[0m\u001b[1;33m,\u001b[0m \u001b[1;34m'_draw_lines'\u001b[0m\u001b[1;33m)\u001b[0m\u001b[1;33m\u001b[0m\u001b[0m\n\u001b[0;32m    711\u001b[0m                 \u001b[0mdrawFunc\u001b[0m \u001b[1;33m=\u001b[0m \u001b[0mgetattr\u001b[0m\u001b[1;33m(\u001b[0m\u001b[0mself\u001b[0m\u001b[1;33m,\u001b[0m \u001b[0mfuncname\u001b[0m\u001b[1;33m)\u001b[0m\u001b[1;33m\u001b[0m\u001b[0m\n\u001b[1;32m--> 712\u001b[1;33m                 \u001b[0mdrawFunc\u001b[0m\u001b[1;33m(\u001b[0m\u001b[0mrenderer\u001b[0m\u001b[1;33m,\u001b[0m \u001b[0mgc\u001b[0m\u001b[1;33m,\u001b[0m \u001b[0mtpath\u001b[0m\u001b[1;33m,\u001b[0m \u001b[0maffine\u001b[0m\u001b[1;33m.\u001b[0m\u001b[0mfrozen\u001b[0m\u001b[1;33m(\u001b[0m\u001b[1;33m)\u001b[0m\u001b[1;33m)\u001b[0m\u001b[1;33m\u001b[0m\u001b[0m\n\u001b[0m\u001b[0;32m    713\u001b[0m \u001b[1;33m\u001b[0m\u001b[0m\n\u001b[0;32m    714\u001b[0m         \u001b[1;32mif\u001b[0m \u001b[0mself\u001b[0m\u001b[1;33m.\u001b[0m\u001b[0m_marker\u001b[0m\u001b[1;33m:\u001b[0m\u001b[1;33m\u001b[0m\u001b[0m\n",
        "\u001b[1;32mC:\\Users\\mfinemorris\\AppData\\Local\\Enthought\\Canopy\\User\\lib\\site-packages\\matplotlib\\lines.pyc\u001b[0m in \u001b[0;36m_draw_lines\u001b[1;34m(self, renderer, gc, path, trans)\u001b[0m\n\u001b[0;32m   1065\u001b[0m \u001b[1;33m\u001b[0m\u001b[0m\n\u001b[0;32m   1066\u001b[0m     \u001b[1;32mdef\u001b[0m \u001b[0m_draw_lines\u001b[0m\u001b[1;33m(\u001b[0m\u001b[0mself\u001b[0m\u001b[1;33m,\u001b[0m \u001b[0mrenderer\u001b[0m\u001b[1;33m,\u001b[0m \u001b[0mgc\u001b[0m\u001b[1;33m,\u001b[0m \u001b[0mpath\u001b[0m\u001b[1;33m,\u001b[0m \u001b[0mtrans\u001b[0m\u001b[1;33m)\u001b[0m\u001b[1;33m:\u001b[0m\u001b[1;33m\u001b[0m\u001b[0m\n\u001b[1;32m-> 1067\u001b[1;33m         \u001b[0mself\u001b[0m\u001b[1;33m.\u001b[0m\u001b[0m_lineFunc\u001b[0m\u001b[1;33m(\u001b[0m\u001b[0mrenderer\u001b[0m\u001b[1;33m,\u001b[0m \u001b[0mgc\u001b[0m\u001b[1;33m,\u001b[0m \u001b[0mpath\u001b[0m\u001b[1;33m,\u001b[0m \u001b[0mtrans\u001b[0m\u001b[1;33m)\u001b[0m\u001b[1;33m\u001b[0m\u001b[0m\n\u001b[0m\u001b[0;32m   1068\u001b[0m \u001b[1;33m\u001b[0m\u001b[0m\n\u001b[0;32m   1069\u001b[0m     \u001b[1;32mdef\u001b[0m \u001b[0m_draw_steps_pre\u001b[0m\u001b[1;33m(\u001b[0m\u001b[0mself\u001b[0m\u001b[1;33m,\u001b[0m \u001b[0mrenderer\u001b[0m\u001b[1;33m,\u001b[0m \u001b[0mgc\u001b[0m\u001b[1;33m,\u001b[0m \u001b[0mpath\u001b[0m\u001b[1;33m,\u001b[0m \u001b[0mtrans\u001b[0m\u001b[1;33m)\u001b[0m\u001b[1;33m:\u001b[0m\u001b[1;33m\u001b[0m\u001b[0m\n",
        "\u001b[1;32mC:\\Users\\mfinemorris\\AppData\\Local\\Enthought\\Canopy\\User\\lib\\site-packages\\matplotlib\\lines.pyc\u001b[0m in \u001b[0;36m_draw_solid\u001b[1;34m(self, renderer, gc, path, trans)\u001b[0m\n\u001b[0;32m   1105\u001b[0m     \u001b[1;32mdef\u001b[0m \u001b[0m_draw_solid\u001b[0m\u001b[1;33m(\u001b[0m\u001b[0mself\u001b[0m\u001b[1;33m,\u001b[0m \u001b[0mrenderer\u001b[0m\u001b[1;33m,\u001b[0m \u001b[0mgc\u001b[0m\u001b[1;33m,\u001b[0m \u001b[0mpath\u001b[0m\u001b[1;33m,\u001b[0m \u001b[0mtrans\u001b[0m\u001b[1;33m)\u001b[0m\u001b[1;33m:\u001b[0m\u001b[1;33m\u001b[0m\u001b[0m\n\u001b[0;32m   1106\u001b[0m         \u001b[0mgc\u001b[0m\u001b[1;33m.\u001b[0m\u001b[0mset_linestyle\u001b[0m\u001b[1;33m(\u001b[0m\u001b[1;34m'solid'\u001b[0m\u001b[1;33m)\u001b[0m\u001b[1;33m\u001b[0m\u001b[0m\n\u001b[1;32m-> 1107\u001b[1;33m         \u001b[0mrenderer\u001b[0m\u001b[1;33m.\u001b[0m\u001b[0mdraw_path\u001b[0m\u001b[1;33m(\u001b[0m\u001b[0mgc\u001b[0m\u001b[1;33m,\u001b[0m \u001b[0mpath\u001b[0m\u001b[1;33m,\u001b[0m \u001b[0mtrans\u001b[0m\u001b[1;33m)\u001b[0m\u001b[1;33m\u001b[0m\u001b[0m\n\u001b[0m\u001b[0;32m   1108\u001b[0m \u001b[1;33m\u001b[0m\u001b[0m\n\u001b[0;32m   1109\u001b[0m     \u001b[1;32mdef\u001b[0m \u001b[0m_draw_dashed\u001b[0m\u001b[1;33m(\u001b[0m\u001b[0mself\u001b[0m\u001b[1;33m,\u001b[0m \u001b[0mrenderer\u001b[0m\u001b[1;33m,\u001b[0m \u001b[0mgc\u001b[0m\u001b[1;33m,\u001b[0m \u001b[0mpath\u001b[0m\u001b[1;33m,\u001b[0m \u001b[0mtrans\u001b[0m\u001b[1;33m)\u001b[0m\u001b[1;33m:\u001b[0m\u001b[1;33m\u001b[0m\u001b[0m\n",
        "\u001b[1;32mC:\\Users\\mfinemorris\\AppData\\Local\\Enthought\\Canopy\\User\\lib\\site-packages\\matplotlib\\backends\\backend_agg.pyc\u001b[0m in \u001b[0;36mdraw_path\u001b[1;34m(self, gc, path, transform, rgbFace)\u001b[0m\n\u001b[0;32m    161\u001b[0m                 \u001b[0mself\u001b[0m\u001b[1;33m.\u001b[0m\u001b[0m_renderer\u001b[0m\u001b[1;33m.\u001b[0m\u001b[0mdraw_path\u001b[0m\u001b[1;33m(\u001b[0m\u001b[0mgc\u001b[0m\u001b[1;33m,\u001b[0m \u001b[0mp\u001b[0m\u001b[1;33m,\u001b[0m \u001b[0mtransform\u001b[0m\u001b[1;33m,\u001b[0m \u001b[0mrgbFace\u001b[0m\u001b[1;33m)\u001b[0m\u001b[1;33m\u001b[0m\u001b[0m\n\u001b[0;32m    162\u001b[0m         \u001b[1;32melse\u001b[0m\u001b[1;33m:\u001b[0m\u001b[1;33m\u001b[0m\u001b[0m\n\u001b[1;32m--> 163\u001b[1;33m             \u001b[0mself\u001b[0m\u001b[1;33m.\u001b[0m\u001b[0m_renderer\u001b[0m\u001b[1;33m.\u001b[0m\u001b[0mdraw_path\u001b[0m\u001b[1;33m(\u001b[0m\u001b[0mgc\u001b[0m\u001b[1;33m,\u001b[0m \u001b[0mpath\u001b[0m\u001b[1;33m,\u001b[0m \u001b[0mtransform\u001b[0m\u001b[1;33m,\u001b[0m \u001b[0mrgbFace\u001b[0m\u001b[1;33m)\u001b[0m\u001b[1;33m\u001b[0m\u001b[0m\n\u001b[0m\u001b[0;32m    164\u001b[0m \u001b[1;33m\u001b[0m\u001b[0m\n\u001b[0;32m    165\u001b[0m     \u001b[1;32mdef\u001b[0m \u001b[0mdraw_mathtext\u001b[0m\u001b[1;33m(\u001b[0m\u001b[0mself\u001b[0m\u001b[1;33m,\u001b[0m \u001b[0mgc\u001b[0m\u001b[1;33m,\u001b[0m \u001b[0mx\u001b[0m\u001b[1;33m,\u001b[0m \u001b[0my\u001b[0m\u001b[1;33m,\u001b[0m \u001b[0ms\u001b[0m\u001b[1;33m,\u001b[0m \u001b[0mprop\u001b[0m\u001b[1;33m,\u001b[0m \u001b[0mangle\u001b[0m\u001b[1;33m)\u001b[0m\u001b[1;33m:\u001b[0m\u001b[1;33m\u001b[0m\u001b[0m\n",
        "\u001b[1;31mOverflowError\u001b[0m: Allocated too many blocks"
       ]
      }
     ],
     "prompt_number": 72
    },
    {
     "cell_type": "code",
     "collapsed": false,
     "input": [
      "plt.close()"
     ],
     "language": "python",
     "metadata": {},
     "outputs": [],
     "prompt_number": 80
    },
    {
     "cell_type": "heading",
     "level": 2,
     "metadata": {},
     "source": [
      "Optional Blocks"
     ]
    },
    {
     "cell_type": "code",
     "collapsed": false,
     "input": [
      "#all time series overlay\n",
      "plt.plot(data_raw, label= data_raw.columns)\n",
      "plt.xlim(xmin = 30000, xmax = 45000)\n",
      "plt.show()"
     ],
     "language": "python",
     "metadata": {},
     "outputs": [],
     "prompt_number": 74
    },
    {
     "cell_type": "code",
     "collapsed": false,
     "input": [
      "data_raw.keys()"
     ],
     "language": "python",
     "metadata": {},
     "outputs": [
      {
       "metadata": {},
       "output_type": "pyout",
       "prompt_number": 76,
       "text": [
        "Index([u'-40', u'-45', u'-50', u'-55', u'-60', u'-65'], dtype='object')"
       ]
      }
     ],
     "prompt_number": 76
    },
    {
     "cell_type": "code",
     "collapsed": false,
     "input": [
      "#quick plot all events with specail start and end colors.\n",
      "meas = '-40' #which setting to graph\n",
      "\n",
      "plt.plot(data_raw.index, data_raw[meas], color = 'k')\n",
      "plt.plot(peaks[meas].index, peaks[meas]['Amplitude'], marker ='^', color = 'g', linestyle = 'None')\n",
      "for index, row in bursts[meas]['Start'].iteritems():\n",
      "    plt.plot(row, peaks[meas]['Amplitude'].loc[row], marker ='^', color = 'm', linestyle = 'None')\n",
      "for index, row in bursts[meas]['End'].iteritems():\n",
      "    plt.plot(row, peaks[meas]['Amplitude'].loc[row], marker ='^', color = 'y', linestyle = 'None')\n",
      "#plt.xlim(xmin = 30000, xmax = 45000)\n",
      "plt.title('%s - %s' %(exp, meas))\n",
      "plt.xlabel('Time (ms)')\n",
      "plt.ylabel('Voltage')\n",
      "plt.show()"
     ],
     "language": "python",
     "metadata": {},
     "outputs": [
      {
       "ename": "OverflowError",
       "evalue": "Allocated too many blocks",
       "output_type": "pyerr",
       "traceback": [
        "\u001b[1;31m---------------------------------------------------------------------------\u001b[0m\n\u001b[1;31mOverflowError\u001b[0m                             Traceback (most recent call last)",
        "\u001b[1;32m<ipython-input-77-b6a51f773c09>\u001b[0m in \u001b[0;36m<module>\u001b[1;34m()\u001b[0m\n\u001b[0;32m     12\u001b[0m \u001b[0mplt\u001b[0m\u001b[1;33m.\u001b[0m\u001b[0mxlabel\u001b[0m\u001b[1;33m(\u001b[0m\u001b[1;34m'Time (ms)'\u001b[0m\u001b[1;33m)\u001b[0m\u001b[1;33m\u001b[0m\u001b[0m\n\u001b[0;32m     13\u001b[0m \u001b[0mplt\u001b[0m\u001b[1;33m.\u001b[0m\u001b[0mylabel\u001b[0m\u001b[1;33m(\u001b[0m\u001b[1;34m'Voltage'\u001b[0m\u001b[1;33m)\u001b[0m\u001b[1;33m\u001b[0m\u001b[0m\n\u001b[1;32m---> 14\u001b[1;33m \u001b[0mplt\u001b[0m\u001b[1;33m.\u001b[0m\u001b[0mshow\u001b[0m\u001b[1;33m(\u001b[0m\u001b[1;33m)\u001b[0m\u001b[1;33m\u001b[0m\u001b[0m\n\u001b[0m",
        "\u001b[1;32mC:\\Users\\mfinemorris\\AppData\\Local\\Enthought\\Canopy\\User\\lib\\site-packages\\matplotlib\\pyplot.pyc\u001b[0m in \u001b[0;36mshow\u001b[1;34m(*args, **kw)\u001b[0m\n\u001b[0;32m    153\u001b[0m     \"\"\"\n\u001b[0;32m    154\u001b[0m     \u001b[1;32mglobal\u001b[0m \u001b[0m_show\u001b[0m\u001b[1;33m\u001b[0m\u001b[0m\n\u001b[1;32m--> 155\u001b[1;33m     \u001b[1;32mreturn\u001b[0m \u001b[0m_show\u001b[0m\u001b[1;33m(\u001b[0m\u001b[1;33m*\u001b[0m\u001b[0margs\u001b[0m\u001b[1;33m,\u001b[0m \u001b[1;33m**\u001b[0m\u001b[0mkw\u001b[0m\u001b[1;33m)\u001b[0m\u001b[1;33m\u001b[0m\u001b[0m\n\u001b[0m\u001b[0;32m    156\u001b[0m \u001b[1;33m\u001b[0m\u001b[0m\n\u001b[0;32m    157\u001b[0m \u001b[1;33m\u001b[0m\u001b[0m\n",
        "\u001b[1;32mC:\\Users\\mfinemorris\\AppData\\Local\\Enthought\\Canopy\\User\\lib\\site-packages\\matplotlib\\backend_bases.pyc\u001b[0m in \u001b[0;36m__call__\u001b[1;34m(self, block)\u001b[0m\n\u001b[0;32m    152\u001b[0m \u001b[1;33m\u001b[0m\u001b[0m\n\u001b[0;32m    153\u001b[0m         \u001b[1;32mfor\u001b[0m \u001b[0mmanager\u001b[0m \u001b[1;32min\u001b[0m \u001b[0mmanagers\u001b[0m\u001b[1;33m:\u001b[0m\u001b[1;33m\u001b[0m\u001b[0m\n\u001b[1;32m--> 154\u001b[1;33m             \u001b[0mmanager\u001b[0m\u001b[1;33m.\u001b[0m\u001b[0mshow\u001b[0m\u001b[1;33m(\u001b[0m\u001b[1;33m)\u001b[0m\u001b[1;33m\u001b[0m\u001b[0m\n\u001b[0m\u001b[0;32m    155\u001b[0m \u001b[1;33m\u001b[0m\u001b[0m\n\u001b[0;32m    156\u001b[0m         \u001b[1;32mif\u001b[0m \u001b[0mblock\u001b[0m \u001b[1;32mis\u001b[0m \u001b[1;32mnot\u001b[0m \u001b[0mNone\u001b[0m\u001b[1;33m:\u001b[0m\u001b[1;33m\u001b[0m\u001b[0m\n",
        "\u001b[1;32mC:\\Users\\mfinemorris\\AppData\\Local\\Enthought\\Canopy\\User\\lib\\site-packages\\matplotlib\\backends\\backend_wx.pyc\u001b[0m in \u001b[0;36mshow\u001b[1;34m(self)\u001b[0m\n\u001b[0;32m   1428\u001b[0m     \u001b[1;32mdef\u001b[0m \u001b[0mshow\u001b[0m\u001b[1;33m(\u001b[0m\u001b[0mself\u001b[0m\u001b[1;33m)\u001b[0m\u001b[1;33m:\u001b[0m\u001b[1;33m\u001b[0m\u001b[0m\n\u001b[0;32m   1429\u001b[0m         \u001b[0mself\u001b[0m\u001b[1;33m.\u001b[0m\u001b[0mframe\u001b[0m\u001b[1;33m.\u001b[0m\u001b[0mShow\u001b[0m\u001b[1;33m(\u001b[0m\u001b[1;33m)\u001b[0m\u001b[1;33m\u001b[0m\u001b[0m\n\u001b[1;32m-> 1430\u001b[1;33m         \u001b[0mself\u001b[0m\u001b[1;33m.\u001b[0m\u001b[0mcanvas\u001b[0m\u001b[1;33m.\u001b[0m\u001b[0mdraw\u001b[0m\u001b[1;33m(\u001b[0m\u001b[1;33m)\u001b[0m\u001b[1;33m\u001b[0m\u001b[0m\n\u001b[0m\u001b[0;32m   1431\u001b[0m \u001b[1;33m\u001b[0m\u001b[0m\n\u001b[0;32m   1432\u001b[0m     \u001b[1;32mdef\u001b[0m \u001b[0mdestroy\u001b[0m\u001b[1;33m(\u001b[0m\u001b[0mself\u001b[0m\u001b[1;33m,\u001b[0m \u001b[1;33m*\u001b[0m\u001b[0margs\u001b[0m\u001b[1;33m)\u001b[0m\u001b[1;33m:\u001b[0m\u001b[1;33m\u001b[0m\u001b[0m\n",
        "\u001b[1;32mC:\\Users\\mfinemorris\\AppData\\Local\\Enthought\\Canopy\\User\\lib\\site-packages\\matplotlib\\backends\\backend_wxagg.pyc\u001b[0m in \u001b[0;36mdraw\u001b[1;34m(self, drawDC)\u001b[0m\n\u001b[0;32m     44\u001b[0m         \"\"\"\n\u001b[0;32m     45\u001b[0m         \u001b[0mDEBUG_MSG\u001b[0m\u001b[1;33m(\u001b[0m\u001b[1;34m\"draw()\"\u001b[0m\u001b[1;33m,\u001b[0m \u001b[1;36m1\u001b[0m\u001b[1;33m,\u001b[0m \u001b[0mself\u001b[0m\u001b[1;33m)\u001b[0m\u001b[1;33m\u001b[0m\u001b[0m\n\u001b[1;32m---> 46\u001b[1;33m         \u001b[0mFigureCanvasAgg\u001b[0m\u001b[1;33m.\u001b[0m\u001b[0mdraw\u001b[0m\u001b[1;33m(\u001b[0m\u001b[0mself\u001b[0m\u001b[1;33m)\u001b[0m\u001b[1;33m\u001b[0m\u001b[0m\n\u001b[0m\u001b[0;32m     47\u001b[0m \u001b[1;33m\u001b[0m\u001b[0m\n\u001b[0;32m     48\u001b[0m         \u001b[0mself\u001b[0m\u001b[1;33m.\u001b[0m\u001b[0mbitmap\u001b[0m \u001b[1;33m=\u001b[0m \u001b[0m_convert_agg_to_wx_bitmap\u001b[0m\u001b[1;33m(\u001b[0m\u001b[0mself\u001b[0m\u001b[1;33m.\u001b[0m\u001b[0mget_renderer\u001b[0m\u001b[1;33m(\u001b[0m\u001b[1;33m)\u001b[0m\u001b[1;33m,\u001b[0m \u001b[0mNone\u001b[0m\u001b[1;33m)\u001b[0m\u001b[1;33m\u001b[0m\u001b[0m\n",
        "\u001b[1;32mC:\\Users\\mfinemorris\\AppData\\Local\\Enthought\\Canopy\\User\\lib\\site-packages\\matplotlib\\backends\\backend_agg.pyc\u001b[0m in \u001b[0;36mdraw\u001b[1;34m(self)\u001b[0m\n\u001b[0;32m    467\u001b[0m \u001b[1;33m\u001b[0m\u001b[0m\n\u001b[0;32m    468\u001b[0m         \u001b[1;32mtry\u001b[0m\u001b[1;33m:\u001b[0m\u001b[1;33m\u001b[0m\u001b[0m\n\u001b[1;32m--> 469\u001b[1;33m             \u001b[0mself\u001b[0m\u001b[1;33m.\u001b[0m\u001b[0mfigure\u001b[0m\u001b[1;33m.\u001b[0m\u001b[0mdraw\u001b[0m\u001b[1;33m(\u001b[0m\u001b[0mself\u001b[0m\u001b[1;33m.\u001b[0m\u001b[0mrenderer\u001b[0m\u001b[1;33m)\u001b[0m\u001b[1;33m\u001b[0m\u001b[0m\n\u001b[0m\u001b[0;32m    470\u001b[0m         \u001b[1;32mfinally\u001b[0m\u001b[1;33m:\u001b[0m\u001b[1;33m\u001b[0m\u001b[0m\n\u001b[0;32m    471\u001b[0m             \u001b[0mRendererAgg\u001b[0m\u001b[1;33m.\u001b[0m\u001b[0mlock\u001b[0m\u001b[1;33m.\u001b[0m\u001b[0mrelease\u001b[0m\u001b[1;33m(\u001b[0m\u001b[1;33m)\u001b[0m\u001b[1;33m\u001b[0m\u001b[0m\n",
        "\u001b[1;32mC:\\Users\\mfinemorris\\AppData\\Local\\Enthought\\Canopy\\User\\lib\\site-packages\\matplotlib\\artist.pyc\u001b[0m in \u001b[0;36mdraw_wrapper\u001b[1;34m(artist, renderer, *args, **kwargs)\u001b[0m\n\u001b[0;32m     57\u001b[0m     \u001b[1;32mdef\u001b[0m \u001b[0mdraw_wrapper\u001b[0m\u001b[1;33m(\u001b[0m\u001b[0martist\u001b[0m\u001b[1;33m,\u001b[0m \u001b[0mrenderer\u001b[0m\u001b[1;33m,\u001b[0m \u001b[1;33m*\u001b[0m\u001b[0margs\u001b[0m\u001b[1;33m,\u001b[0m \u001b[1;33m**\u001b[0m\u001b[0mkwargs\u001b[0m\u001b[1;33m)\u001b[0m\u001b[1;33m:\u001b[0m\u001b[1;33m\u001b[0m\u001b[0m\n\u001b[0;32m     58\u001b[0m         \u001b[0mbefore\u001b[0m\u001b[1;33m(\u001b[0m\u001b[0martist\u001b[0m\u001b[1;33m,\u001b[0m \u001b[0mrenderer\u001b[0m\u001b[1;33m)\u001b[0m\u001b[1;33m\u001b[0m\u001b[0m\n\u001b[1;32m---> 59\u001b[1;33m         \u001b[0mdraw\u001b[0m\u001b[1;33m(\u001b[0m\u001b[0martist\u001b[0m\u001b[1;33m,\u001b[0m \u001b[0mrenderer\u001b[0m\u001b[1;33m,\u001b[0m \u001b[1;33m*\u001b[0m\u001b[0margs\u001b[0m\u001b[1;33m,\u001b[0m \u001b[1;33m**\u001b[0m\u001b[0mkwargs\u001b[0m\u001b[1;33m)\u001b[0m\u001b[1;33m\u001b[0m\u001b[0m\n\u001b[0m\u001b[0;32m     60\u001b[0m         \u001b[0mafter\u001b[0m\u001b[1;33m(\u001b[0m\u001b[0martist\u001b[0m\u001b[1;33m,\u001b[0m \u001b[0mrenderer\u001b[0m\u001b[1;33m)\u001b[0m\u001b[1;33m\u001b[0m\u001b[0m\n\u001b[0;32m     61\u001b[0m \u001b[1;33m\u001b[0m\u001b[0m\n",
        "\u001b[1;32mC:\\Users\\mfinemorris\\AppData\\Local\\Enthought\\Canopy\\User\\lib\\site-packages\\matplotlib\\figure.pyc\u001b[0m in \u001b[0;36mdraw\u001b[1;34m(self, renderer)\u001b[0m\n\u001b[0;32m   1077\u001b[0m         \u001b[0mdsu\u001b[0m\u001b[1;33m.\u001b[0m\u001b[0msort\u001b[0m\u001b[1;33m(\u001b[0m\u001b[0mkey\u001b[0m\u001b[1;33m=\u001b[0m\u001b[0mitemgetter\u001b[0m\u001b[1;33m(\u001b[0m\u001b[1;36m0\u001b[0m\u001b[1;33m)\u001b[0m\u001b[1;33m)\u001b[0m\u001b[1;33m\u001b[0m\u001b[0m\n\u001b[0;32m   1078\u001b[0m         \u001b[1;32mfor\u001b[0m \u001b[0mzorder\u001b[0m\u001b[1;33m,\u001b[0m \u001b[0ma\u001b[0m\u001b[1;33m,\u001b[0m \u001b[0mfunc\u001b[0m\u001b[1;33m,\u001b[0m \u001b[0margs\u001b[0m \u001b[1;32min\u001b[0m \u001b[0mdsu\u001b[0m\u001b[1;33m:\u001b[0m\u001b[1;33m\u001b[0m\u001b[0m\n\u001b[1;32m-> 1079\u001b[1;33m             \u001b[0mfunc\u001b[0m\u001b[1;33m(\u001b[0m\u001b[1;33m*\u001b[0m\u001b[0margs\u001b[0m\u001b[1;33m)\u001b[0m\u001b[1;33m\u001b[0m\u001b[0m\n\u001b[0m\u001b[0;32m   1080\u001b[0m \u001b[1;33m\u001b[0m\u001b[0m\n\u001b[0;32m   1081\u001b[0m         \u001b[0mrenderer\u001b[0m\u001b[1;33m.\u001b[0m\u001b[0mclose_group\u001b[0m\u001b[1;33m(\u001b[0m\u001b[1;34m'figure'\u001b[0m\u001b[1;33m)\u001b[0m\u001b[1;33m\u001b[0m\u001b[0m\n",
        "\u001b[1;32mC:\\Users\\mfinemorris\\AppData\\Local\\Enthought\\Canopy\\User\\lib\\site-packages\\matplotlib\\artist.pyc\u001b[0m in \u001b[0;36mdraw_wrapper\u001b[1;34m(artist, renderer, *args, **kwargs)\u001b[0m\n\u001b[0;32m     57\u001b[0m     \u001b[1;32mdef\u001b[0m \u001b[0mdraw_wrapper\u001b[0m\u001b[1;33m(\u001b[0m\u001b[0martist\u001b[0m\u001b[1;33m,\u001b[0m \u001b[0mrenderer\u001b[0m\u001b[1;33m,\u001b[0m \u001b[1;33m*\u001b[0m\u001b[0margs\u001b[0m\u001b[1;33m,\u001b[0m \u001b[1;33m**\u001b[0m\u001b[0mkwargs\u001b[0m\u001b[1;33m)\u001b[0m\u001b[1;33m:\u001b[0m\u001b[1;33m\u001b[0m\u001b[0m\n\u001b[0;32m     58\u001b[0m         \u001b[0mbefore\u001b[0m\u001b[1;33m(\u001b[0m\u001b[0martist\u001b[0m\u001b[1;33m,\u001b[0m \u001b[0mrenderer\u001b[0m\u001b[1;33m)\u001b[0m\u001b[1;33m\u001b[0m\u001b[0m\n\u001b[1;32m---> 59\u001b[1;33m         \u001b[0mdraw\u001b[0m\u001b[1;33m(\u001b[0m\u001b[0martist\u001b[0m\u001b[1;33m,\u001b[0m \u001b[0mrenderer\u001b[0m\u001b[1;33m,\u001b[0m \u001b[1;33m*\u001b[0m\u001b[0margs\u001b[0m\u001b[1;33m,\u001b[0m \u001b[1;33m**\u001b[0m\u001b[0mkwargs\u001b[0m\u001b[1;33m)\u001b[0m\u001b[1;33m\u001b[0m\u001b[0m\n\u001b[0m\u001b[0;32m     60\u001b[0m         \u001b[0mafter\u001b[0m\u001b[1;33m(\u001b[0m\u001b[0martist\u001b[0m\u001b[1;33m,\u001b[0m \u001b[0mrenderer\u001b[0m\u001b[1;33m)\u001b[0m\u001b[1;33m\u001b[0m\u001b[0m\n\u001b[0;32m     61\u001b[0m \u001b[1;33m\u001b[0m\u001b[0m\n",
        "\u001b[1;32mC:\\Users\\mfinemorris\\AppData\\Local\\Enthought\\Canopy\\User\\lib\\site-packages\\matplotlib\\axes\\_base.pyc\u001b[0m in \u001b[0;36mdraw\u001b[1;34m(self, renderer, inframe)\u001b[0m\n\u001b[0;32m   2090\u001b[0m \u001b[1;33m\u001b[0m\u001b[0m\n\u001b[0;32m   2091\u001b[0m         \u001b[1;32mfor\u001b[0m \u001b[0mzorder\u001b[0m\u001b[1;33m,\u001b[0m \u001b[0ma\u001b[0m \u001b[1;32min\u001b[0m \u001b[0mdsu\u001b[0m\u001b[1;33m:\u001b[0m\u001b[1;33m\u001b[0m\u001b[0m\n\u001b[1;32m-> 2092\u001b[1;33m             \u001b[0ma\u001b[0m\u001b[1;33m.\u001b[0m\u001b[0mdraw\u001b[0m\u001b[1;33m(\u001b[0m\u001b[0mrenderer\u001b[0m\u001b[1;33m)\u001b[0m\u001b[1;33m\u001b[0m\u001b[0m\n\u001b[0m\u001b[0;32m   2093\u001b[0m \u001b[1;33m\u001b[0m\u001b[0m\n\u001b[0;32m   2094\u001b[0m         \u001b[0mrenderer\u001b[0m\u001b[1;33m.\u001b[0m\u001b[0mclose_group\u001b[0m\u001b[1;33m(\u001b[0m\u001b[1;34m'axes'\u001b[0m\u001b[1;33m)\u001b[0m\u001b[1;33m\u001b[0m\u001b[0m\n",
        "\u001b[1;32mC:\\Users\\mfinemorris\\AppData\\Local\\Enthought\\Canopy\\User\\lib\\site-packages\\matplotlib\\artist.pyc\u001b[0m in \u001b[0;36mdraw_wrapper\u001b[1;34m(artist, renderer, *args, **kwargs)\u001b[0m\n\u001b[0;32m     57\u001b[0m     \u001b[1;32mdef\u001b[0m \u001b[0mdraw_wrapper\u001b[0m\u001b[1;33m(\u001b[0m\u001b[0martist\u001b[0m\u001b[1;33m,\u001b[0m \u001b[0mrenderer\u001b[0m\u001b[1;33m,\u001b[0m \u001b[1;33m*\u001b[0m\u001b[0margs\u001b[0m\u001b[1;33m,\u001b[0m \u001b[1;33m**\u001b[0m\u001b[0mkwargs\u001b[0m\u001b[1;33m)\u001b[0m\u001b[1;33m:\u001b[0m\u001b[1;33m\u001b[0m\u001b[0m\n\u001b[0;32m     58\u001b[0m         \u001b[0mbefore\u001b[0m\u001b[1;33m(\u001b[0m\u001b[0martist\u001b[0m\u001b[1;33m,\u001b[0m \u001b[0mrenderer\u001b[0m\u001b[1;33m)\u001b[0m\u001b[1;33m\u001b[0m\u001b[0m\n\u001b[1;32m---> 59\u001b[1;33m         \u001b[0mdraw\u001b[0m\u001b[1;33m(\u001b[0m\u001b[0martist\u001b[0m\u001b[1;33m,\u001b[0m \u001b[0mrenderer\u001b[0m\u001b[1;33m,\u001b[0m \u001b[1;33m*\u001b[0m\u001b[0margs\u001b[0m\u001b[1;33m,\u001b[0m \u001b[1;33m**\u001b[0m\u001b[0mkwargs\u001b[0m\u001b[1;33m)\u001b[0m\u001b[1;33m\u001b[0m\u001b[0m\n\u001b[0m\u001b[0;32m     60\u001b[0m         \u001b[0mafter\u001b[0m\u001b[1;33m(\u001b[0m\u001b[0martist\u001b[0m\u001b[1;33m,\u001b[0m \u001b[0mrenderer\u001b[0m\u001b[1;33m)\u001b[0m\u001b[1;33m\u001b[0m\u001b[0m\n\u001b[0;32m     61\u001b[0m \u001b[1;33m\u001b[0m\u001b[0m\n",
        "\u001b[1;32mC:\\Users\\mfinemorris\\AppData\\Local\\Enthought\\Canopy\\User\\lib\\site-packages\\matplotlib\\lines.pyc\u001b[0m in \u001b[0;36mdraw\u001b[1;34m(self, renderer)\u001b[0m\n\u001b[0;32m    710\u001b[0m                 \u001b[0mfuncname\u001b[0m \u001b[1;33m=\u001b[0m \u001b[0mself\u001b[0m\u001b[1;33m.\u001b[0m\u001b[0mdrawStyles\u001b[0m\u001b[1;33m.\u001b[0m\u001b[0mget\u001b[0m\u001b[1;33m(\u001b[0m\u001b[0mself\u001b[0m\u001b[1;33m.\u001b[0m\u001b[0m_drawstyle\u001b[0m\u001b[1;33m,\u001b[0m \u001b[1;34m'_draw_lines'\u001b[0m\u001b[1;33m)\u001b[0m\u001b[1;33m\u001b[0m\u001b[0m\n\u001b[0;32m    711\u001b[0m                 \u001b[0mdrawFunc\u001b[0m \u001b[1;33m=\u001b[0m \u001b[0mgetattr\u001b[0m\u001b[1;33m(\u001b[0m\u001b[0mself\u001b[0m\u001b[1;33m,\u001b[0m \u001b[0mfuncname\u001b[0m\u001b[1;33m)\u001b[0m\u001b[1;33m\u001b[0m\u001b[0m\n\u001b[1;32m--> 712\u001b[1;33m                 \u001b[0mdrawFunc\u001b[0m\u001b[1;33m(\u001b[0m\u001b[0mrenderer\u001b[0m\u001b[1;33m,\u001b[0m \u001b[0mgc\u001b[0m\u001b[1;33m,\u001b[0m \u001b[0mtpath\u001b[0m\u001b[1;33m,\u001b[0m \u001b[0maffine\u001b[0m\u001b[1;33m.\u001b[0m\u001b[0mfrozen\u001b[0m\u001b[1;33m(\u001b[0m\u001b[1;33m)\u001b[0m\u001b[1;33m)\u001b[0m\u001b[1;33m\u001b[0m\u001b[0m\n\u001b[0m\u001b[0;32m    713\u001b[0m \u001b[1;33m\u001b[0m\u001b[0m\n\u001b[0;32m    714\u001b[0m         \u001b[1;32mif\u001b[0m \u001b[0mself\u001b[0m\u001b[1;33m.\u001b[0m\u001b[0m_marker\u001b[0m\u001b[1;33m:\u001b[0m\u001b[1;33m\u001b[0m\u001b[0m\n",
        "\u001b[1;32mC:\\Users\\mfinemorris\\AppData\\Local\\Enthought\\Canopy\\User\\lib\\site-packages\\matplotlib\\lines.pyc\u001b[0m in \u001b[0;36m_draw_lines\u001b[1;34m(self, renderer, gc, path, trans)\u001b[0m\n\u001b[0;32m   1065\u001b[0m \u001b[1;33m\u001b[0m\u001b[0m\n\u001b[0;32m   1066\u001b[0m     \u001b[1;32mdef\u001b[0m \u001b[0m_draw_lines\u001b[0m\u001b[1;33m(\u001b[0m\u001b[0mself\u001b[0m\u001b[1;33m,\u001b[0m \u001b[0mrenderer\u001b[0m\u001b[1;33m,\u001b[0m \u001b[0mgc\u001b[0m\u001b[1;33m,\u001b[0m \u001b[0mpath\u001b[0m\u001b[1;33m,\u001b[0m \u001b[0mtrans\u001b[0m\u001b[1;33m)\u001b[0m\u001b[1;33m:\u001b[0m\u001b[1;33m\u001b[0m\u001b[0m\n\u001b[1;32m-> 1067\u001b[1;33m         \u001b[0mself\u001b[0m\u001b[1;33m.\u001b[0m\u001b[0m_lineFunc\u001b[0m\u001b[1;33m(\u001b[0m\u001b[0mrenderer\u001b[0m\u001b[1;33m,\u001b[0m \u001b[0mgc\u001b[0m\u001b[1;33m,\u001b[0m \u001b[0mpath\u001b[0m\u001b[1;33m,\u001b[0m \u001b[0mtrans\u001b[0m\u001b[1;33m)\u001b[0m\u001b[1;33m\u001b[0m\u001b[0m\n\u001b[0m\u001b[0;32m   1068\u001b[0m \u001b[1;33m\u001b[0m\u001b[0m\n\u001b[0;32m   1069\u001b[0m     \u001b[1;32mdef\u001b[0m \u001b[0m_draw_steps_pre\u001b[0m\u001b[1;33m(\u001b[0m\u001b[0mself\u001b[0m\u001b[1;33m,\u001b[0m \u001b[0mrenderer\u001b[0m\u001b[1;33m,\u001b[0m \u001b[0mgc\u001b[0m\u001b[1;33m,\u001b[0m \u001b[0mpath\u001b[0m\u001b[1;33m,\u001b[0m \u001b[0mtrans\u001b[0m\u001b[1;33m)\u001b[0m\u001b[1;33m:\u001b[0m\u001b[1;33m\u001b[0m\u001b[0m\n",
        "\u001b[1;32mC:\\Users\\mfinemorris\\AppData\\Local\\Enthought\\Canopy\\User\\lib\\site-packages\\matplotlib\\lines.pyc\u001b[0m in \u001b[0;36m_draw_solid\u001b[1;34m(self, renderer, gc, path, trans)\u001b[0m\n\u001b[0;32m   1105\u001b[0m     \u001b[1;32mdef\u001b[0m \u001b[0m_draw_solid\u001b[0m\u001b[1;33m(\u001b[0m\u001b[0mself\u001b[0m\u001b[1;33m,\u001b[0m \u001b[0mrenderer\u001b[0m\u001b[1;33m,\u001b[0m \u001b[0mgc\u001b[0m\u001b[1;33m,\u001b[0m \u001b[0mpath\u001b[0m\u001b[1;33m,\u001b[0m \u001b[0mtrans\u001b[0m\u001b[1;33m)\u001b[0m\u001b[1;33m:\u001b[0m\u001b[1;33m\u001b[0m\u001b[0m\n\u001b[0;32m   1106\u001b[0m         \u001b[0mgc\u001b[0m\u001b[1;33m.\u001b[0m\u001b[0mset_linestyle\u001b[0m\u001b[1;33m(\u001b[0m\u001b[1;34m'solid'\u001b[0m\u001b[1;33m)\u001b[0m\u001b[1;33m\u001b[0m\u001b[0m\n\u001b[1;32m-> 1107\u001b[1;33m         \u001b[0mrenderer\u001b[0m\u001b[1;33m.\u001b[0m\u001b[0mdraw_path\u001b[0m\u001b[1;33m(\u001b[0m\u001b[0mgc\u001b[0m\u001b[1;33m,\u001b[0m \u001b[0mpath\u001b[0m\u001b[1;33m,\u001b[0m \u001b[0mtrans\u001b[0m\u001b[1;33m)\u001b[0m\u001b[1;33m\u001b[0m\u001b[0m\n\u001b[0m\u001b[0;32m   1108\u001b[0m \u001b[1;33m\u001b[0m\u001b[0m\n\u001b[0;32m   1109\u001b[0m     \u001b[1;32mdef\u001b[0m \u001b[0m_draw_dashed\u001b[0m\u001b[1;33m(\u001b[0m\u001b[0mself\u001b[0m\u001b[1;33m,\u001b[0m \u001b[0mrenderer\u001b[0m\u001b[1;33m,\u001b[0m \u001b[0mgc\u001b[0m\u001b[1;33m,\u001b[0m \u001b[0mpath\u001b[0m\u001b[1;33m,\u001b[0m \u001b[0mtrans\u001b[0m\u001b[1;33m)\u001b[0m\u001b[1;33m:\u001b[0m\u001b[1;33m\u001b[0m\u001b[0m\n",
        "\u001b[1;32mC:\\Users\\mfinemorris\\AppData\\Local\\Enthought\\Canopy\\User\\lib\\site-packages\\matplotlib\\backends\\backend_agg.pyc\u001b[0m in \u001b[0;36mdraw_path\u001b[1;34m(self, gc, path, transform, rgbFace)\u001b[0m\n\u001b[0;32m    161\u001b[0m                 \u001b[0mself\u001b[0m\u001b[1;33m.\u001b[0m\u001b[0m_renderer\u001b[0m\u001b[1;33m.\u001b[0m\u001b[0mdraw_path\u001b[0m\u001b[1;33m(\u001b[0m\u001b[0mgc\u001b[0m\u001b[1;33m,\u001b[0m \u001b[0mp\u001b[0m\u001b[1;33m,\u001b[0m \u001b[0mtransform\u001b[0m\u001b[1;33m,\u001b[0m \u001b[0mrgbFace\u001b[0m\u001b[1;33m)\u001b[0m\u001b[1;33m\u001b[0m\u001b[0m\n\u001b[0;32m    162\u001b[0m         \u001b[1;32melse\u001b[0m\u001b[1;33m:\u001b[0m\u001b[1;33m\u001b[0m\u001b[0m\n\u001b[1;32m--> 163\u001b[1;33m             \u001b[0mself\u001b[0m\u001b[1;33m.\u001b[0m\u001b[0m_renderer\u001b[0m\u001b[1;33m.\u001b[0m\u001b[0mdraw_path\u001b[0m\u001b[1;33m(\u001b[0m\u001b[0mgc\u001b[0m\u001b[1;33m,\u001b[0m \u001b[0mpath\u001b[0m\u001b[1;33m,\u001b[0m \u001b[0mtransform\u001b[0m\u001b[1;33m,\u001b[0m \u001b[0mrgbFace\u001b[0m\u001b[1;33m)\u001b[0m\u001b[1;33m\u001b[0m\u001b[0m\n\u001b[0m\u001b[0;32m    164\u001b[0m \u001b[1;33m\u001b[0m\u001b[0m\n\u001b[0;32m    165\u001b[0m     \u001b[1;32mdef\u001b[0m \u001b[0mdraw_mathtext\u001b[0m\u001b[1;33m(\u001b[0m\u001b[0mself\u001b[0m\u001b[1;33m,\u001b[0m \u001b[0mgc\u001b[0m\u001b[1;33m,\u001b[0m \u001b[0mx\u001b[0m\u001b[1;33m,\u001b[0m \u001b[0my\u001b[0m\u001b[1;33m,\u001b[0m \u001b[0ms\u001b[0m\u001b[1;33m,\u001b[0m \u001b[0mprop\u001b[0m\u001b[1;33m,\u001b[0m \u001b[0mangle\u001b[0m\u001b[1;33m)\u001b[0m\u001b[1;33m:\u001b[0m\u001b[1;33m\u001b[0m\u001b[0m\n",
        "\u001b[1;31mOverflowError\u001b[0m: Allocated too many blocks"
       ]
      }
     ],
     "prompt_number": 77
    },
    {
     "cell_type": "code",
     "collapsed": false,
     "input": [
      "#quick plot of events\n",
      "label = meas\n",
      "plt.plot(data_raw.index, data_raw[label])\n",
      "plt.plot(peak_sets_temp_x[label], peak_sets_temp_y[label], marker = \"^\", color=\"y\", linestyle= \"None\")\n",
      "plt.title(label)\n",
      "plt.show()"
     ],
     "language": "python",
     "metadata": {},
     "outputs": []
    },
    {
     "cell_type": "heading",
     "level": 1,
     "metadata": {},
     "source": [
      "Save out settings and analysis"
     ]
    },
    {
     "cell_type": "code",
     "collapsed": false,
     "input": [
      "import NMResources as nmr\n",
      "import operator\n",
      "from pprint import pprint\n",
      "import json\n",
      "output_file = os.path.join(output_directory,\"misc-\"+output_suffix+\".csv\")"
     ],
     "language": "python",
     "metadata": {},
     "outputs": [],
     "prompt_number": 78
    },
    {
     "cell_type": "heading",
     "level": 2,
     "metadata": {},
     "source": [
      "Save Data"
     ]
    },
    {
     "cell_type": "code",
     "collapsed": false,
     "input": [
      "#make all dataframes into csv strings\n",
      "#separate them from other elements of dictionary\n",
      "formatted_output = {}\n",
      "for i,ii in output_dict.iteritems():\n",
      "    try:\n",
      "        formatted_output[i]=ii.to_dict()\n",
      "    except:\n",
      "        formatted_output[i]=ii\n",
      "        \n",
      "with open(output_file,'w') as f:\n",
      "    json.dump(formatted_output,f)"
     ],
     "language": "python",
     "metadata": {},
     "outputs": [],
     "prompt_number": 79
    },
    {
     "cell_type": "heading",
     "level": 2,
     "metadata": {},
     "source": [
      "Extract Data"
     ]
    },
    {
     "cell_type": "code",
     "collapsed": false,
     "input": [
      "#Extract Data\n",
      "with open(output_file,'r') as f:\n",
      "    misc_data = json.load(f)\n",
      "print misc_data.keys()\n",
      "\n",
      "temp = {}\n",
      "\n",
      "for k,v in misc_data.iteritems():\n",
      "    try:\n",
      "        temp[k] = pd.DataFrame.from_dict(v)\n",
      "        print k\n",
      "    except:\n",
      "        temp[k] = v\n",
      "        print k, \": \", v\n",
      "        \n",
      "temp['peak_amp_temp'].reindex_axis(pat_ind)"
     ],
     "language": "python",
     "metadata": {},
     "outputs": []
    },
    {
     "cell_type": "code",
     "collapsed": false,
     "input": [],
     "language": "python",
     "metadata": {},
     "outputs": []
    },
    {
     "cell_type": "code",
     "collapsed": false,
     "input": [
      "#any key in output_dict that is suffixed with \"_\" should get its own file\n",
      "#what should the output file names look like?\n",
      "\n",
      "#make dir with \n",
      "small_info = {}\n",
      "for key,val in output_dict.items():\n",
      "    #print\n",
      "    if key.endswith('_'):\n",
      "        path = output_dict['File_Path']\n",
      "        basefile = os.path.basename(path)\n",
      "        file_name_parts = basefile.split(\"-\")\n",
      "        new_file_name = \"-\".join([key[:-1]]+file_name_parts[1:])\n",
      "        print key, basefile, new_file_name\n",
      "        #print type(val)\n",
      "        #now write file\n",
      "    else:\n",
      "        small_info[key] = val\n",
      "print\n",
      "print small_info\n",
      "output_dict.keys()"
     ],
     "language": "python",
     "metadata": {},
     "outputs": []
    },
    {
     "cell_type": "code",
     "collapsed": false,
     "input": [],
     "language": "python",
     "metadata": {},
     "outputs": []
    },
    {
     "cell_type": "code",
     "collapsed": false,
     "input": [
      "for i in plt.get_fignums():\n",
      "    plt.figure(i)\n",
      "    plt.show()\n",
      "    plt.savefig('figure%d.png' % i)"
     ],
     "language": "python",
     "metadata": {},
     "outputs": []
    },
    {
     "cell_type": "code",
     "collapsed": false,
     "input": [],
     "language": "python",
     "metadata": {},
     "outputs": []
    }
   ],
   "metadata": {}
  }
 ]
}