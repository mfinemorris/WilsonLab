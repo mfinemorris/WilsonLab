{
 "metadata": {
  "name": "",
  "signature": "sha256:5e5e653eee154a46dfaba687c2b319c2c9d3d754edb1453ad65ee1bd96f02943"
 },
 "nbformat": 3,
 "nbformat_minor": 0,
 "worksheets": [
  {
   "cells": [
    {
     "cell_type": "code",
     "collapsed": false,
     "input": [
      "#Can I define a function which takes in a set of conditions, functions, and sundry arguments that might appear \n",
      "#in conditions and/or functions and output another function?\n",
      "import inspect\n",
      "import numpy\n",
      "from itertools import izip_longest\n",
      "\n",
      "\n",
      "c=[lambda x:x<3, lambda x:x>4]\n",
      "a=[lambda t: t**2, lambda t:50*t, lambda t:t-300]\n",
      "arg={'d':3}\n",
      "\n",
      "#construct function to return action for var\n",
      "def conditionals(conditions, actions):\n",
      "    if (len(conditions) != len(actions)) and not(len(conditions)+1 == len(actions)):\n",
      "        raise Exception(\n",
      "        (\"Conditions list has length {} and Actions lists has length {}.\"\n",
      "        \"Lists must either be the same length, or Actions list may contain\"\n",
      "        \"an action for when none of the conditions are met.\").format(len(conditions),len(actions))\n",
      "        )\n",
      "\n",
      "    def function(var):\n",
      "        for cond,act in izip_longest(conditions,actions,fillvalue=lambda x:x==x):\n",
      "            if cond(var):\n",
      "                return act(var)\n",
      "            else:\n",
      "                continue\n",
      "        #after iterating through all condition expressions provided by user, \n",
      "        #if none of the conditions are met and no 'safety' action has been specified\n",
      "        #at the end of the action list, raise an exception\n",
      "        raise Exception(\"Undefined case encountered. \" \n",
      "                        \"Provided conditions fail to cover all possible outcomes.\")\n",
      "    return function \n",
      "\n",
      "con = conditionals(c,a)\n",
      "print con(3)\n"
     ],
     "language": "python",
     "metadata": {},
     "outputs": [
      {
       "output_type": "stream",
       "stream": "stdout",
       "text": [
        "-297\n"
       ]
      }
     ],
     "prompt_number": 1
    },
    {
     "cell_type": "heading",
     "level": 1,
     "metadata": {},
     "source": [
      "Yan et al. 2010 Markov Model"
     ]
    },
    {
     "cell_type": "code",
     "collapsed": false,
     "input": [
      "from scipy.integrate import odeint\n",
      "from numpy import linspace\n",
      "from numpy import asarray, array, concatenate\n",
      "\n",
      "k1 = 0.3\n",
      "k2 = 40000.\n",
      "k3 = 2.4\n",
      "k4 = 50000.\n",
      "k5 = 1.58\n",
      "k6 = 7000\n",
      "\n",
      "L1 = 0.0001\n",
      "L2 = 0.004\n",
      "L3 = 0.5\n",
      "L3 = 0.1\n",
      "\n",
      "g12 = 1.5e10-8\n",
      "g34 = 4.5e10-8\n",
      "\n",
      "V = -60.0\n",
      "E = 0.0\n",
      "\n",
      "def df(y,t,aFunction):\n",
      "\n",
      "    q1 = y[0]\n",
      "    q2 = y[1]\n",
      "    q3 = y[2]\n",
      "    q4 = y[3]\n",
      "    c1 = y[4]\n",
      "    c2 = y[5]\n",
      "    c3 = y[6]\n",
      "    c4 = y[7]\n",
      "    \n",
      "    A = aFunction(t)\n",
      "    \n",
      "    dc1 = k1*c2 + L1*c4 - 3.*k2*A*c1\n",
      "    dc2 = 3.*k2*A*c1 + 2.*k3*q1 - (k1+2.*k4*A)*c2\n",
      "    dq1 = 2.*k4*A*c2 + 3.*k5*q2 - (2.*k3 + k6*A)*q1\n",
      "    dq2 = k6*A*q1 + L2*q3 - (3.*k5 + L3)*q2\n",
      "    dq3 = k2*A*q4 + L3*q2 -(3.*k1 + L2)*q3\n",
      "    dq4 = 2.*k2*A*c3 + 3.*k1*q3 - (2.*k1 + k2*A)*q4\n",
      "    dc3 = 3*k2*A*c4 + 2.*k1*q4 - (k1 + 2.*k2*A)*c3\n",
      "    dc4 = k1*c3 - (L1 + 3.*k2*A)*c4\n",
      "    \n",
      "    return [dq1,dq2,dq3,dq4,dc1,dc2,dc3,dc4]\n",
      "\n",
      "def current(q1,q2,q3,q4):\n",
      "    return (g12*(q1+q2)*(V-E)) + (g34*(q3+q4)*(V-E))\n",
      "\n",
      "def solveForCurrent(tStart, tEnd, dt, aFunction, qData=True, cData=False, y0=None):\n",
      "    '''\n",
      "    Return time and current, and the values of q and c if boolean args qData and cData are True respectively.\n",
      "    '''\n",
      "    tLen = (tEnd-tStart)/dt\n",
      "    if not y0:\n",
      "        #q1,q2,q3,q4,c1,c2,c3,c4 = 2/3., 1.0, 1.0, 2/3., 0.0, 1/3., 1/3., 0.0\n",
      "        q1,q2,q3,q4,c1,c2,c3,c4 = 2.0, 3.0, 3.0, 2.0, 0.0, 1.0, 1.0, 0.0\n",
      "        y0 = [q1,q2,q3,q4,c1,c2,c3,c4]\n",
      "    \n",
      "    #solve for \n",
      "    t = linspace(tStart,tEnd,tLen)\n",
      "    #print t\n",
      "    y = odeint(df, y0, t, args=(aFunction,))\n",
      "\n",
      "    I = asarray([current(q1,q2,q3,q4) for q1,q2,q3,q4 in y[:,2:6]])\n",
      "    '''\n",
      "    if qData and not cData:\n",
      "        print \"Returning t, I, and q values.\"\n",
      "        q1,q2,q3,q4 = y.T[2:6]\n",
      "        return t,I,q1,q2,q3,q4\n",
      "    elif qData and cData:\n",
      "        print \"Returning t, I, q, and c values.\"\n",
      "        c1,c2,q1,q2,q3,q4,c3,c4 = y.T\n",
      "        return t,I,q1,q2,q3,q4,c1,c2,c3,c4\n",
      "    elif not qData and cData:\n",
      "        print \"Returning t, I, and c values.\"\n",
      "        c1,c2 = y.T[:2]\n",
      "        c3,c4 = y.T[6:]\n",
      "        return t,I,c1,c2,c3,c4\n",
      "    print \"Returning t, I\"\n",
      "    '''\n",
      "    return t,I\n",
      "\n",
      "\n",
      "\n",
      "tEnd = 500.*1000\n",
      "dt = 1.\n",
      "#ab=60*1000.\n",
      "time = linspace(0.0,tEnd,tEnd/dt)\n",
      "\n",
      "switchTime = 40*1000.\n",
      "dose = 3.2\n",
      "aF = conditionals([lambda x:x>=switchTime],[lambda x: dose/x, lambda x: dose])\n",
      "t,curr = solveForCurrent(0,tEnd,dt,aF,False)\n",
      "'''\n",
      "def aF(t):\n",
      "    if t >= switchTime:\n",
      "        return 0.0\n",
      "    else:\n",
      "        return 3.2\n",
      "'''\n"
     ],
     "language": "python",
     "metadata": {},
     "outputs": [
      {
       "metadata": {},
       "output_type": "pyout",
       "prompt_number": 19,
       "text": [
        "'\\ndef aF(t):\\n    if t >= switchTime:\\n        return 0.0\\n    else:\\n        return 3.2\\n'"
       ]
      }
     ]
    },
    {
     "cell_type": "heading",
     "level": 4,
     "metadata": {},
     "source": [
      "Plot"
     ]
    },
    {
     "cell_type": "code",
     "collapsed": false,
     "input": [
      "from matplotlib import pyplot as plt\n",
      "fig = plt.plot(t/1000., curr/10**9)\n",
      "#fig = plt.plot(t/1000., q3)\n",
      "plt.ylabel('I (nA)', fontsize=16)\n",
      "plt.xlabel('time (sec)', fontsize=16)\n",
      "#plt.ylim(-80,10)\n",
      "plt.show()"
     ],
     "language": "python",
     "metadata": {},
     "outputs": []
    },
    {
     "cell_type": "code",
     "collapsed": false,
     "input": [
      "#for now this is defunct. I realized that I needed to pass odeint a function that gave the value of A based on time,\n",
      "#rather than trying to call odeint multiple times with different A vals.\n",
      "\n",
      "def multipleRuns(totalT, runParams):\n",
      "    '''\n",
      "    pass a list of tuples: (tEnd,dt,A)\n",
      "    '''\n",
      "    tAll = []\n",
      "    iAll = []\n",
      "    y0 = [2.0, 3.0, 3.0, 2.0, 0.0, 1.0, 1.0, 0.0]\n",
      "    tStart = 0.0\n",
      "    \n",
      "    for run in runParams:\n",
      "        \n",
      "        tEnd = run[0]\n",
      "        tStop = tStart + tEnd\n",
      "        dt=run[1]\n",
      "        A=run[2]\n",
      "        tLen=int(tEnd/dt)\n",
      "        \n",
      "        #solve eq    \n",
      "        data = solveForCurrent(tStop,tLen,A,True,True,y0)\n",
      "        try:\n",
      "            tAll.append(data[0])\n",
      "            iAll.append(data[1])\n",
      "        except TypeError as e:\n",
      "            print \"TypeError: \", e\n",
      "            print \"Equation did not return t, I.\"\n",
      "            return\n",
      "        except Exception as e:\n",
      "            print \"Unknown exception: \", e\n",
      "            return\n",
      "            \n",
      "        try:\n",
      "            q1,q2,q3,q4 = data[2:6]\n",
      "            c1,c2,c3,c4 = data[6:]\n",
      "            y0 = [q1,q2,q3,q4,c1,c2,c3,c4]\n",
      "        except ValueError:\n",
      "            print \"ERROR:\",\n",
      "\n",
      "            try: q1\n",
      "            except: print \"Could not extract q values.\",\n",
      "            try: c1\n",
      "            except: print \"Could not extract c values.\"\n",
      "\n",
      "            print ('Check that the number of returned values is what you expected. '\n",
      "                   'Depending on the values of args qData and cData '\n",
      "                   'the number of returned values may be as few as 2 '\n",
      "                   '(just t and I) or as many as 10 (t, I, q1, q2, q3, q4, c1, c2, c3, c4).')\n",
      "            return\n",
      "        except Exception as e:\n",
      "            print \"Unknown exception: \", e\n",
      "            return\n",
      "            \n",
      "        return array(tAll), array(iAll)\n",
      "tEnd=10*1000.0\n",
      "dt = 5.\n",
      "A = 3.2\n",
      "print A\n",
      "t,curr = multipleRuns([(tEnd,dt,A),(1000.0*20,dt,.5)])\n",
      "print t"
     ],
     "language": "python",
     "metadata": {},
     "outputs": [
      {
       "output_type": "stream",
       "stream": "stdout",
       "text": [
        "3.2\n",
        "Returning t, I, and q values."
       ]
      },
      {
       "output_type": "stream",
       "stream": "stdout",
       "text": [
        "\n",
        "ERROR: Could not extract c values.\n",
        "Check that the number of returned values is what you expected. Depending on the values of args qData and cData the number of returned values may be as few as 2 (just t and I) or as many as 10 (t, I, q1, q2, q3, q4, c1, c2, c3, c4).\n"
       ]
      }
     ],
     "prompt_number": 78
    },
    {
     "cell_type": "code",
     "collapsed": false,
     "input": [
      "#not necessary for the markov model\n",
      "def dCa(y,t,I):\n",
      "    f = 0.05\n",
      "    alpha = 5e-6\n",
      "    S = 10**-3\n",
      "    R = 10**12\n",
      "    kc = 4\n",
      "    \n",
      "    Ca = y[1]\n",
      "    dCa = -f*(alpha*S*R*I + kc*Ca)\n",
      "    \n",
      "    return [dCa]\n"
     ],
     "language": "python",
     "metadata": {},
     "outputs": []
    },
    {
     "cell_type": "markdown",
     "metadata": {},
     "source": [
      "The following is an experiment to see what happens when I plot the functions used in Yan et al. 2010 to fit their data."
     ]
    },
    {
     "cell_type": "code",
     "collapsed": false,
     "input": [
      "deactivation = lambda t: A1*exp(-t/tau1) + A2*exp(-t/tau2) + C\n",
      "rapidPhase = lambda t: A*(1-exp(-t/tau))+C\n",
      "slowPhase = lambda t: A*(1-exp(-t/tau))"
     ],
     "language": "python",
     "metadata": {},
     "outputs": []
    },
    {
     "cell_type": "code",
     "collapsed": false,
     "input": [
      "#generator expression vs. lists\n",
      "from time import clock\n",
      "s = clock()\n",
      "print sum([x*x for x in range(10)])\n",
      "print \"Using list: \",clock()-s\n",
      "\n",
      "s=clock()\n",
      "print sum(x*x for x in range(10))\n",
      "print \"Using generator expr.: \",clock()-s\n"
     ],
     "language": "python",
     "metadata": {},
     "outputs": [
      {
       "output_type": "stream",
       "stream": "stdout",
       "text": [
        "285\n",
        "Using list:  0.000302\n",
        "285\n",
        "Using generator expr.:  0.000271\n"
       ]
      }
     ],
     "prompt_number": 13
    },
    {
     "cell_type": "code",
     "collapsed": false,
     "input": [
      "q1 = 2.\n",
      "q2 = 3.\n",
      "q3 = 3.\n",
      "q4 = 2.\n",
      "c1 = 0.\n",
      "c2 = 1.\n",
      "c3 = 1.\n",
      "c4 = 0.\n",
      "\n",
      "\n",
      "y0 = [q1,q2,q3,q4,c1,c2,c3,c4]\n",
      "print y0\n",
      "[2/3., 1.0, 1.0, 2/3., 0.0, 1/3., 1/3., 0.0]\n"
     ],
     "language": "python",
     "metadata": {},
     "outputs": [
      {
       "output_type": "stream",
       "stream": "stdout",
       "text": [
        "[2.0, 3.0, 3.0, 2.0, 0.0, 1.0, 1.0, 0.0]\n"
       ]
      },
      {
       "metadata": {},
       "output_type": "pyout",
       "prompt_number": 82,
       "text": [
        "[0.6666666666666666,\n",
        " 1.0,\n",
        " 1.0,\n",
        " 0.6666666666666666,\n",
        " 0.0,\n",
        " 0.3333333333333333,\n",
        " 0.3333333333333333,\n",
        " 0.0]"
       ]
      }
     ],
     "prompt_number": 82
    },
    {
     "cell_type": "code",
     "collapsed": false,
     "input": [],
     "language": "python",
     "metadata": {},
     "outputs": []
    }
   ],
   "metadata": {}
  }
 ]
}