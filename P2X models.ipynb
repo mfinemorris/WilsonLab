{
 "metadata": {
  "name": "",
  "signature": "sha256:f5009a132389ac3bf142a23061ca755d3d9dc0cc2d9ec2bf4ffebc5b002f3cb2"
 },
 "nbformat": 3,
 "nbformat_minor": 0,
 "worksheets": [
  {
   "cells": [
    {
     "cell_type": "heading",
     "level": 1,
     "metadata": {},
     "source": [
      "Yan et al. 2010 Markov Model"
     ]
    },
    {
     "cell_type": "code",
     "collapsed": false,
     "input": [
      "from scipy.integrate import odeint\n",
      "from numpy import linspace\n",
      "\n",
      "k1 = 0.3\n",
      "k2 = 40000.\n",
      "k3 = 2.4\n",
      "k4 = 50000.\n",
      "k5 = 1.58\n",
      "k6 = 7000\n",
      "\n",
      "L1 = 0.0001\n",
      "L2 = 0.004\n",
      "L3 = 0.5\n",
      "L3 = 0.1\n",
      "\n",
      "g12 = 1.5e10-8\n",
      "g34 = 4.5e10-8\n",
      "\n",
      "V = -60.0\n",
      "E = 0.0\n",
      "\n",
      "def df(y,t,A):\n",
      "    c1 = y[0]\n",
      "    c2 = y[1]\n",
      "    q1 = y[2]\n",
      "    q2 = y[3]\n",
      "    q3 = y[4]\n",
      "    q4 = y[5]\n",
      "    c3 = y[6]\n",
      "    c4 = y[7]\n",
      "    \n",
      "    dc1 = k1*c2 + L1*c4 - 3.*k2*A*c1\n",
      "    dc2 = 3.*k2*A*c1 + 2.*k3*q1 - (k1+2.*k4*A)*c2\n",
      "    dq1 = 2.*k4*A*c2 + 3.*k5*q2 - (2.*k3 + k6*A)*q1\n",
      "    dq2 = k6*A*q1 + L2*q3 - (3.*k5 + L3)*q2\n",
      "    dq3 = k2*A*q4 + L3*q2 -(3.*k1 + L2)*q3\n",
      "    dq4 = 2.*k2*A*c3 + 3.*k1*q3 - (2.*k1 + k2*A)*q4\n",
      "    dc3 = 3*k2*A*c4 + 2.*k1*q4 - (k1 + 2.*k2*A)*c3\n",
      "    dc4 = k1*c3 - (L1 + 3.*k2*A)*c4\n",
      "    \n",
      "    \n",
      "    return [dc1,dc2,dq1,dq2,dq3,dq4,dc3,dc4]\n",
      "\n",
      "def dCa(y,t,I):\n",
      "    f = 0.05\n",
      "    alpha = 5e-6\n",
      "    S = 10**-3\n",
      "    R = 10**12\n",
      "    kc = 4\n",
      "    \n",
      "    Ca = y[1]\n",
      "    \n",
      "    dCa = -f*(alpha*S*R*I + kc*Ca)\n",
      "    \n",
      "    return [dCa]\n",
      "    \n",
      "\n",
      "def solve(tEnd, tLen, A):\n",
      "    '''\n",
      "    Solve the equation with intial values of Vs0, ns0, and hs0, from t=0 to t=tEnd for tLen time steps.\n",
      "    '''\n",
      "    c1 = 0/3.\n",
      "    c2 = 1/3.\n",
      "    q1 = 2/3.\n",
      "    q2 = 3/3.\n",
      "    q3 = 3/3.\n",
      "    q4 = 2/3.\n",
      "    c3 = 1/3.\n",
      "    c4 = 0/3.\n",
      "    \n",
      "    y0 = [c1,c2,q1,q2,q3,q4,c3,c4]\n",
      "    t = linspace(0,tEnd,tLen)\n",
      "    y = odeint(df, y0, t, args=(A,))\n",
      "    #print \"y transpose: \", y.T\n",
      "\n",
      "    #c1,c2,q1,q2,q3,q4,c3,c4 = y.T\n",
      "    q1,q2,q3,q4 = y.T[2:6]\n",
      "    return t,q1,q2,q3,q4"
     ],
     "language": "python",
     "metadata": {},
     "outputs": [],
     "prompt_number": 56
    },
    {
     "cell_type": "code",
     "collapsed": false,
     "input": [
      "tEnd=120*1000.0\n",
      "dt = 1.\n",
      "tLen=int(tEnd/dt)\n",
      "A = 3.2\n",
      "#solve eq    \n",
      "t,q1,q2,q3,q4 = solve(tEnd,tLen,A)"
     ],
     "language": "python",
     "metadata": {},
     "outputs": [],
     "prompt_number": 57
    },
    {
     "cell_type": "code",
     "collapsed": false,
     "input": [
      "from numpy import asarray\n",
      "def current(q1,q2,q3,q4):\n",
      "    return (g12*(q1+q2)*(V-E)) + (g34*(q3+q4)*(V-E))\n",
      "curr  = asarray([current(q1[ii], q2[ii], q3[ii], q4[ii]) for ii in range(len(q1))])"
     ],
     "language": "python",
     "metadata": {},
     "outputs": [],
     "prompt_number": 58
    },
    {
     "cell_type": "code",
     "collapsed": false,
     "input": [
      "from matplotlib import pyplot as plt\n",
      "#fig = plt.plot(t/1000., curr/10**9)\n",
      "fig = plt.plot(t/1000., q3)\n",
      "plt.ylabel('I (nA)', fontsize=16)\n",
      "plt.xlabel('time (sec)', fontsize=16)\n",
      "#plt.ylim(-80,10)\n",
      "plt.show()"
     ],
     "language": "python",
     "metadata": {},
     "outputs": [],
     "prompt_number": 59
    },
    {
     "cell_type": "markdown",
     "metadata": {},
     "source": [
      "The following is an experiment to see what happens when I plot the functions used in Yan et al. 2010 to fit their data."
     ]
    },
    {
     "cell_type": "code",
     "collapsed": false,
     "input": [
      "deactivation = lambda t: A1*exp(-t/tau1) + A2*exp(-t/tau2) + C\n",
      "rapidPhase = lambda t: A*(1-exp(-t/tau))+C\n",
      "slowPhase = lambda t: A*(1-exp(-t/tau))"
     ],
     "language": "python",
     "metadata": {},
     "outputs": []
    }
   ],
   "metadata": {}
  }
 ]
}